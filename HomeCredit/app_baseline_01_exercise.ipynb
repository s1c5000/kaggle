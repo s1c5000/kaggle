{
  "nbformat": 4,
  "nbformat_minor": 0,
  "metadata": {
    "kernelspec": {
      "display_name": "Python 3",
      "language": "python",
      "name": "python3"
    },
    "language_info": {
      "codemirror_mode": {
        "name": "ipython",
        "version": 3
      },
      "file_extension": ".py",
      "mimetype": "text/x-python",
      "name": "python",
      "nbconvert_exporter": "python",
      "pygments_lexer": "ipython3",
      "version": "3.8.3"
    },
    "colab": {
      "name": "app_baseline_01_exercise.ipynb",
      "provenance": [],
      "collapsed_sections": [],
      "toc_visible": true,
      "include_colab_link": true
    }
  },
  "cells": [
    {
      "cell_type": "markdown",
      "metadata": {
        "id": "view-in-github",
        "colab_type": "text"
      },
      "source": [
        "<a href=\"https://colab.research.google.com/github/s1c5000/kaggle/blob/main/HomeCredit/app_baseline_01_exercise.ipynb\" target=\"_parent\"><img src=\"https://colab.research.google.com/assets/colab-badge.svg\" alt=\"Open In Colab\"/></a>"
      ]
    },
    {
      "cell_type": "markdown",
      "metadata": {
        "id": "Z94Gd5gcxbpl"
      },
      "source": [
        "#### 라이브러리와 app 데이터 세트 로딩"
      ]
    },
    {
      "cell_type": "code",
      "metadata": {
        "id": "AGeCUnOXxbpq"
      },
      "source": [
        "import numpy as np\n",
        "import pandas as pd\n",
        "import gc\n",
        "import time\n",
        "import matplotlib.pyplot as plt\n",
        "import seaborn as sns\n",
        "#import warning\n",
        "%matplotlib inline\n",
        "\n",
        "#warning.ignorewarning(...)\n",
        "\n",
        "pd.set_option('display.max_rows', 200)\n",
        "pd.set_option('display.max_columns', 200)"
      ],
      "execution_count": null,
      "outputs": []
    },
    {
      "cell_type": "code",
      "metadata": {
        "colab": {
          "resources": {
            "http://localhost:8080/nbextensions/google.colab/files.js": {
              "data": "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",
              "ok": true,
              "headers": [
                [
                  "content-type",
                  "application/javascript"
                ]
              ],
              "status": 200,
              "status_text": ""
            }
          },
          "base_uri": "https://localhost:8080/",
          "height": 76
        },
        "id": "p62MEUHrCl5X",
        "outputId": "5bdeac58-6cb5-48f3-eb25-96c445d0b806"
      },
      "source": [
        "# kaggle json\r\n",
        "from google.colab import files\r\n",
        "files.upload()\r\n",
        "\r\n",
        "!mkdir -p ~/.kaggle\r\n",
        "!cp kaggle.json ~/.kaggle/\r\n",
        "# Permission Warning 이 일어나지 않도록 \r\n",
        "!chmod 600 ~/.kaggle/kaggle.json"
      ],
      "execution_count": null,
      "outputs": [
        {
          "output_type": "display_data",
          "data": {
            "text/html": [
              "\n",
              "     <input type=\"file\" id=\"files-fd2c8d35-cb9c-4086-b7c6-16e518125411\" name=\"files[]\" multiple disabled\n",
              "        style=\"border:none\" />\n",
              "     <output id=\"result-fd2c8d35-cb9c-4086-b7c6-16e518125411\">\n",
              "      Upload widget is only available when the cell has been executed in the\n",
              "      current browser session. Please rerun this cell to enable.\n",
              "      </output>\n",
              "      <script src=\"/nbextensions/google.colab/files.js\"></script> "
            ],
            "text/plain": [
              "<IPython.core.display.HTML object>"
            ]
          },
          "metadata": {
            "tags": []
          }
        },
        {
          "output_type": "stream",
          "text": [
            "Saving kaggle.json to kaggle.json\n"
          ],
          "name": "stdout"
        }
      ]
    },
    {
      "cell_type": "code",
      "metadata": {
        "colab": {
          "base_uri": "https://localhost:8080/"
        },
        "id": "JKCtikR1C2nn",
        "outputId": "d4aa8ab5-c766-4d85-df95-be755d0e0d12"
      },
      "source": [
        "!kaggle competitions download -c home-credit-default-risk"
      ],
      "execution_count": null,
      "outputs": [
        {
          "output_type": "stream",
          "text": [
            "Warning: Looks like you're using an outdated API Version, please consider updating (server 1.5.10 / client 1.5.4)\n",
            "Downloading bureau.csv.zip to /content\n",
            " 92% 34.0M/36.8M [00:00<00:00, 61.4MB/s]\n",
            "100% 36.8M/36.8M [00:00<00:00, 106MB/s] \n",
            "Downloading application_train.csv.zip to /content\n",
            " 64% 23.0M/36.1M [00:00<00:00, 51.8MB/s]\n",
            "100% 36.1M/36.1M [00:00<00:00, 120MB/s] \n",
            "Downloading sample_submission.csv to /content\n",
            "  0% 0.00/524k [00:00<?, ?B/s]\n",
            "100% 524k/524k [00:00<00:00, 159MB/s]\n",
            "Downloading installments_payments.csv.zip to /content\n",
            " 99% 269M/271M [00:02<00:00, 104MB/s] \n",
            "100% 271M/271M [00:02<00:00, 117MB/s]\n",
            "Downloading HomeCredit_columns_description.csv to /content\n",
            "  0% 0.00/36.5k [00:00<?, ?B/s]\n",
            "100% 36.5k/36.5k [00:00<00:00, 12.6MB/s]\n",
            "Downloading bureau_balance.csv.zip to /content\n",
            " 86% 49.0M/56.8M [00:01<00:00, 36.1MB/s]\n",
            "100% 56.8M/56.8M [00:01<00:00, 39.2MB/s]\n",
            "Downloading previous_application.csv.zip to /content\n",
            " 96% 73.0M/76.3M [00:00<00:00, 92.4MB/s]\n",
            "100% 76.3M/76.3M [00:00<00:00, 104MB/s] \n",
            "Downloading credit_card_balance.csv.zip to /content\n",
            " 93% 90.0M/96.7M [00:00<00:00, 81.5MB/s]\n",
            "100% 96.7M/96.7M [00:01<00:00, 98.4MB/s]\n",
            "Downloading application_test.csv.zip to /content\n",
            "  0% 0.00/5.81M [00:00<?, ?B/s]\n",
            "100% 5.81M/5.81M [00:00<00:00, 53.3MB/s]\n",
            "Downloading POS_CASH_balance.csv.zip to /content\n",
            " 92% 100M/109M [00:00<00:00, 115MB/s] \n",
            "100% 109M/109M [00:00<00:00, 138MB/s]\n"
          ],
          "name": "stdout"
        }
      ]
    },
    {
      "cell_type": "code",
      "metadata": {
        "colab": {
          "base_uri": "https://localhost:8080/"
        },
        "id": "_1an9q1sC5qC",
        "outputId": "b1666a9b-b799-4e1a-bfa2-7a65faff1d76"
      },
      "source": [
        "!unzip '/content/application_train.csv.zip'\r\n",
        "!unzip '/content/application_test.csv.zip'\r\n",
        "!unzip '/content/previous_application.csv.zip'"
      ],
      "execution_count": null,
      "outputs": [
        {
          "output_type": "stream",
          "text": [
            "Archive:  /content/application_train.csv.zip\n",
            "  inflating: application_train.csv   \n",
            "Archive:  /content/application_test.csv.zip\n",
            "  inflating: application_test.csv    \n",
            "Archive:  /content/previous_application.csv.zip\n",
            "  inflating: previous_application.csv  \n"
          ],
          "name": "stdout"
        }
      ]
    },
    {
      "cell_type": "markdown",
      "metadata": {
        "id": "80pnyUlZ-EzQ"
      },
      "source": [
        "##### 코랩 버전은 Google Drive에서 데이터 세트를 로딩"
      ]
    },
    {
      "cell_type": "code",
      "metadata": {
        "id": "R4SjSmA0yz76"
      },
      "source": [
        "## colab 버전은 csv 데이터 세트를 google drive에서 로딩 해야 합니다. 이를 위해 google drive를 colab에 mount 수행. \n",
        "import os, sys \n",
        "# from google.colab import drive \n",
        "\n",
        "# drive.mount('/content/gdrive')"
      ],
      "execution_count": null,
      "outputs": []
    },
    {
      "cell_type": "code",
      "metadata": {
        "id": "nhq63tN1z5CO",
        "colab": {
          "base_uri": "https://localhost:8080/"
        },
        "outputId": "c3ab8e35-7a83-4b70-bc62-cdb8e9073c88"
      },
      "source": [
        "%cd '/content/gdrive/My Drive/'\n",
        "!ls"
      ],
      "execution_count": null,
      "outputs": [
        {
          "output_type": "stream",
          "text": [
            "[Errno 2] No such file or directory: '/content/gdrive/My Drive/'\n",
            "/content\n",
            "application_test.csv\t\t    installments_payments.csv.zip\n",
            "application_test.csv.zip\t    kaggle.json\n",
            "application_train.csv\t\t    POS_CASH_balance.csv.zip\n",
            "application_train.csv.zip\t    previous_application.csv\n",
            "bureau_balance.csv.zip\t\t    previous_application.csv.zip\n",
            "bureau.csv.zip\t\t\t    sample_data\n",
            "credit_card_balance.csv.zip\t    sample_submission.csv\n",
            "HomeCredit_columns_description.csv\n"
          ],
          "name": "stdout"
        }
      ]
    },
    {
      "cell_type": "code",
      "metadata": {
        "id": "eg5JTP19xbp2"
      },
      "source": [
        "#### 코랩 버전은 아래와 같이 절대 경로로 디렉토리 변경. \n",
        "#default_dir = \"/content/gdrive/My Drive\"\n",
        "default_dir = \"/content\"\n",
        "app_train = pd.read_csv(os.path.join(default_dir,'application_train.csv'))\n",
        "app_test = pd.read_csv(os.path.join(default_dir,'application_test.csv'))"
      ],
      "execution_count": null,
      "outputs": []
    },
    {
      "cell_type": "code",
      "metadata": {
        "id": "C29xeOIcxbqC",
        "colab": {
          "base_uri": "https://localhost:8080/",
          "height": 282
        },
        "outputId": "a52f2b43-5102-4b4c-c541-b1963d72a288"
      },
      "source": [
        "app_train.head()"
      ],
      "execution_count": null,
      "outputs": [
        {
          "output_type": "execute_result",
          "data": {
            "text/html": [
              "<div>\n",
              "<style scoped>\n",
              "    .dataframe tbody tr th:only-of-type {\n",
              "        vertical-align: middle;\n",
              "    }\n",
              "\n",
              "    .dataframe tbody tr th {\n",
              "        vertical-align: top;\n",
              "    }\n",
              "\n",
              "    .dataframe thead th {\n",
              "        text-align: right;\n",
              "    }\n",
              "</style>\n",
              "<table border=\"1\" class=\"dataframe\">\n",
              "  <thead>\n",
              "    <tr style=\"text-align: right;\">\n",
              "      <th></th>\n",
              "      <th>SK_ID_CURR</th>\n",
              "      <th>TARGET</th>\n",
              "      <th>NAME_CONTRACT_TYPE</th>\n",
              "      <th>CODE_GENDER</th>\n",
              "      <th>FLAG_OWN_CAR</th>\n",
              "      <th>FLAG_OWN_REALTY</th>\n",
              "      <th>CNT_CHILDREN</th>\n",
              "      <th>AMT_INCOME_TOTAL</th>\n",
              "      <th>AMT_CREDIT</th>\n",
              "      <th>AMT_ANNUITY</th>\n",
              "      <th>AMT_GOODS_PRICE</th>\n",
              "      <th>NAME_TYPE_SUITE</th>\n",
              "      <th>NAME_INCOME_TYPE</th>\n",
              "      <th>NAME_EDUCATION_TYPE</th>\n",
              "      <th>NAME_FAMILY_STATUS</th>\n",
              "      <th>NAME_HOUSING_TYPE</th>\n",
              "      <th>REGION_POPULATION_RELATIVE</th>\n",
              "      <th>DAYS_BIRTH</th>\n",
              "      <th>DAYS_EMPLOYED</th>\n",
              "      <th>DAYS_REGISTRATION</th>\n",
              "      <th>DAYS_ID_PUBLISH</th>\n",
              "      <th>OWN_CAR_AGE</th>\n",
              "      <th>FLAG_MOBIL</th>\n",
              "      <th>FLAG_EMP_PHONE</th>\n",
              "      <th>FLAG_WORK_PHONE</th>\n",
              "      <th>FLAG_CONT_MOBILE</th>\n",
              "      <th>FLAG_PHONE</th>\n",
              "      <th>FLAG_EMAIL</th>\n",
              "      <th>OCCUPATION_TYPE</th>\n",
              "      <th>CNT_FAM_MEMBERS</th>\n",
              "      <th>REGION_RATING_CLIENT</th>\n",
              "      <th>REGION_RATING_CLIENT_W_CITY</th>\n",
              "      <th>WEEKDAY_APPR_PROCESS_START</th>\n",
              "      <th>HOUR_APPR_PROCESS_START</th>\n",
              "      <th>REG_REGION_NOT_LIVE_REGION</th>\n",
              "      <th>REG_REGION_NOT_WORK_REGION</th>\n",
              "      <th>LIVE_REGION_NOT_WORK_REGION</th>\n",
              "      <th>REG_CITY_NOT_LIVE_CITY</th>\n",
              "      <th>REG_CITY_NOT_WORK_CITY</th>\n",
              "      <th>LIVE_CITY_NOT_WORK_CITY</th>\n",
              "      <th>ORGANIZATION_TYPE</th>\n",
              "      <th>EXT_SOURCE_1</th>\n",
              "      <th>EXT_SOURCE_2</th>\n",
              "      <th>EXT_SOURCE_3</th>\n",
              "      <th>APARTMENTS_AVG</th>\n",
              "      <th>BASEMENTAREA_AVG</th>\n",
              "      <th>YEARS_BEGINEXPLUATATION_AVG</th>\n",
              "      <th>YEARS_BUILD_AVG</th>\n",
              "      <th>COMMONAREA_AVG</th>\n",
              "      <th>ELEVATORS_AVG</th>\n",
              "      <th>ENTRANCES_AVG</th>\n",
              "      <th>FLOORSMAX_AVG</th>\n",
              "      <th>FLOORSMIN_AVG</th>\n",
              "      <th>LANDAREA_AVG</th>\n",
              "      <th>LIVINGAPARTMENTS_AVG</th>\n",
              "      <th>LIVINGAREA_AVG</th>\n",
              "      <th>NONLIVINGAPARTMENTS_AVG</th>\n",
              "      <th>NONLIVINGAREA_AVG</th>\n",
              "      <th>APARTMENTS_MODE</th>\n",
              "      <th>BASEMENTAREA_MODE</th>\n",
              "      <th>YEARS_BEGINEXPLUATATION_MODE</th>\n",
              "      <th>YEARS_BUILD_MODE</th>\n",
              "      <th>COMMONAREA_MODE</th>\n",
              "      <th>ELEVATORS_MODE</th>\n",
              "      <th>ENTRANCES_MODE</th>\n",
              "      <th>FLOORSMAX_MODE</th>\n",
              "      <th>FLOORSMIN_MODE</th>\n",
              "      <th>LANDAREA_MODE</th>\n",
              "      <th>LIVINGAPARTMENTS_MODE</th>\n",
              "      <th>LIVINGAREA_MODE</th>\n",
              "      <th>NONLIVINGAPARTMENTS_MODE</th>\n",
              "      <th>NONLIVINGAREA_MODE</th>\n",
              "      <th>APARTMENTS_MEDI</th>\n",
              "      <th>BASEMENTAREA_MEDI</th>\n",
              "      <th>YEARS_BEGINEXPLUATATION_MEDI</th>\n",
              "      <th>YEARS_BUILD_MEDI</th>\n",
              "      <th>COMMONAREA_MEDI</th>\n",
              "      <th>ELEVATORS_MEDI</th>\n",
              "      <th>ENTRANCES_MEDI</th>\n",
              "      <th>FLOORSMAX_MEDI</th>\n",
              "      <th>FLOORSMIN_MEDI</th>\n",
              "      <th>LANDAREA_MEDI</th>\n",
              "      <th>LIVINGAPARTMENTS_MEDI</th>\n",
              "      <th>LIVINGAREA_MEDI</th>\n",
              "      <th>NONLIVINGAPARTMENTS_MEDI</th>\n",
              "      <th>NONLIVINGAREA_MEDI</th>\n",
              "      <th>FONDKAPREMONT_MODE</th>\n",
              "      <th>HOUSETYPE_MODE</th>\n",
              "      <th>TOTALAREA_MODE</th>\n",
              "      <th>WALLSMATERIAL_MODE</th>\n",
              "      <th>EMERGENCYSTATE_MODE</th>\n",
              "      <th>OBS_30_CNT_SOCIAL_CIRCLE</th>\n",
              "      <th>DEF_30_CNT_SOCIAL_CIRCLE</th>\n",
              "      <th>OBS_60_CNT_SOCIAL_CIRCLE</th>\n",
              "      <th>DEF_60_CNT_SOCIAL_CIRCLE</th>\n",
              "      <th>DAYS_LAST_PHONE_CHANGE</th>\n",
              "      <th>FLAG_DOCUMENT_2</th>\n",
              "      <th>FLAG_DOCUMENT_3</th>\n",
              "      <th>FLAG_DOCUMENT_4</th>\n",
              "      <th>FLAG_DOCUMENT_5</th>\n",
              "      <th>FLAG_DOCUMENT_6</th>\n",
              "      <th>FLAG_DOCUMENT_7</th>\n",
              "      <th>FLAG_DOCUMENT_8</th>\n",
              "      <th>FLAG_DOCUMENT_9</th>\n",
              "      <th>FLAG_DOCUMENT_10</th>\n",
              "      <th>FLAG_DOCUMENT_11</th>\n",
              "      <th>FLAG_DOCUMENT_12</th>\n",
              "      <th>FLAG_DOCUMENT_13</th>\n",
              "      <th>FLAG_DOCUMENT_14</th>\n",
              "      <th>FLAG_DOCUMENT_15</th>\n",
              "      <th>FLAG_DOCUMENT_16</th>\n",
              "      <th>FLAG_DOCUMENT_17</th>\n",
              "      <th>FLAG_DOCUMENT_18</th>\n",
              "      <th>FLAG_DOCUMENT_19</th>\n",
              "      <th>FLAG_DOCUMENT_20</th>\n",
              "      <th>FLAG_DOCUMENT_21</th>\n",
              "      <th>AMT_REQ_CREDIT_BUREAU_HOUR</th>\n",
              "      <th>AMT_REQ_CREDIT_BUREAU_DAY</th>\n",
              "      <th>AMT_REQ_CREDIT_BUREAU_WEEK</th>\n",
              "      <th>AMT_REQ_CREDIT_BUREAU_MON</th>\n",
              "      <th>AMT_REQ_CREDIT_BUREAU_QRT</th>\n",
              "      <th>AMT_REQ_CREDIT_BUREAU_YEAR</th>\n",
              "    </tr>\n",
              "  </thead>\n",
              "  <tbody>\n",
              "    <tr>\n",
              "      <th>0</th>\n",
              "      <td>100002</td>\n",
              "      <td>1</td>\n",
              "      <td>Cash loans</td>\n",
              "      <td>M</td>\n",
              "      <td>N</td>\n",
              "      <td>Y</td>\n",
              "      <td>0</td>\n",
              "      <td>202500.0</td>\n",
              "      <td>406597.5</td>\n",
              "      <td>24700.5</td>\n",
              "      <td>351000.0</td>\n",
              "      <td>Unaccompanied</td>\n",
              "      <td>Working</td>\n",
              "      <td>Secondary / secondary special</td>\n",
              "      <td>Single / not married</td>\n",
              "      <td>House / apartment</td>\n",
              "      <td>0.018801</td>\n",
              "      <td>-9461</td>\n",
              "      <td>-637</td>\n",
              "      <td>-3648.0</td>\n",
              "      <td>-2120</td>\n",
              "      <td>NaN</td>\n",
              "      <td>1</td>\n",
              "      <td>1</td>\n",
              "      <td>0</td>\n",
              "      <td>1</td>\n",
              "      <td>1</td>\n",
              "      <td>0</td>\n",
              "      <td>Laborers</td>\n",
              "      <td>1.0</td>\n",
              "      <td>2</td>\n",
              "      <td>2</td>\n",
              "      <td>WEDNESDAY</td>\n",
              "      <td>10</td>\n",
              "      <td>0</td>\n",
              "      <td>0</td>\n",
              "      <td>0</td>\n",
              "      <td>0</td>\n",
              "      <td>0</td>\n",
              "      <td>0</td>\n",
              "      <td>Business Entity Type 3</td>\n",
              "      <td>0.083037</td>\n",
              "      <td>0.262949</td>\n",
              "      <td>0.139376</td>\n",
              "      <td>0.0247</td>\n",
              "      <td>0.0369</td>\n",
              "      <td>0.9722</td>\n",
              "      <td>0.6192</td>\n",
              "      <td>0.0143</td>\n",
              "      <td>0.00</td>\n",
              "      <td>0.0690</td>\n",
              "      <td>0.0833</td>\n",
              "      <td>0.1250</td>\n",
              "      <td>0.0369</td>\n",
              "      <td>0.0202</td>\n",
              "      <td>0.0190</td>\n",
              "      <td>0.0000</td>\n",
              "      <td>0.0000</td>\n",
              "      <td>0.0252</td>\n",
              "      <td>0.0383</td>\n",
              "      <td>0.9722</td>\n",
              "      <td>0.6341</td>\n",
              "      <td>0.0144</td>\n",
              "      <td>0.0000</td>\n",
              "      <td>0.0690</td>\n",
              "      <td>0.0833</td>\n",
              "      <td>0.1250</td>\n",
              "      <td>0.0377</td>\n",
              "      <td>0.022</td>\n",
              "      <td>0.0198</td>\n",
              "      <td>0.0</td>\n",
              "      <td>0.0</td>\n",
              "      <td>0.0250</td>\n",
              "      <td>0.0369</td>\n",
              "      <td>0.9722</td>\n",
              "      <td>0.6243</td>\n",
              "      <td>0.0144</td>\n",
              "      <td>0.00</td>\n",
              "      <td>0.0690</td>\n",
              "      <td>0.0833</td>\n",
              "      <td>0.1250</td>\n",
              "      <td>0.0375</td>\n",
              "      <td>0.0205</td>\n",
              "      <td>0.0193</td>\n",
              "      <td>0.0000</td>\n",
              "      <td>0.00</td>\n",
              "      <td>reg oper account</td>\n",
              "      <td>block of flats</td>\n",
              "      <td>0.0149</td>\n",
              "      <td>Stone, brick</td>\n",
              "      <td>No</td>\n",
              "      <td>2.0</td>\n",
              "      <td>2.0</td>\n",
              "      <td>2.0</td>\n",
              "      <td>2.0</td>\n",
              "      <td>-1134.0</td>\n",
              "      <td>0</td>\n",
              "      <td>1</td>\n",
              "      <td>0</td>\n",
              "      <td>0</td>\n",
              "      <td>0</td>\n",
              "      <td>0</td>\n",
              "      <td>0</td>\n",
              "      <td>0</td>\n",
              "      <td>0</td>\n",
              "      <td>0</td>\n",
              "      <td>0</td>\n",
              "      <td>0</td>\n",
              "      <td>0</td>\n",
              "      <td>0</td>\n",
              "      <td>0</td>\n",
              "      <td>0</td>\n",
              "      <td>0</td>\n",
              "      <td>0</td>\n",
              "      <td>0</td>\n",
              "      <td>0</td>\n",
              "      <td>0.0</td>\n",
              "      <td>0.0</td>\n",
              "      <td>0.0</td>\n",
              "      <td>0.0</td>\n",
              "      <td>0.0</td>\n",
              "      <td>1.0</td>\n",
              "    </tr>\n",
              "    <tr>\n",
              "      <th>1</th>\n",
              "      <td>100003</td>\n",
              "      <td>0</td>\n",
              "      <td>Cash loans</td>\n",
              "      <td>F</td>\n",
              "      <td>N</td>\n",
              "      <td>N</td>\n",
              "      <td>0</td>\n",
              "      <td>270000.0</td>\n",
              "      <td>1293502.5</td>\n",
              "      <td>35698.5</td>\n",
              "      <td>1129500.0</td>\n",
              "      <td>Family</td>\n",
              "      <td>State servant</td>\n",
              "      <td>Higher education</td>\n",
              "      <td>Married</td>\n",
              "      <td>House / apartment</td>\n",
              "      <td>0.003541</td>\n",
              "      <td>-16765</td>\n",
              "      <td>-1188</td>\n",
              "      <td>-1186.0</td>\n",
              "      <td>-291</td>\n",
              "      <td>NaN</td>\n",
              "      <td>1</td>\n",
              "      <td>1</td>\n",
              "      <td>0</td>\n",
              "      <td>1</td>\n",
              "      <td>1</td>\n",
              "      <td>0</td>\n",
              "      <td>Core staff</td>\n",
              "      <td>2.0</td>\n",
              "      <td>1</td>\n",
              "      <td>1</td>\n",
              "      <td>MONDAY</td>\n",
              "      <td>11</td>\n",
              "      <td>0</td>\n",
              "      <td>0</td>\n",
              "      <td>0</td>\n",
              "      <td>0</td>\n",
              "      <td>0</td>\n",
              "      <td>0</td>\n",
              "      <td>School</td>\n",
              "      <td>0.311267</td>\n",
              "      <td>0.622246</td>\n",
              "      <td>NaN</td>\n",
              "      <td>0.0959</td>\n",
              "      <td>0.0529</td>\n",
              "      <td>0.9851</td>\n",
              "      <td>0.7960</td>\n",
              "      <td>0.0605</td>\n",
              "      <td>0.08</td>\n",
              "      <td>0.0345</td>\n",
              "      <td>0.2917</td>\n",
              "      <td>0.3333</td>\n",
              "      <td>0.0130</td>\n",
              "      <td>0.0773</td>\n",
              "      <td>0.0549</td>\n",
              "      <td>0.0039</td>\n",
              "      <td>0.0098</td>\n",
              "      <td>0.0924</td>\n",
              "      <td>0.0538</td>\n",
              "      <td>0.9851</td>\n",
              "      <td>0.8040</td>\n",
              "      <td>0.0497</td>\n",
              "      <td>0.0806</td>\n",
              "      <td>0.0345</td>\n",
              "      <td>0.2917</td>\n",
              "      <td>0.3333</td>\n",
              "      <td>0.0128</td>\n",
              "      <td>0.079</td>\n",
              "      <td>0.0554</td>\n",
              "      <td>0.0</td>\n",
              "      <td>0.0</td>\n",
              "      <td>0.0968</td>\n",
              "      <td>0.0529</td>\n",
              "      <td>0.9851</td>\n",
              "      <td>0.7987</td>\n",
              "      <td>0.0608</td>\n",
              "      <td>0.08</td>\n",
              "      <td>0.0345</td>\n",
              "      <td>0.2917</td>\n",
              "      <td>0.3333</td>\n",
              "      <td>0.0132</td>\n",
              "      <td>0.0787</td>\n",
              "      <td>0.0558</td>\n",
              "      <td>0.0039</td>\n",
              "      <td>0.01</td>\n",
              "      <td>reg oper account</td>\n",
              "      <td>block of flats</td>\n",
              "      <td>0.0714</td>\n",
              "      <td>Block</td>\n",
              "      <td>No</td>\n",
              "      <td>1.0</td>\n",
              "      <td>0.0</td>\n",
              "      <td>1.0</td>\n",
              "      <td>0.0</td>\n",
              "      <td>-828.0</td>\n",
              "      <td>0</td>\n",
              "      <td>1</td>\n",
              "      <td>0</td>\n",
              "      <td>0</td>\n",
              "      <td>0</td>\n",
              "      <td>0</td>\n",
              "      <td>0</td>\n",
              "      <td>0</td>\n",
              "      <td>0</td>\n",
              "      <td>0</td>\n",
              "      <td>0</td>\n",
              "      <td>0</td>\n",
              "      <td>0</td>\n",
              "      <td>0</td>\n",
              "      <td>0</td>\n",
              "      <td>0</td>\n",
              "      <td>0</td>\n",
              "      <td>0</td>\n",
              "      <td>0</td>\n",
              "      <td>0</td>\n",
              "      <td>0.0</td>\n",
              "      <td>0.0</td>\n",
              "      <td>0.0</td>\n",
              "      <td>0.0</td>\n",
              "      <td>0.0</td>\n",
              "      <td>0.0</td>\n",
              "    </tr>\n",
              "    <tr>\n",
              "      <th>2</th>\n",
              "      <td>100004</td>\n",
              "      <td>0</td>\n",
              "      <td>Revolving loans</td>\n",
              "      <td>M</td>\n",
              "      <td>Y</td>\n",
              "      <td>Y</td>\n",
              "      <td>0</td>\n",
              "      <td>67500.0</td>\n",
              "      <td>135000.0</td>\n",
              "      <td>6750.0</td>\n",
              "      <td>135000.0</td>\n",
              "      <td>Unaccompanied</td>\n",
              "      <td>Working</td>\n",
              "      <td>Secondary / secondary special</td>\n",
              "      <td>Single / not married</td>\n",
              "      <td>House / apartment</td>\n",
              "      <td>0.010032</td>\n",
              "      <td>-19046</td>\n",
              "      <td>-225</td>\n",
              "      <td>-4260.0</td>\n",
              "      <td>-2531</td>\n",
              "      <td>26.0</td>\n",
              "      <td>1</td>\n",
              "      <td>1</td>\n",
              "      <td>1</td>\n",
              "      <td>1</td>\n",
              "      <td>1</td>\n",
              "      <td>0</td>\n",
              "      <td>Laborers</td>\n",
              "      <td>1.0</td>\n",
              "      <td>2</td>\n",
              "      <td>2</td>\n",
              "      <td>MONDAY</td>\n",
              "      <td>9</td>\n",
              "      <td>0</td>\n",
              "      <td>0</td>\n",
              "      <td>0</td>\n",
              "      <td>0</td>\n",
              "      <td>0</td>\n",
              "      <td>0</td>\n",
              "      <td>Government</td>\n",
              "      <td>NaN</td>\n",
              "      <td>0.555912</td>\n",
              "      <td>0.729567</td>\n",
              "      <td>NaN</td>\n",
              "      <td>NaN</td>\n",
              "      <td>NaN</td>\n",
              "      <td>NaN</td>\n",
              "      <td>NaN</td>\n",
              "      <td>NaN</td>\n",
              "      <td>NaN</td>\n",
              "      <td>NaN</td>\n",
              "      <td>NaN</td>\n",
              "      <td>NaN</td>\n",
              "      <td>NaN</td>\n",
              "      <td>NaN</td>\n",
              "      <td>NaN</td>\n",
              "      <td>NaN</td>\n",
              "      <td>NaN</td>\n",
              "      <td>NaN</td>\n",
              "      <td>NaN</td>\n",
              "      <td>NaN</td>\n",
              "      <td>NaN</td>\n",
              "      <td>NaN</td>\n",
              "      <td>NaN</td>\n",
              "      <td>NaN</td>\n",
              "      <td>NaN</td>\n",
              "      <td>NaN</td>\n",
              "      <td>NaN</td>\n",
              "      <td>NaN</td>\n",
              "      <td>NaN</td>\n",
              "      <td>NaN</td>\n",
              "      <td>NaN</td>\n",
              "      <td>NaN</td>\n",
              "      <td>NaN</td>\n",
              "      <td>NaN</td>\n",
              "      <td>NaN</td>\n",
              "      <td>NaN</td>\n",
              "      <td>NaN</td>\n",
              "      <td>NaN</td>\n",
              "      <td>NaN</td>\n",
              "      <td>NaN</td>\n",
              "      <td>NaN</td>\n",
              "      <td>NaN</td>\n",
              "      <td>NaN</td>\n",
              "      <td>NaN</td>\n",
              "      <td>NaN</td>\n",
              "      <td>NaN</td>\n",
              "      <td>NaN</td>\n",
              "      <td>NaN</td>\n",
              "      <td>NaN</td>\n",
              "      <td>0.0</td>\n",
              "      <td>0.0</td>\n",
              "      <td>0.0</td>\n",
              "      <td>0.0</td>\n",
              "      <td>-815.0</td>\n",
              "      <td>0</td>\n",
              "      <td>0</td>\n",
              "      <td>0</td>\n",
              "      <td>0</td>\n",
              "      <td>0</td>\n",
              "      <td>0</td>\n",
              "      <td>0</td>\n",
              "      <td>0</td>\n",
              "      <td>0</td>\n",
              "      <td>0</td>\n",
              "      <td>0</td>\n",
              "      <td>0</td>\n",
              "      <td>0</td>\n",
              "      <td>0</td>\n",
              "      <td>0</td>\n",
              "      <td>0</td>\n",
              "      <td>0</td>\n",
              "      <td>0</td>\n",
              "      <td>0</td>\n",
              "      <td>0</td>\n",
              "      <td>0.0</td>\n",
              "      <td>0.0</td>\n",
              "      <td>0.0</td>\n",
              "      <td>0.0</td>\n",
              "      <td>0.0</td>\n",
              "      <td>0.0</td>\n",
              "    </tr>\n",
              "    <tr>\n",
              "      <th>3</th>\n",
              "      <td>100006</td>\n",
              "      <td>0</td>\n",
              "      <td>Cash loans</td>\n",
              "      <td>F</td>\n",
              "      <td>N</td>\n",
              "      <td>Y</td>\n",
              "      <td>0</td>\n",
              "      <td>135000.0</td>\n",
              "      <td>312682.5</td>\n",
              "      <td>29686.5</td>\n",
              "      <td>297000.0</td>\n",
              "      <td>Unaccompanied</td>\n",
              "      <td>Working</td>\n",
              "      <td>Secondary / secondary special</td>\n",
              "      <td>Civil marriage</td>\n",
              "      <td>House / apartment</td>\n",
              "      <td>0.008019</td>\n",
              "      <td>-19005</td>\n",
              "      <td>-3039</td>\n",
              "      <td>-9833.0</td>\n",
              "      <td>-2437</td>\n",
              "      <td>NaN</td>\n",
              "      <td>1</td>\n",
              "      <td>1</td>\n",
              "      <td>0</td>\n",
              "      <td>1</td>\n",
              "      <td>0</td>\n",
              "      <td>0</td>\n",
              "      <td>Laborers</td>\n",
              "      <td>2.0</td>\n",
              "      <td>2</td>\n",
              "      <td>2</td>\n",
              "      <td>WEDNESDAY</td>\n",
              "      <td>17</td>\n",
              "      <td>0</td>\n",
              "      <td>0</td>\n",
              "      <td>0</td>\n",
              "      <td>0</td>\n",
              "      <td>0</td>\n",
              "      <td>0</td>\n",
              "      <td>Business Entity Type 3</td>\n",
              "      <td>NaN</td>\n",
              "      <td>0.650442</td>\n",
              "      <td>NaN</td>\n",
              "      <td>NaN</td>\n",
              "      <td>NaN</td>\n",
              "      <td>NaN</td>\n",
              "      <td>NaN</td>\n",
              "      <td>NaN</td>\n",
              "      <td>NaN</td>\n",
              "      <td>NaN</td>\n",
              "      <td>NaN</td>\n",
              "      <td>NaN</td>\n",
              "      <td>NaN</td>\n",
              "      <td>NaN</td>\n",
              "      <td>NaN</td>\n",
              "      <td>NaN</td>\n",
              "      <td>NaN</td>\n",
              "      <td>NaN</td>\n",
              "      <td>NaN</td>\n",
              "      <td>NaN</td>\n",
              "      <td>NaN</td>\n",
              "      <td>NaN</td>\n",
              "      <td>NaN</td>\n",
              "      <td>NaN</td>\n",
              "      <td>NaN</td>\n",
              "      <td>NaN</td>\n",
              "      <td>NaN</td>\n",
              "      <td>NaN</td>\n",
              "      <td>NaN</td>\n",
              "      <td>NaN</td>\n",
              "      <td>NaN</td>\n",
              "      <td>NaN</td>\n",
              "      <td>NaN</td>\n",
              "      <td>NaN</td>\n",
              "      <td>NaN</td>\n",
              "      <td>NaN</td>\n",
              "      <td>NaN</td>\n",
              "      <td>NaN</td>\n",
              "      <td>NaN</td>\n",
              "      <td>NaN</td>\n",
              "      <td>NaN</td>\n",
              "      <td>NaN</td>\n",
              "      <td>NaN</td>\n",
              "      <td>NaN</td>\n",
              "      <td>NaN</td>\n",
              "      <td>NaN</td>\n",
              "      <td>NaN</td>\n",
              "      <td>NaN</td>\n",
              "      <td>NaN</td>\n",
              "      <td>NaN</td>\n",
              "      <td>2.0</td>\n",
              "      <td>0.0</td>\n",
              "      <td>2.0</td>\n",
              "      <td>0.0</td>\n",
              "      <td>-617.0</td>\n",
              "      <td>0</td>\n",
              "      <td>1</td>\n",
              "      <td>0</td>\n",
              "      <td>0</td>\n",
              "      <td>0</td>\n",
              "      <td>0</td>\n",
              "      <td>0</td>\n",
              "      <td>0</td>\n",
              "      <td>0</td>\n",
              "      <td>0</td>\n",
              "      <td>0</td>\n",
              "      <td>0</td>\n",
              "      <td>0</td>\n",
              "      <td>0</td>\n",
              "      <td>0</td>\n",
              "      <td>0</td>\n",
              "      <td>0</td>\n",
              "      <td>0</td>\n",
              "      <td>0</td>\n",
              "      <td>0</td>\n",
              "      <td>NaN</td>\n",
              "      <td>NaN</td>\n",
              "      <td>NaN</td>\n",
              "      <td>NaN</td>\n",
              "      <td>NaN</td>\n",
              "      <td>NaN</td>\n",
              "    </tr>\n",
              "    <tr>\n",
              "      <th>4</th>\n",
              "      <td>100007</td>\n",
              "      <td>0</td>\n",
              "      <td>Cash loans</td>\n",
              "      <td>M</td>\n",
              "      <td>N</td>\n",
              "      <td>Y</td>\n",
              "      <td>0</td>\n",
              "      <td>121500.0</td>\n",
              "      <td>513000.0</td>\n",
              "      <td>21865.5</td>\n",
              "      <td>513000.0</td>\n",
              "      <td>Unaccompanied</td>\n",
              "      <td>Working</td>\n",
              "      <td>Secondary / secondary special</td>\n",
              "      <td>Single / not married</td>\n",
              "      <td>House / apartment</td>\n",
              "      <td>0.028663</td>\n",
              "      <td>-19932</td>\n",
              "      <td>-3038</td>\n",
              "      <td>-4311.0</td>\n",
              "      <td>-3458</td>\n",
              "      <td>NaN</td>\n",
              "      <td>1</td>\n",
              "      <td>1</td>\n",
              "      <td>0</td>\n",
              "      <td>1</td>\n",
              "      <td>0</td>\n",
              "      <td>0</td>\n",
              "      <td>Core staff</td>\n",
              "      <td>1.0</td>\n",
              "      <td>2</td>\n",
              "      <td>2</td>\n",
              "      <td>THURSDAY</td>\n",
              "      <td>11</td>\n",
              "      <td>0</td>\n",
              "      <td>0</td>\n",
              "      <td>0</td>\n",
              "      <td>0</td>\n",
              "      <td>1</td>\n",
              "      <td>1</td>\n",
              "      <td>Religion</td>\n",
              "      <td>NaN</td>\n",
              "      <td>0.322738</td>\n",
              "      <td>NaN</td>\n",
              "      <td>NaN</td>\n",
              "      <td>NaN</td>\n",
              "      <td>NaN</td>\n",
              "      <td>NaN</td>\n",
              "      <td>NaN</td>\n",
              "      <td>NaN</td>\n",
              "      <td>NaN</td>\n",
              "      <td>NaN</td>\n",
              "      <td>NaN</td>\n",
              "      <td>NaN</td>\n",
              "      <td>NaN</td>\n",
              "      <td>NaN</td>\n",
              "      <td>NaN</td>\n",
              "      <td>NaN</td>\n",
              "      <td>NaN</td>\n",
              "      <td>NaN</td>\n",
              "      <td>NaN</td>\n",
              "      <td>NaN</td>\n",
              "      <td>NaN</td>\n",
              "      <td>NaN</td>\n",
              "      <td>NaN</td>\n",
              "      <td>NaN</td>\n",
              "      <td>NaN</td>\n",
              "      <td>NaN</td>\n",
              "      <td>NaN</td>\n",
              "      <td>NaN</td>\n",
              "      <td>NaN</td>\n",
              "      <td>NaN</td>\n",
              "      <td>NaN</td>\n",
              "      <td>NaN</td>\n",
              "      <td>NaN</td>\n",
              "      <td>NaN</td>\n",
              "      <td>NaN</td>\n",
              "      <td>NaN</td>\n",
              "      <td>NaN</td>\n",
              "      <td>NaN</td>\n",
              "      <td>NaN</td>\n",
              "      <td>NaN</td>\n",
              "      <td>NaN</td>\n",
              "      <td>NaN</td>\n",
              "      <td>NaN</td>\n",
              "      <td>NaN</td>\n",
              "      <td>NaN</td>\n",
              "      <td>NaN</td>\n",
              "      <td>NaN</td>\n",
              "      <td>NaN</td>\n",
              "      <td>NaN</td>\n",
              "      <td>0.0</td>\n",
              "      <td>0.0</td>\n",
              "      <td>0.0</td>\n",
              "      <td>0.0</td>\n",
              "      <td>-1106.0</td>\n",
              "      <td>0</td>\n",
              "      <td>0</td>\n",
              "      <td>0</td>\n",
              "      <td>0</td>\n",
              "      <td>0</td>\n",
              "      <td>0</td>\n",
              "      <td>1</td>\n",
              "      <td>0</td>\n",
              "      <td>0</td>\n",
              "      <td>0</td>\n",
              "      <td>0</td>\n",
              "      <td>0</td>\n",
              "      <td>0</td>\n",
              "      <td>0</td>\n",
              "      <td>0</td>\n",
              "      <td>0</td>\n",
              "      <td>0</td>\n",
              "      <td>0</td>\n",
              "      <td>0</td>\n",
              "      <td>0</td>\n",
              "      <td>0.0</td>\n",
              "      <td>0.0</td>\n",
              "      <td>0.0</td>\n",
              "      <td>0.0</td>\n",
              "      <td>0.0</td>\n",
              "      <td>0.0</td>\n",
              "    </tr>\n",
              "  </tbody>\n",
              "</table>\n",
              "</div>"
            ],
            "text/plain": [
              "   SK_ID_CURR  TARGET NAME_CONTRACT_TYPE CODE_GENDER FLAG_OWN_CAR  \\\n",
              "0      100002       1         Cash loans           M            N   \n",
              "1      100003       0         Cash loans           F            N   \n",
              "2      100004       0    Revolving loans           M            Y   \n",
              "3      100006       0         Cash loans           F            N   \n",
              "4      100007       0         Cash loans           M            N   \n",
              "\n",
              "  FLAG_OWN_REALTY  CNT_CHILDREN  AMT_INCOME_TOTAL  AMT_CREDIT  AMT_ANNUITY  \\\n",
              "0               Y             0          202500.0    406597.5      24700.5   \n",
              "1               N             0          270000.0   1293502.5      35698.5   \n",
              "2               Y             0           67500.0    135000.0       6750.0   \n",
              "3               Y             0          135000.0    312682.5      29686.5   \n",
              "4               Y             0          121500.0    513000.0      21865.5   \n",
              "\n",
              "   AMT_GOODS_PRICE NAME_TYPE_SUITE NAME_INCOME_TYPE  \\\n",
              "0         351000.0   Unaccompanied          Working   \n",
              "1        1129500.0          Family    State servant   \n",
              "2         135000.0   Unaccompanied          Working   \n",
              "3         297000.0   Unaccompanied          Working   \n",
              "4         513000.0   Unaccompanied          Working   \n",
              "\n",
              "             NAME_EDUCATION_TYPE    NAME_FAMILY_STATUS  NAME_HOUSING_TYPE  \\\n",
              "0  Secondary / secondary special  Single / not married  House / apartment   \n",
              "1               Higher education               Married  House / apartment   \n",
              "2  Secondary / secondary special  Single / not married  House / apartment   \n",
              "3  Secondary / secondary special        Civil marriage  House / apartment   \n",
              "4  Secondary / secondary special  Single / not married  House / apartment   \n",
              "\n",
              "   REGION_POPULATION_RELATIVE  DAYS_BIRTH  DAYS_EMPLOYED  DAYS_REGISTRATION  \\\n",
              "0                    0.018801       -9461           -637            -3648.0   \n",
              "1                    0.003541      -16765          -1188            -1186.0   \n",
              "2                    0.010032      -19046           -225            -4260.0   \n",
              "3                    0.008019      -19005          -3039            -9833.0   \n",
              "4                    0.028663      -19932          -3038            -4311.0   \n",
              "\n",
              "   DAYS_ID_PUBLISH  OWN_CAR_AGE  FLAG_MOBIL  FLAG_EMP_PHONE  FLAG_WORK_PHONE  \\\n",
              "0            -2120          NaN           1               1                0   \n",
              "1             -291          NaN           1               1                0   \n",
              "2            -2531         26.0           1               1                1   \n",
              "3            -2437          NaN           1               1                0   \n",
              "4            -3458          NaN           1               1                0   \n",
              "\n",
              "   FLAG_CONT_MOBILE  FLAG_PHONE  FLAG_EMAIL OCCUPATION_TYPE  CNT_FAM_MEMBERS  \\\n",
              "0                 1           1           0        Laborers              1.0   \n",
              "1                 1           1           0      Core staff              2.0   \n",
              "2                 1           1           0        Laborers              1.0   \n",
              "3                 1           0           0        Laborers              2.0   \n",
              "4                 1           0           0      Core staff              1.0   \n",
              "\n",
              "   REGION_RATING_CLIENT  REGION_RATING_CLIENT_W_CITY  \\\n",
              "0                     2                            2   \n",
              "1                     1                            1   \n",
              "2                     2                            2   \n",
              "3                     2                            2   \n",
              "4                     2                            2   \n",
              "\n",
              "  WEEKDAY_APPR_PROCESS_START  HOUR_APPR_PROCESS_START  \\\n",
              "0                  WEDNESDAY                       10   \n",
              "1                     MONDAY                       11   \n",
              "2                     MONDAY                        9   \n",
              "3                  WEDNESDAY                       17   \n",
              "4                   THURSDAY                       11   \n",
              "\n",
              "   REG_REGION_NOT_LIVE_REGION  REG_REGION_NOT_WORK_REGION  \\\n",
              "0                           0                           0   \n",
              "1                           0                           0   \n",
              "2                           0                           0   \n",
              "3                           0                           0   \n",
              "4                           0                           0   \n",
              "\n",
              "   LIVE_REGION_NOT_WORK_REGION  REG_CITY_NOT_LIVE_CITY  \\\n",
              "0                            0                       0   \n",
              "1                            0                       0   \n",
              "2                            0                       0   \n",
              "3                            0                       0   \n",
              "4                            0                       0   \n",
              "\n",
              "   REG_CITY_NOT_WORK_CITY  LIVE_CITY_NOT_WORK_CITY       ORGANIZATION_TYPE  \\\n",
              "0                       0                        0  Business Entity Type 3   \n",
              "1                       0                        0                  School   \n",
              "2                       0                        0              Government   \n",
              "3                       0                        0  Business Entity Type 3   \n",
              "4                       1                        1                Religion   \n",
              "\n",
              "   EXT_SOURCE_1  EXT_SOURCE_2  EXT_SOURCE_3  APARTMENTS_AVG  BASEMENTAREA_AVG  \\\n",
              "0      0.083037      0.262949      0.139376          0.0247            0.0369   \n",
              "1      0.311267      0.622246           NaN          0.0959            0.0529   \n",
              "2           NaN      0.555912      0.729567             NaN               NaN   \n",
              "3           NaN      0.650442           NaN             NaN               NaN   \n",
              "4           NaN      0.322738           NaN             NaN               NaN   \n",
              "\n",
              "   YEARS_BEGINEXPLUATATION_AVG  YEARS_BUILD_AVG  COMMONAREA_AVG  \\\n",
              "0                       0.9722           0.6192          0.0143   \n",
              "1                       0.9851           0.7960          0.0605   \n",
              "2                          NaN              NaN             NaN   \n",
              "3                          NaN              NaN             NaN   \n",
              "4                          NaN              NaN             NaN   \n",
              "\n",
              "   ELEVATORS_AVG  ENTRANCES_AVG  FLOORSMAX_AVG  FLOORSMIN_AVG  LANDAREA_AVG  \\\n",
              "0           0.00         0.0690         0.0833         0.1250        0.0369   \n",
              "1           0.08         0.0345         0.2917         0.3333        0.0130   \n",
              "2            NaN            NaN            NaN            NaN           NaN   \n",
              "3            NaN            NaN            NaN            NaN           NaN   \n",
              "4            NaN            NaN            NaN            NaN           NaN   \n",
              "\n",
              "   LIVINGAPARTMENTS_AVG  LIVINGAREA_AVG  NONLIVINGAPARTMENTS_AVG  \\\n",
              "0                0.0202          0.0190                   0.0000   \n",
              "1                0.0773          0.0549                   0.0039   \n",
              "2                   NaN             NaN                      NaN   \n",
              "3                   NaN             NaN                      NaN   \n",
              "4                   NaN             NaN                      NaN   \n",
              "\n",
              "   NONLIVINGAREA_AVG  APARTMENTS_MODE  BASEMENTAREA_MODE  \\\n",
              "0             0.0000           0.0252             0.0383   \n",
              "1             0.0098           0.0924             0.0538   \n",
              "2                NaN              NaN                NaN   \n",
              "3                NaN              NaN                NaN   \n",
              "4                NaN              NaN                NaN   \n",
              "\n",
              "   YEARS_BEGINEXPLUATATION_MODE  YEARS_BUILD_MODE  COMMONAREA_MODE  \\\n",
              "0                        0.9722            0.6341           0.0144   \n",
              "1                        0.9851            0.8040           0.0497   \n",
              "2                           NaN               NaN              NaN   \n",
              "3                           NaN               NaN              NaN   \n",
              "4                           NaN               NaN              NaN   \n",
              "\n",
              "   ELEVATORS_MODE  ENTRANCES_MODE  FLOORSMAX_MODE  FLOORSMIN_MODE  \\\n",
              "0          0.0000          0.0690          0.0833          0.1250   \n",
              "1          0.0806          0.0345          0.2917          0.3333   \n",
              "2             NaN             NaN             NaN             NaN   \n",
              "3             NaN             NaN             NaN             NaN   \n",
              "4             NaN             NaN             NaN             NaN   \n",
              "\n",
              "   LANDAREA_MODE  LIVINGAPARTMENTS_MODE  LIVINGAREA_MODE  \\\n",
              "0         0.0377                  0.022           0.0198   \n",
              "1         0.0128                  0.079           0.0554   \n",
              "2            NaN                    NaN              NaN   \n",
              "3            NaN                    NaN              NaN   \n",
              "4            NaN                    NaN              NaN   \n",
              "\n",
              "   NONLIVINGAPARTMENTS_MODE  NONLIVINGAREA_MODE  APARTMENTS_MEDI  \\\n",
              "0                       0.0                 0.0           0.0250   \n",
              "1                       0.0                 0.0           0.0968   \n",
              "2                       NaN                 NaN              NaN   \n",
              "3                       NaN                 NaN              NaN   \n",
              "4                       NaN                 NaN              NaN   \n",
              "\n",
              "   BASEMENTAREA_MEDI  YEARS_BEGINEXPLUATATION_MEDI  YEARS_BUILD_MEDI  \\\n",
              "0             0.0369                        0.9722            0.6243   \n",
              "1             0.0529                        0.9851            0.7987   \n",
              "2                NaN                           NaN               NaN   \n",
              "3                NaN                           NaN               NaN   \n",
              "4                NaN                           NaN               NaN   \n",
              "\n",
              "   COMMONAREA_MEDI  ELEVATORS_MEDI  ENTRANCES_MEDI  FLOORSMAX_MEDI  \\\n",
              "0           0.0144            0.00          0.0690          0.0833   \n",
              "1           0.0608            0.08          0.0345          0.2917   \n",
              "2              NaN             NaN             NaN             NaN   \n",
              "3              NaN             NaN             NaN             NaN   \n",
              "4              NaN             NaN             NaN             NaN   \n",
              "\n",
              "   FLOORSMIN_MEDI  LANDAREA_MEDI  LIVINGAPARTMENTS_MEDI  LIVINGAREA_MEDI  \\\n",
              "0          0.1250         0.0375                 0.0205           0.0193   \n",
              "1          0.3333         0.0132                 0.0787           0.0558   \n",
              "2             NaN            NaN                    NaN              NaN   \n",
              "3             NaN            NaN                    NaN              NaN   \n",
              "4             NaN            NaN                    NaN              NaN   \n",
              "\n",
              "   NONLIVINGAPARTMENTS_MEDI  NONLIVINGAREA_MEDI FONDKAPREMONT_MODE  \\\n",
              "0                    0.0000                0.00   reg oper account   \n",
              "1                    0.0039                0.01   reg oper account   \n",
              "2                       NaN                 NaN                NaN   \n",
              "3                       NaN                 NaN                NaN   \n",
              "4                       NaN                 NaN                NaN   \n",
              "\n",
              "   HOUSETYPE_MODE  TOTALAREA_MODE WALLSMATERIAL_MODE EMERGENCYSTATE_MODE  \\\n",
              "0  block of flats          0.0149       Stone, brick                  No   \n",
              "1  block of flats          0.0714              Block                  No   \n",
              "2             NaN             NaN                NaN                 NaN   \n",
              "3             NaN             NaN                NaN                 NaN   \n",
              "4             NaN             NaN                NaN                 NaN   \n",
              "\n",
              "   OBS_30_CNT_SOCIAL_CIRCLE  DEF_30_CNT_SOCIAL_CIRCLE  \\\n",
              "0                       2.0                       2.0   \n",
              "1                       1.0                       0.0   \n",
              "2                       0.0                       0.0   \n",
              "3                       2.0                       0.0   \n",
              "4                       0.0                       0.0   \n",
              "\n",
              "   OBS_60_CNT_SOCIAL_CIRCLE  DEF_60_CNT_SOCIAL_CIRCLE  DAYS_LAST_PHONE_CHANGE  \\\n",
              "0                       2.0                       2.0                 -1134.0   \n",
              "1                       1.0                       0.0                  -828.0   \n",
              "2                       0.0                       0.0                  -815.0   \n",
              "3                       2.0                       0.0                  -617.0   \n",
              "4                       0.0                       0.0                 -1106.0   \n",
              "\n",
              "   FLAG_DOCUMENT_2  FLAG_DOCUMENT_3  FLAG_DOCUMENT_4  FLAG_DOCUMENT_5  \\\n",
              "0                0                1                0                0   \n",
              "1                0                1                0                0   \n",
              "2                0                0                0                0   \n",
              "3                0                1                0                0   \n",
              "4                0                0                0                0   \n",
              "\n",
              "   FLAG_DOCUMENT_6  FLAG_DOCUMENT_7  FLAG_DOCUMENT_8  FLAG_DOCUMENT_9  \\\n",
              "0                0                0                0                0   \n",
              "1                0                0                0                0   \n",
              "2                0                0                0                0   \n",
              "3                0                0                0                0   \n",
              "4                0                0                1                0   \n",
              "\n",
              "   FLAG_DOCUMENT_10  FLAG_DOCUMENT_11  FLAG_DOCUMENT_12  FLAG_DOCUMENT_13  \\\n",
              "0                 0                 0                 0                 0   \n",
              "1                 0                 0                 0                 0   \n",
              "2                 0                 0                 0                 0   \n",
              "3                 0                 0                 0                 0   \n",
              "4                 0                 0                 0                 0   \n",
              "\n",
              "   FLAG_DOCUMENT_14  FLAG_DOCUMENT_15  FLAG_DOCUMENT_16  FLAG_DOCUMENT_17  \\\n",
              "0                 0                 0                 0                 0   \n",
              "1                 0                 0                 0                 0   \n",
              "2                 0                 0                 0                 0   \n",
              "3                 0                 0                 0                 0   \n",
              "4                 0                 0                 0                 0   \n",
              "\n",
              "   FLAG_DOCUMENT_18  FLAG_DOCUMENT_19  FLAG_DOCUMENT_20  FLAG_DOCUMENT_21  \\\n",
              "0                 0                 0                 0                 0   \n",
              "1                 0                 0                 0                 0   \n",
              "2                 0                 0                 0                 0   \n",
              "3                 0                 0                 0                 0   \n",
              "4                 0                 0                 0                 0   \n",
              "\n",
              "   AMT_REQ_CREDIT_BUREAU_HOUR  AMT_REQ_CREDIT_BUREAU_DAY  \\\n",
              "0                         0.0                        0.0   \n",
              "1                         0.0                        0.0   \n",
              "2                         0.0                        0.0   \n",
              "3                         NaN                        NaN   \n",
              "4                         0.0                        0.0   \n",
              "\n",
              "   AMT_REQ_CREDIT_BUREAU_WEEK  AMT_REQ_CREDIT_BUREAU_MON  \\\n",
              "0                         0.0                        0.0   \n",
              "1                         0.0                        0.0   \n",
              "2                         0.0                        0.0   \n",
              "3                         NaN                        NaN   \n",
              "4                         0.0                        0.0   \n",
              "\n",
              "   AMT_REQ_CREDIT_BUREAU_QRT  AMT_REQ_CREDIT_BUREAU_YEAR  \n",
              "0                        0.0                         1.0  \n",
              "1                        0.0                         0.0  \n",
              "2                        0.0                         0.0  \n",
              "3                        NaN                         NaN  \n",
              "4                        0.0                         0.0  "
            ]
          },
          "metadata": {
            "tags": []
          },
          "execution_count": 8
        }
      ]
    },
    {
      "cell_type": "code",
      "metadata": {
        "scrolled": true,
        "id": "4ySMSCd0xbqL",
        "colab": {
          "base_uri": "https://localhost:8080/"
        },
        "outputId": "3211e4cd-f32a-43d9-aa5e-3d2be484beb5"
      },
      "source": [
        "app_train.shape, app_test.shape"
      ],
      "execution_count": null,
      "outputs": [
        {
          "output_type": "execute_result",
          "data": {
            "text/plain": [
              "((307511, 122), (48744, 121))"
            ]
          },
          "metadata": {
            "tags": []
          },
          "execution_count": 9
        }
      ]
    },
    {
      "cell_type": "markdown",
      "metadata": {
        "id": "XsjdylxmxbqS"
      },
      "source": [
        "#### TARGET 값 분포 및 AMT_INCOME_TOTAL 값 Histogram\n",
        "* TARGET값 별 분포도, Pandas, Matplotlib, Seaborn으로 histogram 표현"
      ]
    },
    {
      "cell_type": "code",
      "metadata": {
        "id": "Mwiu5_ipxbqU",
        "colab": {
          "base_uri": "https://localhost:8080/"
        },
        "outputId": "b4f4b1e6-072c-4a22-8126-89854b13bf26"
      },
      "source": [
        "# 채무를 이행했으면 0, 하지않았으면 1\r\n",
        "app_train['TARGET'].value_counts()"
      ],
      "execution_count": null,
      "outputs": [
        {
          "output_type": "execute_result",
          "data": {
            "text/plain": [
              "0    282686\n",
              "1     24825\n",
              "Name: TARGET, dtype: int64"
            ]
          },
          "metadata": {
            "tags": []
          },
          "execution_count": 10
        }
      ]
    },
    {
      "cell_type": "code",
      "metadata": {
        "colab": {
          "base_uri": "https://localhost:8080/"
        },
        "id": "HU3n_RxAFEUi",
        "outputId": "bf2b00d6-70a6-4e1e-849b-1d42654b6e6c"
      },
      "source": [
        "app_train['TARGET'].value_counts()/app_train.shape[0] # 비율"
      ],
      "execution_count": null,
      "outputs": [
        {
          "output_type": "execute_result",
          "data": {
            "text/plain": [
              "0    0.919271\n",
              "1    0.080729\n",
              "Name: TARGET, dtype: float64"
            ]
          },
          "metadata": {
            "tags": []
          },
          "execution_count": 11
        }
      ]
    },
    {
      "cell_type": "code",
      "metadata": {
        "id": "hdisk5Vqxbqb",
        "colab": {
          "base_uri": "https://localhost:8080/",
          "height": 296
        },
        "outputId": "32e07119-66cf-4dfe-dc08-daac6f3de93e"
      },
      "source": [
        "app_train['AMT_CREDIT'].hist() # 대출금액\n",
        "#plt.hist(app_train['AMT_INCOME_TOTAL'])"
      ],
      "execution_count": null,
      "outputs": [
        {
          "output_type": "execute_result",
          "data": {
            "text/plain": [
              "<matplotlib.axes._subplots.AxesSubplot at 0x7fe3fee62128>"
            ]
          },
          "metadata": {
            "tags": []
          },
          "execution_count": 12
        },
        {
          "output_type": "display_data",
          "data": {
            "image/png": "[encoded data removed]",
            "text/plain": [
              "<Figure size 432x288 with 1 Axes>"
            ]
          },
          "metadata": {
            "tags": [],
            "needs_background": "light"
          }
        }
      ]
    },
    {
      "cell_type": "code",
      "metadata": {
        "colab": {
          "base_uri": "https://localhost:8080/",
          "height": 364
        },
        "id": "tEYVnXA0Heal",
        "outputId": "65e1a393-cd69-4190-ba8a-31e386cdc5e5"
      },
      "source": [
        "sns.distplot(app_train['AMT_CREDIT'])"
      ],
      "execution_count": null,
      "outputs": [
        {
          "output_type": "stream",
          "text": [
            "/usr/local/lib/python3.6/dist-packages/seaborn/distributions.py:2551: FutureWarning: `distplot` is a deprecated function and will be removed in a future version. Please adapt your code to use either `displot` (a figure-level function with similar flexibility) or `histplot` (an axes-level function for histograms).\n",
            "  warnings.warn(msg, FutureWarning)\n"
          ],
          "name": "stderr"
        },
        {
          "output_type": "execute_result",
          "data": {
            "text/plain": [
              "<matplotlib.axes._subplots.AxesSubplot at 0x7fe3feda4f98>"
            ]
          },
          "metadata": {
            "tags": []
          },
          "execution_count": 13
        },
        {
          "output_type": "display_data",
          "data": {
            "image/png": "[encoded data removed]",
            "text/plain": [
              "<Figure size 432x288 with 1 Axes>"
            ]
          },
          "metadata": {
            "tags": [],
            "needs_background": "light"
          }
        }
      ]
    },
    {
      "cell_type": "code",
      "metadata": {
        "id": "k4t-EYT3xbqj",
        "colab": {
          "base_uri": "https://localhost:8080/",
          "height": 364
        },
        "outputId": "e94d644a-e37a-401d-b514-a94baea822b2"
      },
      "source": [
        "# 대부분의 소득이 0근쳐에 치우쳐있다.\r\n",
        "# 1e8 까지나오는 것은 값이 1e8까지 있다는 것이다\r\n",
        "sns.distplot(app_train['AMT_INCOME_TOTAL'])"
      ],
      "execution_count": null,
      "outputs": [
        {
          "output_type": "stream",
          "text": [
            "/usr/local/lib/python3.6/dist-packages/seaborn/distributions.py:2551: FutureWarning: `distplot` is a deprecated function and will be removed in a future version. Please adapt your code to use either `displot` (a figure-level function with similar flexibility) or `histplot` (an axes-level function for histograms).\n",
            "  warnings.warn(msg, FutureWarning)\n"
          ],
          "name": "stderr"
        },
        {
          "output_type": "execute_result",
          "data": {
            "text/plain": [
              "<matplotlib.axes._subplots.AxesSubplot at 0x7fe3fbfc75f8>"
            ]
          },
          "metadata": {
            "tags": []
          },
          "execution_count": 14
        },
        {
          "output_type": "display_data",
          "data": {
            "image/png": "[encoded data removed]",
            "text/plain": [
              "<Figure size 432x288 with 1 Axes>"
            ]
          },
          "metadata": {
            "tags": [],
            "needs_background": "light"
          }
        }
      ]
    },
    {
      "cell_type": "code",
      "metadata": {
        "id": "rTlovs4axbqp",
        "colab": {
          "base_uri": "https://localhost:8080/",
          "height": 353
        },
        "outputId": "fb7af6aa-2dec-4e06-e4e6-d26b7e3f8e7b"
      },
      "source": [
        "# 대부분의 소득이 0 근쳐\r\n",
        "# 이상치값이 높다\r\n",
        "sns.boxplot(app_train['AMT_INCOME_TOTAL']) "
      ],
      "execution_count": null,
      "outputs": [
        {
          "output_type": "stream",
          "text": [
            "/usr/local/lib/python3.6/dist-packages/seaborn/_decorators.py:43: FutureWarning: Pass the following variable as a keyword arg: x. From version 0.12, the only valid positional argument will be `data`, and passing other arguments without an explicit keyword will result in an error or misinterpretation.\n",
            "  FutureWarning\n"
          ],
          "name": "stderr"
        },
        {
          "output_type": "execute_result",
          "data": {
            "text/plain": [
              "<matplotlib.axes._subplots.AxesSubplot at 0x7fe3fbebc940>"
            ]
          },
          "metadata": {
            "tags": []
          },
          "execution_count": 15
        },
        {
          "output_type": "display_data",
          "data": {
            "image/png": "[encoded data removed]",
            "text/plain": [
              "<Figure size 432x288 with 1 Axes>"
            ]
          },
          "metadata": {
            "tags": [],
            "needs_background": "light"
          }
        }
      ]
    },
    {
      "cell_type": "markdown",
      "metadata": {
        "id": "ml7TKXZ3xbqv"
      },
      "source": [
        "#### AMT_INCOME_TOTAL이 1000000 이하인 값에 대한 분포도 \n",
        "* boolean indexing으로 filtering 후 histogram 표현"
      ]
    },
    {
      "cell_type": "code",
      "metadata": {
        "colab": {
          "base_uri": "https://localhost:8080/"
        },
        "id": "9eBRQFYnJhb4",
        "outputId": "d6575539-d125-4c13-b305-16bff0ddf8a5"
      },
      "source": [
        "app_train['AMT_INCOME_TOTAL'] < 1000000 # 조건으로 사용"
      ],
      "execution_count": null,
      "outputs": [
        {
          "output_type": "execute_result",
          "data": {
            "text/plain": [
              "0         True\n",
              "1         True\n",
              "2         True\n",
              "3         True\n",
              "4         True\n",
              "          ... \n",
              "307506    True\n",
              "307507    True\n",
              "307508    True\n",
              "307509    True\n",
              "307510    True\n",
              "Name: AMT_INCOME_TOTAL, Length: 307511, dtype: bool"
            ]
          },
          "metadata": {
            "tags": []
          },
          "execution_count": 16
        }
      ]
    },
    {
      "cell_type": "code",
      "metadata": {
        "id": "Hj_EivZGxbqx",
        "colab": {
          "base_uri": "https://localhost:8080/",
          "height": 296
        },
        "outputId": "1d7a39d7-b123-4458-b4b9-ed36c953e0f0"
      },
      "source": [
        "# boolean indexing 으로 filtering 적용 \n",
        "# 조건이 True, False로 나온다.\n",
        "app_train[app_train['AMT_INCOME_TOTAL'] < 1000000]['AMT_INCOME_TOTAL'].hist()"
      ],
      "execution_count": null,
      "outputs": [
        {
          "output_type": "execute_result",
          "data": {
            "text/plain": [
              "<matplotlib.axes._subplots.AxesSubplot at 0x7fe3fbf80358>"
            ]
          },
          "metadata": {
            "tags": []
          },
          "execution_count": 17
        },
        {
          "output_type": "display_data",
          "data": {
            "image/png": "[encoded data removed]",
            "text/plain": [
              "<Figure size 432x288 with 1 Axes>"
            ]
          },
          "metadata": {
            "tags": [],
            "needs_background": "light"
          }
        }
      ]
    },
    {
      "cell_type": "code",
      "metadata": {
        "colab": {
          "base_uri": "https://localhost:8080/",
          "height": 296
        },
        "id": "H0czzkP7I_0Z",
        "outputId": "e0abceb5-f6a4-4488-8257-cbe9c5d95f43"
      },
      "source": [
        "# loc로도 접근 가능하다.\r\n",
        "app_train.loc[app_train['AMT_INCOME_TOTAL'] < 1000000 , 'AMT_INCOME_TOTAL'].hist()"
      ],
      "execution_count": null,
      "outputs": [
        {
          "output_type": "execute_result",
          "data": {
            "text/plain": [
              "<matplotlib.axes._subplots.AxesSubplot at 0x7fe3fbfc72b0>"
            ]
          },
          "metadata": {
            "tags": []
          },
          "execution_count": 18
        },
        {
          "output_type": "display_data",
          "data": {
            "image/png": "[encoded data removed]",
            "text/plain": [
              "<Figure size 432x288 with 1 Axes>"
            ]
          },
          "metadata": {
            "tags": [],
            "needs_background": "light"
          }
        }
      ]
    },
    {
      "cell_type": "code",
      "metadata": {
        "id": "SnKennsExbq3",
        "colab": {
          "base_uri": "https://localhost:8080/",
          "height": 364
        },
        "outputId": "c339e0ae-de6f-4a03-8136-f2f51df27c8c"
      },
      "source": [
        "# distplot으로 histogram 표현 \n",
        "sns.distplot(app_train[app_train['AMT_INCOME_TOTAL'] < 1000000]['AMT_INCOME_TOTAL'])"
      ],
      "execution_count": null,
      "outputs": [
        {
          "output_type": "stream",
          "text": [
            "/usr/local/lib/python3.6/dist-packages/seaborn/distributions.py:2551: FutureWarning: `distplot` is a deprecated function and will be removed in a future version. Please adapt your code to use either `displot` (a figure-level function with similar flexibility) or `histplot` (an axes-level function for histograms).\n",
            "  warnings.warn(msg, FutureWarning)\n"
          ],
          "name": "stderr"
        },
        {
          "output_type": "execute_result",
          "data": {
            "text/plain": [
              "<matplotlib.axes._subplots.AxesSubplot at 0x7fe3fbde3ba8>"
            ]
          },
          "metadata": {
            "tags": []
          },
          "execution_count": 19
        },
        {
          "output_type": "display_data",
          "data": {
            "image/png": "[encoded data removed]",
            "text/plain": [
              "<Figure size 432x288 with 1 Axes>"
            ]
          },
          "metadata": {
            "tags": [],
            "needs_background": "light"
          }
        }
      ]
    },
    {
      "cell_type": "markdown",
      "metadata": {
        "id": "edktUyp6xbq-"
      },
      "source": [
        "#### TARGET 값에 따른 AMT_INCOME_TOTAL값 분포도 비교\n",
        "* distplot과 violinplot 시각화\n",
        "* plt.subplots() 기반으로 seaborn의 distplot과 violinplot으로 분포도 비교 시각화"
      ]
    },
    {
      "cell_type": "code",
      "metadata": {
        "id": "ip0jLqZKBMiS",
        "colab": {
          "base_uri": "https://localhost:8080/",
          "height": 399
        },
        "outputId": "0ffb072f-45ec-404c-d234-9f25bba6514a"
      },
      "source": [
        "fig, ax = plt.subplots(1,2)\r\n",
        "# 조건에 대한 공부가 더 필요하다\r\n",
        "sns.distplot(app_train[(app_train['TARGET'] == 0) & (app_train['AMT_INCOME_TOTAL'] < 500000)]['AMT_INCOME_TOTAL'], ax=ax[0])\r\n",
        "sns.distplot(app_train[(app_train['TARGET'] == 1) & (app_train['AMT_INCOME_TOTAL'] < 500000)]['AMT_INCOME_TOTAL'], ax=ax[0])\r\n",
        "sns.violinplot(data= app_train[app_train['AMT_INCOME_TOTAL'] < 500000], x= 'TARGET', y= 'AMT_INCOME_TOTAL' )"
      ],
      "execution_count": null,
      "outputs": [
        {
          "output_type": "stream",
          "text": [
            "/usr/local/lib/python3.6/dist-packages/seaborn/distributions.py:2551: FutureWarning: `distplot` is a deprecated function and will be removed in a future version. Please adapt your code to use either `displot` (a figure-level function with similar flexibility) or `histplot` (an axes-level function for histograms).\n",
            "  warnings.warn(msg, FutureWarning)\n",
            "/usr/local/lib/python3.6/dist-packages/seaborn/distributions.py:2551: FutureWarning: `distplot` is a deprecated function and will be removed in a future version. Please adapt your code to use either `displot` (a figure-level function with similar flexibility) or `histplot` (an axes-level function for histograms).\n",
            "  warnings.warn(msg, FutureWarning)\n"
          ],
          "name": "stderr"
        },
        {
          "output_type": "execute_result",
          "data": {
            "text/plain": [
              "<matplotlib.axes._subplots.AxesSubplot at 0x7fe3fbcadd68>"
            ]
          },
          "metadata": {
            "tags": []
          },
          "execution_count": 20
        },
        {
          "output_type": "display_data",
          "data": {
            "image/png": "[encoded data removed]",
            "text/plain": [
              "<Figure size 432x288 with 2 Axes>"
            ]
          },
          "metadata": {
            "tags": [],
            "needs_background": "light"
          }
        }
      ]
    },
    {
      "cell_type": "code",
      "metadata": {
        "id": "8-WArg8vBM_X",
        "colab": {
          "base_uri": "https://localhost:8080/",
          "height": 399
        },
        "outputId": "6e360f89-9bda-4c76-9e42-cb550bed554f"
      },
      "source": [
        "# 조건을 변수로 정하는 것도 좋은 방법이다.\r\n",
        "cond1 = app_train['TARGET'] == 1\r\n",
        "cond0 = app_train['TARGET'] == 0\r\n",
        "cond_amt = (app_train['AMT_INCOME_TOTAL'] < 500000)\r\n",
        "\r\n",
        "sns.distplot(app_train[cond0 & cond_amt]['AMT_INCOME_TOTAL'], label='0', color='red')\r\n",
        "sns.distplot(app_train[cond1 & cond_amt]['AMT_INCOME_TOTAL'], label='1', color='blue')"
      ],
      "execution_count": null,
      "outputs": [
        {
          "output_type": "stream",
          "text": [
            "/usr/local/lib/python3.6/dist-packages/seaborn/distributions.py:2551: FutureWarning: `distplot` is a deprecated function and will be removed in a future version. Please adapt your code to use either `displot` (a figure-level function with similar flexibility) or `histplot` (an axes-level function for histograms).\n",
            "  warnings.warn(msg, FutureWarning)\n",
            "/usr/local/lib/python3.6/dist-packages/seaborn/distributions.py:2551: FutureWarning: `distplot` is a deprecated function and will be removed in a future version. Please adapt your code to use either `displot` (a figure-level function with similar flexibility) or `histplot` (an axes-level function for histograms).\n",
            "  warnings.warn(msg, FutureWarning)\n"
          ],
          "name": "stderr"
        },
        {
          "output_type": "execute_result",
          "data": {
            "text/plain": [
              "<matplotlib.axes._subplots.AxesSubplot at 0x7fe3fbae1518>"
            ]
          },
          "metadata": {
            "tags": []
          },
          "execution_count": 21
        },
        {
          "output_type": "display_data",
          "data": {
            "image/png": "[encoded data removed]",
            "text/plain": [
              "<Figure size 432x288 with 1 Axes>"
            ]
          },
          "metadata": {
            "tags": [],
            "needs_background": "light"
          }
        }
      ]
    },
    {
      "cell_type": "code",
      "metadata": {
        "id": "VnbBJMerBNum",
        "colab": {
          "base_uri": "https://localhost:8080/",
          "height": 297
        },
        "outputId": "cacd99fa-da13-4843-d24c-22786080129e"
      },
      "source": [
        "sns.violinplot(x='TARGET', y = 'AMT_INCOME_TOTAL', data = app_train[cond_amt])"
      ],
      "execution_count": null,
      "outputs": [
        {
          "output_type": "execute_result",
          "data": {
            "text/plain": [
              "<matplotlib.axes._subplots.AxesSubplot at 0x7fe3fbc902b0>"
            ]
          },
          "metadata": {
            "tags": []
          },
          "execution_count": 22
        },
        {
          "output_type": "display_data",
          "data": {
            "image/png": "[encoded data removed]",
            "text/plain": [
              "<Figure size 432x288 with 1 Axes>"
            ]
          },
          "metadata": {
            "tags": [],
            "needs_background": "light"
          }
        }
      ]
    },
    {
      "cell_type": "code",
      "metadata": {
        "id": "oFucn8U0BOX0",
        "colab": {
          "base_uri": "https://localhost:8080/",
          "height": 399
        },
        "outputId": "735b5508-0c3f-4992-c1ba-cb8218b379ab"
      },
      "source": [
        "cond1 = app_train['TARGET'] == 1\r\n",
        "cond0 = app_train['TARGET'] == 0\r\n",
        "cond_amt = (app_train['AMT_INCOME_TOTAL'] < 500000)\r\n",
        "\r\n",
        "fig, ax = plt.subplots(nrows=1,ncols=2, figsize=(12,4))\r\n",
        "\r\n",
        "sns.distplot(app_train[cond0 & cond_amt]['AMT_INCOME_TOTAL'], label='0', color='red', ax=ax[0])\r\n",
        "sns.distplot(app_train[cond1 & cond_amt]['AMT_INCOME_TOTAL'], label='1', color='blue', ax= ax[0])\r\n",
        "sns.violinplot(x='TARGET', y = 'AMT_INCOME_TOTAL', data = app_train[cond_amt], ax=ax[1])"
      ],
      "execution_count": null,
      "outputs": [
        {
          "output_type": "stream",
          "text": [
            "/usr/local/lib/python3.6/dist-packages/seaborn/distributions.py:2551: FutureWarning: `distplot` is a deprecated function and will be removed in a future version. Please adapt your code to use either `displot` (a figure-level function with similar flexibility) or `histplot` (an axes-level function for histograms).\n",
            "  warnings.warn(msg, FutureWarning)\n",
            "/usr/local/lib/python3.6/dist-packages/seaborn/distributions.py:2551: FutureWarning: `distplot` is a deprecated function and will be removed in a future version. Please adapt your code to use either `displot` (a figure-level function with similar flexibility) or `histplot` (an axes-level function for histograms).\n",
            "  warnings.warn(msg, FutureWarning)\n"
          ],
          "name": "stderr"
        },
        {
          "output_type": "execute_result",
          "data": {
            "text/plain": [
              "<matplotlib.axes._subplots.AxesSubplot at 0x7fe3fb8e7b00>"
            ]
          },
          "metadata": {
            "tags": []
          },
          "execution_count": 23
        },
        {
          "output_type": "display_data",
          "data": {
            "image/png": "[encoded data removed]",
            "text/plain": [
              "<Figure size 864x288 with 2 Axes>"
            ]
          },
          "metadata": {
            "tags": [],
            "needs_background": "light"
          }
        }
      ]
    },
    {
      "cell_type": "markdown",
      "metadata": {
        "id": "UeG9h64wxbrj"
      },
      "source": [
        "#### app_train과 app_test를 합쳐서 한번에 데이터 preprocessing 수행. "
      ]
    },
    {
      "cell_type": "code",
      "metadata": {
        "id": "V0knNuZIBZ0P",
        "colab": {
          "base_uri": "https://localhost:8080/"
        },
        "outputId": "b5e76ada-a056-4b35-ed02-0252c265ad5e"
      },
      "source": [
        "# 보통 리스트안에 넣어 관리하는데 이곳에선 concat으로 합친뒤 TARGET값 유무로 분리한다고 한다\r\n",
        "app_train.shape, app_test.shape"
      ],
      "execution_count": null,
      "outputs": [
        {
          "output_type": "execute_result",
          "data": {
            "text/plain": [
              "((307511, 122), (48744, 121))"
            ]
          },
          "metadata": {
            "tags": []
          },
          "execution_count": 25
        }
      ]
    },
    {
      "cell_type": "code",
      "metadata": {
        "colab": {
          "base_uri": "https://localhost:8080/"
        },
        "id": "oZ-GExCVbBuP",
        "outputId": "2991fbc3-6caa-4619-f488-99fbded9981c"
      },
      "source": [
        "apps = pd.concat([app_train, app_test])\r\n",
        "apps.shape"
      ],
      "execution_count": null,
      "outputs": [
        {
          "output_type": "execute_result",
          "data": {
            "text/plain": [
              "(356255, 122)"
            ]
          },
          "metadata": {
            "tags": []
          },
          "execution_count": 27
        }
      ]
    },
    {
      "cell_type": "code",
      "metadata": {
        "id": "YaojmLJjBadI",
        "colab": {
          "base_uri": "https://localhost:8080/"
        },
        "outputId": "2c07a765-cdc1-49c6-994c-a2cd9b3ecd24"
      },
      "source": [
        "apps['TARGET'].value_counts(dropna=False) # dropna=False를 주면 NaN값도 표시해준다"
      ],
      "execution_count": null,
      "outputs": [
        {
          "output_type": "execute_result",
          "data": {
            "text/plain": [
              "0.0    282686\n",
              "NaN     48744\n",
              "1.0     24825\n",
              "Name: TARGET, dtype: int64"
            ]
          },
          "metadata": {
            "tags": []
          },
          "execution_count": 29
        }
      ]
    },
    {
      "cell_type": "code",
      "metadata": {
        "id": "3ETrN0KpBahX"
      },
      "source": [
        ""
      ],
      "execution_count": null,
      "outputs": []
    },
    {
      "cell_type": "markdown",
      "metadata": {
        "id": "JVu1OYtdxbr7"
      },
      "source": [
        "#### Object feature들을 Label Encoding\n",
        "* label Encoding, one hot Encoding 모델의 성능에 그리 차이는 없다고한다\n",
        "* pandas의 factorize()를 이용"
      ]
    },
    {
      "cell_type": "code",
      "metadata": {
        "id": "vBXGnqjHBpyJ",
        "colab": {
          "base_uri": "https://localhost:8080/"
        },
        "outputId": "489a47ec-0ccf-4460-da7b-5292a7073ce3"
      },
      "source": [
        "apps.info()\r\n",
        "# object칼럼들이 16개가있다."
      ],
      "execution_count": null,
      "outputs": [
        {
          "output_type": "stream",
          "text": [
            "<class 'pandas.core.frame.DataFrame'>\n",
            "Int64Index: 356255 entries, 0 to 48743\n",
            "Columns: 122 entries, SK_ID_CURR to AMT_REQ_CREDIT_BUREAU_YEAR\n",
            "dtypes: float64(66), int64(40), object(16)\n",
            "memory usage: 334.3+ MB\n"
          ],
          "name": "stdout"
        }
      ]
    },
    {
      "cell_type": "code",
      "metadata": {
        "colab": {
          "base_uri": "https://localhost:8080/"
        },
        "id": "nVEDCdIKSzAI",
        "outputId": "1183d138-415c-4bb9-ab0e-da0aed95caa6"
      },
      "source": [
        "# object type들인 column들을 봐 보겠다.\r\n",
        "apps.dtypes # column들이 index가되고 type이 값이된다."
      ],
      "execution_count": null,
      "outputs": [
        {
          "output_type": "execute_result",
          "data": {
            "text/plain": [
              "SK_ID_CURR                      int64\n",
              "TARGET                        float64\n",
              "NAME_CONTRACT_TYPE             object\n",
              "CODE_GENDER                    object\n",
              "FLAG_OWN_CAR                   object\n",
              "                               ...   \n",
              "AMT_REQ_CREDIT_BUREAU_DAY     float64\n",
              "AMT_REQ_CREDIT_BUREAU_WEEK    float64\n",
              "AMT_REQ_CREDIT_BUREAU_MON     float64\n",
              "AMT_REQ_CREDIT_BUREAU_QRT     float64\n",
              "AMT_REQ_CREDIT_BUREAU_YEAR    float64\n",
              "Length: 122, dtype: object"
            ]
          },
          "metadata": {
            "tags": []
          },
          "execution_count": 33
        }
      ]
    },
    {
      "cell_type": "code",
      "metadata": {
        "colab": {
          "base_uri": "https://localhost:8080/"
        },
        "id": "hEtdxRoOTA5c",
        "outputId": "39dcb01e-c792-4aa8-90f4-54aed29d5874"
      },
      "source": [
        "# 조건안의 apps.dtypes 가 값으로 type을 반환한다\r\n",
        "object_features = apps.dtypes[apps.dtypes == 'object']\r\n",
        "object_features"
      ],
      "execution_count": null,
      "outputs": [
        {
          "output_type": "execute_result",
          "data": {
            "text/plain": [
              "NAME_CONTRACT_TYPE            object\n",
              "CODE_GENDER                   object\n",
              "FLAG_OWN_CAR                  object\n",
              "FLAG_OWN_REALTY               object\n",
              "NAME_TYPE_SUITE               object\n",
              "NAME_INCOME_TYPE              object\n",
              "NAME_EDUCATION_TYPE           object\n",
              "NAME_FAMILY_STATUS            object\n",
              "NAME_HOUSING_TYPE             object\n",
              "OCCUPATION_TYPE               object\n",
              "WEEKDAY_APPR_PROCESS_START    object\n",
              "ORGANIZATION_TYPE             object\n",
              "FONDKAPREMONT_MODE            object\n",
              "HOUSETYPE_MODE                object\n",
              "WALLSMATERIAL_MODE            object\n",
              "EMERGENCYSTATE_MODE           object\n",
              "dtype: object"
            ]
          },
          "metadata": {
            "tags": []
          },
          "execution_count": 35
        }
      ]
    },
    {
      "cell_type": "code",
      "metadata": {
        "colab": {
          "base_uri": "https://localhost:8080/"
        },
        "id": "38JbBfr3ThjS",
        "outputId": "14898ffb-ccb4-4d58-8fd5-394726efa1c3"
      },
      "source": [
        "object_columns = apps.dtypes[apps.dtypes=='object'].index.to_list() # 인덱스값만 list형태로 뽑았다\r\n",
        "object_columns"
      ],
      "execution_count": null,
      "outputs": [
        {
          "output_type": "execute_result",
          "data": {
            "text/plain": [
              "['NAME_CONTRACT_TYPE',\n",
              " 'CODE_GENDER',\n",
              " 'FLAG_OWN_CAR',\n",
              " 'FLAG_OWN_REALTY',\n",
              " 'NAME_TYPE_SUITE',\n",
              " 'NAME_INCOME_TYPE',\n",
              " 'NAME_EDUCATION_TYPE',\n",
              " 'NAME_FAMILY_STATUS',\n",
              " 'NAME_HOUSING_TYPE',\n",
              " 'OCCUPATION_TYPE',\n",
              " 'WEEKDAY_APPR_PROCESS_START',\n",
              " 'ORGANIZATION_TYPE',\n",
              " 'FONDKAPREMONT_MODE',\n",
              " 'HOUSETYPE_MODE',\n",
              " 'WALLSMATERIAL_MODE',\n",
              " 'EMERGENCYSTATE_MODE']"
            ]
          },
          "metadata": {
            "tags": []
          },
          "execution_count": 36
        }
      ]
    },
    {
      "cell_type": "code",
      "metadata": {
        "id": "ENShOmITBoR9",
        "colab": {
          "base_uri": "https://localhost:8080/"
        },
        "outputId": "4939abf8-1c57-4de2-b90e-09d86bff2755"
      },
      "source": [
        "# 원래 이렇게했는데 위의 방법도 좋은 것 같다.\r\n",
        "# object_feature = [column for column in apps.columns if apps[column].dtype == 'object']\r\n"
      ],
      "execution_count": null,
      "outputs": [
        {
          "output_type": "execute_result",
          "data": {
            "text/plain": [
              "['NAME_CONTRACT_TYPE',\n",
              " 'CODE_GENDER',\n",
              " 'FLAG_OWN_CAR',\n",
              " 'FLAG_OWN_REALTY',\n",
              " 'NAME_TYPE_SUITE',\n",
              " 'NAME_INCOME_TYPE',\n",
              " 'NAME_EDUCATION_TYPE',\n",
              " 'NAME_FAMILY_STATUS',\n",
              " 'NAME_HOUSING_TYPE',\n",
              " 'OCCUPATION_TYPE',\n",
              " 'WEEKDAY_APPR_PROCESS_START',\n",
              " 'ORGANIZATION_TYPE',\n",
              " 'FONDKAPREMONT_MODE',\n",
              " 'HOUSETYPE_MODE',\n",
              " 'WALLSMATERIAL_MODE',\n",
              " 'EMERGENCYSTATE_MODE']"
            ]
          },
          "metadata": {
            "tags": []
          },
          "execution_count": 32
        }
      ]
    },
    {
      "cell_type": "code",
      "metadata": {
        "id": "R7Gw8f52BoZO",
        "colab": {
          "base_uri": "https://localhost:8080/"
        },
        "outputId": "db0a0971-b9d5-4f33-ac19-e4f2dddddba7"
      },
      "source": [
        "# 이제 factorize()함수로 label Encoding을 해보겠다.\r\n",
        "\r\n",
        "# CODE_GENDER의 값들을 보겠다.\r\n",
        "print(apps['CODE_GENDER'].value_counts())\r\n",
        "print()\r\n",
        "\r\n",
        "# label인코딩 할 feature를 넣으면 label Encoding값과 인덱스로 원래 object값을 반환한다\r\n",
        "pd.factorize(apps['CODE_GENDER'])"
      ],
      "execution_count": null,
      "outputs": [
        {
          "output_type": "stream",
          "text": [
            "F      235126\n",
            "M      121125\n",
            "XNA         4\n",
            "Name: CODE_GENDER, dtype: int64\n",
            "\n"
          ],
          "name": "stdout"
        },
        {
          "output_type": "execute_result",
          "data": {
            "text/plain": [
              "(array([0, 1, 0, ..., 1, 0, 1]), Index(['M', 'F', 'XNA'], dtype='object'))"
            ]
          },
          "metadata": {
            "tags": []
          },
          "execution_count": 43
        }
      ]
    },
    {
      "cell_type": "code",
      "metadata": {
        "id": "gRarf81TBofW",
        "colab": {
          "base_uri": "https://localhost:8080/"
        },
        "outputId": "2153fb3e-8c10-4670-a516-1d46f3975f60"
      },
      "source": [
        "apps['CODE_GENDER'] = pd.factorize(apps['CODE_GENDER'])[0]\r\n",
        "apps['CODE_GENDER'].value_counts()"
      ],
      "execution_count": null,
      "outputs": [
        {
          "output_type": "execute_result",
          "data": {
            "text/plain": [
              "1    235126\n",
              "0    121125\n",
              "2         4\n",
              "Name: CODE_GENDER, dtype: int64"
            ]
          },
          "metadata": {
            "tags": []
          },
          "execution_count": 45
        }
      ]
    },
    {
      "cell_type": "code",
      "metadata": {
        "id": "AVfKJ41Nxbsa",
        "colab": {
          "base_uri": "https://localhost:8080/"
        },
        "outputId": "38830f59-0044-4eda-cf27-92f2214fbcd4"
      },
      "source": [
        "apps.info()"
      ],
      "execution_count": null,
      "outputs": [
        {
          "output_type": "stream",
          "text": [
            "<class 'pandas.core.frame.DataFrame'>\n",
            "Int64Index: 356255 entries, 0 to 48743\n",
            "Columns: 122 entries, SK_ID_CURR to AMT_REQ_CREDIT_BUREAU_YEAR\n",
            "dtypes: float64(66), int64(41), object(15)\n",
            "memory usage: 334.3+ MB\n"
          ],
          "name": "stdout"
        }
      ]
    },
    {
      "cell_type": "code",
      "metadata": {
        "colab": {
          "base_uri": "https://localhost:8080/"
        },
        "id": "pYQSehuTV7zz",
        "outputId": "edfd5c94-a25b-4473-e39a-8201b6615d92"
      },
      "source": [
        "# factorize함수를 하나의 column만 받을 수 있어서 루프문을 활용해야한다\r\n",
        "for col in object_columns:\r\n",
        "  apps[col] = pd.factorize(apps[col])[0]\r\n",
        "\r\n",
        "apps.info()"
      ],
      "execution_count": null,
      "outputs": [
        {
          "output_type": "stream",
          "text": [
            "<class 'pandas.core.frame.DataFrame'>\n",
            "Int64Index: 356255 entries, 0 to 48743\n",
            "Columns: 122 entries, SK_ID_CURR to AMT_REQ_CREDIT_BUREAU_YEAR\n",
            "dtypes: float64(66), int64(56)\n",
            "memory usage: 334.3 MB\n"
          ],
          "name": "stdout"
        }
      ]
    },
    {
      "cell_type": "markdown",
      "metadata": {
        "id": "zAAl4Sj2xbsf"
      },
      "source": [
        "#### Null값 일괄 변환"
      ]
    },
    {
      "cell_type": "code",
      "metadata": {
        "id": "YGHIWkAdxbsg",
        "colab": {
          "base_uri": "https://localhost:8080/"
        },
        "outputId": "10f97077-363d-4930-c49c-1199d638babd"
      },
      "source": [
        "apps.isnull().sum().head(122) # null값이 매우많다"
      ],
      "execution_count": null,
      "outputs": [
        {
          "output_type": "execute_result",
          "data": {
            "text/plain": [
              "SK_ID_CURR                           0\n",
              "TARGET                           48744\n",
              "NAME_CONTRACT_TYPE                   0\n",
              "CODE_GENDER                          0\n",
              "FLAG_OWN_CAR                         0\n",
              "FLAG_OWN_REALTY                      0\n",
              "CNT_CHILDREN                         0\n",
              "AMT_INCOME_TOTAL                     0\n",
              "AMT_CREDIT                           0\n",
              "AMT_ANNUITY                         36\n",
              "AMT_GOODS_PRICE                    278\n",
              "NAME_TYPE_SUITE                      0\n",
              "NAME_INCOME_TYPE                     0\n",
              "NAME_EDUCATION_TYPE                  0\n",
              "NAME_FAMILY_STATUS                   0\n",
              "NAME_HOUSING_TYPE                    0\n",
              "REGION_POPULATION_RELATIVE           0\n",
              "DAYS_BIRTH                           0\n",
              "DAYS_EMPLOYED                        0\n",
              "DAYS_REGISTRATION                    0\n",
              "DAYS_ID_PUBLISH                      0\n",
              "OWN_CAR_AGE                     235241\n",
              "FLAG_MOBIL                           0\n",
              "FLAG_EMP_PHONE                       0\n",
              "FLAG_WORK_PHONE                      0\n",
              "FLAG_CONT_MOBILE                     0\n",
              "FLAG_PHONE                           0\n",
              "FLAG_EMAIL                           0\n",
              "OCCUPATION_TYPE                      0\n",
              "CNT_FAM_MEMBERS                      2\n",
              "REGION_RATING_CLIENT                 0\n",
              "REGION_RATING_CLIENT_W_CITY          0\n",
              "WEEKDAY_APPR_PROCESS_START           0\n",
              "HOUR_APPR_PROCESS_START              0\n",
              "REG_REGION_NOT_LIVE_REGION           0\n",
              "REG_REGION_NOT_WORK_REGION           0\n",
              "LIVE_REGION_NOT_WORK_REGION          0\n",
              "REG_CITY_NOT_LIVE_CITY               0\n",
              "REG_CITY_NOT_WORK_CITY               0\n",
              "LIVE_CITY_NOT_WORK_CITY              0\n",
              "ORGANIZATION_TYPE                    0\n",
              "EXT_SOURCE_1                    193910\n",
              "EXT_SOURCE_2                       668\n",
              "EXT_SOURCE_3                     69633\n",
              "APARTMENTS_AVG                  179948\n",
              "BASEMENTAREA_AVG                207584\n",
              "YEARS_BEGINEXPLUATATION_AVG     172863\n",
              "YEARS_BUILD_AVG                 236306\n",
              "COMMONAREA_AVG                  248360\n",
              "ELEVATORS_AVG                   189080\n",
              "ENTRANCES_AVG                   178407\n",
              "FLOORSMAX_AVG                   176341\n",
              "FLOORSMIN_AVG                   241108\n",
              "LANDAREA_AVG                    210844\n",
              "LIVINGAPARTMENTS_AVG            242979\n",
              "LIVINGAREA_AVG                  177902\n",
              "NONLIVINGAPARTMENTS_AVG         246861\n",
              "NONLIVINGAREA_AVG               195766\n",
              "APARTMENTS_MODE                 179948\n",
              "BASEMENTAREA_MODE               207584\n",
              "YEARS_BEGINEXPLUATATION_MODE    172863\n",
              "YEARS_BUILD_MODE                236306\n",
              "COMMONAREA_MODE                 248360\n",
              "ELEVATORS_MODE                  189080\n",
              "ENTRANCES_MODE                  178407\n",
              "FLOORSMAX_MODE                  176341\n",
              "FLOORSMIN_MODE                  241108\n",
              "LANDAREA_MODE                   210844\n",
              "LIVINGAPARTMENTS_MODE           242979\n",
              "LIVINGAREA_MODE                 177902\n",
              "NONLIVINGAPARTMENTS_MODE        246861\n",
              "NONLIVINGAREA_MODE              195766\n",
              "APARTMENTS_MEDI                 179948\n",
              "BASEMENTAREA_MEDI               207584\n",
              "YEARS_BEGINEXPLUATATION_MEDI    172863\n",
              "YEARS_BUILD_MEDI                236306\n",
              "COMMONAREA_MEDI                 248360\n",
              "ELEVATORS_MEDI                  189080\n",
              "ENTRANCES_MEDI                  178407\n",
              "FLOORSMAX_MEDI                  176341\n",
              "FLOORSMIN_MEDI                  241108\n",
              "LANDAREA_MEDI                   210844\n",
              "LIVINGAPARTMENTS_MEDI           242979\n",
              "LIVINGAREA_MEDI                 177902\n",
              "NONLIVINGAPARTMENTS_MEDI        246861\n",
              "NONLIVINGAREA_MEDI              195766\n",
              "FONDKAPREMONT_MODE                   0\n",
              "HOUSETYPE_MODE                       0\n",
              "TOTALAREA_MODE                  171055\n",
              "WALLSMATERIAL_MODE                   0\n",
              "EMERGENCYSTATE_MODE                  0\n",
              "OBS_30_CNT_SOCIAL_CIRCLE          1050\n",
              "DEF_30_CNT_SOCIAL_CIRCLE          1050\n",
              "OBS_60_CNT_SOCIAL_CIRCLE          1050\n",
              "DEF_60_CNT_SOCIAL_CIRCLE          1050\n",
              "DAYS_LAST_PHONE_CHANGE               1\n",
              "FLAG_DOCUMENT_2                      0\n",
              "FLAG_DOCUMENT_3                      0\n",
              "FLAG_DOCUMENT_4                      0\n",
              "FLAG_DOCUMENT_5                      0\n",
              "FLAG_DOCUMENT_6                      0\n",
              "FLAG_DOCUMENT_7                      0\n",
              "FLAG_DOCUMENT_8                      0\n",
              "FLAG_DOCUMENT_9                      0\n",
              "FLAG_DOCUMENT_10                     0\n",
              "FLAG_DOCUMENT_11                     0\n",
              "FLAG_DOCUMENT_12                     0\n",
              "FLAG_DOCUMENT_13                     0\n",
              "FLAG_DOCUMENT_14                     0\n",
              "FLAG_DOCUMENT_15                     0\n",
              "FLAG_DOCUMENT_16                     0\n",
              "FLAG_DOCUMENT_17                     0\n",
              "FLAG_DOCUMENT_18                     0\n",
              "FLAG_DOCUMENT_19                     0\n",
              "FLAG_DOCUMENT_20                     0\n",
              "FLAG_DOCUMENT_21                     0\n",
              "AMT_REQ_CREDIT_BUREAU_HOUR       47568\n",
              "AMT_REQ_CREDIT_BUREAU_DAY        47568\n",
              "AMT_REQ_CREDIT_BUREAU_WEEK       47568\n",
              "AMT_REQ_CREDIT_BUREAU_MON        47568\n",
              "AMT_REQ_CREDIT_BUREAU_QRT        47568\n",
              "AMT_REQ_CREDIT_BUREAU_YEAR       47568\n",
              "dtype: int64"
            ]
          },
          "metadata": {
            "tags": []
          },
          "execution_count": 52
        }
      ]
    },
    {
      "cell_type": "code",
      "metadata": {
        "id": "JS0pKwiRxbsm"
      },
      "source": [
        "# -999로 모든 컬럼들의 Null값 변환\n",
        "# xgboost lightGBM 들은 Null값도 감안해서 모델을 만들어준다. 일단 바꿈\n",
        "apps = apps.fillna(-999)"
      ],
      "execution_count": null,
      "outputs": []
    },
    {
      "cell_type": "code",
      "metadata": {
        "id": "MvMxmOHbxbsw",
        "colab": {
          "base_uri": "https://localhost:8080/"
        },
        "outputId": "bb19d1d5-096f-42d3-a0ef-116ae2625ba6"
      },
      "source": [
        "apps.isnull().sum().head(122)"
      ],
      "execution_count": null,
      "outputs": [
        {
          "output_type": "execute_result",
          "data": {
            "text/plain": [
              "SK_ID_CURR                      0\n",
              "TARGET                          0\n",
              "NAME_CONTRACT_TYPE              0\n",
              "CODE_GENDER                     0\n",
              "FLAG_OWN_CAR                    0\n",
              "FLAG_OWN_REALTY                 0\n",
              "CNT_CHILDREN                    0\n",
              "AMT_INCOME_TOTAL                0\n",
              "AMT_CREDIT                      0\n",
              "AMT_ANNUITY                     0\n",
              "AMT_GOODS_PRICE                 0\n",
              "NAME_TYPE_SUITE                 0\n",
              "NAME_INCOME_TYPE                0\n",
              "NAME_EDUCATION_TYPE             0\n",
              "NAME_FAMILY_STATUS              0\n",
              "NAME_HOUSING_TYPE               0\n",
              "REGION_POPULATION_RELATIVE      0\n",
              "DAYS_BIRTH                      0\n",
              "DAYS_EMPLOYED                   0\n",
              "DAYS_REGISTRATION               0\n",
              "DAYS_ID_PUBLISH                 0\n",
              "OWN_CAR_AGE                     0\n",
              "FLAG_MOBIL                      0\n",
              "FLAG_EMP_PHONE                  0\n",
              "FLAG_WORK_PHONE                 0\n",
              "FLAG_CONT_MOBILE                0\n",
              "FLAG_PHONE                      0\n",
              "FLAG_EMAIL                      0\n",
              "OCCUPATION_TYPE                 0\n",
              "CNT_FAM_MEMBERS                 0\n",
              "REGION_RATING_CLIENT            0\n",
              "REGION_RATING_CLIENT_W_CITY     0\n",
              "WEEKDAY_APPR_PROCESS_START      0\n",
              "HOUR_APPR_PROCESS_START         0\n",
              "REG_REGION_NOT_LIVE_REGION      0\n",
              "REG_REGION_NOT_WORK_REGION      0\n",
              "LIVE_REGION_NOT_WORK_REGION     0\n",
              "REG_CITY_NOT_LIVE_CITY          0\n",
              "REG_CITY_NOT_WORK_CITY          0\n",
              "LIVE_CITY_NOT_WORK_CITY         0\n",
              "ORGANIZATION_TYPE               0\n",
              "EXT_SOURCE_1                    0\n",
              "EXT_SOURCE_2                    0\n",
              "EXT_SOURCE_3                    0\n",
              "APARTMENTS_AVG                  0\n",
              "BASEMENTAREA_AVG                0\n",
              "YEARS_BEGINEXPLUATATION_AVG     0\n",
              "YEARS_BUILD_AVG                 0\n",
              "COMMONAREA_AVG                  0\n",
              "ELEVATORS_AVG                   0\n",
              "ENTRANCES_AVG                   0\n",
              "FLOORSMAX_AVG                   0\n",
              "FLOORSMIN_AVG                   0\n",
              "LANDAREA_AVG                    0\n",
              "LIVINGAPARTMENTS_AVG            0\n",
              "LIVINGAREA_AVG                  0\n",
              "NONLIVINGAPARTMENTS_AVG         0\n",
              "NONLIVINGAREA_AVG               0\n",
              "APARTMENTS_MODE                 0\n",
              "BASEMENTAREA_MODE               0\n",
              "YEARS_BEGINEXPLUATATION_MODE    0\n",
              "YEARS_BUILD_MODE                0\n",
              "COMMONAREA_MODE                 0\n",
              "ELEVATORS_MODE                  0\n",
              "ENTRANCES_MODE                  0\n",
              "FLOORSMAX_MODE                  0\n",
              "FLOORSMIN_MODE                  0\n",
              "LANDAREA_MODE                   0\n",
              "LIVINGAPARTMENTS_MODE           0\n",
              "LIVINGAREA_MODE                 0\n",
              "NONLIVINGAPARTMENTS_MODE        0\n",
              "NONLIVINGAREA_MODE              0\n",
              "APARTMENTS_MEDI                 0\n",
              "BASEMENTAREA_MEDI               0\n",
              "YEARS_BEGINEXPLUATATION_MEDI    0\n",
              "YEARS_BUILD_MEDI                0\n",
              "COMMONAREA_MEDI                 0\n",
              "ELEVATORS_MEDI                  0\n",
              "ENTRANCES_MEDI                  0\n",
              "FLOORSMAX_MEDI                  0\n",
              "FLOORSMIN_MEDI                  0\n",
              "LANDAREA_MEDI                   0\n",
              "LIVINGAPARTMENTS_MEDI           0\n",
              "LIVINGAREA_MEDI                 0\n",
              "NONLIVINGAPARTMENTS_MEDI        0\n",
              "NONLIVINGAREA_MEDI              0\n",
              "FONDKAPREMONT_MODE              0\n",
              "HOUSETYPE_MODE                  0\n",
              "TOTALAREA_MODE                  0\n",
              "WALLSMATERIAL_MODE              0\n",
              "EMERGENCYSTATE_MODE             0\n",
              "OBS_30_CNT_SOCIAL_CIRCLE        0\n",
              "DEF_30_CNT_SOCIAL_CIRCLE        0\n",
              "OBS_60_CNT_SOCIAL_CIRCLE        0\n",
              "DEF_60_CNT_SOCIAL_CIRCLE        0\n",
              "DAYS_LAST_PHONE_CHANGE          0\n",
              "FLAG_DOCUMENT_2                 0\n",
              "FLAG_DOCUMENT_3                 0\n",
              "FLAG_DOCUMENT_4                 0\n",
              "FLAG_DOCUMENT_5                 0\n",
              "FLAG_DOCUMENT_6                 0\n",
              "FLAG_DOCUMENT_7                 0\n",
              "FLAG_DOCUMENT_8                 0\n",
              "FLAG_DOCUMENT_9                 0\n",
              "FLAG_DOCUMENT_10                0\n",
              "FLAG_DOCUMENT_11                0\n",
              "FLAG_DOCUMENT_12                0\n",
              "FLAG_DOCUMENT_13                0\n",
              "FLAG_DOCUMENT_14                0\n",
              "FLAG_DOCUMENT_15                0\n",
              "FLAG_DOCUMENT_16                0\n",
              "FLAG_DOCUMENT_17                0\n",
              "FLAG_DOCUMENT_18                0\n",
              "FLAG_DOCUMENT_19                0\n",
              "FLAG_DOCUMENT_20                0\n",
              "FLAG_DOCUMENT_21                0\n",
              "AMT_REQ_CREDIT_BUREAU_HOUR      0\n",
              "AMT_REQ_CREDIT_BUREAU_DAY       0\n",
              "AMT_REQ_CREDIT_BUREAU_WEEK      0\n",
              "AMT_REQ_CREDIT_BUREAU_MON       0\n",
              "AMT_REQ_CREDIT_BUREAU_QRT       0\n",
              "AMT_REQ_CREDIT_BUREAU_YEAR      0\n",
              "dtype: int64"
            ]
          },
          "metadata": {
            "tags": []
          },
          "execution_count": 55
        }
      ]
    },
    {
      "cell_type": "markdown",
      "metadata": {
        "id": "Ac3Vzh0ixbs1"
      },
      "source": [
        "#### 학습 데이터와 테스트 데이터 다시 분리"
      ]
    },
    {
      "cell_type": "code",
      "metadata": {
        "id": "UmX715Lmxbs2",
        "colab": {
          "base_uri": "https://localhost:8080/"
        },
        "outputId": "79a1421f-9980-4787-d0bf-d958f80163f9"
      },
      "source": [
        "app_train = apps[apps['TARGET'] != -999]\r\n",
        "app_test = apps[apps['TARGET'] == -999]\r\n",
        "\r\n",
        "app_test.drop('TARGET', axis=1, inplace = True) # 바로반영\r\n",
        "# app_test = app_test.drop('TARGET', axis=1, inplace = False) # 도 가능\r\n",
        "\r\n",
        "app_train.shape, app_test.shape"
      ],
      "execution_count": null,
      "outputs": [
        {
          "output_type": "stream",
          "text": [
            "/usr/local/lib/python3.6/dist-packages/pandas/core/frame.py:4174: SettingWithCopyWarning: \n",
            "A value is trying to be set on a copy of a slice from a DataFrame\n",
            "\n",
            "See the caveats in the documentation: https://pandas.pydata.org/pandas-docs/stable/user_guide/indexing.html#returning-a-view-versus-a-copy\n",
            "  errors=errors,\n"
          ],
          "name": "stderr"
        },
        {
          "output_type": "execute_result",
          "data": {
            "text/plain": [
              "((307511, 122), (48744, 121))"
            ]
          },
          "metadata": {
            "tags": []
          },
          "execution_count": 57
        }
      ]
    },
    {
      "cell_type": "markdown",
      "metadata": {
        "id": "4AnTWNzqxbtG"
      },
      "source": [
        "#### 학습 데이터를 검증 데이터로 분리하고 LGBM Classifier로 학습 수행. \n",
        "* 피처용 데이터와 타겟 데이터 분리\n",
        "* 학습용/검증용 데이터 세트 분리"
      ]
    },
    {
      "cell_type": "code",
      "metadata": {
        "id": "KUs1TLaLxbtG"
      },
      "source": [
        "# SK_ID_CURR은 고유ID\r\n",
        "ftr_app = app_train.drop(['SK_ID_CURR', 'TARGET'], axis = 1, inplace=False)\r\n",
        "target_app = app_train['TARGET']"
      ],
      "execution_count": null,
      "outputs": []
    },
    {
      "cell_type": "code",
      "metadata": {
        "id": "zG7qLmsBxbtK",
        "colab": {
          "base_uri": "https://localhost:8080/"
        },
        "outputId": "77cebad7-c4f9-4ab8-c535-0120bd084a69"
      },
      "source": [
        "from sklearn.model_selection import train_test_split\r\n",
        "\r\n",
        "train_x, valid_x, train_y, valid_y = train_test_split(ftr_app, target_app, test_size = 0.3, random_state = 42)\r\n",
        "train_x.shape, valid_x.shape"
      ],
      "execution_count": null,
      "outputs": [
        {
          "output_type": "execute_result",
          "data": {
            "text/plain": [
              "((215257, 120), (92254, 120))"
            ]
          },
          "metadata": {
            "tags": []
          },
          "execution_count": 61
        }
      ]
    },
    {
      "cell_type": "code",
      "metadata": {
        "id": "wJnLCZEsxbtR",
        "colab": {
          "base_uri": "https://localhost:8080/"
        },
        "outputId": "0e84f6eb-b820-4170-d878-aa58dfc397f2"
      },
      "source": [
        "from lightgbm import LGBMClassifier\n",
        "\n",
        "clf = LGBMClassifier(\n",
        "        n_jobs=-1,\n",
        "        n_estimators=1000,\n",
        "        learning_rate=0.02,\n",
        "        num_leaves=32,\n",
        "        subsample=0.8,\n",
        "        max_depth=12,\n",
        "        silent=-1,\n",
        "        verbose=-1\n",
        "        )\n",
        "\n",
        "# 검증데이터를 early_stopping에 이용한다\n",
        "clf.fit(train_x, train_y, eval_set=[(train_x, train_y), (valid_x, valid_y)], \n",
        "eval_metric= 'auc', verbose= 100, early_stopping_rounds= 50)\n"
      ],
      "execution_count": null,
      "outputs": [
        {
          "output_type": "stream",
          "text": [
            "Training until validation scores don't improve for 50 rounds.\n",
            "[100]\ttraining's auc: 0.75225\ttraining's binary_logloss: 0.250332\tvalid_1's auc: 0.740872\tvalid_1's binary_logloss: 0.251858\n",
            "[200]\ttraining's auc: 0.771524\ttraining's binary_logloss: 0.243653\tvalid_1's auc: 0.751551\tvalid_1's binary_logloss: 0.247887\n",
            "[300]\ttraining's auc: 0.78527\ttraining's binary_logloss: 0.239394\tvalid_1's auc: 0.755899\tvalid_1's binary_logloss: 0.246415\n",
            "[400]\ttraining's auc: 0.796899\ttraining's binary_logloss: 0.235954\tvalid_1's auc: 0.757394\tvalid_1's binary_logloss: 0.245897\n",
            "[500]\ttraining's auc: 0.806535\ttraining's binary_logloss: 0.233061\tvalid_1's auc: 0.75813\tvalid_1's binary_logloss: 0.245648\n",
            "[600]\ttraining's auc: 0.815212\ttraining's binary_logloss: 0.230364\tvalid_1's auc: 0.758486\tvalid_1's binary_logloss: 0.245532\n",
            "[700]\ttraining's auc: 0.823391\ttraining's binary_logloss: 0.227805\tvalid_1's auc: 0.758684\tvalid_1's binary_logloss: 0.24546\n",
            "[800]\ttraining's auc: 0.831119\ttraining's binary_logloss: 0.225322\tvalid_1's auc: 0.75886\tvalid_1's binary_logloss: 0.245405\n",
            "Early stopping, best iteration is:\n",
            "[810]\ttraining's auc: 0.831787\ttraining's binary_logloss: 0.225097\tvalid_1's auc: 0.758896\tvalid_1's binary_logloss: 0.245389\n"
          ],
          "name": "stdout"
        },
        {
          "output_type": "execute_result",
          "data": {
            "text/plain": [
              "LGBMClassifier(boosting_type='gbdt', class_weight=None, colsample_bytree=1.0,\n",
              "               importance_type='split', learning_rate=0.02, max_depth=12,\n",
              "               min_child_samples=20, min_child_weight=0.001, min_split_gain=0.0,\n",
              "               n_estimators=1000, n_jobs=-1, num_leaves=32, objective=None,\n",
              "               random_state=None, reg_alpha=0.0, reg_lambda=0.0, silent=-1,\n",
              "               subsample=0.8, subsample_for_bin=200000, subsample_freq=0,\n",
              "               verbose=-1)"
            ]
          },
          "metadata": {
            "tags": []
          },
          "execution_count": 62
        }
      ]
    },
    {
      "cell_type": "markdown",
      "metadata": {
        "id": "i1exKUgfxbtY"
      },
      "source": [
        "##### Feature importance 시각화 "
      ]
    },
    {
      "cell_type": "code",
      "metadata": {
        "id": "HClNuyQgxbtZ",
        "colab": {
          "base_uri": "https://localhost:8080/",
          "height": 1000
        },
        "outputId": "f0c1b819-ccf3-41d1-d9a3-c750c2059251"
      },
      "source": [
        "from lightgbm import plot_importance\n",
        "\n",
        "plot_importance(clf, figsize=(16, 32))"
      ],
      "execution_count": null,
      "outputs": [
        {
          "output_type": "execute_result",
          "data": {
            "text/plain": [
              "<matplotlib.axes._subplots.AxesSubplot at 0x7fe3f9a37a58>"
            ]
          },
          "metadata": {
            "tags": []
          },
          "execution_count": 63
        },
        {
          "output_type": "display_data",
          "data": {
            "image/png": "[encoded data removed]",
            "text/plain": [
              "<Figure size 1152x2304 with 1 Axes>"
            ]
          },
          "metadata": {
            "tags": [],
            "needs_background": "light"
          }
        }
      ]
    },
    {
      "cell_type": "markdown",
      "metadata": {
        "id": "0sytTOoHxbte"
      },
      "source": [
        "#### 학습된 Classifier를 이용하여 테스트 데이터을 예측하고 결과를 Kaggle로 Submit 수행. "
      ]
    },
    {
      "cell_type": "markdown",
      "metadata": {
        "id": "WUXm57jvyKOJ"
      },
      "source": [
        "![image.png](data:image/png;base64,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)       \r\n",
        "같은 형태이다.     \r\n",
        "1일 확율만 넣으면 된다"
      ]
    },
    {
      "cell_type": "code",
      "metadata": {
        "id": "QNFzJDg6xbtf",
        "colab": {
          "base_uri": "https://localhost:8080/"
        },
        "outputId": "b8a0ae3b-647e-4768-b463-89a526e5e5f3"
      },
      "source": [
        "clf.predict_proba(app_test.drop(['SK_ID_CURR'], axis=1)) # 0일확율 1일 확율"
      ],
      "execution_count": null,
      "outputs": [
        {
          "output_type": "execute_result",
          "data": {
            "text/plain": [
              "array([[0.97029971, 0.02970029],\n",
              "       [0.88497527, 0.11502473],\n",
              "       [0.98249631, 0.01750369],\n",
              "       ...,\n",
              "       [0.96405974, 0.03594026],\n",
              "       [0.92878876, 0.07121124],\n",
              "       [0.82590368, 0.17409632]])"
            ]
          },
          "metadata": {
            "tags": []
          },
          "execution_count": 64
        }
      ]
    },
    {
      "cell_type": "code",
      "metadata": {
        "id": "vCoG0e_Pxbti"
      },
      "source": [
        "preds = clf.predict_proba(app_test.drop(['SK_ID_CURR'], axis=1))[:,1]"
      ],
      "execution_count": null,
      "outputs": []
    },
    {
      "cell_type": "code",
      "metadata": {
        "colab": {
          "base_uri": "https://localhost:8080/"
        },
        "id": "ef5UtpsXyekD",
        "outputId": "24484aa5-7bf2-4001-ea16-3bdb0ea8bd65"
      },
      "source": [
        "app_test['TARGET'] = preds\r\n",
        "app_test['TARGET'].head()"
      ],
      "execution_count": null,
      "outputs": [
        {
          "output_type": "stream",
          "text": [
            "/usr/local/lib/python3.6/dist-packages/ipykernel_launcher.py:1: SettingWithCopyWarning: \n",
            "A value is trying to be set on a copy of a slice from a DataFrame.\n",
            "Try using .loc[row_indexer,col_indexer] = value instead\n",
            "\n",
            "See the caveats in the documentation: https://pandas.pydata.org/pandas-docs/stable/user_guide/indexing.html#returning-a-view-versus-a-copy\n",
            "  \"\"\"Entry point for launching an IPython kernel.\n"
          ],
          "name": "stderr"
        },
        {
          "output_type": "execute_result",
          "data": {
            "text/plain": [
              "0    0.029700\n",
              "1    0.115025\n",
              "2    0.017504\n",
              "3    0.032209\n",
              "4    0.170065\n",
              "Name: TARGET, dtype: float64"
            ]
          },
          "metadata": {
            "tags": []
          },
          "execution_count": 67
        }
      ]
    },
    {
      "cell_type": "code",
      "metadata": {
        "id": "9feKHBkYzUD9"
      },
      "source": [
        "app_test[['SK_ID_CURR', 'TARGET']].to_csv('app_baseline_01.csv', index= False)\r\n",
        "#0.73964, 0.74299"
      ],
      "execution_count": null,
      "outputs": []
    },
    {
      "cell_type": "markdown",
      "metadata": {
        "id": "w4ujIeDuERxb"
      },
      "source": [
        "##### 코랩 버전은 Google Drive로 예측 결과 CSV를 생성."
      ]
    },
    {
      "cell_type": "code",
      "metadata": {
        "id": "IkCiRrXLxbtk"
      },
      "source": [
        "import os, sys \n",
        "from google.colab import drive \n",
        "\n",
        "drive.mount('/content/gdrive')"
      ],
      "execution_count": null,
      "outputs": []
    },
    {
      "cell_type": "code",
      "metadata": {
        "id": "3iI1-mNexbto"
      },
      "source": [
        "# SK_ID_CURR과 TARGET 값만 csv 형태로 생성. 코랩 버전은 구글 드라이브 절대 경로로 입력  \n",
        "default_dir = \"/content/gdrive/My Drive\"\n",
        "app_test[['SK_ID_CURR', 'TARGET']].to_csv(os.path.join(default_dir, 'app_baseline_01.csv'), index=False)"
      ],
      "execution_count": null,
      "outputs": []
    },
    {
      "cell_type": "code",
      "metadata": {
        "id": "R_CWbZMuxbtq"
      },
      "source": [
        "!ls \"/content/gdrive/My Drive\""
      ],
      "execution_count": null,
      "outputs": []
    }
  ]
}