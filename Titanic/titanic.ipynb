{
  "nbformat": 4,
  "nbformat_minor": 0,
  "metadata": {
    "colab": {
      "name": "titanic.ipynb",
      "provenance": [],
      "collapsed_sections": [],
      "toc_visible": true,
      "authorship_tag": "ABX9TyMLANAnwx3oaObro66rLwGx",
      "include_colab_link": true
    },
    "kernelspec": {
      "name": "python3",
      "display_name": "Python 3"
    }
  },
  "cells": [
    {
      "cell_type": "markdown",
      "metadata": {
        "id": "view-in-github",
        "colab_type": "text"
      },
      "source": [
        "<a href=\"https://colab.research.google.com/github/s1c5000/kaggle/blob/main/Titanic/titanic.ipynb\" target=\"_parent\"><img src=\"https://colab.research.google.com/assets/colab-badge.svg\" alt=\"Open In Colab\"/></a>"
      ]
    },
    {
      "cell_type": "code",
      "metadata": {
        "id": "Eqls9V-breo2"
      },
      "source": [
        "import pandas as pd\r\n",
        "import numpy as np\r\n",
        "import matplotlib.pyplot as plt\r\n",
        "import seaborn as sns\r\n",
        "\r\n",
        "plt.style.use('fivethirtyeight')\r\n",
        "import warnings\r\n",
        "warnings.filterwarnings('ignore')\r\n",
        "%matplotlib inline"
      ],
      "execution_count": null,
      "outputs": []
    },
    {
      "cell_type": "code",
      "metadata": {
        "colab": {
          "resources": {
            "http://localhost:8080/nbextensions/google.colab/files.js": {
              "data": "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",
              "ok": true,
              "headers": [
                [
                  "content-type",
                  "application/javascript"
                ]
              ],
              "status": 200,
              "status_text": ""
            }
          },
          "base_uri": "https://localhost:8080/",
          "height": 76
        },
        "id": "KT2gt7PWsUIz",
        "outputId": "07e50f35-11b8-4e98-e97c-89aefc24be68"
      },
      "source": [
        "from google.colab import files\r\n",
        "files.upload()\r\n",
        "\r\n",
        "!mkdir -p ~/.kaggle\r\n",
        "!cp kaggle.json ~/.kaggle/\r\n",
        "# Permission Warning 이 일어나지 않도록 \r\n",
        "!chmod 600 ~/.kaggle/kaggle.json"
      ],
      "execution_count": null,
      "outputs": [
        {
          "output_type": "display_data",
          "data": {
            "text/html": [
              "\n",
              "     <input type=\"file\" id=\"files-afcc485c-276e-47c8-be01-ebc5641f13cf\" name=\"files[]\" multiple disabled\n",
              "        style=\"border:none\" />\n",
              "     <output id=\"result-afcc485c-276e-47c8-be01-ebc5641f13cf\">\n",
              "      Upload widget is only available when the cell has been executed in the\n",
              "      current browser session. Please rerun this cell to enable.\n",
              "      </output>\n",
              "      <script src=\"/nbextensions/google.colab/files.js\"></script> "
            ],
            "text/plain": [
              "<IPython.core.display.HTML object>"
            ]
          },
          "metadata": {
            "tags": []
          }
        },
        {
          "output_type": "stream",
          "text": [
            "Saving kaggle.json to kaggle.json\n"
          ],
          "name": "stdout"
        }
      ]
    },
    {
      "cell_type": "code",
      "metadata": {
        "colab": {
          "base_uri": "https://localhost:8080/"
        },
        "id": "nLQ6l7O8thMn",
        "outputId": "d3da61bf-8f07-4195-c15e-c2c2e8f4da50"
      },
      "source": [
        "!kaggle competitions download -c titanic"
      ],
      "execution_count": null,
      "outputs": [
        {
          "output_type": "stream",
          "text": [
            "Warning: Looks like you're using an outdated API Version, please consider updating (server 1.5.10 / client 1.5.4)\n",
            "Downloading test.csv to /content\n",
            "  0% 0.00/28.0k [00:00<?, ?B/s]\n",
            "100% 28.0k/28.0k [00:00<00:00, 24.5MB/s]\n",
            "Downloading train.csv to /content\n",
            "  0% 0.00/59.8k [00:00<?, ?B/s]\n",
            "100% 59.8k/59.8k [00:00<00:00, 61.9MB/s]\n",
            "Downloading gender_submission.csv to /content\n",
            "  0% 0.00/3.18k [00:00<?, ?B/s]\n",
            "100% 3.18k/3.18k [00:00<00:00, 3.17MB/s]\n"
          ],
          "name": "stdout"
        }
      ]
    },
    {
      "cell_type": "code",
      "metadata": {
        "colab": {
          "base_uri": "https://localhost:8080/",
          "height": 435
        },
        "id": "kS8aIZrYAw--",
        "outputId": "fa05862c-910b-4375-9f00-37cd341a0e15"
      },
      "source": [
        "train = pd.read_csv('/content/train.csv')\r\n",
        "train"
      ],
      "execution_count": null,
      "outputs": [
        {
          "output_type": "execute_result",
          "data": {
            "text/html": [
              "<div>\n",
              "<style scoped>\n",
              "    .dataframe tbody tr th:only-of-type {\n",
              "        vertical-align: middle;\n",
              "    }\n",
              "\n",
              "    .dataframe tbody tr th {\n",
              "        vertical-align: top;\n",
              "    }\n",
              "\n",
              "    .dataframe thead th {\n",
              "        text-align: right;\n",
              "    }\n",
              "</style>\n",
              "<table border=\"1\" class=\"dataframe\">\n",
              "  <thead>\n",
              "    <tr style=\"text-align: right;\">\n",
              "      <th></th>\n",
              "      <th>PassengerId</th>\n",
              "      <th>Survived</th>\n",
              "      <th>Pclass</th>\n",
              "      <th>Name</th>\n",
              "      <th>Sex</th>\n",
              "      <th>Age</th>\n",
              "      <th>SibSp</th>\n",
              "      <th>Parch</th>\n",
              "      <th>Ticket</th>\n",
              "      <th>Fare</th>\n",
              "      <th>Cabin</th>\n",
              "      <th>Embarked</th>\n",
              "    </tr>\n",
              "  </thead>\n",
              "  <tbody>\n",
              "    <tr>\n",
              "      <th>0</th>\n",
              "      <td>1</td>\n",
              "      <td>0</td>\n",
              "      <td>3</td>\n",
              "      <td>Braund, Mr. Owen Harris</td>\n",
              "      <td>male</td>\n",
              "      <td>22.0</td>\n",
              "      <td>1</td>\n",
              "      <td>0</td>\n",
              "      <td>A/5 21171</td>\n",
              "      <td>7.2500</td>\n",
              "      <td>NaN</td>\n",
              "      <td>S</td>\n",
              "    </tr>\n",
              "    <tr>\n",
              "      <th>1</th>\n",
              "      <td>2</td>\n",
              "      <td>1</td>\n",
              "      <td>1</td>\n",
              "      <td>Cumings, Mrs. John Bradley (Florence Briggs Th...</td>\n",
              "      <td>female</td>\n",
              "      <td>38.0</td>\n",
              "      <td>1</td>\n",
              "      <td>0</td>\n",
              "      <td>PC 17599</td>\n",
              "      <td>71.2833</td>\n",
              "      <td>C85</td>\n",
              "      <td>C</td>\n",
              "    </tr>\n",
              "    <tr>\n",
              "      <th>2</th>\n",
              "      <td>3</td>\n",
              "      <td>1</td>\n",
              "      <td>3</td>\n",
              "      <td>Heikkinen, Miss. Laina</td>\n",
              "      <td>female</td>\n",
              "      <td>26.0</td>\n",
              "      <td>0</td>\n",
              "      <td>0</td>\n",
              "      <td>STON/O2. 3101282</td>\n",
              "      <td>7.9250</td>\n",
              "      <td>NaN</td>\n",
              "      <td>S</td>\n",
              "    </tr>\n",
              "    <tr>\n",
              "      <th>3</th>\n",
              "      <td>4</td>\n",
              "      <td>1</td>\n",
              "      <td>1</td>\n",
              "      <td>Futrelle, Mrs. Jacques Heath (Lily May Peel)</td>\n",
              "      <td>female</td>\n",
              "      <td>35.0</td>\n",
              "      <td>1</td>\n",
              "      <td>0</td>\n",
              "      <td>113803</td>\n",
              "      <td>53.1000</td>\n",
              "      <td>C123</td>\n",
              "      <td>S</td>\n",
              "    </tr>\n",
              "    <tr>\n",
              "      <th>4</th>\n",
              "      <td>5</td>\n",
              "      <td>0</td>\n",
              "      <td>3</td>\n",
              "      <td>Allen, Mr. William Henry</td>\n",
              "      <td>male</td>\n",
              "      <td>35.0</td>\n",
              "      <td>0</td>\n",
              "      <td>0</td>\n",
              "      <td>373450</td>\n",
              "      <td>8.0500</td>\n",
              "      <td>NaN</td>\n",
              "      <td>S</td>\n",
              "    </tr>\n",
              "    <tr>\n",
              "      <th>...</th>\n",
              "      <td>...</td>\n",
              "      <td>...</td>\n",
              "      <td>...</td>\n",
              "      <td>...</td>\n",
              "      <td>...</td>\n",
              "      <td>...</td>\n",
              "      <td>...</td>\n",
              "      <td>...</td>\n",
              "      <td>...</td>\n",
              "      <td>...</td>\n",
              "      <td>...</td>\n",
              "      <td>...</td>\n",
              "    </tr>\n",
              "    <tr>\n",
              "      <th>886</th>\n",
              "      <td>887</td>\n",
              "      <td>0</td>\n",
              "      <td>2</td>\n",
              "      <td>Montvila, Rev. Juozas</td>\n",
              "      <td>male</td>\n",
              "      <td>27.0</td>\n",
              "      <td>0</td>\n",
              "      <td>0</td>\n",
              "      <td>211536</td>\n",
              "      <td>13.0000</td>\n",
              "      <td>NaN</td>\n",
              "      <td>S</td>\n",
              "    </tr>\n",
              "    <tr>\n",
              "      <th>887</th>\n",
              "      <td>888</td>\n",
              "      <td>1</td>\n",
              "      <td>1</td>\n",
              "      <td>Graham, Miss. Margaret Edith</td>\n",
              "      <td>female</td>\n",
              "      <td>19.0</td>\n",
              "      <td>0</td>\n",
              "      <td>0</td>\n",
              "      <td>112053</td>\n",
              "      <td>30.0000</td>\n",
              "      <td>B42</td>\n",
              "      <td>S</td>\n",
              "    </tr>\n",
              "    <tr>\n",
              "      <th>888</th>\n",
              "      <td>889</td>\n",
              "      <td>0</td>\n",
              "      <td>3</td>\n",
              "      <td>Johnston, Miss. Catherine Helen \"Carrie\"</td>\n",
              "      <td>female</td>\n",
              "      <td>NaN</td>\n",
              "      <td>1</td>\n",
              "      <td>2</td>\n",
              "      <td>W./C. 6607</td>\n",
              "      <td>23.4500</td>\n",
              "      <td>NaN</td>\n",
              "      <td>S</td>\n",
              "    </tr>\n",
              "    <tr>\n",
              "      <th>889</th>\n",
              "      <td>890</td>\n",
              "      <td>1</td>\n",
              "      <td>1</td>\n",
              "      <td>Behr, Mr. Karl Howell</td>\n",
              "      <td>male</td>\n",
              "      <td>26.0</td>\n",
              "      <td>0</td>\n",
              "      <td>0</td>\n",
              "      <td>111369</td>\n",
              "      <td>30.0000</td>\n",
              "      <td>C148</td>\n",
              "      <td>C</td>\n",
              "    </tr>\n",
              "    <tr>\n",
              "      <th>890</th>\n",
              "      <td>891</td>\n",
              "      <td>0</td>\n",
              "      <td>3</td>\n",
              "      <td>Dooley, Mr. Patrick</td>\n",
              "      <td>male</td>\n",
              "      <td>32.0</td>\n",
              "      <td>0</td>\n",
              "      <td>0</td>\n",
              "      <td>370376</td>\n",
              "      <td>7.7500</td>\n",
              "      <td>NaN</td>\n",
              "      <td>Q</td>\n",
              "    </tr>\n",
              "  </tbody>\n",
              "</table>\n",
              "<p>891 rows × 12 columns</p>\n",
              "</div>"
            ],
            "text/plain": [
              "     PassengerId  Survived  Pclass  ...     Fare Cabin  Embarked\n",
              "0              1         0       3  ...   7.2500   NaN         S\n",
              "1              2         1       1  ...  71.2833   C85         C\n",
              "2              3         1       3  ...   7.9250   NaN         S\n",
              "3              4         1       1  ...  53.1000  C123         S\n",
              "4              5         0       3  ...   8.0500   NaN         S\n",
              "..           ...       ...     ...  ...      ...   ...       ...\n",
              "886          887         0       2  ...  13.0000   NaN         S\n",
              "887          888         1       1  ...  30.0000   B42         S\n",
              "888          889         0       3  ...  23.4500   NaN         S\n",
              "889          890         1       1  ...  30.0000  C148         C\n",
              "890          891         0       3  ...   7.7500   NaN         Q\n",
              "\n",
              "[891 rows x 12 columns]"
            ]
          },
          "metadata": {
            "tags": []
          },
          "execution_count": 66
        }
      ]
    },
    {
      "cell_type": "code",
      "metadata": {
        "colab": {
          "base_uri": "https://localhost:8080/",
          "height": 402
        },
        "id": "yd-t_9-XB11S",
        "outputId": "d596e487-3196-4eb0-83eb-5f176259e5b1"
      },
      "source": [
        "test = pd.read_csv('/content/test.csv')\r\n",
        "test"
      ],
      "execution_count": null,
      "outputs": [
        {
          "output_type": "execute_result",
          "data": {
            "text/html": [
              "<div>\n",
              "<style scoped>\n",
              "    .dataframe tbody tr th:only-of-type {\n",
              "        vertical-align: middle;\n",
              "    }\n",
              "\n",
              "    .dataframe tbody tr th {\n",
              "        vertical-align: top;\n",
              "    }\n",
              "\n",
              "    .dataframe thead th {\n",
              "        text-align: right;\n",
              "    }\n",
              "</style>\n",
              "<table border=\"1\" class=\"dataframe\">\n",
              "  <thead>\n",
              "    <tr style=\"text-align: right;\">\n",
              "      <th></th>\n",
              "      <th>PassengerId</th>\n",
              "      <th>Pclass</th>\n",
              "      <th>Name</th>\n",
              "      <th>Sex</th>\n",
              "      <th>Age</th>\n",
              "      <th>SibSp</th>\n",
              "      <th>Parch</th>\n",
              "      <th>Ticket</th>\n",
              "      <th>Fare</th>\n",
              "      <th>Cabin</th>\n",
              "      <th>Embarked</th>\n",
              "    </tr>\n",
              "  </thead>\n",
              "  <tbody>\n",
              "    <tr>\n",
              "      <th>0</th>\n",
              "      <td>892</td>\n",
              "      <td>3</td>\n",
              "      <td>Kelly, Mr. James</td>\n",
              "      <td>male</td>\n",
              "      <td>34.5</td>\n",
              "      <td>0</td>\n",
              "      <td>0</td>\n",
              "      <td>330911</td>\n",
              "      <td>7.8292</td>\n",
              "      <td>NaN</td>\n",
              "      <td>Q</td>\n",
              "    </tr>\n",
              "    <tr>\n",
              "      <th>1</th>\n",
              "      <td>893</td>\n",
              "      <td>3</td>\n",
              "      <td>Wilkes, Mrs. James (Ellen Needs)</td>\n",
              "      <td>female</td>\n",
              "      <td>47.0</td>\n",
              "      <td>1</td>\n",
              "      <td>0</td>\n",
              "      <td>363272</td>\n",
              "      <td>7.0000</td>\n",
              "      <td>NaN</td>\n",
              "      <td>S</td>\n",
              "    </tr>\n",
              "    <tr>\n",
              "      <th>2</th>\n",
              "      <td>894</td>\n",
              "      <td>2</td>\n",
              "      <td>Myles, Mr. Thomas Francis</td>\n",
              "      <td>male</td>\n",
              "      <td>62.0</td>\n",
              "      <td>0</td>\n",
              "      <td>0</td>\n",
              "      <td>240276</td>\n",
              "      <td>9.6875</td>\n",
              "      <td>NaN</td>\n",
              "      <td>Q</td>\n",
              "    </tr>\n",
              "    <tr>\n",
              "      <th>3</th>\n",
              "      <td>895</td>\n",
              "      <td>3</td>\n",
              "      <td>Wirz, Mr. Albert</td>\n",
              "      <td>male</td>\n",
              "      <td>27.0</td>\n",
              "      <td>0</td>\n",
              "      <td>0</td>\n",
              "      <td>315154</td>\n",
              "      <td>8.6625</td>\n",
              "      <td>NaN</td>\n",
              "      <td>S</td>\n",
              "    </tr>\n",
              "    <tr>\n",
              "      <th>4</th>\n",
              "      <td>896</td>\n",
              "      <td>3</td>\n",
              "      <td>Hirvonen, Mrs. Alexander (Helga E Lindqvist)</td>\n",
              "      <td>female</td>\n",
              "      <td>22.0</td>\n",
              "      <td>1</td>\n",
              "      <td>1</td>\n",
              "      <td>3101298</td>\n",
              "      <td>12.2875</td>\n",
              "      <td>NaN</td>\n",
              "      <td>S</td>\n",
              "    </tr>\n",
              "    <tr>\n",
              "      <th>...</th>\n",
              "      <td>...</td>\n",
              "      <td>...</td>\n",
              "      <td>...</td>\n",
              "      <td>...</td>\n",
              "      <td>...</td>\n",
              "      <td>...</td>\n",
              "      <td>...</td>\n",
              "      <td>...</td>\n",
              "      <td>...</td>\n",
              "      <td>...</td>\n",
              "      <td>...</td>\n",
              "    </tr>\n",
              "    <tr>\n",
              "      <th>413</th>\n",
              "      <td>1305</td>\n",
              "      <td>3</td>\n",
              "      <td>Spector, Mr. Woolf</td>\n",
              "      <td>male</td>\n",
              "      <td>NaN</td>\n",
              "      <td>0</td>\n",
              "      <td>0</td>\n",
              "      <td>A.5. 3236</td>\n",
              "      <td>8.0500</td>\n",
              "      <td>NaN</td>\n",
              "      <td>S</td>\n",
              "    </tr>\n",
              "    <tr>\n",
              "      <th>414</th>\n",
              "      <td>1306</td>\n",
              "      <td>1</td>\n",
              "      <td>Oliva y Ocana, Dona. Fermina</td>\n",
              "      <td>female</td>\n",
              "      <td>39.0</td>\n",
              "      <td>0</td>\n",
              "      <td>0</td>\n",
              "      <td>PC 17758</td>\n",
              "      <td>108.9000</td>\n",
              "      <td>C105</td>\n",
              "      <td>C</td>\n",
              "    </tr>\n",
              "    <tr>\n",
              "      <th>415</th>\n",
              "      <td>1307</td>\n",
              "      <td>3</td>\n",
              "      <td>Saether, Mr. Simon Sivertsen</td>\n",
              "      <td>male</td>\n",
              "      <td>38.5</td>\n",
              "      <td>0</td>\n",
              "      <td>0</td>\n",
              "      <td>SOTON/O.Q. 3101262</td>\n",
              "      <td>7.2500</td>\n",
              "      <td>NaN</td>\n",
              "      <td>S</td>\n",
              "    </tr>\n",
              "    <tr>\n",
              "      <th>416</th>\n",
              "      <td>1308</td>\n",
              "      <td>3</td>\n",
              "      <td>Ware, Mr. Frederick</td>\n",
              "      <td>male</td>\n",
              "      <td>NaN</td>\n",
              "      <td>0</td>\n",
              "      <td>0</td>\n",
              "      <td>359309</td>\n",
              "      <td>8.0500</td>\n",
              "      <td>NaN</td>\n",
              "      <td>S</td>\n",
              "    </tr>\n",
              "    <tr>\n",
              "      <th>417</th>\n",
              "      <td>1309</td>\n",
              "      <td>3</td>\n",
              "      <td>Peter, Master. Michael J</td>\n",
              "      <td>male</td>\n",
              "      <td>NaN</td>\n",
              "      <td>1</td>\n",
              "      <td>1</td>\n",
              "      <td>2668</td>\n",
              "      <td>22.3583</td>\n",
              "      <td>NaN</td>\n",
              "      <td>C</td>\n",
              "    </tr>\n",
              "  </tbody>\n",
              "</table>\n",
              "<p>418 rows × 11 columns</p>\n",
              "</div>"
            ],
            "text/plain": [
              "     PassengerId  Pclass  ... Cabin Embarked\n",
              "0            892       3  ...   NaN        Q\n",
              "1            893       3  ...   NaN        S\n",
              "2            894       2  ...   NaN        Q\n",
              "3            895       3  ...   NaN        S\n",
              "4            896       3  ...   NaN        S\n",
              "..           ...     ...  ...   ...      ...\n",
              "413         1305       3  ...   NaN        S\n",
              "414         1306       1  ...  C105        C\n",
              "415         1307       3  ...   NaN        S\n",
              "416         1308       3  ...   NaN        S\n",
              "417         1309       3  ...   NaN        C\n",
              "\n",
              "[418 rows x 11 columns]"
            ]
          },
          "metadata": {
            "tags": []
          },
          "execution_count": 67
        }
      ]
    },
    {
      "cell_type": "code",
      "metadata": {
        "id": "GsuxL3W6AeNG"
      },
      "source": [
        "# combine 리스트안에 둘을 담는다. \r\n",
        "# test도 가공된 형태로 들어가야 하기때문에 같이 바꿔주는 것이 좋다.\r\n",
        "combine = [train, test] "
      ],
      "execution_count": null,
      "outputs": []
    },
    {
      "cell_type": "code",
      "metadata": {
        "colab": {
          "base_uri": "https://localhost:8080/"
        },
        "id": "kKvDJPvZBvll",
        "outputId": "c265a148-47fb-4a43-9663-4f07175a2574"
      },
      "source": [
        "train.Survived.value_counts() # 이 값을 예측해야한다."
      ],
      "execution_count": null,
      "outputs": [
        {
          "output_type": "execute_result",
          "data": {
            "text/plain": [
              "0    549\n",
              "1    342\n",
              "Name: Survived, dtype: int64"
            ]
          },
          "metadata": {
            "tags": []
          },
          "execution_count": 68
        }
      ]
    },
    {
      "cell_type": "code",
      "metadata": {
        "colab": {
          "base_uri": "https://localhost:8080/"
        },
        "id": "mfMDBRlmB_vh",
        "outputId": "d47aaef5-9ca1-46d3-ad4d-a988a73f06fb"
      },
      "source": [
        "train.info()"
      ],
      "execution_count": null,
      "outputs": [
        {
          "output_type": "stream",
          "text": [
            "<class 'pandas.core.frame.DataFrame'>\n",
            "RangeIndex: 891 entries, 0 to 890\n",
            "Data columns (total 12 columns):\n",
            " #   Column       Non-Null Count  Dtype  \n",
            "---  ------       --------------  -----  \n",
            " 0   PassengerId  891 non-null    int64  \n",
            " 1   Survived     891 non-null    int64  \n",
            " 2   Pclass       891 non-null    int64  \n",
            " 3   Name         891 non-null    object \n",
            " 4   Sex          891 non-null    object \n",
            " 5   Age          714 non-null    float64\n",
            " 6   SibSp        891 non-null    int64  \n",
            " 7   Parch        891 non-null    int64  \n",
            " 8   Ticket       891 non-null    object \n",
            " 9   Fare         891 non-null    float64\n",
            " 10  Cabin        204 non-null    object \n",
            " 11  Embarked     889 non-null    object \n",
            "dtypes: float64(2), int64(5), object(5)\n",
            "memory usage: 83.7+ KB\n"
          ],
          "name": "stdout"
        }
      ]
    },
    {
      "cell_type": "markdown",
      "metadata": {
        "id": "vdLVV8eEYgms"
      },
      "source": [
        "## 결측치 확인"
      ]
    },
    {
      "cell_type": "code",
      "metadata": {
        "colab": {
          "base_uri": "https://localhost:8080/"
        },
        "id": "0gp2z1yn9eCk",
        "outputId": "f3c6c793-2bbe-4dae-8bee-7ecbd50b3f8c"
      },
      "source": [
        "train.isnull().sum() # Age, Embarked가 결측치가 있다. 적절하게 넣어줄 필요가 있다. cabin은 결측치가너무많아서 사용하지 않겠다."
      ],
      "execution_count": null,
      "outputs": [
        {
          "output_type": "execute_result",
          "data": {
            "text/plain": [
              "PassengerId      0\n",
              "Survived         0\n",
              "Pclass           0\n",
              "Name             0\n",
              "Sex              0\n",
              "Age            177\n",
              "SibSp            0\n",
              "Parch            0\n",
              "Ticket           0\n",
              "Fare             0\n",
              "Cabin          687\n",
              "Embarked         2\n",
              "dtype: int64"
            ]
          },
          "metadata": {
            "tags": []
          },
          "execution_count": 8
        }
      ]
    },
    {
      "cell_type": "markdown",
      "metadata": {
        "id": "XiYXV95WYmcB"
      },
      "source": [
        "### Age채우기"
      ]
    },
    {
      "cell_type": "code",
      "metadata": {
        "colab": {
          "base_uri": "https://localhost:8080/"
        },
        "id": "Vj6kvh6v9wKh",
        "outputId": "35fbd8e1-9dfc-4970-9898-a53f19b2d26f"
      },
      "source": [
        "train.Name[:10] # 이름을 보니 가운데 Mr, Miss같은 경어가 있다."
      ],
      "execution_count": null,
      "outputs": [
        {
          "output_type": "execute_result",
          "data": {
            "text/plain": [
              "0                              Braund, Mr. Owen Harris\n",
              "1    Cumings, Mrs. John Bradley (Florence Briggs Th...\n",
              "2                               Heikkinen, Miss. Laina\n",
              "3         Futrelle, Mrs. Jacques Heath (Lily May Peel)\n",
              "4                             Allen, Mr. William Henry\n",
              "5                                     Moran, Mr. James\n",
              "6                              McCarthy, Mr. Timothy J\n",
              "7                       Palsson, Master. Gosta Leonard\n",
              "8    Johnson, Mrs. Oscar W (Elisabeth Vilhelmina Berg)\n",
              "9                  Nasser, Mrs. Nicholas (Adele Achem)\n",
              "Name: Name, dtype: object"
            ]
          },
          "metadata": {
            "tags": []
          },
          "execution_count": 70
        }
      ]
    },
    {
      "cell_type": "code",
      "metadata": {
        "id": "O8dMy3DZI46X"
      },
      "source": [
        "for com in combine:\r\n",
        "  com['Initial']=0\r\n",
        "  for i in com:\r\n",
        "      com['Initial']=com.Name.str.extract('([A-Za-z]+)\\.') #정규표현식으로 .으로 끝나는 문자를 가져온다\r\n"
      ],
      "execution_count": null,
      "outputs": []
    },
    {
      "cell_type": "code",
      "metadata": {
        "colab": {
          "base_uri": "https://localhost:8080/"
        },
        "id": "ifgayWLvJI_2",
        "outputId": "0c67177e-c890-4302-c5d0-7ccaace6499c"
      },
      "source": [
        "train['Initial'], test['Initial']"
      ],
      "execution_count": null,
      "outputs": [
        {
          "output_type": "execute_result",
          "data": {
            "text/plain": [
              "(0        Mr\n",
              " 1       Mrs\n",
              " 2      Miss\n",
              " 3       Mrs\n",
              " 4        Mr\n",
              "        ... \n",
              " 886     Rev\n",
              " 887    Miss\n",
              " 888    Miss\n",
              " 889      Mr\n",
              " 890      Mr\n",
              " Name: Initial, Length: 891, dtype: object, 0          Mr\n",
              " 1         Mrs\n",
              " 2          Mr\n",
              " 3          Mr\n",
              " 4         Mrs\n",
              "         ...  \n",
              " 413        Mr\n",
              " 414      Dona\n",
              " 415        Mr\n",
              " 416        Mr\n",
              " 417    Master\n",
              " Name: Initial, Length: 418, dtype: object)"
            ]
          },
          "metadata": {
            "tags": []
          },
          "execution_count": 83
        }
      ]
    },
    {
      "cell_type": "code",
      "metadata": {
        "colab": {
          "base_uri": "https://localhost:8080/",
          "height": 136
        },
        "id": "y77BQabCJzkg",
        "outputId": "e2ea5a92-5448-4c2d-b7a4-7ccd748484ef"
      },
      "source": [
        "pd.crosstab(train.Sex, train.Initial) # crosstap으로 sex와 Initial을 보면 남여를 지칭하는 말이 정말 많다."
      ],
      "execution_count": null,
      "outputs": [
        {
          "output_type": "execute_result",
          "data": {
            "text/html": [
              "<div>\n",
              "<style scoped>\n",
              "    .dataframe tbody tr th:only-of-type {\n",
              "        vertical-align: middle;\n",
              "    }\n",
              "\n",
              "    .dataframe tbody tr th {\n",
              "        vertical-align: top;\n",
              "    }\n",
              "\n",
              "    .dataframe thead th {\n",
              "        text-align: right;\n",
              "    }\n",
              "</style>\n",
              "<table border=\"1\" class=\"dataframe\">\n",
              "  <thead>\n",
              "    <tr style=\"text-align: right;\">\n",
              "      <th>Initial</th>\n",
              "      <th>Capt</th>\n",
              "      <th>Col</th>\n",
              "      <th>Countess</th>\n",
              "      <th>Don</th>\n",
              "      <th>Dr</th>\n",
              "      <th>Jonkheer</th>\n",
              "      <th>Lady</th>\n",
              "      <th>Major</th>\n",
              "      <th>Master</th>\n",
              "      <th>Miss</th>\n",
              "      <th>Mlle</th>\n",
              "      <th>Mme</th>\n",
              "      <th>Mr</th>\n",
              "      <th>Mrs</th>\n",
              "      <th>Ms</th>\n",
              "      <th>Rev</th>\n",
              "      <th>Sir</th>\n",
              "    </tr>\n",
              "    <tr>\n",
              "      <th>Sex</th>\n",
              "      <th></th>\n",
              "      <th></th>\n",
              "      <th></th>\n",
              "      <th></th>\n",
              "      <th></th>\n",
              "      <th></th>\n",
              "      <th></th>\n",
              "      <th></th>\n",
              "      <th></th>\n",
              "      <th></th>\n",
              "      <th></th>\n",
              "      <th></th>\n",
              "      <th></th>\n",
              "      <th></th>\n",
              "      <th></th>\n",
              "      <th></th>\n",
              "      <th></th>\n",
              "    </tr>\n",
              "  </thead>\n",
              "  <tbody>\n",
              "    <tr>\n",
              "      <th>female</th>\n",
              "      <td>0</td>\n",
              "      <td>0</td>\n",
              "      <td>1</td>\n",
              "      <td>0</td>\n",
              "      <td>1</td>\n",
              "      <td>0</td>\n",
              "      <td>1</td>\n",
              "      <td>0</td>\n",
              "      <td>0</td>\n",
              "      <td>182</td>\n",
              "      <td>2</td>\n",
              "      <td>1</td>\n",
              "      <td>0</td>\n",
              "      <td>125</td>\n",
              "      <td>1</td>\n",
              "      <td>0</td>\n",
              "      <td>0</td>\n",
              "    </tr>\n",
              "    <tr>\n",
              "      <th>male</th>\n",
              "      <td>1</td>\n",
              "      <td>2</td>\n",
              "      <td>0</td>\n",
              "      <td>1</td>\n",
              "      <td>6</td>\n",
              "      <td>1</td>\n",
              "      <td>0</td>\n",
              "      <td>2</td>\n",
              "      <td>40</td>\n",
              "      <td>0</td>\n",
              "      <td>0</td>\n",
              "      <td>0</td>\n",
              "      <td>517</td>\n",
              "      <td>0</td>\n",
              "      <td>0</td>\n",
              "      <td>6</td>\n",
              "      <td>1</td>\n",
              "    </tr>\n",
              "  </tbody>\n",
              "</table>\n",
              "</div>"
            ],
            "text/plain": [
              "Initial  Capt  Col  Countess  Don  Dr  Jonkheer  ...  Mme   Mr  Mrs  Ms  Rev  Sir\n",
              "Sex                                              ...                             \n",
              "female      0    0         1    0   1         0  ...    1    0  125   1    0    0\n",
              "male        1    2         0    1   6         1  ...    0  517    0   0    6    1\n",
              "\n",
              "[2 rows x 17 columns]"
            ]
          },
          "metadata": {
            "tags": []
          },
          "execution_count": 85
        }
      ]
    },
    {
      "cell_type": "code",
      "metadata": {
        "colab": {
          "base_uri": "https://localhost:8080/"
        },
        "id": "kyXTDE2uJMH7",
        "outputId": "d7c58b51-577b-4ea6-d476-db0dd90a1127"
      },
      "source": [
        "print(train.Initial.unique())\r\n",
        "print(test.Initial.unique())"
      ],
      "execution_count": null,
      "outputs": [
        {
          "output_type": "stream",
          "text": [
            "['Mr' 'Mrs' 'Miss' 'Master' 'Don' 'Rev' 'Dr' 'Mme' 'Ms' 'Major' 'Lady'\n",
            " 'Sir' 'Mlle' 'Col' 'Capt' 'Countess' 'Jonkheer']\n",
            "['Mr' 'Mrs' 'Miss' 'Master' 'Ms' 'Col' 'Rev' 'Dr' 'Dona']\n"
          ],
          "name": "stdout"
        }
      ]
    },
    {
      "cell_type": "code",
      "metadata": {
        "id": "VXIG3rCAKr8m"
      },
      "source": [
        "# 이러한 값들은 하나씩 검색해 찾아보며 비슷한 의미를 같는 경어로 바꾸어준다.\r\n",
        "for com in combine:\r\n",
        "  com['Initial'].replace(['Mlle','Mme','Ms','Dr','Major','Lady','Countess','Jonkheer','Col','Rev','Capt','Sir','Don','Dona'],\r\n",
        "                          ['Miss','Miss','Miss','Mr','Mr','Mrs','Mrs','Other','Other','Other','Mr','Mr','Mr','Mr'],inplace=True)"
      ],
      "execution_count": null,
      "outputs": []
    },
    {
      "cell_type": "code",
      "metadata": {
        "colab": {
          "base_uri": "https://localhost:8080/"
        },
        "id": "-U-V0qZZLrK4",
        "outputId": "097ecc55-3ce3-4a2b-a09b-6668d5dad1df"
      },
      "source": [
        "# Initial을 그룹으로 묶어서 나이의 평균을 보겠다.\r\n",
        "# 이 값들로 결측치를 채워주겠다.\r\n",
        "Ages = []\r\n",
        "for com in combine:\r\n",
        "  Ages.append(com.groupby('Initial')['Age'].mean()) # pd.core.scoeries 형태로 저장된다\r\n",
        "Ages"
      ],
      "execution_count": null,
      "outputs": [
        {
          "output_type": "execute_result",
          "data": {
            "text/plain": [
              "[Initial\n",
              " Master     4.574167\n",
              " Miss      21.860000\n",
              " Mr        32.739609\n",
              " Mrs       35.981818\n",
              " Other     45.888889\n",
              " Name: Age, dtype: float64, Initial\n",
              " Master     7.406471\n",
              " Miss      21.774844\n",
              " Mr        32.151351\n",
              " Mrs       38.903226\n",
              " Other     42.750000\n",
              " Name: Age, dtype: float64]"
            ]
          },
          "metadata": {
            "tags": []
          },
          "execution_count": 88
        }
      ]
    },
    {
      "cell_type": "code",
      "metadata": {
        "colab": {
          "base_uri": "https://localhost:8080/"
        },
        "id": "_y27jWUpKVmh",
        "outputId": "0494fb72-9231-44cb-d23a-e9ab36c0d259"
      },
      "source": [
        "Ages[0][4]"
      ],
      "execution_count": null,
      "outputs": [
        {
          "output_type": "execute_result",
          "data": {
            "text/plain": [
              "45.888888888888886"
            ]
          },
          "metadata": {
            "tags": []
          },
          "execution_count": 90
        }
      ]
    },
    {
      "cell_type": "code",
      "metadata": {
        "id": "WjVpTz2kMAv6"
      },
      "source": [
        "for i in range(2):\r\n",
        "  combine[i].loc[(combine[i]['Age'].isnull()) & (combine[i]['Initial'] == 'Master'), 'Age'] = Ages[i][0]\r\n",
        "  combine[i].loc[(combine[i]['Age'].isnull()) & (combine[i]['Initial'] == 'Miss'), 'Age'] = Ages[i][1]\r\n",
        "  combine[i].loc[(combine[i]['Age'].isnull()) & (combine[i]['Initial'] == 'Mr'), 'Age'] = Ages[i][2]\r\n",
        "  combine[i].loc[(combine[i]['Age'].isnull()) & (combine[i]['Initial'] == 'Mrs'), 'Age'] = Ages[i][3]\r\n",
        "  combine[i].loc[(combine[i]['Age'].isnull()) & (combine[i]['Initial'] == 'Other'), 'Age'] = Ages[i][4]"
      ],
      "execution_count": null,
      "outputs": []
    },
    {
      "cell_type": "code",
      "metadata": {
        "colab": {
          "base_uri": "https://localhost:8080/"
        },
        "id": "UpLze55ML8HD",
        "outputId": "02f68c0b-cb4f-4c1f-da98-151690b612fc"
      },
      "source": [
        "train.isnull().sum(), test.isnull().sum() # Age의 결측치가 없어졌다."
      ],
      "execution_count": null,
      "outputs": [
        {
          "output_type": "execute_result",
          "data": {
            "text/plain": [
              "(PassengerId      0\n",
              " Survived         0\n",
              " Pclass           0\n",
              " Name             0\n",
              " Sex              0\n",
              " Age              0\n",
              " SibSp            0\n",
              " Parch            0\n",
              " Ticket           0\n",
              " Fare             0\n",
              " Cabin          687\n",
              " Embarked         2\n",
              " Initial          0\n",
              " dtype: int64, PassengerId      0\n",
              " Pclass           0\n",
              " Name             0\n",
              " Sex              0\n",
              " Age              0\n",
              " SibSp            0\n",
              " Parch            0\n",
              " Ticket           0\n",
              " Fare             1\n",
              " Cabin          327\n",
              " Embarked         0\n",
              " Initial          0\n",
              " dtype: int64)"
            ]
          },
          "metadata": {
            "tags": []
          },
          "execution_count": 92
        }
      ]
    },
    {
      "cell_type": "code",
      "metadata": {
        "colab": {
          "base_uri": "https://localhost:8080/",
          "height": 514
        },
        "id": "vIMUbrN5OAJP",
        "outputId": "f0c3f8c1-01a6-41b3-ad3a-e4c8fbc6e639"
      },
      "source": [
        "# 생존여부에 따른 나이\r\n",
        "# 20 초반과 30초반이 많이 살아남았다.\r\n",
        "# 나이대 별로 비율로 확인해 볼 필요가있다.\r\n",
        "#sns.displot(data=train, x='Age', hue='Survived' )\r\n",
        "f,ax = plt.subplots(nrows=2, ncols=2  , figsize=(15,8))\r\n",
        "train[train['Survived'] == 0].Age.plot.hist(ax=ax[0][0], bins=20)\r\n",
        "ax[0][0].set_title('Survived = 0')\r\n",
        "\r\n",
        "train[train['Survived'] == 1].Age.plot.hist(ax=ax[0][1], bins=20)\r\n",
        "ax[0][1].set_title('Survived = 1')\r\n",
        "\r\n",
        "train.Age.hist(ax=ax[1][0], bins=20) # "
      ],
      "execution_count": null,
      "outputs": [
        {
          "output_type": "execute_result",
          "data": {
            "text/plain": [
              "<matplotlib.axes._subplots.AxesSubplot at 0x7fd217abacf8>"
            ]
          },
          "metadata": {
            "tags": []
          },
          "execution_count": 93
        },
        {
          "output_type": "display_data",
          "data": {
            "image/png": "[encoded data removed]",
            "text/plain": [
              "<Figure size 1080x576 with 4 Axes>"
            ]
          },
          "metadata": {
            "tags": [],
            "needs_background": "light"
          }
        }
      ]
    },
    {
      "cell_type": "code",
      "metadata": {
        "colab": {
          "base_uri": "https://localhost:8080/",
          "height": 417
        },
        "id": "T7r_6PwnLrK5",
        "outputId": "112a36e8-6eab-4794-d124-662190ec2a21"
      },
      "source": [
        "# 어릴수록 생존률이 높은지는 아직 보류이다.\r\n",
        "plt.figure(figsize=(30,10))\r\n",
        "plt.xticks(rotation = 45) # 겹치니깐 회전\r\n",
        "sns.barplot(data=train, x='Age', y='Survived')"
      ],
      "execution_count": null,
      "outputs": [
        {
          "output_type": "execute_result",
          "data": {
            "text/plain": [
              "<matplotlib.axes._subplots.AxesSubplot at 0x7fd217b329e8>"
            ]
          },
          "metadata": {
            "tags": []
          },
          "execution_count": 94
        },
        {
          "output_type": "display_data",
          "data": {
            "image/png": "[encoded data removed]",
            "text/plain": [
              "<Figure size 2160x720 with 1 Axes>"
            ]
          },
          "metadata": {
            "tags": [],
            "needs_background": "light"
          }
        }
      ]
    },
    {
      "cell_type": "markdown",
      "metadata": {
        "id": "uF0gjephZSEh"
      },
      "source": [
        "### Embarked 채우기"
      ]
    },
    {
      "cell_type": "code",
      "metadata": {
        "colab": {
          "base_uri": "https://localhost:8080/"
        },
        "id": "7giMHRCHZWp1",
        "outputId": "96c33b32-dd08-428a-a360-390b06a6b6da"
      },
      "source": [
        "train.Embarked.unique() # 3개의 항구와 결측치가있다. test엔 없다"
      ],
      "execution_count": null,
      "outputs": [
        {
          "output_type": "execute_result",
          "data": {
            "text/plain": [
              "array(['S', 'C', 'Q', nan], dtype=object)"
            ]
          },
          "metadata": {
            "tags": []
          },
          "execution_count": 97
        }
      ]
    },
    {
      "cell_type": "code",
      "metadata": {
        "colab": {
          "base_uri": "https://localhost:8080/",
          "height": 106
        },
        "id": "VJwB3ojaYuxG",
        "outputId": "690ac801-d712-422a-feab-3a8aaccb71a1"
      },
      "source": [
        "train[train['Embarked'].isnull()] # 결측치는 2개뿐이고 차이가 나이 뿐이다."
      ],
      "execution_count": null,
      "outputs": [
        {
          "output_type": "execute_result",
          "data": {
            "text/html": [
              "<div>\n",
              "<style scoped>\n",
              "    .dataframe tbody tr th:only-of-type {\n",
              "        vertical-align: middle;\n",
              "    }\n",
              "\n",
              "    .dataframe tbody tr th {\n",
              "        vertical-align: top;\n",
              "    }\n",
              "\n",
              "    .dataframe thead th {\n",
              "        text-align: right;\n",
              "    }\n",
              "</style>\n",
              "<table border=\"1\" class=\"dataframe\">\n",
              "  <thead>\n",
              "    <tr style=\"text-align: right;\">\n",
              "      <th></th>\n",
              "      <th>PassengerId</th>\n",
              "      <th>Survived</th>\n",
              "      <th>Pclass</th>\n",
              "      <th>Name</th>\n",
              "      <th>Sex</th>\n",
              "      <th>Age</th>\n",
              "      <th>SibSp</th>\n",
              "      <th>Parch</th>\n",
              "      <th>Ticket</th>\n",
              "      <th>Fare</th>\n",
              "      <th>Cabin</th>\n",
              "      <th>Embarked</th>\n",
              "      <th>Initial</th>\n",
              "    </tr>\n",
              "  </thead>\n",
              "  <tbody>\n",
              "    <tr>\n",
              "      <th>61</th>\n",
              "      <td>62</td>\n",
              "      <td>1</td>\n",
              "      <td>1</td>\n",
              "      <td>Icard, Miss. Amelie</td>\n",
              "      <td>female</td>\n",
              "      <td>38.0</td>\n",
              "      <td>0</td>\n",
              "      <td>0</td>\n",
              "      <td>113572</td>\n",
              "      <td>80.0</td>\n",
              "      <td>B28</td>\n",
              "      <td>NaN</td>\n",
              "      <td>Miss</td>\n",
              "    </tr>\n",
              "    <tr>\n",
              "      <th>829</th>\n",
              "      <td>830</td>\n",
              "      <td>1</td>\n",
              "      <td>1</td>\n",
              "      <td>Stone, Mrs. George Nelson (Martha Evelyn)</td>\n",
              "      <td>female</td>\n",
              "      <td>62.0</td>\n",
              "      <td>0</td>\n",
              "      <td>0</td>\n",
              "      <td>113572</td>\n",
              "      <td>80.0</td>\n",
              "      <td>B28</td>\n",
              "      <td>NaN</td>\n",
              "      <td>Mrs</td>\n",
              "    </tr>\n",
              "  </tbody>\n",
              "</table>\n",
              "</div>"
            ],
            "text/plain": [
              "     PassengerId  Survived  Pclass  ... Cabin Embarked  Initial\n",
              "61            62         1       1  ...   B28      NaN     Miss\n",
              "829          830         1       1  ...   B28      NaN      Mrs\n",
              "\n",
              "[2 rows x 13 columns]"
            ]
          },
          "metadata": {
            "tags": []
          },
          "execution_count": 98
        }
      ]
    },
    {
      "cell_type": "code",
      "metadata": {
        "colab": {
          "base_uri": "https://localhost:8080/",
          "height": 622
        },
        "id": "i4Ihh3qgZmpV",
        "outputId": "05dbc160-8103-4213-cc9d-7943d884df34"
      },
      "source": [
        "f, ax = plt.subplots(nrows=3, ncols=2, figsize=(10,10))\r\n",
        "sns.countplot(data=train, x='Embarked', ax=ax[0][0]) # Embarked 횟수\r\n",
        "\r\n",
        "sns.countplot(data=train[train['Survived'] == 1], x='Embarked', ax = ax[0][1]) # 살아남은 사람중 Embarked횟수\r\n",
        "\r\n",
        "sns.countplot(data=train[train['Pclass'] == 1], x='Embarked', ax = ax[1][0]) # Pclass가 1인 사람중 Embarked 횟수\r\n",
        "\r\n",
        "sns.countplot(data=train.loc[(train['Survived'] == 1) & (train['Pclass'] == 1)], x='Embarked', ax = ax[1][1]) # Pclass가 1이고 살아남은 사람중 Embarked 횟수\r\n",
        "\r\n",
        "sns.countplot(data=train[train['Sex'] == 'female'], x='Embarked', ax = ax[2][0]) # 항구별 여성승객이 탄 횟수\r\n",
        "\r\n",
        "sns.countplot(data=train.loc[(train['Survived'] == 1) & (train['Pclass'] == 1) & (train['Sex'] == 'female')], x='Embarked', ax = ax[2][1])\r\n",
        "\r\n",
        "# pclass가 1이고 여성이고, 살아남았다는것을 보면 항구를 S로 보는게 좋을 것 같다."
      ],
      "execution_count": null,
      "outputs": [
        {
          "output_type": "execute_result",
          "data": {
            "text/plain": [
              "<matplotlib.axes._subplots.AxesSubplot at 0x7fd2174cb438>"
            ]
          },
          "metadata": {
            "tags": []
          },
          "execution_count": 99
        },
        {
          "output_type": "display_data",
          "data": {
            "image/png": "[encoded data removed]",
            "text/plain": [
              "<Figure size 720x720 with 6 Axes>"
            ]
          },
          "metadata": {
            "tags": [],
            "needs_background": "light"
          }
        }
      ]
    },
    {
      "cell_type": "code",
      "metadata": {
        "id": "ZoEQc2aWeoCz"
      },
      "source": [
        "# S 로 결측치 채워준다\r\n",
        "train.loc[train['Embarked'].isnull(),'Embarked'] = 'S' # loc으로 접근해야 반영된다.\r\n",
        "# train.Embarked.fillna('S', inplace = True)"
      ],
      "execution_count": null,
      "outputs": []
    },
    {
      "cell_type": "code",
      "metadata": {
        "colab": {
          "base_uri": "https://localhost:8080/"
        },
        "id": "v5PWOEzVe4Qd",
        "outputId": "4e19f6fd-8935-459a-b3b2-74cb03dabd0d"
      },
      "source": [
        "train.isnull().sum() # 결측치가 없는것을 확인 할 수 있다."
      ],
      "execution_count": null,
      "outputs": [
        {
          "output_type": "execute_result",
          "data": {
            "text/plain": [
              "PassengerId      0\n",
              "Survived         0\n",
              "Pclass           0\n",
              "Name             0\n",
              "Sex              0\n",
              "Age              0\n",
              "SibSp            0\n",
              "Parch            0\n",
              "Ticket           0\n",
              "Fare             0\n",
              "Cabin          687\n",
              "Embarked         0\n",
              "Initial          0\n",
              "dtype: int64"
            ]
          },
          "metadata": {
            "tags": []
          },
          "execution_count": 101
        }
      ]
    },
    {
      "cell_type": "markdown",
      "metadata": {
        "id": "LZ4l2JfuQmHT"
      },
      "source": [
        "### Fare"
      ]
    },
    {
      "cell_type": "code",
      "metadata": {
        "colab": {
          "base_uri": "https://localhost:8080/",
          "height": 77
        },
        "id": "peqUvtZGQOCn",
        "outputId": "d3590c72-6760-43cd-b948-0c3eee7446a8"
      },
      "source": [
        "test[test.Fare.isnull() == True] # test에 NaN인 Fare이 하나있다."
      ],
      "execution_count": null,
      "outputs": [
        {
          "output_type": "execute_result",
          "data": {
            "text/html": [
              "<div>\n",
              "<style scoped>\n",
              "    .dataframe tbody tr th:only-of-type {\n",
              "        vertical-align: middle;\n",
              "    }\n",
              "\n",
              "    .dataframe tbody tr th {\n",
              "        vertical-align: top;\n",
              "    }\n",
              "\n",
              "    .dataframe thead th {\n",
              "        text-align: right;\n",
              "    }\n",
              "</style>\n",
              "<table border=\"1\" class=\"dataframe\">\n",
              "  <thead>\n",
              "    <tr style=\"text-align: right;\">\n",
              "      <th></th>\n",
              "      <th>PassengerId</th>\n",
              "      <th>Pclass</th>\n",
              "      <th>Name</th>\n",
              "      <th>Sex</th>\n",
              "      <th>Age</th>\n",
              "      <th>SibSp</th>\n",
              "      <th>Parch</th>\n",
              "      <th>Ticket</th>\n",
              "      <th>Fare</th>\n",
              "      <th>Cabin</th>\n",
              "      <th>Embarked</th>\n",
              "      <th>Initial</th>\n",
              "    </tr>\n",
              "  </thead>\n",
              "  <tbody>\n",
              "    <tr>\n",
              "      <th>152</th>\n",
              "      <td>1044</td>\n",
              "      <td>3</td>\n",
              "      <td>Storey, Mr. Thomas</td>\n",
              "      <td>male</td>\n",
              "      <td>60.5</td>\n",
              "      <td>0</td>\n",
              "      <td>0</td>\n",
              "      <td>3701</td>\n",
              "      <td>NaN</td>\n",
              "      <td>NaN</td>\n",
              "      <td>S</td>\n",
              "      <td>Mr</td>\n",
              "    </tr>\n",
              "  </tbody>\n",
              "</table>\n",
              "</div>"
            ],
            "text/plain": [
              "     PassengerId  Pclass                Name   Sex  ...  Fare  Cabin  Embarked Initial\n",
              "152         1044       3  Storey, Mr. Thomas  male  ...   NaN    NaN         S      Mr\n",
              "\n",
              "[1 rows x 12 columns]"
            ]
          },
          "metadata": {
            "tags": []
          },
          "execution_count": 109
        }
      ]
    },
    {
      "cell_type": "code",
      "metadata": {
        "colab": {
          "base_uri": "https://localhost:8080/"
        },
        "id": "eSJchHxpQw8c",
        "outputId": "e1ad6620-8182-4cc1-b865-056c6493643a"
      },
      "source": [
        "test.loc[(test['Pclass'] == 3) & (test.Sex == 'male') & (test.Embarked == 'S') & ((test.Age >= 40) & (test.Age <= 70)), 'Fare'].mean()"
      ],
      "execution_count": null,
      "outputs": [
        {
          "output_type": "execute_result",
          "data": {
            "text/plain": [
              "20.60555"
            ]
          },
          "metadata": {
            "tags": []
          },
          "execution_count": 114
        }
      ]
    },
    {
      "cell_type": "code",
      "metadata": {
        "id": "zgRTWAQmSKHF"
      },
      "source": [
        "test.loc[test.Fare.isnull() == True, 'Fare'] = 20.6 # 조건에 얼추맞는 값으로 채워줌"
      ],
      "execution_count": null,
      "outputs": []
    },
    {
      "cell_type": "code",
      "metadata": {
        "colab": {
          "base_uri": "https://localhost:8080/"
        },
        "id": "BCJ948abSefy",
        "outputId": "1c627524-1114-4081-80c4-357e9307008b"
      },
      "source": [
        "test.isnull().sum()"
      ],
      "execution_count": null,
      "outputs": [
        {
          "output_type": "execute_result",
          "data": {
            "text/plain": [
              "PassengerId      0\n",
              "Pclass           0\n",
              "Name             0\n",
              "Sex              0\n",
              "Age              0\n",
              "SibSp            0\n",
              "Parch            0\n",
              "Ticket           0\n",
              "Fare             0\n",
              "Cabin          327\n",
              "Embarked         0\n",
              "Initial          0\n",
              "dtype: int64"
            ]
          },
          "metadata": {
            "tags": []
          },
          "execution_count": 121
        }
      ]
    },
    {
      "cell_type": "markdown",
      "metadata": {
        "id": "gIhVtASZCDZi"
      },
      "source": [
        "## 상관관계 분석"
      ]
    },
    {
      "cell_type": "code",
      "metadata": {
        "colab": {
          "base_uri": "https://localhost:8080/",
          "height": 334
        },
        "id": "JLXqaBtdA61a",
        "outputId": "331c04e3-fe44-4a1f-d58f-d028edcee14b"
      },
      "source": [
        "# 상관분석(corr)를 heatmap으로 그려보면 Survived는 Fare과 양의 상관관계, Pclass와 음의 상관관계에 있다.\r\n",
        "sns.heatmap(train.corr(), annot=True)"
      ],
      "execution_count": null,
      "outputs": [
        {
          "output_type": "execute_result",
          "data": {
            "text/plain": [
              "<matplotlib.axes._subplots.AxesSubplot at 0x7fd217b3a710>"
            ]
          },
          "metadata": {
            "tags": []
          },
          "execution_count": 102
        },
        {
          "output_type": "display_data",
          "data": {
            "image/png": "[encoded data removed]",
            "text/plain": [
              "<Figure size 432x288 with 2 Axes>"
            ]
          },
          "metadata": {
            "tags": [],
            "needs_background": "light"
          }
        }
      ]
    },
    {
      "cell_type": "code",
      "metadata": {
        "colab": {
          "base_uri": "https://localhost:8080/"
        },
        "id": "6xi-WcqNCB8-",
        "outputId": "eb78b700-2814-4903-b1e1-3e9fb19421bf"
      },
      "source": [
        "train.Fare.describe()"
      ],
      "execution_count": null,
      "outputs": [
        {
          "output_type": "execute_result",
          "data": {
            "text/plain": [
              "count    891.000000\n",
              "mean      32.204208\n",
              "std       49.693429\n",
              "min        0.000000\n",
              "25%        7.910400\n",
              "50%       14.454200\n",
              "75%       31.000000\n",
              "max      512.329200\n",
              "Name: Fare, dtype: float64"
            ]
          },
          "metadata": {
            "tags": []
          },
          "execution_count": 103
        }
      ]
    },
    {
      "cell_type": "code",
      "metadata": {
        "colab": {
          "base_uri": "https://localhost:8080/",
          "height": 386
        },
        "id": "6y8dL2eKCPrY",
        "outputId": "88aaa0e2-60cf-413e-c935-7af01f058cf6"
      },
      "source": [
        "sns.displot(train.Fare)"
      ],
      "execution_count": null,
      "outputs": [
        {
          "output_type": "execute_result",
          "data": {
            "text/plain": [
              "<seaborn.axisgrid.FacetGrid at 0x7fd22019d780>"
            ]
          },
          "metadata": {
            "tags": []
          },
          "execution_count": 104
        },
        {
          "output_type": "display_data",
          "data": {
            "image/png": "[encoded data removed]",
            "text/plain": [
              "<Figure size 360x360 with 1 Axes>"
            ]
          },
          "metadata": {
            "tags": [],
            "needs_background": "light"
          }
        }
      ]
    },
    {
      "cell_type": "code",
      "metadata": {
        "colab": {
          "base_uri": "https://localhost:8080/",
          "height": 333
        },
        "id": "cz0bZq-IDH42",
        "outputId": "d1c1336f-087b-4ec4-85a5-da510b7db526"
      },
      "source": [
        "# 요금을 보면 Pclass등급이 높을 수록(숫자가 낮을수록) 요금이 비싸다\r\n",
        "f, ax = plt.subplots(nrows=1, ncols=3, figsize=(15,5))\r\n",
        "for i in range(3):\r\n",
        "  ax[i].set_xlim([0,500]) # 가로 길이\r\n",
        "  sns.distplot(train[train['Pclass'] == i+1].Fare, ax=ax[i])"
      ],
      "execution_count": null,
      "outputs": [
        {
          "output_type": "display_data",
          "data": {
            "image/png": "[encoded data removed]",
            "text/plain": [
              "<Figure size 1080x360 with 3 Axes>"
            ]
          },
          "metadata": {
            "tags": [],
            "needs_background": "light"
          }
        }
      ]
    },
    {
      "cell_type": "code",
      "metadata": {
        "colab": {
          "base_uri": "https://localhost:8080/",
          "height": 297
        },
        "id": "nBTkKQVYgFZq",
        "outputId": "93695e52-6af5-48e7-bbea-20893e500c8b"
      },
      "source": [
        "sns.barplot(data = train, x='Pclass',y='Survived', hue='Sex') # 여성의 생존율이 높다."
      ],
      "execution_count": null,
      "outputs": [
        {
          "output_type": "execute_result",
          "data": {
            "text/plain": [
              "<matplotlib.axes._subplots.AxesSubplot at 0x7fd21ffbe588>"
            ]
          },
          "metadata": {
            "tags": []
          },
          "execution_count": 106
        },
        {
          "output_type": "display_data",
          "data": {
            "image/png": "[encoded data removed]",
            "text/plain": [
              "<Figure size 432x288 with 1 Axes>"
            ]
          },
          "metadata": {
            "tags": [],
            "needs_background": "light"
          }
        }
      ]
    },
    {
      "cell_type": "markdown",
      "metadata": {
        "id": "AyexAzCdK__R"
      },
      "source": [
        "## EDA정리   \r\n",
        "Survived와 Fare는 양의 상관관계     \r\n",
        "Survived와 Pclass는 음의 상관관계     \r\n",
        "여성의 생존율이 더 높다    \r\n",
        "Age에 관해선 더 볼 필요가 있다."
      ]
    },
    {
      "cell_type": "markdown",
      "metadata": {
        "id": "yyl9C8OxRKDL"
      },
      "source": [
        "Age의 연속적인 값은 모델예측에 장애가 될 수 있다.     \r\n",
        "묶어서 범주화 시키는게 모델이 도움이 될 수 있다."
      ]
    },
    {
      "cell_type": "code",
      "metadata": {
        "colab": {
          "base_uri": "https://localhost:8080/"
        },
        "id": "wmg1BBkmRZYv",
        "outputId": "1bc99ee1-982c-44e0-e186-b616ddfd0481"
      },
      "source": [
        "for com in combine:\r\n",
        "  com['Age_band']=0\r\n",
        "  com.loc[com['Age']<=16,'Age_band']=0\r\n",
        "  com.loc[(com['Age']>16)&(com['Age']<=32),'Age_band']=1\r\n",
        "  com.loc[(com['Age']>32)&(com['Age']<=48),'Age_band']=2\r\n",
        "  com.loc[(com['Age']>48)&(com['Age']<=64),'Age_band']=3\r\n",
        "  com.loc[com['Age']>64,'Age_band']=4\r\n",
        "train.Age_band.head(), test.Age_band.head()"
      ],
      "execution_count": null,
      "outputs": [
        {
          "output_type": "execute_result",
          "data": {
            "text/plain": [
              "(0    1\n",
              " 1    2\n",
              " 2    1\n",
              " 3    2\n",
              " 4    2\n",
              " Name: Age_band, dtype: int64, 0    2\n",
              " 1    2\n",
              " 2    3\n",
              " 3    1\n",
              " 4    1\n",
              " Name: Age_band, dtype: int64)"
            ]
          },
          "metadata": {
            "tags": []
          },
          "execution_count": 122
        }
      ]
    },
    {
      "cell_type": "code",
      "metadata": {
        "colab": {
          "base_uri": "https://localhost:8080/",
          "height": 297
        },
        "id": "i24w_qcoRqNp",
        "outputId": "d38651f9-08f0-42ab-adaf-3ee737258b3b"
      },
      "source": [
        "sns.barplot(data = train, x='Age_band', y='Survived',hue='Pclass')# 나이가 어릴수록 생존률이 높아지는 경향이 보인다."
      ],
      "execution_count": null,
      "outputs": [
        {
          "output_type": "execute_result",
          "data": {
            "text/plain": [
              "<matplotlib.axes._subplots.AxesSubplot at 0x7fd22a433d30>"
            ]
          },
          "metadata": {
            "tags": []
          },
          "execution_count": 30
        },
        {
          "output_type": "display_data",
          "data": {
            "image/png": "[encoded data removed]",
            "text/plain": [
              "<Figure size 432x288 with 1 Axes>"
            ]
          },
          "metadata": {
            "tags": [],
            "needs_background": "light"
          }
        }
      ]
    },
    {
      "cell_type": "code",
      "metadata": {
        "colab": {
          "base_uri": "https://localhost:8080/"
        },
        "id": "ryljOnwTWd0t",
        "outputId": "30745b97-31e1-4e2f-828f-db9fd7895aba"
      },
      "source": [
        "train.info()"
      ],
      "execution_count": null,
      "outputs": [
        {
          "output_type": "stream",
          "text": [
            "<class 'pandas.core.frame.DataFrame'>\n",
            "RangeIndex: 891 entries, 0 to 890\n",
            "Data columns (total 14 columns):\n",
            " #   Column       Non-Null Count  Dtype  \n",
            "---  ------       --------------  -----  \n",
            " 0   PassengerId  891 non-null    int64  \n",
            " 1   Survived     891 non-null    int64  \n",
            " 2   Pclass       891 non-null    int64  \n",
            " 3   Name         891 non-null    object \n",
            " 4   Sex          891 non-null    int64  \n",
            " 5   Age          891 non-null    float64\n",
            " 6   SibSp        891 non-null    int64  \n",
            " 7   Parch        891 non-null    int64  \n",
            " 8   Ticket       891 non-null    object \n",
            " 9   Fare         891 non-null    float64\n",
            " 10  Cabin        204 non-null    object \n",
            " 11  Embarked     891 non-null    int64  \n",
            " 12  Initial      891 non-null    int64  \n",
            " 13  Age_band     891 non-null    int64  \n",
            "dtypes: float64(2), int64(9), object(3)\n",
            "memory usage: 97.6+ KB\n"
          ],
          "name": "stdout"
        }
      ]
    },
    {
      "cell_type": "code",
      "metadata": {
        "colab": {
          "base_uri": "https://localhost:8080/"
        },
        "id": "IyaL-LABYLA-",
        "outputId": "ed361e42-bcfa-4014-cbae-ccc1b8ac4d71"
      },
      "source": [
        "# 사용해야할 feature중에서 object타입이 있다. 이를 수치형으로 바꾸어야한다.\r\n",
        "o_col = [col for col in train.columns if train[col].dtype == 'object']\r\n",
        "o_col # 이 중에서 Name, Ticket, Cabin값들은 버릴 것이다."
      ],
      "execution_count": null,
      "outputs": [
        {
          "output_type": "execute_result",
          "data": {
            "text/plain": [
              "['Name', 'Ticket', 'Cabin']"
            ]
          },
          "metadata": {
            "tags": []
          },
          "execution_count": 129
        }
      ]
    },
    {
      "cell_type": "code",
      "metadata": {
        "id": "9YioUMk8Zjg7"
      },
      "source": [
        "o_col.remove('Name')\r\n",
        "o_col.remove('Ticket')\r\n",
        "o_col.remove('Cabin')"
      ],
      "execution_count": null,
      "outputs": []
    },
    {
      "cell_type": "code",
      "metadata": {
        "id": "QGnXsBFYZMLt"
      },
      "source": [
        "# LabelEncoder로 object타입이였던 데이터들을 숫자로 바꾸었다\r\n",
        "from sklearn.preprocessing import LabelEncoder\r\n",
        "for col in o_col:\r\n",
        "  encoder = LabelEncoder()\r\n",
        "  train[col] = encoder.fit_transform(train[col])\r\n",
        "  test[col] = encoder.fit_transform(test[col])"
      ],
      "execution_count": null,
      "outputs": []
    },
    {
      "cell_type": "code",
      "metadata": {
        "colab": {
          "base_uri": "https://localhost:8080/"
        },
        "id": "0vqLItAvaQXq",
        "outputId": "05b2311a-e929-474a-a40f-d527874a11ad"
      },
      "source": [
        "# 모두 수치형으로 바뀐 것을 확인 할 수 있다. Name, Ticket, cabin 제외\r\n",
        "train.info()\r\n",
        "test.info()"
      ],
      "execution_count": null,
      "outputs": [
        {
          "output_type": "stream",
          "text": [
            "<class 'pandas.core.frame.DataFrame'>\n",
            "RangeIndex: 891 entries, 0 to 890\n",
            "Data columns (total 14 columns):\n",
            " #   Column       Non-Null Count  Dtype  \n",
            "---  ------       --------------  -----  \n",
            " 0   PassengerId  891 non-null    int64  \n",
            " 1   Survived     891 non-null    int64  \n",
            " 2   Pclass       891 non-null    int64  \n",
            " 3   Name         891 non-null    object \n",
            " 4   Sex          891 non-null    int64  \n",
            " 5   Age          891 non-null    float64\n",
            " 6   SibSp        891 non-null    int64  \n",
            " 7   Parch        891 non-null    int64  \n",
            " 8   Ticket       891 non-null    object \n",
            " 9   Fare         891 non-null    float64\n",
            " 10  Cabin        204 non-null    object \n",
            " 11  Embarked     891 non-null    int64  \n",
            " 12  Initial      891 non-null    int64  \n",
            " 13  Age_band     891 non-null    int64  \n",
            "dtypes: float64(2), int64(9), object(3)\n",
            "memory usage: 97.6+ KB\n",
            "<class 'pandas.core.frame.DataFrame'>\n",
            "RangeIndex: 418 entries, 0 to 417\n",
            "Data columns (total 13 columns):\n",
            " #   Column       Non-Null Count  Dtype  \n",
            "---  ------       --------------  -----  \n",
            " 0   PassengerId  418 non-null    int64  \n",
            " 1   Pclass       418 non-null    int64  \n",
            " 2   Name         418 non-null    object \n",
            " 3   Sex          418 non-null    int64  \n",
            " 4   Age          418 non-null    float64\n",
            " 5   SibSp        418 non-null    int64  \n",
            " 6   Parch        418 non-null    int64  \n",
            " 7   Ticket       418 non-null    object \n",
            " 8   Fare         418 non-null    float64\n",
            " 9   Cabin        91 non-null     object \n",
            " 10  Embarked     418 non-null    int64  \n",
            " 11  Initial      418 non-null    int64  \n",
            " 12  Age_band     418 non-null    int64  \n",
            "dtypes: float64(2), int64(8), object(3)\n",
            "memory usage: 42.6+ KB\n"
          ],
          "name": "stdout"
        }
      ]
    },
    {
      "cell_type": "code",
      "metadata": {
        "id": "sKYKgb0ubnJ7"
      },
      "source": [
        "# 사용하지 않을 데이터들을 지운다.\r\n",
        "train.drop(['Name','Age','Ticket','Cabin','PassengerId'],axis=1,inplace=True)\r\n",
        "test.drop(['Name','Age','Ticket','Cabin','PassengerId'],axis=1,inplace=True)"
      ],
      "execution_count": null,
      "outputs": []
    },
    {
      "cell_type": "code",
      "metadata": {
        "colab": {
          "base_uri": "https://localhost:8080/",
          "height": 324
        },
        "id": "-joc8ECqb7YB",
        "outputId": "aa0fc424-25c7-431a-96c4-48c4c831b98a"
      },
      "source": [
        "sns.heatmap(train.corr(), annot=True)"
      ],
      "execution_count": null,
      "outputs": [
        {
          "output_type": "execute_result",
          "data": {
            "text/plain": [
              "<matplotlib.axes._subplots.AxesSubplot at 0x7fd21fcb6eb8>"
            ]
          },
          "metadata": {
            "tags": []
          },
          "execution_count": 133
        },
        {
          "output_type": "display_data",
          "data": {
            "image/png": "[encoded data removed]",
            "text/plain": [
              "<Figure size 432x288 with 2 Axes>"
            ]
          },
          "metadata": {
            "tags": [],
            "needs_background": "light"
          }
        }
      ]
    },
    {
      "cell_type": "code",
      "metadata": {
        "colab": {
          "base_uri": "https://localhost:8080/"
        },
        "id": "pAPulxPqb3Xk",
        "outputId": "1baaf2d6-a24f-48fb-ee06-5187dbca35b9"
      },
      "source": [
        "X_feature = train.columns.tolist()\r\n",
        "X_feature.remove('Survived')\r\n",
        "X_feature"
      ],
      "execution_count": null,
      "outputs": [
        {
          "output_type": "execute_result",
          "data": {
            "text/plain": [
              "['Pclass', 'Sex', 'SibSp', 'Parch', 'Fare', 'Embarked', 'Initial', 'Age_band']"
            ]
          },
          "metadata": {
            "tags": []
          },
          "execution_count": 134
        }
      ]
    },
    {
      "cell_type": "code",
      "metadata": {
        "colab": {
          "base_uri": "https://localhost:8080/"
        },
        "id": "2-3tuAy_dUuW",
        "outputId": "29850ebc-8263-4ccc-a0eb-1d5a35f15361"
      },
      "source": [
        "test.columns.tolist()"
      ],
      "execution_count": null,
      "outputs": [
        {
          "output_type": "execute_result",
          "data": {
            "text/plain": [
              "['Pclass', 'Sex', 'SibSp', 'Parch', 'Fare', 'Embarked', 'Initial', 'Age_band']"
            ]
          },
          "metadata": {
            "tags": []
          },
          "execution_count": 135
        }
      ]
    },
    {
      "cell_type": "markdown",
      "metadata": {
        "id": "Qrm2tBB_dSv3"
      },
      "source": [
        "## 학습"
      ]
    },
    {
      "cell_type": "markdown",
      "metadata": {
        "id": "Gpj0UybWuQ9I"
      },
      "source": [
        "1)Logistic Regression\r\n",
        "\r\n",
        "2)Support Vector Machines(Linear and radial)\r\n",
        "\r\n",
        "3)Random Forest\r\n",
        "\r\n",
        "4)K-Nearest Neighbours\r\n",
        "\r\n",
        "5)Naive Bayes\r\n",
        "\r\n",
        "6)Decision Tree\r\n",
        "\r\n",
        "7)Logistic Regression     \r\n",
        "      \r\n",
        "위 알고리즘들을 사용해 보겠다"
      ]
    },
    {
      "cell_type": "code",
      "metadata": {
        "id": "NUDvJcohWeMS"
      },
      "source": [
        "#importing all the required ML packages\r\n",
        "from sklearn.linear_model import LogisticRegression #logistic regression\r\n",
        "from sklearn import svm #support vector Machine\r\n",
        "from sklearn.ensemble import RandomForestClassifier #Random Forest\r\n",
        "from sklearn.neighbors import KNeighborsClassifier #KNN\r\n",
        "from sklearn.naive_bayes import GaussianNB #Naive bayes\r\n",
        "from sklearn.tree import DecisionTreeClassifier #Decision Tree\r\n",
        "from sklearn.model_selection import train_test_split #training and testing data split\r\n",
        "from sklearn import metrics #accuracy measure\r\n",
        "from sklearn.metrics import confusion_matrix #for confusion matrix"
      ],
      "execution_count": null,
      "outputs": []
    },
    {
      "cell_type": "code",
      "metadata": {
        "id": "mAPpaIG0WeVA"
      },
      "source": [
        "# train_m, test_m 모두 train_X, train_Y , test_X, test_Y 를 나누기위해 만든 데이터(test_m은 검증용, test와는 다르다)\r\n",
        "# stratifiy로 비율을 유지하면서 나눈다.\r\n",
        "train_m,test_m=train_test_split(train,test_size=0.3,random_state=0,stratify=train['Survived'])\r\n",
        "# train_X를 학습데이터로, train_Y를 학습데이터로 사용한다.\r\n",
        "train_X=train_m[train_m.columns[1:]]\r\n",
        "train_Y=train_m[train_m.columns[:1]]\r\n",
        "# 검증데이터로 test_X, test_Y를 사용한다.\r\n",
        "test_X=test_m[test_m.columns[1:]]\r\n",
        "test_Y=test_m[test_m.columns[:1]]\r\n",
        "# 전체 데이터도 X, Y로 나눈다.\r\n",
        "X=train[train.columns[1:]]\r\n",
        "Y=train['Survived']"
      ],
      "execution_count": null,
      "outputs": []
    },
    {
      "cell_type": "code",
      "metadata": {
        "colab": {
          "base_uri": "https://localhost:8080/"
        },
        "id": "f8w3wwyXsE55",
        "outputId": "4adda933-dde8-4410-aea3-fe07c2826883"
      },
      "source": [
        "train_m.shape, test_m.shape, train_X.shape, train_Y.shape"
      ],
      "execution_count": null,
      "outputs": [
        {
          "output_type": "execute_result",
          "data": {
            "text/plain": [
              "((623, 9), (268, 9), (623, 8), (623, 1))"
            ]
          },
          "metadata": {
            "tags": []
          },
          "execution_count": 139
        }
      ]
    },
    {
      "cell_type": "code",
      "metadata": {
        "colab": {
          "base_uri": "https://localhost:8080/"
        },
        "id": "mIrHd9PysjxH",
        "outputId": "af0b5fcb-2f8f-449f-a0ff-8b7fafab28b9"
      },
      "source": [
        "X.shape, Y.shape"
      ],
      "execution_count": null,
      "outputs": [
        {
          "output_type": "execute_result",
          "data": {
            "text/plain": [
              "((891, 8), (891,))"
            ]
          },
          "metadata": {
            "tags": []
          },
          "execution_count": 140
        }
      ]
    },
    {
      "cell_type": "markdown",
      "metadata": {
        "id": "Cp4mXu3bu2D2"
      },
      "source": [
        "파라미터는 거의 막판에 고치는데 감을 잡는게 중요하다     \r\n",
        "때문에 실력을 키우려면 그리드나 랜덤서치로 찾는것보다 하나하나 해보는 것이 중요"
      ]
    },
    {
      "cell_type": "markdown",
      "metadata": {
        "id": "1eMgc62mv-bQ"
      },
      "source": [
        "Radial Support Vector Machines(rbf-SVM)"
      ]
    },
    {
      "cell_type": "code",
      "metadata": {
        "colab": {
          "base_uri": "https://localhost:8080/"
        },
        "id": "EcqXOprFtNFR",
        "outputId": "440c7a11-9004-4630-8065-75e83163bf07"
      },
      "source": [
        "# probability를 True로 해야 predict_proba(정답이라고 예측하는 확률값)을 볼수 있다\r\n",
        "model=svm.SVC(kernel='rbf',C=1,gamma=0.1, probability= True)\r\n",
        "model.fit(train_X,train_Y)\r\n",
        "prediction1=model.predict(test_X)\r\n",
        "print('Accuracy for rbf SVM is ',metrics.accuracy_score(prediction1,test_Y))"
      ],
      "execution_count": null,
      "outputs": [
        {
          "output_type": "stream",
          "text": [
            "Accuracy for rbf SVM is  0.7910447761194029\n"
          ],
          "name": "stdout"
        }
      ]
    },
    {
      "cell_type": "code",
      "metadata": {
        "colab": {
          "base_uri": "https://localhost:8080/"
        },
        "id": "C8Gujdk5wg3Y",
        "outputId": "22366494-f20a-479b-cd11-53d4005948ed"
      },
      "source": [
        "model.predict_proba(test_X)[:10]"
      ],
      "execution_count": null,
      "outputs": [
        {
          "output_type": "execute_result",
          "data": {
            "text/plain": [
              "array([[0.83343484, 0.16656516],\n",
              "       [0.4736907 , 0.5263093 ],\n",
              "       [0.85303473, 0.14696527],\n",
              "       [0.28900826, 0.71099174],\n",
              "       [0.82549592, 0.17450408],\n",
              "       [0.20701469, 0.79298531],\n",
              "       [0.85070793, 0.14929207],\n",
              "       [0.84831926, 0.15168074],\n",
              "       [0.60936825, 0.39063175],\n",
              "       [0.65530629, 0.34469371]])"
            ]
          },
          "metadata": {
            "tags": []
          },
          "execution_count": 44
        }
      ]
    },
    {
      "cell_type": "code",
      "metadata": {
        "colab": {
          "base_uri": "https://localhost:8080/"
        },
        "id": "gEQG931P68vh",
        "outputId": "c38bc520-a2aa-464f-c56b-f9a93154c00d"
      },
      "source": [
        "# 임계값에 따라 정확도가 달라진다.\r\n",
        "score = []\r\n",
        "for i_thres in np.arange(0, 1, 0.01):\r\n",
        "  threshold = i_thres\r\n",
        "  prediction1=(model.predict_proba(test_X)[:,1] > threshold).astype(int) \r\n",
        "  score.append(metrics.accuracy_score(test_Y, prediction1))\r\n",
        "\r\n",
        "score"
      ],
      "execution_count": null,
      "outputs": [
        {
          "output_type": "execute_result",
          "data": {
            "text/plain": [
              "[0.3843283582089552,\n",
              " 0.3843283582089552,\n",
              " 0.3843283582089552,\n",
              " 0.3843283582089552,\n",
              " 0.3843283582089552,\n",
              " 0.3843283582089552,\n",
              " 0.3843283582089552,\n",
              " 0.3843283582089552,\n",
              " 0.3843283582089552,\n",
              " 0.3843283582089552,\n",
              " 0.3805970149253731,\n",
              " 0.3805970149253731,\n",
              " 0.3843283582089552,\n",
              " 0.3917910447761194,\n",
              " 0.41044776119402987,\n",
              " 0.503731343283582,\n",
              " 0.6977611940298507,\n",
              " 0.7201492537313433,\n",
              " 0.75,\n",
              " 0.753731343283582,\n",
              " 0.7574626865671642,\n",
              " 0.7611940298507462,\n",
              " 0.7574626865671642,\n",
              " 0.75,\n",
              " 0.75,\n",
              " 0.75,\n",
              " 0.75,\n",
              " 0.75,\n",
              " 0.7574626865671642,\n",
              " 0.753731343283582,\n",
              " 0.753731343283582,\n",
              " 0.7574626865671642,\n",
              " 0.7649253731343284,\n",
              " 0.7649253731343284,\n",
              " 0.7686567164179104,\n",
              " 0.7649253731343284,\n",
              " 0.7686567164179104,\n",
              " 0.7686567164179104,\n",
              " 0.7761194029850746,\n",
              " 0.7761194029850746,\n",
              " 0.7723880597014925,\n",
              " 0.7798507462686567,\n",
              " 0.7798507462686567,\n",
              " 0.7835820895522388,\n",
              " 0.7873134328358209,\n",
              " 0.7910447761194029,\n",
              " 0.7910447761194029,\n",
              " 0.7910447761194029,\n",
              " 0.7947761194029851,\n",
              " 0.7947761194029851,\n",
              " 0.7947761194029851,\n",
              " 0.7947761194029851,\n",
              " 0.7985074626865671,\n",
              " 0.7835820895522388,\n",
              " 0.7798507462686567,\n",
              " 0.7723880597014925,\n",
              " 0.7686567164179104,\n",
              " 0.7686567164179104,\n",
              " 0.7611940298507462,\n",
              " 0.75,\n",
              " 0.75,\n",
              " 0.746268656716418,\n",
              " 0.7313432835820896,\n",
              " 0.7313432835820896,\n",
              " 0.7388059701492538,\n",
              " 0.7388059701492538,\n",
              " 0.7350746268656716,\n",
              " 0.7238805970149254,\n",
              " 0.7164179104477612,\n",
              " 0.7164179104477612,\n",
              " 0.7126865671641791,\n",
              " 0.7089552238805971,\n",
              " 0.7089552238805971,\n",
              " 0.7089552238805971,\n",
              " 0.7089552238805971,\n",
              " 0.6977611940298507,\n",
              " 0.6977611940298507,\n",
              " 0.6940298507462687,\n",
              " 0.6865671641791045,\n",
              " 0.6865671641791045,\n",
              " 0.6567164179104478,\n",
              " 0.6380597014925373,\n",
              " 0.6305970149253731,\n",
              " 0.6268656716417911,\n",
              " 0.6194029850746269,\n",
              " 0.6156716417910447,\n",
              " 0.6156716417910447,\n",
              " 0.6156716417910447,\n",
              " 0.6156716417910447,\n",
              " 0.6156716417910447,\n",
              " 0.6156716417910447,\n",
              " 0.6156716417910447,\n",
              " 0.6156716417910447,\n",
              " 0.6156716417910447,\n",
              " 0.6156716417910447,\n",
              " 0.6156716417910447,\n",
              " 0.6156716417910447,\n",
              " 0.6156716417910447,\n",
              " 0.6156716417910447,\n",
              " 0.6156716417910447]"
            ]
          },
          "metadata": {
            "tags": []
          },
          "execution_count": 45
        }
      ]
    },
    {
      "cell_type": "code",
      "metadata": {
        "colab": {
          "base_uri": "https://localhost:8080/",
          "height": 314
        },
        "id": "ZK_VcOlC9yjA",
        "outputId": "b4bf872b-4dad-4d22-d22b-3d543a508053"
      },
      "source": [
        "print('best threshold:' , np.argmax(score)/100)\r\n",
        "plt.plot(np.arange(0,1,0.01), score)\r\n",
        "plt.xlabel('threshold')\r\n",
        "plt.ylabel('accuracy score')"
      ],
      "execution_count": null,
      "outputs": [
        {
          "output_type": "stream",
          "text": [
            "best threshold: 0.52\n"
          ],
          "name": "stdout"
        },
        {
          "output_type": "execute_result",
          "data": {
            "text/plain": [
              "Text(0, 0.5, 'accuracy score')"
            ]
          },
          "metadata": {
            "tags": []
          },
          "execution_count": 46
        },
        {
          "output_type": "display_data",
          "data": {
            "image/png": "[encoded data removed]",
            "text/plain": [
              "<Figure size 432x288 with 1 Axes>"
            ]
          },
          "metadata": {
            "tags": [],
            "needs_background": "light"
          }
        }
      ]
    },
    {
      "cell_type": "markdown",
      "metadata": {
        "id": "PWIwWhSdWe6k"
      },
      "source": [
        "Linear Support Vector Machine(linear-SVM)"
      ]
    },
    {
      "cell_type": "code",
      "metadata": {
        "colab": {
          "base_uri": "https://localhost:8080/"
        },
        "id": "H8ZYka1twED-",
        "outputId": "6c73758b-8c0a-47f5-8a13-04a19adb988f"
      },
      "source": [
        "model=svm.SVC(kernel='linear',C=0.1,gamma=0.1, probability=True)\r\n",
        "model.fit(train_X,train_Y)\r\n",
        "prediction2=model.predict(test_X)\r\n",
        "print('Accuracy for linear SVM is',metrics.accuracy_score(prediction2,test_Y))"
      ],
      "execution_count": null,
      "outputs": [
        {
          "output_type": "stream",
          "text": [
            "Accuracy for linear SVM is 0.7910447761194029\n"
          ],
          "name": "stdout"
        }
      ]
    },
    {
      "cell_type": "code",
      "metadata": {
        "colab": {
          "base_uri": "https://localhost:8080/"
        },
        "id": "E1BXkD_qWfPX",
        "outputId": "d8abb22e-8feb-4c18-cf33-2d736b2fff95"
      },
      "source": [
        "# 임계값에 따라 정확도가 달라진다.\r\n",
        "score = []\r\n",
        "for i_thres in np.arange(0, 1, 0.01):\r\n",
        "  threshold = i_thres\r\n",
        "  prediction2=(model.predict_proba(test_X)[:,1] > threshold).astype(int) \r\n",
        "  score.append(metrics.accuracy_score(test_Y, prediction2))\r\n",
        "  \r\n",
        "print('best threshold:' , np.argmax(score)/100)\r\n",
        "score"
      ],
      "execution_count": null,
      "outputs": [
        {
          "output_type": "stream",
          "text": [
            "best threshold: 0.2\n"
          ],
          "name": "stdout"
        },
        {
          "output_type": "execute_result",
          "data": {
            "text/plain": [
              "[0.3843283582089552,\n",
              " 0.3843283582089552,\n",
              " 0.3843283582089552,\n",
              " 0.3843283582089552,\n",
              " 0.3843283582089552,\n",
              " 0.3843283582089552,\n",
              " 0.3843283582089552,\n",
              " 0.3843283582089552,\n",
              " 0.3843283582089552,\n",
              " 0.3843283582089552,\n",
              " 0.3843283582089552,\n",
              " 0.3843283582089552,\n",
              " 0.3843283582089552,\n",
              " 0.3843283582089552,\n",
              " 0.3843283582089552,\n",
              " 0.3843283582089552,\n",
              " 0.3843283582089552,\n",
              " 0.3843283582089552,\n",
              " 0.3843283582089552,\n",
              " 0.3843283582089552,\n",
              " 0.7910447761194029,\n",
              " 0.7910447761194029,\n",
              " 0.7910447761194029,\n",
              " 0.7910447761194029,\n",
              " 0.7910447761194029,\n",
              " 0.7910447761194029,\n",
              " 0.7910447761194029,\n",
              " 0.7910447761194029,\n",
              " 0.7910447761194029,\n",
              " 0.7910447761194029,\n",
              " 0.7910447761194029,\n",
              " 0.7910447761194029,\n",
              " 0.7910447761194029,\n",
              " 0.7910447761194029,\n",
              " 0.7910447761194029,\n",
              " 0.7910447761194029,\n",
              " 0.7910447761194029,\n",
              " 0.7910447761194029,\n",
              " 0.7910447761194029,\n",
              " 0.7910447761194029,\n",
              " 0.7910447761194029,\n",
              " 0.7910447761194029,\n",
              " 0.7910447761194029,\n",
              " 0.7910447761194029,\n",
              " 0.7910447761194029,\n",
              " 0.7910447761194029,\n",
              " 0.7910447761194029,\n",
              " 0.7910447761194029,\n",
              " 0.7910447761194029,\n",
              " 0.7910447761194029,\n",
              " 0.7910447761194029,\n",
              " 0.7910447761194029,\n",
              " 0.7910447761194029,\n",
              " 0.7910447761194029,\n",
              " 0.7910447761194029,\n",
              " 0.7910447761194029,\n",
              " 0.7910447761194029,\n",
              " 0.7910447761194029,\n",
              " 0.7910447761194029,\n",
              " 0.7910447761194029,\n",
              " 0.7910447761194029,\n",
              " 0.7910447761194029,\n",
              " 0.7910447761194029,\n",
              " 0.7910447761194029,\n",
              " 0.7910447761194029,\n",
              " 0.7910447761194029,\n",
              " 0.7910447761194029,\n",
              " 0.7910447761194029,\n",
              " 0.7910447761194029,\n",
              " 0.7910447761194029,\n",
              " 0.7910447761194029,\n",
              " 0.7910447761194029,\n",
              " 0.7910447761194029,\n",
              " 0.7910447761194029,\n",
              " 0.6156716417910447,\n",
              " 0.6156716417910447,\n",
              " 0.6156716417910447,\n",
              " 0.6156716417910447,\n",
              " 0.6156716417910447,\n",
              " 0.6156716417910447,\n",
              " 0.6156716417910447,\n",
              " 0.6156716417910447,\n",
              " 0.6156716417910447,\n",
              " 0.6156716417910447,\n",
              " 0.6156716417910447,\n",
              " 0.6156716417910447,\n",
              " 0.6156716417910447,\n",
              " 0.6156716417910447,\n",
              " 0.6156716417910447,\n",
              " 0.6156716417910447,\n",
              " 0.6156716417910447,\n",
              " 0.6156716417910447,\n",
              " 0.6156716417910447,\n",
              " 0.6156716417910447,\n",
              " 0.6156716417910447,\n",
              " 0.6156716417910447,\n",
              " 0.6156716417910447,\n",
              " 0.6156716417910447,\n",
              " 0.6156716417910447,\n",
              " 0.6156716417910447]"
            ]
          },
          "metadata": {
            "tags": []
          },
          "execution_count": 48
        }
      ]
    },
    {
      "cell_type": "code",
      "metadata": {
        "colab": {
          "base_uri": "https://localhost:8080/",
          "height": 314
        },
        "id": "eYJQg-pVWfZS",
        "outputId": "b6da7f9b-b1c6-4c6c-fa94-eeb9fb7ab633"
      },
      "source": [
        "print('best threshold:' , np.argmax(score)/100)\r\n",
        "plt.plot(np.arange(0,1,0.01), score)\r\n",
        "plt.xlabel('threshold')\r\n",
        "plt.ylabel('accuracy score')"
      ],
      "execution_count": null,
      "outputs": [
        {
          "output_type": "stream",
          "text": [
            "best threshold: 0.2\n"
          ],
          "name": "stdout"
        },
        {
          "output_type": "execute_result",
          "data": {
            "text/plain": [
              "Text(0, 0.5, 'accuracy score')"
            ]
          },
          "metadata": {
            "tags": []
          },
          "execution_count": 49
        },
        {
          "output_type": "display_data",
          "data": {
            "image/png": "[encoded data removed]",
            "text/plain": [
              "<Figure size 432x288 with 1 Axes>"
            ]
          },
          "metadata": {
            "tags": [],
            "needs_background": "light"
          }
        }
      ]
    },
    {
      "cell_type": "markdown",
      "metadata": {
        "id": "ecwc6adP_-rb"
      },
      "source": [
        "Logistic Regression"
      ]
    },
    {
      "cell_type": "code",
      "metadata": {
        "colab": {
          "base_uri": "https://localhost:8080/"
        },
        "id": "ZYeHXWpKWfij",
        "outputId": "73d28171-a533-4322-db7b-78cb13a7bc0e"
      },
      "source": [
        "model = LogisticRegression()\r\n",
        "model.fit(train_X,train_Y)\r\n",
        "prediction3=model.predict(test_X)\r\n",
        "print('The accuracy of the Logistic Regression is',metrics.accuracy_score(prediction3,test_Y))"
      ],
      "execution_count": null,
      "outputs": [
        {
          "output_type": "stream",
          "text": [
            "The accuracy of the Logistic Regression is 0.8134328358208955\n"
          ],
          "name": "stdout"
        }
      ]
    },
    {
      "cell_type": "code",
      "metadata": {
        "colab": {
          "base_uri": "https://localhost:8080/"
        },
        "id": "2mM6y75k_MSV",
        "outputId": "904bd3f8-04c9-4736-efca-efd40cc51904"
      },
      "source": [
        "# 임계값에 따라 정확도가 달라진다.\r\n",
        "score = []\r\n",
        "for i_thres in np.arange(0, 1, 0.01):\r\n",
        "  threshold = i_thres\r\n",
        "  prediction3=(model.predict_proba(test_X)[:,1] > threshold).astype(int) \r\n",
        "  score.append(metrics.accuracy_score(test_Y, prediction3))\r\n",
        "  \r\n",
        "print('best threshold:' , np.argmax(score)/100)\r\n",
        "score"
      ],
      "execution_count": null,
      "outputs": [
        {
          "output_type": "stream",
          "text": [
            "best threshold: 0.51\n"
          ],
          "name": "stdout"
        },
        {
          "output_type": "execute_result",
          "data": {
            "text/plain": [
              "[0.3843283582089552,\n",
              " 0.3880597014925373,\n",
              " 0.3880597014925373,\n",
              " 0.3880597014925373,\n",
              " 0.39552238805970147,\n",
              " 0.41044776119402987,\n",
              " 0.4216417910447761,\n",
              " 0.43283582089552236,\n",
              " 0.5298507462686567,\n",
              " 0.5671641791044776,\n",
              " 0.5895522388059702,\n",
              " 0.6044776119402985,\n",
              " 0.6716417910447762,\n",
              " 0.6865671641791045,\n",
              " 0.6940298507462687,\n",
              " 0.7014925373134329,\n",
              " 0.7089552238805971,\n",
              " 0.7164179104477612,\n",
              " 0.7201492537313433,\n",
              " 0.7313432835820896,\n",
              " 0.7313432835820896,\n",
              " 0.7388059701492538,\n",
              " 0.7388059701492538,\n",
              " 0.7350746268656716,\n",
              " 0.7350746268656716,\n",
              " 0.7388059701492538,\n",
              " 0.7388059701492538,\n",
              " 0.7388059701492538,\n",
              " 0.7723880597014925,\n",
              " 0.7761194029850746,\n",
              " 0.7723880597014925,\n",
              " 0.7761194029850746,\n",
              " 0.7761194029850746,\n",
              " 0.7835820895522388,\n",
              " 0.7835820895522388,\n",
              " 0.7835820895522388,\n",
              " 0.7873134328358209,\n",
              " 0.7873134328358209,\n",
              " 0.7947761194029851,\n",
              " 0.7947761194029851,\n",
              " 0.7947761194029851,\n",
              " 0.8022388059701493,\n",
              " 0.8022388059701493,\n",
              " 0.8097014925373134,\n",
              " 0.8097014925373134,\n",
              " 0.8097014925373134,\n",
              " 0.8134328358208955,\n",
              " 0.8097014925373134,\n",
              " 0.8097014925373134,\n",
              " 0.8097014925373134,\n",
              " 0.8134328358208955,\n",
              " 0.8171641791044776,\n",
              " 0.8134328358208955,\n",
              " 0.8134328358208955,\n",
              " 0.8059701492537313,\n",
              " 0.8171641791044776,\n",
              " 0.8171641791044776,\n",
              " 0.8171641791044776,\n",
              " 0.8097014925373134,\n",
              " 0.8097014925373134,\n",
              " 0.8134328358208955,\n",
              " 0.8097014925373134,\n",
              " 0.8059701492537313,\n",
              " 0.8022388059701493,\n",
              " 0.7985074626865671,\n",
              " 0.7985074626865671,\n",
              " 0.7985074626865671,\n",
              " 0.7985074626865671,\n",
              " 0.7910447761194029,\n",
              " 0.7947761194029851,\n",
              " 0.7835820895522388,\n",
              " 0.7611940298507462,\n",
              " 0.7574626865671642,\n",
              " 0.753731343283582,\n",
              " 0.7611940298507462,\n",
              " 0.7611940298507462,\n",
              " 0.7611940298507462,\n",
              " 0.7611940298507462,\n",
              " 0.7611940298507462,\n",
              " 0.7574626865671642,\n",
              " 0.746268656716418,\n",
              " 0.75,\n",
              " 0.7388059701492538,\n",
              " 0.7313432835820896,\n",
              " 0.7238805970149254,\n",
              " 0.7089552238805971,\n",
              " 0.7052238805970149,\n",
              " 0.6865671641791045,\n",
              " 0.6828358208955224,\n",
              " 0.6753731343283582,\n",
              " 0.667910447761194,\n",
              " 0.664179104477612,\n",
              " 0.664179104477612,\n",
              " 0.6604477611940298,\n",
              " 0.6567164179104478,\n",
              " 0.6567164179104478,\n",
              " 0.6455223880597015,\n",
              " 0.6194029850746269,\n",
              " 0.6156716417910447,\n",
              " 0.6156716417910447]"
            ]
          },
          "metadata": {
            "tags": []
          },
          "execution_count": 51
        }
      ]
    },
    {
      "cell_type": "code",
      "metadata": {
        "colab": {
          "base_uri": "https://localhost:8080/",
          "height": 314
        },
        "id": "IQlB07ck_MaW",
        "outputId": "b370c5fc-5250-4b76-b6cb-151f70a041c4"
      },
      "source": [
        "print('best threshold:' , np.argmax(score)/100)\r\n",
        "plt.plot(np.arange(0,1,0.01), score)\r\n",
        "plt.xlabel('threshold')\r\n",
        "plt.ylabel('accuracy_score')"
      ],
      "execution_count": null,
      "outputs": [
        {
          "output_type": "stream",
          "text": [
            "best threshold: 0.51\n"
          ],
          "name": "stdout"
        },
        {
          "output_type": "execute_result",
          "data": {
            "text/plain": [
              "Text(0, 0.5, 'accuracy_score')"
            ]
          },
          "metadata": {
            "tags": []
          },
          "execution_count": 52
        },
        {
          "output_type": "display_data",
          "data": {
            "image/png": "[encoded data removed]",
            "text/plain": [
              "<Figure size 432x288 with 1 Axes>"
            ]
          },
          "metadata": {
            "tags": [],
            "needs_background": "light"
          }
        }
      ]
    },
    {
      "cell_type": "markdown",
      "metadata": {
        "id": "VqvN3o0i_Miw"
      },
      "source": [
        "Decision Tree"
      ]
    },
    {
      "cell_type": "code",
      "metadata": {
        "colab": {
          "base_uri": "https://localhost:8080/"
        },
        "id": "zPReLC0t_Mqv",
        "outputId": "55c43178-4ae0-4663-fb59-59aceea39061"
      },
      "source": [
        "model=DecisionTreeClassifier()\r\n",
        "model.fit(train_X,train_Y)\r\n",
        "prediction4=model.predict(test_X)\r\n",
        "print('The accuracy of the Decision Tree is',metrics.accuracy_score(prediction4,test_Y))\r\n"
      ],
      "execution_count": null,
      "outputs": [
        {
          "output_type": "stream",
          "text": [
            "The accuracy of the Decision Tree is 0.7723880597014925\n"
          ],
          "name": "stdout"
        }
      ]
    },
    {
      "cell_type": "code",
      "metadata": {
        "colab": {
          "base_uri": "https://localhost:8080/"
        },
        "id": "zlynjeY2AdRg",
        "outputId": "1e2c9b9c-8cb9-4a27-b0c3-869c253aab2a"
      },
      "source": [
        "# 임계값에 따라 정확도가 달라진다.\r\n",
        "score = []\r\n",
        "for i_thres in np.arange(0, 1, 0.01):\r\n",
        "  threshold = i_thres\r\n",
        "  prediction4=(model.predict_proba(test_X)[:,1] > threshold).astype(int) \r\n",
        "  score.append(metrics.accuracy_score(test_Y, prediction4))\r\n",
        "  \r\n",
        "print('best threshold:' , np.argmax(score)/100)\r\n",
        "score"
      ],
      "execution_count": null,
      "outputs": [
        {
          "output_type": "stream",
          "text": [
            "best threshold: 0.5\n"
          ],
          "name": "stdout"
        },
        {
          "output_type": "execute_result",
          "data": {
            "text/plain": [
              "[0.6716417910447762,\n",
              " 0.6716417910447762,\n",
              " 0.6716417910447762,\n",
              " 0.6716417910447762,\n",
              " 0.6716417910447762,\n",
              " 0.6716417910447762,\n",
              " 0.6716417910447762,\n",
              " 0.6716417910447762,\n",
              " 0.6977611940298507,\n",
              " 0.6977611940298507,\n",
              " 0.7014925373134329,\n",
              " 0.7014925373134329,\n",
              " 0.7014925373134329,\n",
              " 0.7014925373134329,\n",
              " 0.7014925373134329,\n",
              " 0.7313432835820896,\n",
              " 0.7313432835820896,\n",
              " 0.7313432835820896,\n",
              " 0.7313432835820896,\n",
              " 0.7313432835820896,\n",
              " 0.7574626865671642,\n",
              " 0.7574626865671642,\n",
              " 0.7574626865671642,\n",
              " 0.7574626865671642,\n",
              " 0.7574626865671642,\n",
              " 0.7649253731343284,\n",
              " 0.7649253731343284,\n",
              " 0.7649253731343284,\n",
              " 0.7649253731343284,\n",
              " 0.7649253731343284,\n",
              " 0.7649253731343284,\n",
              " 0.7649253731343284,\n",
              " 0.7649253731343284,\n",
              " 0.7649253731343284,\n",
              " 0.7649253731343284,\n",
              " 0.7649253731343284,\n",
              " 0.7649253731343284,\n",
              " 0.7649253731343284,\n",
              " 0.7649253731343284,\n",
              " 0.7649253731343284,\n",
              " 0.7649253731343284,\n",
              " 0.7649253731343284,\n",
              " 0.7649253731343284,\n",
              " 0.7649253731343284,\n",
              " 0.7649253731343284,\n",
              " 0.7649253731343284,\n",
              " 0.7649253731343284,\n",
              " 0.7649253731343284,\n",
              " 0.7649253731343284,\n",
              " 0.7649253731343284,\n",
              " 0.7723880597014925,\n",
              " 0.7723880597014925,\n",
              " 0.7723880597014925,\n",
              " 0.7723880597014925,\n",
              " 0.7723880597014925,\n",
              " 0.7723880597014925,\n",
              " 0.7723880597014925,\n",
              " 0.7723880597014925,\n",
              " 0.7723880597014925,\n",
              " 0.7723880597014925,\n",
              " 0.7723880597014925,\n",
              " 0.7723880597014925,\n",
              " 0.7723880597014925,\n",
              " 0.7723880597014925,\n",
              " 0.7723880597014925,\n",
              " 0.7723880597014925,\n",
              " 0.7723880597014925,\n",
              " 0.7686567164179104,\n",
              " 0.7686567164179104,\n",
              " 0.7686567164179104,\n",
              " 0.7686567164179104,\n",
              " 0.7686567164179104,\n",
              " 0.7686567164179104,\n",
              " 0.7686567164179104,\n",
              " 0.7686567164179104,\n",
              " 0.7686567164179104,\n",
              " 0.7686567164179104,\n",
              " 0.7686567164179104,\n",
              " 0.7686567164179104,\n",
              " 0.7686567164179104,\n",
              " 0.7686567164179104,\n",
              " 0.7686567164179104,\n",
              " 0.7686567164179104,\n",
              " 0.7686567164179104,\n",
              " 0.7686567164179104,\n",
              " 0.7686567164179104,\n",
              " 0.7686567164179104,\n",
              " 0.7686567164179104,\n",
              " 0.7686567164179104,\n",
              " 0.7686567164179104,\n",
              " 0.7686567164179104,\n",
              " 0.7686567164179104,\n",
              " 0.7686567164179104,\n",
              " 0.7686567164179104,\n",
              " 0.7686567164179104,\n",
              " 0.7686567164179104,\n",
              " 0.7686567164179104,\n",
              " 0.7686567164179104,\n",
              " 0.7686567164179104,\n",
              " 0.7686567164179104]"
            ]
          },
          "metadata": {
            "tags": []
          },
          "execution_count": 54
        }
      ]
    },
    {
      "cell_type": "code",
      "metadata": {
        "colab": {
          "base_uri": "https://localhost:8080/",
          "height": 314
        },
        "id": "f1PLGW8fAmKs",
        "outputId": "2d517554-46ca-43bf-bba5-c1059fb43e7b"
      },
      "source": [
        "print('best threshold:' , np.argmax(score)/100)\r\n",
        "plt.plot(np.arange(0,1,0.01), score)\r\n",
        "plt.xlabel('threshold')\r\n",
        "plt.ylabel('accuracy_score')"
      ],
      "execution_count": null,
      "outputs": [
        {
          "output_type": "stream",
          "text": [
            "best threshold: 0.5\n"
          ],
          "name": "stdout"
        },
        {
          "output_type": "execute_result",
          "data": {
            "text/plain": [
              "Text(0, 0.5, 'accuracy_score')"
            ]
          },
          "metadata": {
            "tags": []
          },
          "execution_count": 55
        },
        {
          "output_type": "display_data",
          "data": {
            "image/png": "[encoded data removed]",
            "text/plain": [
              "<Figure size 432x288 with 1 Axes>"
            ]
          },
          "metadata": {
            "tags": [],
            "needs_background": "light"
          }
        }
      ]
    },
    {
      "cell_type": "markdown",
      "metadata": {
        "id": "Bi74usejAKzr"
      },
      "source": [
        "K-Nearest Neighbours(KNN)"
      ]
    },
    {
      "cell_type": "code",
      "metadata": {
        "colab": {
          "base_uri": "https://localhost:8080/"
        },
        "id": "ARKToabmANv3",
        "outputId": "c8f07733-e6b3-4771-a5c4-1fa33b19955d"
      },
      "source": [
        "model=KNeighborsClassifier() \r\n",
        "model.fit(train_X,train_Y)\r\n",
        "prediction5=model.predict(test_X)\r\n",
        "print('The accuracy of the KNN is',metrics.accuracy_score(prediction5,test_Y))"
      ],
      "execution_count": null,
      "outputs": [
        {
          "output_type": "stream",
          "text": [
            "The accuracy of the KNN is 0.753731343283582\n"
          ],
          "name": "stdout"
        }
      ]
    },
    {
      "cell_type": "code",
      "metadata": {
        "colab": {
          "base_uri": "https://localhost:8080/"
        },
        "id": "3rz-N3eSAN5f",
        "outputId": "7eca272b-8026-4e82-9d59-372cbb8bf016"
      },
      "source": [
        "# 임계값에 따라 정확도가 달라진다.\r\n",
        "score = []\r\n",
        "for i_thres in np.arange(0, 1, 0.01):\r\n",
        "  threshold = i_thres\r\n",
        "  prediction5=(model.predict_proba(test_X)[:,1] > threshold).astype(int) \r\n",
        "  score.append(metrics.accuracy_score(test_Y, prediction5))\r\n",
        "  \r\n",
        "print('best threshold:' , np.argmax(score)/100)\r\n",
        "score"
      ],
      "execution_count": null,
      "outputs": [
        {
          "output_type": "stream",
          "text": [
            "best threshold: 0.4\n"
          ],
          "name": "stdout"
        },
        {
          "output_type": "execute_result",
          "data": {
            "text/plain": [
              "[0.5671641791044776,\n",
              " 0.5671641791044776,\n",
              " 0.5671641791044776,\n",
              " 0.5671641791044776,\n",
              " 0.5671641791044776,\n",
              " 0.5671641791044776,\n",
              " 0.5671641791044776,\n",
              " 0.5671641791044776,\n",
              " 0.5671641791044776,\n",
              " 0.5671641791044776,\n",
              " 0.5671641791044776,\n",
              " 0.5671641791044776,\n",
              " 0.5671641791044776,\n",
              " 0.5671641791044776,\n",
              " 0.5671641791044776,\n",
              " 0.5671641791044776,\n",
              " 0.5671641791044776,\n",
              " 0.5671641791044776,\n",
              " 0.5671641791044776,\n",
              " 0.5671641791044776,\n",
              " 0.7201492537313433,\n",
              " 0.7201492537313433,\n",
              " 0.7201492537313433,\n",
              " 0.7201492537313433,\n",
              " 0.7201492537313433,\n",
              " 0.7201492537313433,\n",
              " 0.7201492537313433,\n",
              " 0.7201492537313433,\n",
              " 0.7201492537313433,\n",
              " 0.7201492537313433,\n",
              " 0.7201492537313433,\n",
              " 0.7201492537313433,\n",
              " 0.7201492537313433,\n",
              " 0.7201492537313433,\n",
              " 0.7201492537313433,\n",
              " 0.7201492537313433,\n",
              " 0.7201492537313433,\n",
              " 0.7201492537313433,\n",
              " 0.7201492537313433,\n",
              " 0.7201492537313433,\n",
              " 0.753731343283582,\n",
              " 0.753731343283582,\n",
              " 0.753731343283582,\n",
              " 0.753731343283582,\n",
              " 0.753731343283582,\n",
              " 0.753731343283582,\n",
              " 0.753731343283582,\n",
              " 0.753731343283582,\n",
              " 0.753731343283582,\n",
              " 0.753731343283582,\n",
              " 0.753731343283582,\n",
              " 0.753731343283582,\n",
              " 0.753731343283582,\n",
              " 0.753731343283582,\n",
              " 0.753731343283582,\n",
              " 0.753731343283582,\n",
              " 0.753731343283582,\n",
              " 0.753731343283582,\n",
              " 0.753731343283582,\n",
              " 0.753731343283582,\n",
              " 0.7052238805970149,\n",
              " 0.7052238805970149,\n",
              " 0.7052238805970149,\n",
              " 0.7052238805970149,\n",
              " 0.7052238805970149,\n",
              " 0.7052238805970149,\n",
              " 0.7052238805970149,\n",
              " 0.7052238805970149,\n",
              " 0.7052238805970149,\n",
              " 0.7052238805970149,\n",
              " 0.7052238805970149,\n",
              " 0.7052238805970149,\n",
              " 0.7052238805970149,\n",
              " 0.7052238805970149,\n",
              " 0.7052238805970149,\n",
              " 0.7052238805970149,\n",
              " 0.7052238805970149,\n",
              " 0.7052238805970149,\n",
              " 0.7052238805970149,\n",
              " 0.7052238805970149,\n",
              " 0.6380597014925373,\n",
              " 0.6380597014925373,\n",
              " 0.6380597014925373,\n",
              " 0.6380597014925373,\n",
              " 0.6380597014925373,\n",
              " 0.6380597014925373,\n",
              " 0.6380597014925373,\n",
              " 0.6380597014925373,\n",
              " 0.6380597014925373,\n",
              " 0.6380597014925373,\n",
              " 0.6380597014925373,\n",
              " 0.6380597014925373,\n",
              " 0.6380597014925373,\n",
              " 0.6380597014925373,\n",
              " 0.6380597014925373,\n",
              " 0.6380597014925373,\n",
              " 0.6380597014925373,\n",
              " 0.6380597014925373,\n",
              " 0.6380597014925373,\n",
              " 0.6380597014925373]"
            ]
          },
          "metadata": {
            "tags": []
          },
          "execution_count": 57
        }
      ]
    },
    {
      "cell_type": "code",
      "metadata": {
        "colab": {
          "base_uri": "https://localhost:8080/",
          "height": 314
        },
        "id": "QH90YIwXAOB4",
        "outputId": "67b2ea9b-65e1-4484-e139-8e18eb645c0e"
      },
      "source": [
        "print('best threshold:' , np.argmax(score)/100)\r\n",
        "plt.plot(np.arange(0,1,0.01), score)\r\n",
        "plt.xlabel('threshold')\r\n",
        "plt.ylabel('accuracy_score')"
      ],
      "execution_count": null,
      "outputs": [
        {
          "output_type": "stream",
          "text": [
            "best threshold: 0.4\n"
          ],
          "name": "stdout"
        },
        {
          "output_type": "execute_result",
          "data": {
            "text/plain": [
              "Text(0, 0.5, 'accuracy_score')"
            ]
          },
          "metadata": {
            "tags": []
          },
          "execution_count": 58
        },
        {
          "output_type": "display_data",
          "data": {
            "image/png": "[encoded data removed]",
            "text/plain": [
              "<Figure size 432x288 with 1 Axes>"
            ]
          },
          "metadata": {
            "tags": [],
            "needs_background": "light"
          }
        }
      ]
    },
    {
      "cell_type": "code",
      "metadata": {
        "colab": {
          "base_uri": "https://localhost:8080/",
          "height": 406
        },
        "id": "x2h76S6mAOKN",
        "outputId": "1d36a1d1-3a0a-45c8-f319-66e77b9afcd8"
      },
      "source": [
        "# knn은 이웃하는 neighbors의 따라 정확도가 달라진다.\r\n",
        "\r\n",
        "a_index=list(range(1,11))\r\n",
        "a=pd.Series()\r\n",
        "x=[0,1,2,3,4,5,6,7,8,9,10]\r\n",
        "for i in list(range(1,11)):\r\n",
        "    model=KNeighborsClassifier(n_neighbors=i) # default 5\r\n",
        "    model.fit(train_X,train_Y)\r\n",
        "    prediction=model.predict(test_X)\r\n",
        "    a=a.append(pd.Series(metrics.accuracy_score(prediction,test_Y)))\r\n",
        "plt.plot(a_index, a)\r\n",
        "plt.xticks(x)\r\n",
        "fig=plt.gcf()\r\n",
        "fig.set_size_inches(12,6)\r\n",
        "plt.show()\r\n",
        "print('Accuracies for different values of n are:',a.values,'with the max value as ',a.values.max())"
      ],
      "execution_count": null,
      "outputs": [
        {
          "output_type": "display_data",
          "data": {
            "image/png": "[encoded data removed]",
            "text/plain": [
              "<Figure size 864x432 with 1 Axes>"
            ]
          },
          "metadata": {
            "tags": [],
            "needs_background": "light"
          }
        },
        {
          "output_type": "stream",
          "text": [
            "Accuracies for different values of n are: [0.72761194 0.70149254 0.73134328 0.73134328 0.75373134 0.73134328\n",
            " 0.75373134 0.74626866 0.74626866 0.73134328] with the max value as  0.753731343283582\n"
          ],
          "name": "stdout"
        }
      ]
    },
    {
      "cell_type": "markdown",
      "metadata": {
        "id": "ta4ytQsnGQia"
      },
      "source": [
        "Gaussian Naive Bayes"
      ]
    },
    {
      "cell_type": "code",
      "metadata": {
        "colab": {
          "base_uri": "https://localhost:8080/"
        },
        "id": "spi7jIhwGRj4",
        "outputId": "fc7847f4-8dce-474c-c82a-0697d95f9338"
      },
      "source": [
        "model=GaussianNB()\r\n",
        "model.fit(train_X,train_Y)\r\n",
        "prediction6=model.predict(test_X)\r\n",
        "print('The accuracy of the NaiveBayes is',metrics.accuracy_score(prediction6,test_Y))"
      ],
      "execution_count": null,
      "outputs": [
        {
          "output_type": "stream",
          "text": [
            "The accuracy of the NaiveBayes is 0.8171641791044776\n"
          ],
          "name": "stdout"
        }
      ]
    },
    {
      "cell_type": "markdown",
      "metadata": {
        "id": "ArP7rfurGRqL"
      },
      "source": [
        "Random Forests"
      ]
    },
    {
      "cell_type": "code",
      "metadata": {
        "colab": {
          "base_uri": "https://localhost:8080/"
        },
        "id": "Nu_p6B4pGRv6",
        "outputId": "63cd040e-306f-483e-8a26-92344f898e40"
      },
      "source": [
        "model=RandomForestClassifier(n_estimators=100)\r\n",
        "model.fit(train_X,train_Y)\r\n",
        "prediction7=model.predict(test_X)\r\n",
        "print('The accuracy of the Random Forests is',metrics.accuracy_score(prediction7,test_Y))"
      ],
      "execution_count": null,
      "outputs": [
        {
          "output_type": "stream",
          "text": [
            "The accuracy of the Random Forests is 0.7947761194029851\n"
          ],
          "name": "stdout"
        }
      ]
    },
    {
      "cell_type": "markdown",
      "metadata": {
        "id": "mKGTP6a1zNuH"
      },
      "source": [
        "그래프들을 보면 임계값에 따라 정확도가 달라진다.     \r\n",
        "임계값 말고도 모델에 영향을 주는 하이퍼파라미터들을 하나하나 수정해가면서    \r\n",
        "정확도나 score를 올려간다."
      ]
    },
    {
      "cell_type": "markdown",
      "metadata": {
        "id": "VHhgQJ01IAYu"
      },
      "source": [
        "## Cross validation"
      ]
    },
    {
      "cell_type": "markdown",
      "metadata": {
        "id": "MMHg7kGMIAgk"
      },
      "source": [
        "데이터들은 빈번하게 불균형합니다.     \r\n",
        "즉, class1 인스턴스의 수가 많지만 다른 클래스 인스턴스의 수가 적을 수 있습니다.     \r\n",
        " 따라서 데이터 세트의 모든 인스턴스에 대해 알고리즘을 훈련하고      테스트해야합니다.          \r\n",
        " 그런 다음 데이터 세트에 대해 기록 된 모든 정확도의 평균을 구할 수 있습니다."
      ]
    },
    {
      "cell_type": "markdown",
      "metadata": {
        "id": "xLE5hfPFIApZ"
      },
      "source": [
        "1) K-Fold Cross Validation은 먼저 데이터 세트를 k-subset으로 나누는 방식으로 작동합니다.\r\n",
        "\r\n",
        "2) 데이터 세트를 (k = 5) 부분으로 나눈다 고 가정 해 보겠습니다. 테스트를 위해 1 개 부분을 예약하고 4 개 부분에 대해 알고리즘을 훈련합니다.\r\n",
        "\r\n",
        "3) 각 반복에서 테스트 부분을 변경하고 다른 부분에 대해 알고리즘을 교육하여 프로세스를 계속합니다. 그런 다음 정확도와 오류를 평균하여 알고리즘의 평균 정확도를 얻습니다.\r\n",
        "\r\n",
        "이를 K-Fold Cross Validation이라고합니다.\r\n",
        "\r\n",
        "4) 알고리즘은 일부 훈련 데이터의 경우 데이터 세트에 대해 과소 적합 할 수 있으며 때로는 다른 훈련 세트의 데이터를 과적 합할 수도 있습니다. 따라서 교차 검증을 통해 일반화 된 모델을 얻을 수 있습니다."
      ]
    },
    {
      "cell_type": "code",
      "metadata": {
        "colab": {
          "base_uri": "https://localhost:8080/",
          "height": 254
        },
        "id": "1E2cer1wIAyl",
        "outputId": "dccd716c-e7bc-433e-fd49-dcaee36e15b0"
      },
      "source": [
        "from sklearn.model_selection import KFold #for K-fold cross validation\r\n",
        "from sklearn.model_selection import cross_val_score #score evaluation\r\n",
        "from sklearn.model_selection import cross_val_predict #prediction\r\n",
        "kfold = KFold(n_splits=10, random_state=22) # k=10, 10개의 샘플을 만들겠다. 9개는 학습, 1개는 검증에 사용한다.\r\n",
        "xyz=[] # cv평균을 담는다.\r\n",
        "accuracy=[] # 정확도\r\n",
        "std=[] # 표준편차\r\n",
        "# 사용할 모델의 이름\r\n",
        "classifiers=['Linear Svm','Radial Svm','Logistic Regression','KNN','Decision Tree','Naive Bayes','Random Forest']\r\n",
        "# 정의한 모델들을 리스트에 넣는다. \r\n",
        "models=[svm.SVC(kernel='linear'),\r\n",
        "        svm.SVC(kernel='rbf'),\r\n",
        "        LogisticRegression(),\r\n",
        "        KNeighborsClassifier(n_neighbors=9),\r\n",
        "        DecisionTreeClassifier(),\r\n",
        "        GaussianNB(),\r\n",
        "        RandomForestClassifier(n_estimators=100)]\r\n",
        "for i in models:\r\n",
        "    model = i\r\n",
        "    cv_result = cross_val_score(model,X,Y, cv = kfold,scoring = \"accuracy\")\r\n",
        "    cv_result=cv_result\r\n",
        "    xyz.append(cv_result.mean())\r\n",
        "    std.append(cv_result.std())\r\n",
        "    accuracy.append(cv_result)\r\n",
        "new_models_dataframe2=pd.DataFrame({'CV Mean':xyz,'Std':std},index=classifiers)       \r\n",
        "new_models_dataframe2"
      ],
      "execution_count": null,
      "outputs": [
        {
          "output_type": "execute_result",
          "data": {
            "text/html": [
              "<div>\n",
              "<style scoped>\n",
              "    .dataframe tbody tr th:only-of-type {\n",
              "        vertical-align: middle;\n",
              "    }\n",
              "\n",
              "    .dataframe tbody tr th {\n",
              "        vertical-align: top;\n",
              "    }\n",
              "\n",
              "    .dataframe thead th {\n",
              "        text-align: right;\n",
              "    }\n",
              "</style>\n",
              "<table border=\"1\" class=\"dataframe\">\n",
              "  <thead>\n",
              "    <tr style=\"text-align: right;\">\n",
              "      <th></th>\n",
              "      <th>CV Mean</th>\n",
              "      <th>Std</th>\n",
              "    </tr>\n",
              "  </thead>\n",
              "  <tbody>\n",
              "    <tr>\n",
              "      <th>Linear Svm</th>\n",
              "      <td>0.786729</td>\n",
              "      <td>0.039372</td>\n",
              "    </tr>\n",
              "    <tr>\n",
              "      <th>Radial Svm</th>\n",
              "      <td>0.673508</td>\n",
              "      <td>0.041973</td>\n",
              "    </tr>\n",
              "    <tr>\n",
              "      <th>Logistic Regression</th>\n",
              "      <td>0.795768</td>\n",
              "      <td>0.020822</td>\n",
              "    </tr>\n",
              "    <tr>\n",
              "      <th>KNN</th>\n",
              "      <td>0.761024</td>\n",
              "      <td>0.040515</td>\n",
              "    </tr>\n",
              "    <tr>\n",
              "      <th>Decision Tree</th>\n",
              "      <td>0.799114</td>\n",
              "      <td>0.031476</td>\n",
              "    </tr>\n",
              "    <tr>\n",
              "      <th>Naive Bayes</th>\n",
              "      <td>0.801361</td>\n",
              "      <td>0.025521</td>\n",
              "    </tr>\n",
              "    <tr>\n",
              "      <th>Random Forest</th>\n",
              "      <td>0.806929</td>\n",
              "      <td>0.032634</td>\n",
              "    </tr>\n",
              "  </tbody>\n",
              "</table>\n",
              "</div>"
            ],
            "text/plain": [
              "                      CV Mean       Std\n",
              "Linear Svm           0.786729  0.039372\n",
              "Radial Svm           0.673508  0.041973\n",
              "Logistic Regression  0.795768  0.020822\n",
              "KNN                  0.761024  0.040515\n",
              "Decision Tree        0.799114  0.031476\n",
              "Naive Bayes          0.801361  0.025521\n",
              "Random Forest        0.806929  0.032634"
            ]
          },
          "metadata": {
            "tags": []
          },
          "execution_count": 62
        }
      ]
    },
    {
      "cell_type": "code",
      "metadata": {
        "colab": {
          "base_uri": "https://localhost:8080/",
          "height": 333
        },
        "id": "1RV-l5eqIBAI",
        "outputId": "1b6b104f-a142-419d-e037-a389ca632c00"
      },
      "source": [
        "new_models_dataframe2['CV Mean'].plot.barh(width=0.8)\r\n",
        "plt.title('Average CV Mean Accuracy')\r\n",
        "fig=plt.gcf()\r\n",
        "fig.set_size_inches(8,5)\r\n",
        "plt.show()"
      ],
      "execution_count": null,
      "outputs": [
        {
          "output_type": "display_data",
          "data": {
            "image/png": "[encoded data removed]",
            "text/plain": [
              "<Figure size 576x360 with 1 Axes>"
            ]
          },
          "metadata": {
            "tags": [],
            "needs_background": "light"
          }
        }
      ]
    },
    {
      "cell_type": "markdown",
      "metadata": {
        "id": "ObplnVcUGR2U"
      },
      "source": [
        "## Confusion Matrix"
      ]
    },
    {
      "cell_type": "markdown",
      "metadata": {
        "id": "vN84b6YtkXv3"
      },
      "source": [
        "![image.png](data:image/png;base64,iVBORw0KGgoAAAANSUhEUgAAA14AAAGrCAYAAADQGEZxAAAgAElEQVR4AeydCbhV0/vHNY80mvmZ8yd+hsyiQiVCoUGjMRkqmUJKilSGBkpmpQwZkxBFKUSEKFKUuX4qmkiD9/983ts67XvuuWP33s6957ufZz/7nL3XXnutz9pnnfXd77vevZ1pEQEREAEREAEREAEREAEREAERKFAC2xVo7spcBERABERABERABERABERABETAJLx0E4iACIiACIiACIiACIiACIhAAROQ8CpgwMpeBERABERABERABERABERABCS8dA+IgAiIgAiIgAiIgAiIgAiIQAETkPAqYMDKXgREQAREQAREQAREQAREQAQkvHQPiIAIiIAIiIAIiIAIiIAIiEABE5DwKmDAyl4EREAEREAEREAEREAEREAEJLx0D4iACIiACIiACIiACIiACIhAAROQ8CpgwMpeBERABERABERABERABERABCS8dA+IgAiIgAiIgAiIgAiIgAiIQAETkPAqYMDKXgREQAREQAREQAREQAREQAQkvHQPiIAIiIAIiIAIiIAIiIAIiEABE5DwKmDAyl4EREAEREAEREAEREAEREAEJLx0D4iACIiACIiACIiACIiACIhAAROQ8CpgwMpeBERABERABERABERABERABCS8dA+IgAiIgAiIgAhkS+Dff/+1DRs22Pr16327adMmW7duna1evdrXjRs3GmmyW8J5a9asMVbyYF9RXah3lEmo36pVq7x+MNMiAiIgAhCQ8NJ9IAIiIAIiIAIi4KIJ4RTWeCQIiJ9++skWLFhgv/zyi4uNjz/+2J588kl76qmnDKGRnfDi+N9//21z5syxMWPG2NixY+3rr7/2vOKvl9PvobxsET15WUMeOb1mSMd5y5cvt0WLFtnixYtdRP7111/2ySef2OOPP27PP/+8syJddksoQ/w2u/N0XAREoOgQkPAqOm2lkoqACIiACIhAvhNgoI9YwWqzcuVK++OPP2zt2rUWtWBx/Pfff7crr7zSTjrpJLv22mttxYoV1rt3b9tn333tgAMOcIFBuqhwII/4lfwRJYcffrjVqVPHxo0b55ah+HTR62dVaa6H1ezNN9/08vTq1ctys/bp08dmzZoVq28of3YCLqQbNmyYNWjQwE497VQXpXAaMGCA7b333s7qgw8+yFaQUj/y+/XXX+2bb76x+fPnu6D7559/sqq6jomACBQxAhJeRazBVFwREAEREAERyC8CQbT89ttvLoBuu+0269Gjh91///328ccfuRAjDSIIK1fjxo1thx12sLPPPtuWLFliXbt1s7Jly1rFChXd6hMVXgizd9991/NFXIV19OjRdskll1jVqlWtevXq1v3a7m75CsfDdsqUKS7uuH5WC8exMvXr18922223HK8777yz1ahe3WrWrGkPP/xwOuFF3aZNm+ZiDkEXv86YMcOWLl3qLpc33HCDVa1W1fP54osvXDzdcsstVrp0aTvwwAONemRXB+pHGrg3adLEzjzzTHvuuefciphV3XVMBESgaBGQ8Cpa7aXSioAIiIAIiEC+EWCwj5Wl5609bccdd3QRVbJUSatcubLVr1/fZs6c6dYk3AyD8Np+++1jwqtbEF4VK7qrXVR4zZs310477TSrWrWaVau2ZUVwlStXzkqUKGElS5a08uXLuwiLpuEzVqR58+ZlO/+LOuC++Oijj/o59erXs3r16ln9evWtHuvm7yfXq2cn1zvZ6tU72S1RBx10kJehdKnSLnioI3mxvv3223bccce51QrLFetee+3l63/+8x87/vjjXVBxXRdeVatajZo1LJ3wKpM74QW7q6++2naosoPzuvvuu+1///tfjkRbvt0QykgERKBACUh4FSheZS4CIiACIiACyUkAgYF7IXO0dtllFytVqpQLICxAZcuVdUF07rnnutsbogSBhsUrp8ILl7mWLVta7dq1N6+HWO3ah7gViDwQXaw7bL+D/d///V8kXW07pPYhdv7557vrHoIku4U0iCBcJaPrn3/+6VYz3P+wUGHZ+/nnn90698QTT1iZMmXcMjV8+PB0Fq9Jkya5GyRcWLGO7bTTTs4HC9/+++9vEyZMcJfMmPCqESe8cmHxoi2wKp533nlWoUIFv86tt97qVkWOaREBESgeBCS8ikc7qhYiIAIiIAIikCsCiBWCZVxwwQVWqVIl2/M/e9qIESPspZdeshYtWrhVCsFx2WWX2eDBg92VD4GUU+GFAPryyy/t/Q/etw/e/8Def/99mzp1qgec2HfffV3oIfb23Xc/e+nll/zYB++/b8yJYv3qq69iro5ZVQxh8u38+V5GRNA111xjXbp08flol3e+3C699FK78MILrV27dta6dWs7/7zz3WJ31FFHufDDJfDBBx9MJ7xwNZw+fbohwFhxNXzxxRc9X6xx++yzj40fPz698IpavG6+OceuhpSfuVy0xWGHHebnVaxY0Zo3b27fffedLF5ZNb6OiUARIyDhVcQaTMUVAREQAREQgfwggPBirhIWKcQUAuvHH3/00PAfffSRW3jKlS3nx7D6YPHBGpNT4YWgYOU6WMyWLVtms2fP9sAcuDKSV3AzvOmmmzzSIRECScs54Xy2WS0cJ4ogQT8oIyuCcdddd/X5Xnvsvoftueeettd/9oq5DPKd+WW4O5YrX87neEVdDaPX5jPlofxYxsgX18MMwiuPFi/yZz7cQw895HlvV2I7t8Th2vjWW2954BHSaBEBESj6BCS8in4bqgYiIAIiIAIikGsCDOZHjhxpu+++u8/vIrw7rnmIDNzymJ+F5QVxhPDadbddMwivrl03B9dIMMcL1z/e00WeP/zwgz366GOeJ9Y1RNexxx7roo/P7COoxKhRo1z8YS0L7/jKTnRQ3oULF9rll19uDRs2tHOaNbO2bdu6kMT61bNnT+vfv78NGTLEBdZjjz3mIqddu/ZudcOC9fTTT7vg41qsuP0RKZGgHaxEeWSO29AhQ53F3nsnsHjVqGGffvqpl7/HTT2ytXiFa8Fp7ty5bu0iSAnz32CCGyaunsxzC6Iw142sE0RABJKKgIRXUjWHCiMCIiACIiAChUOAgT+ihDldWHGwciEy2I8FBrc9Am4cffTRNnnyZPvwww/dqpTQ4lWhoi1etNhFG0IIoYKo69Spk4uh/fbbzy1MCKzq1ar73C+sVLgeNm3a1KrsUMUDemCFqlWrls8l63z55T7/DGFCnokW9lNmxB1ikflbCCTmozGfC5dB9rPymX0cIwgGkRVxM8R69corr7jQC9fC8kb5iMoY1okTJ1r37t29/Hvvk9HiVbVqFZv42mvuJnnFFVdkKbxgTNkRVLhgnnzyyR7YpEqVKoYgbN36Ard6wbp9+/b27bff+nw8ztMiAiJQdAlIeBXdtlPJRUAEREAERCDPBBjEE5UQi88ee+zhg3vmGrEfIYOVCEsXlilelMxLghs1apStq6GLob//cmsNLn3kj+sfodWZY4Ugw4qDRQvLFi9TZh9zmngfWAhiwbkINyxPiQQH+xBTiBzECVaubNc2baxNmzbWrFkzQwxiVULsnHrqqXbRRRd5nak7IpRAIoceeqivhxxyiAcAQaBikYp3NSQPgm4cc8zRduKJJ/rxUgmCa1BmVsQiIpH3mRGBsUqVqn4+wTU+/HCm80aMEbofYUz4fubeIRoDj0RM8nwz6EQREIFCISDhVSiYdREREAEREAERSC4CDNyvuuqqmPBCWBHlkP2Ij4EDBrrwwuJFWPnFixfnKKoh4o0w6ASsOOGEE6xu3bou8J599ll/UTH5ICAQTax8Zh/XGDt2rIstzuFc8mBuFeWKXxB433//vREWPsxBC3O8crLFmhdW0u+1994eVISyM7eKyIUIM4QPwTSwxIUVUYQlDAsZlkGEF4FCyA+RiWDie/Q9XoEr0R7feOMNrydunpUqVXZrIOKPYCQI0lWrVhkWNkRcCL9PXrxj7Z133vGXLHNtia/4u0LfRSC5CUh4JXf7qHQiIAIiIAIiUCAEGLQjGqpXr+FBKHC/C9aUP/74w27rfZuLCATQrFmzPLQ7c6gSuRpWqFjRFi1e7HOjcNMbOnSo9enTx3rdequ7M7Lt3auX9e7dO8u1V69eRhh1XCD5fPvtt3tAi9WrV2dgQPkRSXfccYen5aXFBOmIX2+++eZ0++K/k55z+/bta0899ZRb4aLCCwsZEQ15t9dk1smT3T0Q90VcBWGIOMKNknLfd999dsYZZ2RwNUQ84r54+umnu1AjlD0rYg23R+apBf7UDWHJS5wJyc+cL09furTttOOOLoCZN8dcNC0iIAJFh4CEV9FpK5VUBERABERABPKNAIP7QYMG2S477+wC643XX/eIhuxf9vsy69C+gwsErEm8U4uw87gkRoVX165d3UWuYsUKtnjxIhciCAhc8xAUuBmGtXrkc9jHNrP9HMMSdcwxx7hVjHJFF74jZpiPhtXs888/95caT5kyJddbQtcj4rA0IaaC8MJqhbDCIrdm7Rqfu8b8NaxNXBtxFIQX89OYr8V8rGuvvTaD8EIkMccMjgg13CrPOecce/nll433jIX8Qh2pH9cizDzvHCPYyW677ebBUHDBRBxzfS0iIAJFh4CEV9FpK5VUBERABERABPKNAAP7V1991ec6IQRu79PHg1DgKogL3/4HHGBly5WzcuXLuyscwoL5TYmFV0UXJ4gLRBDzpZizxdyks886O23L51yuzZs1t86dOxtWtHjhBQj2IT4QNIid4449zuekMS8t8crxjGmGDRtmq9es9vzIMyq8sJDhEsl1wvU2btro1qao8KqRTTh5zsWi9eakScb1Jk16062IzHPjWKKF/QgyXD9xQxw3bpy/a405aIg/LSIgAkWLgIRX0WovlVYEREAEREAE8oUAomH+/PlWv0F9q1Spos+peu+993z+0IABA9y9rfL221vtQw7xoBr169d3K1ZUeHWLWbzShBd5Igh4HxiWL8QC7nV5WefNnecCEIsPYjCzhWtyPV6QTECOnK5Y5IhqyDwurFZ//PlHBuHFsauvvtqjIHINLF8LFizw8O9YyRB8BChBuNaoWdO+mDPHhSeui2XigmsgolgRp9SHcod9mdWN/SFNOJfzWfmuRQREoGgRkPAqWu2l0oqACIiACIhAvhBg4I4rW79+/fxdXYiM448/3kUWASX4fvjhh3vId4QCUfiI9JdOeHVL/B4vRAVuey+//JL173+nRwskSmL6lf2ZHevvbntRgZJZpakHc8CmT59uzz//fLbrC5vT3HnnnYaVqnTpNHfCRMKLFyzjNsn7tHC3ZO4WwUb23HMP23nnnXweW8eOHa1qlSpWM87ilZnworz5tWbGRPtFQASSk4CEV3K2i0olAiIgAiIgAgVKgME/lhOCajRoUH/zXK2KRqAMgjkwt4tgE7i5Me+J92NlJrwqVKhoiza/xyuIClwOESWIm1yvNWt4gI7wXrGsQHA9Ih++8MILLiIRkpmtd9zRz1g53rnz5S4iwzyueOFFFEEsYgTNqFK1ilWtVtW2334HP4f5Z4Sjxw0Rt0osXohVQuNTbyxenBsf1RDesMyPNVi9qL8WERCBokFAwqtotJNKKQIiIAIiIAL5ToBBO5YpXAEJlEGYdOZGYd155JFHXEQwwGfNSnhVTCC8CHpxzz33eIj2Fi1a+JYIfazhe/z2pJNOstJlSnso9oEDB7pFLjthwXHKhsgLwScI/44wymolUAhh37HgEY0wzLUiP0K+YxG77rrr7MYbb3QhdWuvWz16Yv8777QHHnjA51shtHBFTBNeNdK5GkaFF/wQsMzt6tevr/Xte7tHUSSSYs7XLedQtocfftgDb2THJ99vGmUoAiKQZwISXnlGpxNFQAREQAREoOgTYOCOBYYoecz5mjt3rs+Zws0vDOrTCa8dtvcgGQScYH4TLw5GeC2OWLygEvLERTGsCCTW8D1+O/bpp61S5cpuLcqp8MKtkdDq5557ns+rYu5WkyZNXOC1bJEm9ILgS7dt0cLTtGrZ0kaPHu3vz6K+gcff69bZ2r/+8jlrBMWAB4EuqBc8whytENWwRs0abj1MZPHiHMp48MEHbxZ7lV3wIfq2r7x55XOW65ZzCHSCWyjvPqMcWkRABIoGAQmvotFOKqUIiIAIiIAIFCgBBAeCApEQREW4oAuvXzN3NaxYcUtwjXAO+ZFPTldEzWuvvebiA2tR7oXXue4iyUuHZ8+e7ZY85n5h0ctu5aXFXD8Ir8y2oW5hS7qY8Iqb4xW1eMEUwXnWWWfZcccdt9UrL5jm/WKE0JfwCq2hrQgkPwEJr+RvI5VQBERABERABLYpAYQXlhzmeOGeR1j4dBavBMIrtwXmGq+//vpWCS/ETpUqVeywww5zixBWoZysZ57Z1CZMmBCz8OW07AivHj16+Bw23jnGfDm3eN18c7o5XogjhF2I9kjEx61Zv/vuO3czJDgKZdAiAiJQNAhIeBWNdlIpRUAEREAERGCbEWBwzxyooUOHWpcuXX2OE3OWrr/++rRQ6jVquKjYGusLwmvSpEkesr5y5cp2zz33Wk6DayB2CHLBHC9W5m9F1z332DPd93TH9tzT6tSpY88991yuRQxcJk6c6PPAEGBYtXgR82233eYClaiQ06ZNi+VL+vxct9kNoQuLgAjkiYCEV56w6SQREAEREAERSC0CCAbmOSGG1v29zi04jz76qJ133nk+VwrBsTXCi3NnzZplzZo187DtCCHmVnHdrBaOMz8NN8XBg4fY4CGb18GDbfCQwWn7EuwfMmSIDSHN4MH2+OOPe0CN7K4VXw7SIxgpJyt1wK2RaJBwIfDGvHnzsq1DfL76LgIiUDwJSHgVz3ZVrURABERABESgQAggNsKK+xwvTGbdGtFFQYOIIS/EHfOiwnWyqghpuDbpEYZ5WakHAoq88rqEsoayUA/EGPlqEQEREAEISHjpPhABERABERABERABERABERCBAiYg4VXAgJW9CIiACIiACIiACIiACIiACEh46R4QAREQAREQAREQAREQAREQgQImIOFVwICVvQiIgAiIgAgEAmEeUHQbjmkrAkWRQLiXi2LZVWYRKGwCEl6FTVzXEwEREAERSFkCDFIJvkAwB1a+F/UlDLzDtqjXJ1H5Q93CNlGa/NoXrsE2mRfKR0ATAqEogEgyt5TKlkwEJLySqTVUFhEQAREQgWJNgIHqDz/84O+Mmjp1qvEurKI8aGXwzfu9PvvsM1+pG1EF2U+9qN/ixYvt559/9siHyS4mEt181Id6hToSuj6vERypf1gTXYtIiPDiWryMGbbJyIwyLVu2zGbMmGEjR470l2nzIEGLCIhA1gQkvLLmo6MiIAIiIAIikC8EGKyvXbvWB6oHHHCAHXvssTZ79uxYyHFCj3M80ervzlq3zi0M5JMsg3HEFXU44YQTfL399tttxYoVLkzWrFljzzzzjHXo0MG6detmCxcujIWIzwvQIFjCNi955OUc6tOnTx+v34knnuhiI6cig7KSlvZbvXq1C1HEKIIKPoi60J6k5V1oN998s1/r5JNPdrZ5FXl5qWtOz6Gs06dPt7p161qZMmXswQcf9HepsV+LCIhA5gQkvDJnoyMiIAIiIAIikG8EsHb99NNPduSRR1rVqlXt7LPP9pftMrDGevDCCy/YXXcN8HXAgAEW1nvuucceeeQRe+utt2zRokVJZTmiTtOmTbOKFStY+fLl7dJLL7WlS9NepMyLgxs0aGCVKlWyypUrW69evWzp0qV5Eo0M6Fm5HmsQK/nWOFlkhBi6+OKLvX7bb7+9vfHGGy6YsjjFD1Feyjl//nwbM2aMde3a1c466yw75ZRTrEWLFta//1328ccfx6xapMUy2LZt29i13n333aS0iFK3X3/91Tp16mSlSpXye3rmzJneRhzTIgIikJiAhFdiLtorAiIgAiIgAvlGgMHo8uXL3TJQo2ZNw+L18ssvxyxAuLK1OL+F7bTTTr7uvPPOFtZddtnF9txzTzvo4IOtYcOGNnjIEPvxxx+TYpCLCEIcMPguWbKkXXjhhbZkyVIXHN99952ddtppVq5cORcSt912m1vD8jIwR5T88ssvbg1q37693Xffffb777/nScTltlERi1jtSpQoYWXLlrWJEydmK7ywBGLVevrpp+2MM86wffbZx6pXr27bV97eKleqbDvsUMXb96ijjvK6ILioI8K8VatWVqJkCStbrqxNmTIlaYUXlllcDffYYw/baced/EEBVry8tG9u20TpRaCoEpDwKqotp3KLgAiIgAgUGQIMqr/99ls755xzDKtJu3btfN4Qg1TWBQsW2Omnn27bbbedlS5d2nbffXf773//a4cceojVqlXLdt1tV7caIXAQYf369XMRs63nhwXhhegqWaKECy+ECvXFRe/xxx+3Jk2auJiYM2eOW+vy0mjk9/nnn7tlBSGH5QhhVxiD/NwKL8qEBXPMU2Ns7733tgoV0qyBu+22m7fpUXWOsv/7v/9zIVambBk77LDDbMKECS6wYsILkZfEwos2pJ4//vCjnXvuuX5PN2vWzO9p2kqLCIhAYgISXom5aK8IiIAIiIAI5AsBBqgIpLffftsYfDMQHzx4sM/7CcJhYUR47bDDDta7d293Q/vggw/cte3+YcNcmGFxQeQcecQRbm1gXljIHxHEdfjO4Je5RRxnHlHYT4XijxPQgXTBhS+zSpMnaUgbzuGzW7xKlnKLEBav4E7IdUgf0nI++6JLdmXhOCvl5zoIFoQpYg4hSx25RqJ8OYe6h+uTNlEZQnlCWTiHerFyzm+//ZZjixd5cD6WKgQz859os0MOOcSGDh3qbYoLJvdCly5d3Lp5/vnn29dff+11TCe8yia2eAUeoZyhflm1Xzgn3BOcw/mZsYveP5nlT54ITKyPNWvuaAceeKBbA+GuRQREIDEBCa/EXLRXBERABERABPKFAANUAivcf//97naH29lrr73mA+1wgajFq0aNGvbwww97kI0QlIFIet/On28Ed2DOFO5dBDTA3YuBMa5qX331lUfEw92L9My5wZ1x8uTJ6VwTGWxjjWJ+EZaWF1980SZNmuRCJpGrWBi0U4e5c+e6EGQ+GuIBqxNzzxCDuOIF4cXAnYE95cLSRdlWrVoVE0jkyYoQoCyffvqpvf76614W2HAdglBQVurI3DaYYAnE6nfcccd5mb/88ktPS5qQJ1uYcM4777zjeY4fP955IAq5JmmiSygL87nef/99e+WVV3xF+H63cKF17NgxR66G5IMbKHOfgkg+6aST7KOPPvL6hCApcMb1FP7UgfJybprwahm7FgIuiCOOw5U84Prhhx/6+bQFzBBvgTFpwxLOQ0B+8sknNvG1iT6fkPsC8Qq7IEhJi3CiTYisyHw28n/zzTc9f+4B0oSVclP+//znP1azZk277rrrEvINZdFWBFKdgIRXqt8Bqr8IiIAIiECBEmCQyvykK6+80uc6Ea2OUOEMdsMSFV4MYJ944ol0g2HyYE5Tjx49rOaONW3HHXe07t27+0AbMUHgCoI2XH311S60brnlFjv66KNt33339chzCCuux4CfYBgIA6Iq7rfffu4OhyWJ+WNYLxj8h4E1WwbXiIlwjVq1DvBzDjroIHed5JolS20RXkuWLPFrIZzuuOMOo77169e3WbNmuYigzuSLOGTwT+AKoiIy7w3XPLb16tUzIiQi2BALBKM49JBDrWLFii5KEKd16tTxdATwIGIi9UNUwWn48OEevARLE3nCgflUzNVCjFG2aB0pyzvvvGtt27axI444wtMjkDnnkksusbp1T4yJoazmeJEnQrR27douEJmfh7tl/PXCtRFRCNTwPZHFC+FF3bDAIUgHDRpkzZs39/rvv//+Xj+2p5zSwB544AG/18gvcGauGWVCFB9zzDEWzqH9GjdubH379rXvv//e2xlhhUi8vPPldvwJJ7gVC35Ys7i/bu15q9+7lJtrINK4p2gLXGgRxByL3tvhHtdWBETATMJLd4EIiIAIiIAIFCABBqFYI7B84GZI1DqCaYTBMZdOE16NrcR227nlIAivUCzS4tZ166232o477mQ1atawq666yoUXlp3WrVu7W9vhhx/uAgqXRlwWCdaBwEK8MMDHskTACwbJiJhdd93VrRUIOVz4mD9296BBbqGj3Aysea8UEfmqVavq18DitusuuxiiAgHEd6xdJWLBNdKEF4IwzVK0nR8P0QDJk8H562+84XO2sAyVLVPG5zyRJ2V297zatV0I4mKISCAyIpY15sHBkWAVpKUOWNWC6MKlb6+99vL6VatezT/Do8oOO/i+IAJJHwQNAvDww4+wUqVKeh2rVavm9SN/IlAyrywnwTWoG/Pv4EIdaHMsR9G2Dm0avyUNwqtlq4wWL/KFJ+1MfcuXr+DiGwvgTjvv7G1A2RGLWAZD3dgiShGnO2y/g7c7bYwQJXhLlSpVvM2HDRvm9xIRGJmzVbFSRc+TayHO2XLP7LvPvnbnHXeks6whDBG03G9wR6RzXS0iIAIZCUh4ZWSiPSIgAiIgAiKQbwQY3L/33nsx8TBw4AB/X1N0MI7wakxwjRJbhBeDbdKwZSCLe1nDhqe5AGEgfPc997hAQhhd0Lq1CwPc8BBQWM2wEhFJEOsPA3osQYguRAuiC0vUyAcftOfHjbN+/fr6QLxMmdK+H4sc18QN7aGHHrLtt08TPZx36qmnuiAizH2LFudblapVXAwFV8Ng8cJtD+GFUOJYEF5Y0AiUgTUJIUV5cZ3Egoc7JhYYhFbnzp1dNODOeO+99/q8riCAsIqRHqsYKxZFrDVYo6rXqG6lS5fyPBGMuFI+9thjLiiYc8V65513etRBRAMimND+WO0oD2LriiuuMMQIc+0IflG+XPlshRdtRX5EJaROcKYOwYKY3Q0VE14tMwov7iHqd9FFF1nNGr3vqfAAACAASURBVDXtiCOO9HeLYU2DDRZCwvmXKl3ajjn2WA/1TlmwdlF3+FM32u7ZZ591N1Gsm9wPiEPuP8TwuHHjXHCVLFnCrVe8HBkLIfcQ1rETTzjBPv3kE/t7s8WLOlG2QYMG+v2DwMW6hhVMiwiIQEYCEl4ZmWiPCIiACIiACOQbAQamzBnCcoDVhhDjDIijS9TVEEsO87dwT2OuDYKL+Vq4B2JdQlwdeuih7jLIYNmF1wUXuMBB5CBicPFjTg/iZ9XKlW4t4V1SCLaKFSr6+VjhEGO42WGlwIUN0YEVBdFB3pSLCIIM2rkuA3/mBWF941zOo6wcL1EihJNPs3jFhBfWsIjwok68JJgQ5IggrsdgnfdChXyx0vAdkYYA5Bzea4aFJggILEmUgXOw5qVFjWzmliaEJ9ZBRCAcScN8Laxd1J8X/1J/6vjUU0+5ux71I3/mNMGcvKkDIhHRQR2wYmXmakg7kx+RK8mLtkLckE9UZEfbPfo5K+HFMQQ4gTmee+45n1tH2agXljAsfnvusafz5D5jThZCjWPXX3+93xsIM6xxlIe5YGxpP4QnboyUnXZHNCJCEdbcW+TDfDTELfcDbUJZwkK9n3zySb/vsKI9+8wzMdfKkEZbERCBNAISXroTREAEREAERKAACTAwxXUQQYS7FgP3eItAVHhhKcGCcdlll/n8IixXWIcQEwzoEU833nijD6oRJQyOW7e+wIUBx3mJMfsYrLNyfYQE1hdc6HCDu2vAAB9II0xYSf/qq6+6CxrCr1vXbl5GBvAH1DrAB+MIJIJ1MPAOeTNgJwAEYqhkZsIrYvEiPQN43B+pJy6OzFtD/AULXxAZbMNCHRAFlI1r8W6sMK8r1BHxxlwkGBx00MEuPrx+S5d6HQkCwXw0BBFz2pjrRjvAC3dCRDFzp2CFtSjki4Dl3WE5EV5//rnSzjzzTC8j12HOFeIoWpdQp/gtadzVMM7iFUQOx2GPFRKOiCHmZuE+irA/+KCDve7cZ6NHj44JdwQrTBC5WLyef/55DzyCoKKegTviFQFVuVIlLz+BXLhvEbSk5V6jHShHtD7sw6qImyPtiYUUoaxFBEQgIwEJr4xMtEcEREAEREAE8o0AA1PmHTF/icE9rltYF6KLh5NvnPYeLwb4uNQh0lirVa1qNWvUcFcuXOwQKrjfkS8roumCC9KEF1YNLFsMzMPgmG2Y54MYQMBdeNGFdmuvXh4wg6AZBOMg+AcWC67JPB9ECW5slJt8GYjHz1di4M4cLHfT2xzVELFDuWIWr+22WLwQDliauA5i4OCD0wQS+7NayA/hhXCMCq9QR8QDogFhBj9CueNmSN1wF+zVq7dbfgggQl0IGIGlC8sP1i/2USZc5v74Y0U6dliNmMOUE+GFQMFCSN1wy+zZs6eLvlDOrOpIGoSXv0C5REm3rkVfoMxxRBd8Z8+ebSNGjHDr2uFHHOEBM2hb2CDMRz440oUXXGmzA2sd6IKKMiHMWrdq7a6fWLsQveFeItIlATKYrwWT3Xbd1c5q2tQFN/ccgoq00frw2QX6AbX83qKdJLyyamkdS2UCEl6p3PqquwiIgAiIQIETYKCK5SNNeG1vkydPSSy8mOO13XY+aMdy07BhI2vUqLG1at3KrrnmGndbI8ofoi0MftkG4cULjCtVquhzeIIVg8oxMEbs8EJmBB3XCPOuEBPRlf0MuLGMICIQZIgdBvW40CHgooPuILxKlSyVI4sXwgHRgADlWkTZI9oh1pasFuqZyOIVykI5mIdE2bOrH8cRJ8MfeMBFR+1DasfmmWEpincDzanwoixYhXgvF8ILix5z3OIDqWRWT87fIrzS3BrjhdfsTz91yyXiGZdAF3iVKsYCktCW1A1RFiIpIqDffuttO/74450PaUL5mONFnRFoXJ97i3D6CFTaKKSFK8IbxrQh7REWzuNVADwUoFwSXoGMtiKQkYCEV0Ym2iMCIiACIiAC+UaAQSpWKN51hDUJl75EroaNT2/sogG3N16wzICdFdc33N1wWcOSFVzPKGBUeDFIRng999yz6dIwMMZd7MQT67oVpnr1Gh54o1u3bi7oEHXR9YYbbvAQ6FyL4By4JmIpOf300+2bb75JKLxy6mrIwB7xWKNmTbfOELp9xowZXq+sgGcnvGBCEAnmaMGh1gG1PEx9tF5bPnd3SxgueogTIkGGuWaPPPKI7wtlgV1uhBcCEDdQylGuXFl3GSVQCflktnAsrO5q2KqVIaKZTxbe4xXmsDVt2tStehUrVPCw93369HELKtfATZJ2ihdelAkRjWh+9NFHPSw81j3EFIKa8PKjRo1yKxUcEVbcdwThwPJJFEQEO3nvv9/+NnDgQE8b6kTbMO8MKyJzBGkHrGjheGb11n4RSEUCEl6p2OqqswiIgAiIQKERYGDKC24Z4GJFYN5M/MA0OscLqwFpgtUqDMoTDWTTCa+SCK9KPgiOijPOYyDdsmVLFwTkj7BD0BHAIrr+9utvtnTJUh9YM2DHcsLcLgbeRx55pAf54Jos5IuFB9fJNOGV9gLljK6G27mQIKohYo6yHFCrloud4PLHYD9R/UIjcU0iHiICsdY0adIkNseLNBx/6aWXXCRQFoKPTH57crq6hXoGEYv4RZCESI9wwTUxOieLMlGfDh2yn+MVmFAO2ppyEuVvzNgxfp1Ql5COvLGuUQZYU4eoxatcRHjhEok4ghdtfMzRR7t7H3XBWkUeuJsi7OOFF9chb9qK+w7xjFsmgUZwKeSexEqHKyFpw0rZuC/Hjh3r1k7YY8XjPuDeIU8WtghW6opVl/le8VbDaN31WQRSmYCEVyq3vuouAiIgAiJQ4AQYmPJSWl7my6CZaHsMmBnghoUBbrB4BeEVBrYhTaItaYKrYYkshBdWmz633eZzxSgDIcQJchHcFsmHgTkD/CCC2EcACgJRICKYPxVc8RB2pCfAA1EAETtbohou9cF4mONVosR2RnjyEE6e/QgnBvwM/JkTRXQ9yhLyRSAweA8ucJTloYcfcotK6VKl7djjjvUIf+znHLYwJggJZUV8DBkyxIVGEDVsuQb5YkGCP995H1pwp2xQP+1lzKEsXB+hcm7z5tnO8aJ9yBMBg5AJ0QEbNWzoLz7mughPrg1j2GHRemjkQy7uqENUeGHx4v1icMYyhyVtp5129gAW/fv39/OpO2WkLRNZvDasX++iDNFJ25IXZeQ8XqpNQAzEFPO6mAtGGbk3AyPKBAuskrzkGrZYtXBd5RgLeWEZJbAGIn369Olev0T3q/aJQKoTkPBK9TtA9RcBERABEShQAgxQcfXDVY9B7nnnnefR6KLCa+GChX4ckZJX4YX4SWTxonIMzgmLjsWEdLjCEZ7+y6++9GOIAQbvCCusc0HMEDWPqIrMi8KFD8FGZEMG8ViCmPODdSccv/DCi2zJkvTCKxwLwotBPRaS/+z5Hy8LVhreyUX5sEJRjsGDh/j8sjDAhyGWFF7QW6p0KXfbRPBRL0QaooryEEgDwYJA4P1buL0hWjhOmZlPhuWM9iBPhBAudYRgp36cS/h1XPcoJ1tC6AcXRo5nFk4ezrQpeb4y/hUXf4gvXPqI4oib39y5cz2i4HvT33PrGgJxzz328HeXUUYsSW3atPGyUIfx48fH6og1DhdBykIaxBT1J8Q8ZeYF0dQhavEiyMWTTzzh7cZrDGBE23KtsWPGOM+KFSv5vQd/WBBRk8iEiEDScg0iRtapU8fFJPcQVkvqykpeiD6iISLksBhynhYREIGMBCS8MjLRHhEQAREQARHINwIMTrE49ehxk7vshYASwWLAhRK5GkaPZ1YY0gSLV1bCi4EwogYrEHPNSpcp7VYerHC4nJ1yyil2ZJ06foyXCTOYxzrCOQzYd9t9Nx90Y6VicI2QYCCOhQOxxxwpAmxceOGFGYWXW7xKxixe5Iu4atWypZehdKlSLjZr167t+eLKhnjgOsxhouzUExGG8KOeiBnEEmWHJwE7EEpwJNQ88+QQuUTw4zjv4cKqQxRF9iG+EGTkTVnatmvnbnoIF4QvXKgjWyx9uFpy3eyEF+1EWRGf9957n7vflStf3piTxXVxgWROGcFTsBCRH2KSSJUIGERkly5d/FqUhfSIVEQjQpM6I+aoH+Wj3QiaghUKAYU1MAgv8kIwHXvMMVapYkVvWwJktG3b1po1axazdlWrVt2FHy/5TguqUcn22GN3O/rooz3C4vnnnedWT9oeNkS/DO8mo8xwxyqK9fL00xu7UOOe1yICIpCRgIRXRibaIwIiIAIiIAL5RoBBKK5lzNtCpDAXhncpIUBYOI54wmrAYJxQ6M8880zMlSurgjDIx0pyySWX+OCbQAhYpOItDlyDtFgxCI6AaGIQjbWJoAlsCbrBwB4LDyKHQTXn4AaIAEIYIUJIz8pnhAwBGAiSwYCf92Rh8eA8XOmuvOoqrxPCALe6mKvbpk3+0t/LOnVyEcL8IQb2oSzkVb9efbdYkRcr1htEINfk2qSHJ26CWGiY54RQnDp1qrVr184tcQiUUF4sRViMqDuWOsQMXKgnLpVEbURIBiYICdKffPLJbhGiTKzB/S+rdqGeiBOiWSIOyZfrU95QR9oaEYaVLryTDOvSqCefdFFEWspPEBTuH+4RrJS0MWVLO17FBRUukhdddLG/hw0+WPoQRLhJEpmSOlN2uJEna42aNZwRrLBsIlp5aTIClXuUNiEdrzPgPIQw88iwGuJ+CDt48zoB6sf8Llwg4alFBEQgMQEJr8RctFcEREAEREAE8o0AwoF5MrVqHeDWmttvv90HxgxeWRmk814p5soMGjQow/uyMisI54Z5Voijvn37uqDhevFLuBaWEN7XxDumzjzzDJ+7g+WEQT2uZuEdYSE9eTGIxwURYUVaLE+84Jl9WMcef/xxu+OOO9w1DgHEOWwRgdSJdf78+TFBSN6kwdrEy39xNcRShUUGAYQ4ZIBPHqEcbKkrLoeUg6AYDRo08OiFiKEgpMgXkUKkPQQprnPMTyJfGM2cOdPzieaLeyDuh7xvrfm559pJdevaGU2aGO00Z84cF439+vXz76SLF7bxrPlO/uSLCx8CDEFLmU+qe5KLbObcffjhhxnK8tOPP3p6ePCOMViQD/nBkIAnrVu39mO4rRK+nTJ+Nnu2f0Y8kW8QR1j2uPfIhxdB03ZYALFcIfAR7tSH/EmL9ZDgKxdffLGdcuqp/moB2pqAHIgz+AZ2zNfDBRJhhogkFH1O2CTipX0ikAoEJLxSoZVVRxEQAREQgW1KgIHqokWLfPCNtYKw4GGeEQVjsMo8KwbLDLJzYzVgIIyFhXOxmGQ18KUcpA/XQtggWNhiVQnXDgPrAI1zOEYa0rNi7SAfrs2WaweLFueRRygXZYuWK+TPvpBvtCyk59wwyE9UjpCecoS04brwI1+OhfKSnnwpazTfUBbOoQ4h35CevFk5lh3fUM5QjsCA8yhLfN6JyhJfDs6NL2OoF1uOU75Q52gbUo5oe4fzKEdob9og5E/aUNdoefkc8g115BwsZVj0sL7xzjKEGHloEQERSExAwisxF+0VAREQAREQgXwjwCAVAcA7vHC7Y77Pfffd54Nljm2rJQy4c1OGcE5+lznkm5OyFFRa6pSbvHPLIDd5Z5c2HM9NGcI5bLNbskrLsZUr/3QLJ+6IuCaOHDnSRWB2+eq4CKQyAQmvVG591V0EREAERKDQCGCRwCLQ9KyzbMeddnJLAZHp2K9FBIoSAYQXbofnnHO2R5Dk9QC4nOZE0BWleqqsIpDfBCS88puo8hMBERABERCBBAQYlOIWxrwn3jfFHB7ClePCpUUEihIB7mXmyhEBkyAcb775prtRFqU6qKwisC0ISHhtC+q6pgiIgAiIQEoSYP5LiDZHiHnm08hKkJK3QpGvNPPTCHbCi6uZA6a5XUW+SVWBQiAg4VUIkHUJERABERABEYAAIosBKu6FIaiByIhAUSXAvYwVV6KrqLagyl3YBCS8Cpu4ricCIiACIiACIiACIiACIpByBCS8Uq7JVWEREAEREAEREAEREAEREIHCJiDhVdjEdT0REAEREAEREAEREAEREIGUIyDhlXJNrgqLgAiIgAiIgAiIgAiIgAgUNgEJr8ImruuJgAiIgAiIgAiIgAiIgAikHAEJr5RrclVYBERABERABERABERABESgsAlIeBU2cV1PBERABERABERABERABEQg5QhIeKVck6vCIiACIiACIiACIiACIiAChU1Awquwiet6IiACIiACIiACIiACIiACKUdAwivlmlwVFgEREAEREAEREAEREAERKGwCEl6FTVzXEwEREAEREAEREAEREAERSDkCEl4p1+SqsAiIgAiIgAiIgAiIgAiIQGETkPAqbOK6ngiIgAiIgAiIgAiIgAiIQMoRkPBKuSZXhUVABERABERABERABERABAqbgIRXYRPX9URABERABERABERABERABFKOgIRXyjW5KiwCIiACIiACIiACIiACIlDYBCS8Cpu4ricCIiACIiACIiACIiACIpByBCS8Uq7JVWEREAEREAEREAEREAEREIHCJiDhVdjEdT0REAEREAEREAEREAEREIGUIyDhlXJNrgqLgAiIgAiIgAiIgAiIgAgUNgEJr8ImruuJgAiIgAiIgAiIgAiIgAikHAEJr5RrclVYBERABERABERABERABESgsAlIeBU2cV1PBERABERABERABERABEQg5QhIeKVck6vCIiACIiACIiACIiACIiAChU1Awquwiet6IiACIiACIiACIiACIiACKUdAwivlmlwVFgEREAEREAEREAEREAERKGwCEl6FTVzXEwEREAEREAEREAEREAERSDkCEl4p1+SqsAiIgAiIgAiIgAiIgAiIQGETkPAqbOK6ngiIgAiIgAiIgAiIgAiIQMoRkPBKuSZXhUVABERABERABERABERABAqbgIRXYRPX9URABERABERABERABERABFKOgIRXyjW5KiwCIiACIhAIbNiwwf7++2/btGmT/fvvv2F3llvSrVu3ztavX5/jc7LMUAdFQAREwMw2bNzgfcvGjRtz3LeE/oi+TEvyE5DwSv42UglFQAREICUIMIBAAOVGBG0NGK63evVqm/Xxx7ZmzZrYddkfysIAKFoe9jPAmTFjhi1btizHg6OtKafOFQER2HoC4XcdttnlGNKFbXbpt/Y411m9ZrXN+mSW/fnnn0bfk5OF/umDDz6w33//3fsj8tGSvAQkvJK3bVQyERABEchAgD9ZLDT//POP/zFn9ifLcawyUdGQIbNttCPRQCbsQ8ywFka5ucZnn31m559/vg9awlNm9v/111/266+/2nfffedbeIYyIrwuuugiGzNmjDPOrA22EV5dVgSSigC/D35PK1et3Lyu8gce7MNqHH7rBf074veNOEHUcN3okuja7KMvWrFihT9sSZQmmsfWfib/zz//3C644AJbunRprH9nPyv9Dn166NfD9ajL1VdfZWPHjrW1a9fqYVAAk6RbCa8kbRgVSwREQATiCfDni2VmwoQJNmzYMPvxxx8T/smSbsGCBTZ69Gj7448/cvzkNP56BfGdsmFlYgDEgCss7GdAcfvtt1vPnj3tt99+84FGOJ7fW673v//9zx566CEbMmSIrVq1yllSBrgOHTrUrrvuOrvxhhvshhtusEcffdT3U2bWN954w26++WZbtGhRUvHNb07KTwS2lgC/tQcffNBuvfVWu+eee+zuu++2gQMH+jp48GB78cUX7aeffvKHSaQtqAWhR9/Sr18/FzbhWvRHy5cvjwlArs8xhE7v3r39nF9++aVAf+dcjzI8/PDDNmjQoJgFnjKsXLnS3n//fe+rKM97772XTmCRZvLkyd4f0e+HehUUR+W7dQQkvLaOn84WAREQgUIjwB8qT2D58z3qqKNcDDCYiP+j5Tt/zp07d7aff/65QAVMbitP2WbPnm09evRI99QZMUNdsCRdeOGF9sMPPxRoubnep5/Otssvv9zmzJkTG/TxpBnx16BBA3vmmWfso5kz7fHHH7djjz3WB0UM0jh3yZIlPoBEBGuuV27vAqVPJQL8XrAqX3nllTZlyhR766237Pnnn/eHG+3atbMTTjjB+vfv75bl+L4svziRL9agtm3b2tVXX20//fhTTGh9+eWXdv3113v/Q1lZSI+FrEOHDt4nYflG4BTUwvUoR/fu3W3WrFmx/ghLO31506ZN7ZBDDvF15MiRboULrCgz/wswfOaZZ2P1KqiyKt+tIyDhtXX8dLYIiIAIFCoBnooivM4991xj0MKAIH4uAH/IQXjxpDbRgIE00TWzSkTThM+5Scs50YXvEydOtLPOOstdJsPxkDfChie84Xv03Jx+DudGt9Fz2c9gZeDAQXbttdfGBjlw5MnykUceae/PmOFPnWGHa+eTTz7pA7C5c+c6b9Li2tO6dWu5G0bh6rMIxBHgt9amTRsbMGCg90X8pvj9sPKwZerUqXb22We7NSwIn5BF9Dcc/RyOR7fR49HPIQ15078Ed7yQ5u233/brY/WmTGHhOB4GwRrO97ws4TrRbTSfsH/EiBFuXQvlIw3H6H94EPXpp5+6tS5eeJGGcuP63KpVKz0IisJNws8SXknYKCqSCIiACGRGYNnyZdardy+3vvCU9s7+d8YGEuEc/ogzE17hT54nqQwqcEUMcwY4Fl1CWo4HQcRnLDwMnljDOSEtxxioMI8iPl/SMEB4+aWXrHHjxp4u5MWgiOPRfEnLGq4RXza+c144l+/hGgxWKAPlDhapkA95Iu54Av/yyy/HzkfUMvjp1OmydHMsSL948WLr2rWrHw/XnDlzpj+J5kk119MiAiKQkQC/F4QXLnR8ji58p7/o1bu3tWjRwh+ChDT8XvlMX0Ua+ip+Z4n6hGhaftusnMf5HAsrfUE4n318nvj663bGGWe4FYlz6IPCeaF/CmlJH8oXrQfHWeKPs5/8Qv+J0AzXD+eTH30lln6s7PHHyYNy4H6Ni3m88CIf0uBJAEMCbSDetCQnAQmv5GwXlUoEREAEEhLApaRXr1727HPP+tyIRo0a+R8tIir8+bONF17sC3/wuNbxdJT5Fvfee6//kU+fPt3nGJAupCVP/sSx9pCO9b777rMHHnjAhR954JrHYAjXu3fffdfTMj/qrrvu8nkdPM0O8ycYdIwfP966detq//3vf33OAm58L730kp/PgINogZzDQANrHtYxBhyUKbqQlnliuC4xPySUm32UY/jw4V4G5m8x1+3LL79yoUk6ysskdlyOEE1hkBXEFfVj4BYWzqHsd95xp7Vv1y42uGJ+V6dOney5555zkRfSaysCIrCFAL+vILzif8d85ziColmzZi5Qwu8RsULwG36/9FW40vFg5LXXXnMLUBAo5MFDlo8//tgeeeQRdwFmHhnzpegHCY5BGvoU+jN++wgs1ldffdXncmLlJu/HHnvM3SAJrEM5eLhCn7RuXZrVif6LY/H1oCxcB+vZt99+68fJnzlX48aN83mkAwYMsAdHjPA5uvTjlId8EF3z5893t8aPPvooQ96QJB19G31TZsKLfvCWW27x44hULclJQMIrOdtFpRIBERCBhASC8GKOxDfffGN9+vRxyw2igT9/Fv6kEwkvBAd/8Lgp4pLCIOWFF15wd7szzmjiASPCYIC08+bNM4Rdly5d7Omnn7ZRo0db3bp17eCDD7Zu3br5AAfxwZ88wSdOPfVUFyKjRo3ywQvzuDifOR0MQnhqTTCLjh062F577+Uuk3fccYcPdig/177tttvsxhtvdKHDQIoIXwSyYBAUFupHfh9++KHPY0NIcpyBGoOc0047za666ip/ekwdmzdvbh07dvQBEdegHIgl2IUAJeT5xRdf+FNn5m0hOqML+TMwO/3002OWPAZC1JsyI0C1iIAIZCTAb6dt2zZ296BBGURF+C3zoIZ+id8d6UNfhQWHPoR+gyAcd955p9WrV8/oN/jNkZZ+j3lR/M6Z1+p91ahRdumll9p5553nLnqk4+EJ5yFcuA7fyffiiy+2fffdNxZ4A8EWXLgpV+/evWz16lX+kIbyYCUPfS21pQ6IJ0Qa18RdmeP0LbgyU14eRtFn9+3b17/zYCg8kKI/Is9rrrnGFi5cmIFRuEZ2wgvxyTWu7d7d/qf+KOONmCR7JLySpCFUDBEQARHICYGo8OIJK77//LHzxx3mBjAQiAovxAYDD8QNwSR4KooAY3DDgIE/fgYCCBasS6RHUCG4iALGNUhL/gwMmCjPAIZ9DDA4n6haDDj4TJ4hXyIC8qSaQQFlQDAhek455RS3KpGO65EPx5m/xjlBIDEoInogx6lXWDmP6GSIpzCAYeDDZHjEFmUlDWXkSTAC7pGHH7YVy5f7dQcPHuKiCdFIniw82ebJPE+dOS+6UDYGdKeecoo/2aY85P/VV1/5YC9Y3aLn6LMIiECaO3CwePE74vcWtrjhIVBws+NhTvid0/8QaILz6Lf4PYbfM1Zu9mPVYh+/dR6AXHbZZd4XhLTsZ04mfRLXRGjRZyC8OMY++hmsWLg+04+QJtof0XfhYRCuTTnpn+jHOD+s5Id1nf4Lixj5IBKvvPIq7yM4n5WyvPPOOx4cCddArkXfeP/9D7hVD88B8oxf2JeV8CI9edGvt27VKqFVLj5Pfd82BCS8tg13XVUEREAE8kQgJrzGjXMBgUsc7nrt27d3t5wwEIgXXvzp44LH02MsZQwMwuCHwQ7WHp7mYjEiT8THmWee6XmGQQrpyQfRRfRBRAv7GDyRH+nCwIlyMDjB2sVTXwZPpGXlyXXDhg39nOggg2NBeJEnK26ODHYQNgwsSM81uDYBOp566ikflHEMKxcRCRm8kFdgwWAHKxZWLwYmnOvums8+G3M/pDHgg0DD/ZB6RhfywiWSfFZTKgAAIABJREFUaIcMgChDGDRiPfz+++8TDpiieeizCKQiAX6LBKHp3au3/fjDD/4ghwc4/M5wJb7kkkvcUo6FPfy+cS+kj8CSFfqf8Humf+LhCg9vEG38vglLjzWJz+G3z5Y+KPRJ9FFR4UVbkCeui8zx4tyQlmOcH4RXyOfZZ591qxYuhKE/Ih1lan5uc+M4D8R4IIN1/NVXJ6QrP30GkWZxUaaOiC7S97vjDnvyyVH+mTLFL+zLTnhRdgQr19WDoHiCyfNdwit52kIlEQEREIFsCQThNe75NIHEnz+RCy/v1Mnu6NfPn9ryBxwvvPhzZ37ApZdd5sILcRJdmffQpUtXf+rKNZirwMCHvKNPdxlk3H///S5iSMf3MCDiugwk+NNn4MG8Ma6JcPr66699UEP6nAgv8iItgzGsdDyVxpWQa7GdOnWazwkJT40pCyHfEaE8cY7WjYEOQhJL3bRp01x48XT9lVdecdEWBjo8iUZ4UfZEwuvll1+xBg1O8fd/hfKRN6Ge9f6cbG9dJUhRAvyOW7Vq7YLg9j593DUXq9HVXbpYp80W+E9nfxp7CIJAwk0ZcULfw/nRhe9Yt3mINHnKZP8982CFB0W42oWHK/xGQ9/ENqfCK1yL60SFF9/5nRNkh4cwQRCyRSDSD7DlwQ4PjCgPfWC0L+IzfSHvNEMo0ldhabuxRw/vF0MfF8oQtpQ/O+FF+RBeeC4EF+pwvrbJQ0DCK3naQiURAREQgWwJhKiGDDB4yhoGFpMmTfKnylhtEA1BeCEMEGdsiYJ4zjnn2G29exsTvaMrlibeccN8JUQMoYuxKGGxCm6CDGSYG9Hjxht9XhkuPfzZs/KZFxIjqhhUtWzZ0gceDAIYgCBmgljJTnhdf8P1sSfPCEbmVnXt2s2fBnMtBivMAyPYBwMZBlRY7I479lgXadF68bl//7u8XrgTMZmegRFzQXjSHUQl4Bkk4cL0ySefeH2ijQHn4CJJmUK9EaZNmjTxwR5ptIiACKQnwG8Fa3qnTpfbm2++6Wuaa/IHNu/rr2MPP/j9kJbfF/OdeMly6N+iOZKGABZYmseMHeO/Zx72EKDjhOOP9wc9uAXz26S/wspEPpkJL6xuUYtXuBbXiQov8kAY4dbIwyD6X9Lgnk2/iZjimvSDeAUw55V+6q670ve1uEfzgIeoqpSb/pb60h8FMRfKELZcOyfCC8+CU087VcIrgEvCrYRXEjaKiiQCIiACmRHg6SgiCeG1anPkPf6UERO42yAcSINlB3Hxy2bhxRNQXPEQQczbYmAQXfv17etCDEsXf/78yZMfT3GxFjFowRWHYBxnn3WWjXnqqZg4QnRNmzbVGjduFJtjhTsjgo0n0yF6YLzw4jzKHhYGMcHVMDytZtBElMP69ev7oIb9iDjcjBCH5EHZCMRx3HHHeZ2j9Yp+JiIjT5sp13XXXutPrUMZKAeCC5dNRCwDtuhC2ZiIjxUQPnynLAhaBKosXlFa+iwCWwjwW6FfGnDXXf5QiIcdPBxiy0OhTXF9AH0PQoQHLtH+IeRIfgS/IJAFaejv6Cf4zfI7JAIiERJPOukke+KJJ/zhDPlkJrziXQ2j14kXXlwb0Uh/5C95X7/B5nzxhferzBGlb+BhEK7M9BXXXXed9esX19dunpuKWzd9EeVnHivf6WMT1Zl92Qkv+iNZvELrJe9Wwit520YlEwEREIEMBJYvX+ZRttKE1yo/zp8yAxjc7ogMhrvdqxMm2BVXXOHCgGNEAMP6gwsPrjg8pY1feVLLE13+wBkQ4DZD2HfEGvMwWJmrwdNk8uO6rFyXIBgjRz7obow8wUXQcF1cGBlEEXmQfBm4ZGfxwmJGWhbyZzBF0AyeTHNdJtcTrYzyk47r8OT4xBNP9MFLfL2Cqw8DHAZf1I25YNQjuPZwHead8CQbfgyAwsIxBom8h4jrck32MdhD0PIia540s0+LCIhAegJpwqut3X13xqiG6VOm/d4RL/QBiBd+U/G/K77zAIW+7umxT/vvmX1cB0GHQGH+GHOoTjnlVH9Ixe+cfLOa47Vy1cpYv0O5yC9eeHEd+iPmiz77zLOx/gihR99En0D/h/UNixx9aHx/FL7Tx9B38dCM6ImEsqePiq8vZWFfToUXD8t4IJQon3je+l74BCS8Cp+5rigCIiACeSaAqyHhjaPCi8z4k+VPe+zYsT4gISQycySCqyEDD17OicsP+xggcE5mK4MDoh+SB5YeniIT+ZCnvQwsGJSE6/I+L55oI34YSIQ8+czAo0uXtPdlxQsvBkKkDQt5Ri1eIX/qhRjq3PkKt74NGjTQ7r9/mA9YOJ/zEFS4EvIEnAEN+0I54re4CFEXVgYz4XgQpwhF6sh+FvJCvOGqycAt5M0Tdix6RH/ExSikD/XRVgREYHNUw7ZpL1DO7jfCcfoNBA8Pefh9hj4lsKTvwjKP1ZtXStCPhN8k57PS1/AbJrIg7n78fjMTXsHVkAcynBcW8owKL/aTN66QWKfoG+nfCBWP23Nw/aavxYrGHDSsYNn1tZxHf01ZM+tHuG5WwovjPOzivWc8pKL/1pKcBCS8krNdVCoREAERSEhg2fLl1muzqyF/2NGFgQIiBXc5rFMXXtjRxRB//AwocMc75phjfJ4Tgwf2cw7HEC5hAMM+3Pl4osycDAYwPEkOKwMhzuHPnpXwzMxZ4MltOEZavmNV4ukwT6DDOUT6wg0HC1tIzzGuGy+8qB9piBpItK7B991n7dq2tc8+m+0DjVB/zsc1MkQuZBDCPlbORyRhteI7wozAGrf0vMVdc0I9KDNz2gjSwVNt8oARbJj/BVdewEo5OYfBHAMuLIkMirSIgAhkJMDvpU2btm4x5neT3UJ65qoyd5IHTPQ/oZ9gy3cegCDM6GPot+j3EDwhHb9bjuFqyNwrHgqtXZPY4sVvnjlepKEPCP0G5WB+KJY3+o6wcByBRH/EwxsivCKw6C+oH9emb8Mdkf4h2i9yLtegrKQjPZ/pZ5nzhYt2YMSWMpCOetHfYEnj4VIQpORHOtbwgApXcvVHobWSbyvhlXxtohKJgAiIQKYE+HNFnDDXCgERXfjz5c+f+V116tTxJ64MJsIfPOfyZPWEE05wKxZihkEBaZjXRL6IOdIzf4E5YQwqeCLMk11cCnmiipsPAS4YjHBNBg1nn322R/LCmobl6NNPZ/uABfc/AnoE4cVAAvHC02DET0hPORhEMEk96mpI/TiHuuI6ybyNDu072Nq1aS9aDfUnDW5/DF4YRDEQ4qkvAxBcKwk/PWnSW14/yo2wYg4c88TCwIU8fO6Ih7e+LOYmRJ0ZBOKeSDlDeib4E5CEp9vxbRHKpa0IpDoBfle44/LeLX472S2koa/C0n7UUUe5azJzlxBc/G5xl6a/YU4mv2Uin2LlQYzx3i5+84gUrNFNmpxhvNAdccYDFOZ8hvd4UQ6uRT6455GOvpBzuT7lTnuBcu90wotzsI5hGcfqxgOZ0H9xjPMQV/Sp9Bv0abgxU34EG3NmCbCBezJ9HqKK/TAiKBJ5hJUHRtSdfon+t1/ffm6FI5gQ+yhrSEs6orVSD8qnJTkJSHglZ7uoVCIgAiKQkAAD/OEjRrhlhoFE/MIfOYMABhi8UJRBSHgqyiCF77xrBlHFSrRAxAoiZPRTo90yxMABQcQApW7dutahfXufyI4VjQnt5IubzX33DfY/eAQOli0GDgTSYEBC3ligEG0IuvAeLwYJlIHBAaIFNz1cgXAZQvDxBJkBGmUOC+cgKBnIYIVDdFJG9oclpEHg8SJTyknYZ1bqRplmzkx7MTLnMqBhkIIgC3zIg/0ILSbFIzopH1Y0nnozqAsiljwIP497IyIVtlpEQAQyEuB3xbv8+M1Hf7MZU27ZgxihX2GeFvNH6Ve6d7/G+x1+k7g8Iy74HWK95/tNN92U9lvv1s1/9/x+6YOCwEEMEZGQ/o/PLJQHQYTrIFZ7roNLMfmRNy7OQ4cM8d99KB3nIORef/11a968ueFqHfqFkIZzEW9Y0+hLeGgU+kX60XvuvtsfUJEXK+Xh2vS5IS/yoM/h/NCP4SrOPFPyY18Qs+TBC+zPaXaOffPN/Fj9Qnm0TR4CEl7J0xYqiQiIgAhkS4AB/i+//uoWFv6gEy38CWORQjwxgOF7WPgzZ9DA09K33n7LX9rJO2l4aswAhuPky9Nin7z+9NP+pJUgGTxxZeWJLcLu6KOPdjGDAFzxxwo/hijCPYgnsgxoEIEMQBgkUQ7WIA4ZKDBowULHIIv9bLGYRctM2TlG+XgyjHCLP04a9lF20mHJIogHL1gmGAdPgxFVpGGlnkxmZ7ATnlZH82CwxjyScD5lYnAUzqfOuDEh3sL+wFhbERCBLQT4zfC7DdaZLUcy/xR+ozxwwf0OkcNvESGDVYo+LPwW2fJ7pM+j33p67Fh7ftw47wP4bYc+kD6EckR/75SAvoB9WMm5Bm6O9J3sJ89E/U3ow0iHWyFliF/YRzlJQx+H8ETgEWiIPpFyhYW0z7/wvItHrkf+7CNdtO8NfXDY0o+TDk70Z50uu8zzpexakpOAhFdytotKJQIiIAIJCfAny58q28yWkCaki6blczgePsd/R0hgNcISxh86g4D4FXdD3tXFu62CqIpeL7PPmV0z7Oe8cG60ftHj4XP0ePgcjoU84r+HdBz/4os5LpywtlHnsIRzwjZRXgymcBdC1EUHUCEPbUVABNII8DviNxR+R7nhEs6N/hYT5RPShWPhezgvbEM5omWIHgufwzak53t0iR4Pn6PHw2eORfMI3+PPIQ0u0QQ0QqTxgC2kie97E33ngVWvXrfahAmvxs4LZdA2uQhIeCVXe6g0IiACIrBNCfBnj2Wob9++1v2a7jFrThgwMEDgj595WvXq1XN3u0Quj9u0Ejm4OPVhUvvLL7/sT5mD21IOTvWB1KgnR7kLJU+nYaJFBERABPJKgP4I6xgPsrp37+59E/0K+7NaOI6Vn4i1uHTnxqqYVb46VnAEJLwKjq1yFgEREIEiR4A/cqw//JETteuFF573ieG40yAycMF744033FLE3Cz2Z+bymOyVZ2DDpHcm6+MWmRMB9a+lDXQIAIJLUnBjSva6qnwiIALJTYC+N/RHCCgecOVkof/t0+c274/wUMhOrOUkT6UpOAISXgXHVjmLgAiIQJEjwJ82K/MoBg4cYGec0cQndxMNkTkETGAnohhbovoV5aAS1BNrHfO3qEdOhBcNSjoEZ3CxLHKNrAKLgAgkHYHQHzGvi4dfORVe9EcItfAesaSrmAqUjoCEVzoc+iICIiACIhDEF3/+BMngpcy8j4ZIXEQEYx+CJaQr6sQYuOSmLqTN7TlFnZHKLwIiUDgEQl/ENieL+qOcUEqeNBJeydMWKokIiIAIJBUBxAXiiyepPIVlJZx9bp7GJlWFVBgREAEREAER2IYEJLy2IXxdWgREQASKCoHwFLaolFflFAEREAEREIFkIyDhlWwtovKIgAiIgAiIgAiIgAiIgAgUOwISXsWuSVUhERABERABERABERABERCBZCMg4ZVsLaLyiIAIiIAIiIAIiIAIiIAIFDsCEl7FrklVIREQAREQAREQAREQAREQgWQjIOGVbC2i8oiACIiACIiACIiACIiACBQ7AhJexa5JVSEREAEREAEREAEREAEREIFkIyDhlWwtovKIgAiIgAiIgAiIgAiIgAgUOwISXsWuSVUhERABERABERABERABERCBZCMg4ZVsLaLyiIAIiIAIiIAIiIAIiIAIFDsCEl7FrklVIREQAREQAREQAREQAREQgWQjIOGVbC2i8oiACIiACIiACIiACIiACBQ7AhJexa5JVSEREAEREAEREAEREAEREIFkIyDhlWwtovKIgAiIgAiIgAiIgAiIgAgUOwISXsWuSVUhERABERABERABERABERCBZCMg4ZVsLaLyiIAIiIAIiIAIiIAIiIAIFDsCEl7FrklVIREQAREQAREQAREQAREQgWQjIOGVbC2i8oiACIiACIiACIiACIiACBQ7AhJexa5JVSEREAEREAEREAEREAEREIFkIyDhlWwtovKIgAiIgAiIgAiIgAiIgAgUOwISXsWuSVUhERABERABERABERABERCBZCMg4ZVsLaLyiIAIiIAIiIAIbDWBf//91zZt2mRstYiACIhAMhCQ8EqGVlAZREAEREAEREAE8pXA33//bcuXL7cNGzZIfOUrWWUmAiKQVwISXnklp/NEQAREQAREQASSkgBWrl9++cUGDBhgf/75p1u+krKgKpQIiEBKEZDwSqnmVmVFQAREQAREoPgTQHjNnz/fOnbsaL///rtt3Lix+FdaNRQBEUh6AhJeSd9EKqAIiIAIiIAIiEBuCEh45YaW0oqACBQWAQmvwiKt64iACIiACIiACBQKAQmvQsGsi4iACOSSgIRXLoEpuQiIgAiIgAiIQHITkPBK7vZR6UQgVQlIeKVqy6veIiACIiACIlBMCUh4FdOGVbVEoIgTkPAq4g2o4ouACIiACIiACKQnIOGVnoe+iYAIJAcBCa/kaAeVQgREQAREQAREIJ8ISHjlE0hlIwIikK8EJLzyFacyEwEREAEREAER2NYEJLy2dQvo+iIgAokISHgloqJ9IiACIiACIiACRZaAhFeRbToVXASKNQEJr2LdvKqcCIiACIiACKQeAQmv1Gtz1VgEigIBCa+i0EoqowiIgAiIgAiIQI4JSHjlGJUSioAIFCIBCa9ChK1LiYAIiIAIiIAIFDwBCa+CZ6wriIAI5J6AhFfumekMERABERABERCBJCYg4ZXEjaOiiUAKE5DwSuHGV9VFQAREQAREoDgSkPAqjq2qOolA0Scg4VX021A1EAEREAEREAERiBCQ8IrA0EcREIGkISDhlTRNoYKIgAiIgAiIgAjkBwEJr/ygqDxEQATym4CEV34TVX4iIAIiIAIiIALblICE1zbFr4uLgAhkQkDCKxMw2i0CIiACIiACIlA0CUh4Fc12U6lFoLgTkPAq7i2s+omACIiACIhAihGQ8EqxBld1RaCIEJDwKiINpWKKgAiIgAiIgAjkjICEV844KZUIiEDhEpDwKlzeupoIiIAIiIAIiEABE5DwKmDAyl4ERCBPBCS88oRNJ4mACIiACIiACCQrAQmvZG0ZlUsEUpuAhFdqt79qLwIiIAIiIALFjoCEV7FrUlVIBIoFAQmvYtGMqoQIiIAIiIAIiEAgIOEVSGgrAiKQTAQkvJKpNVQWERABERABERCBrSYg4bXVCJWBCIhAARCQ8CoAqMpSBERABERABERg2xGQ8Np27HVlERCBzAlIeGXORkdEQAREQAREQASKIAEJryLYaCqyCKQAAQmvFGhkVVEEREAEREAEUomAhFcqtbbqKgJFh4CEV9FpK5VUBERABERABEQgBwQkvHIASUlEQAQKnYCEV6Ej1wVFQAREQAREQAQKkoCEV0HSVd4iIAJ5JSDhlVdyOk8EREAEREAERCApCUh4JWWzqFAikPIEJLxS/hYQABEQAREQAREoXgQkvIpXe6o2IlBcCEh4FZeWVD1EQAREYBsQYICblzUUNf7csD9+G5+O71pEIDMC3B/z58+3jh072u+//24bN27MLKn2pxCBRP1IZvuiWDJLE90fTa/PIpAZAQmvzMhovwiIgAiIQJYENm3619b+9Y/9sXKtLVuxOofrKlu1+i9bv36DC7Y1a9bYihUrbPny5bZ69WrbsGFDhmsyuGE/6ZYtW2arVq3yczMk1A4R2EyAe0bCS7dDlMC/mzbZ+lWr7J8/Vtg/K7Jal9v6VStjfcxff/3l/RN9T3Slz1q5cqX9/ffftmnTptgDqOg19VkE4glIeMUT0XcREAEREIEcEVj3z3p7a9oc63X3c3bt7aNzuI6y+x9/w5b8/qcPVl588UXr0aOHXXfddTZ48GD79ddffX+0AIiuH374wXr27GnXXnutjRgxwv7555/YwCiaVp9FAAISXroP4glsXLfOFjw83L68o5fN6dszbb29p80Jq++71b/PHdTfNq1f733RjBkzvH/q3r27XXNNd2PLSp/V89aeNnToUHvllVdswYJv/eER954WEciMgIRXZmS0XwREQAREIEsCq9f8bb3uHmd7HHWFVdi/fWwtu29bK71XGyu11wVWZp+2Vn6/dpuPdbAK+7WzU1v2tXkLfrYNGzbalVdcYTvssIOVKlXKdtxxR3vttdds7dq16UQVT5SnT59uNWrU8HQNGzY0LGUa4GTZPCl9UMIrpZs/YeWxdr17RgMbv9+u9vI+O9or++1i4/ffLW09YDcb7+vu/v2NYw6xDX+tdUv7sGHDrEyZMrbddttZqVKlrVy5cla+fHkrW66clS5Txj/vsssudv7559n777+fof9KWBjtTFkCEl4p2/SquAiIgAhsHYG1f62zoY+9bieff7sd3riHHdb4RjuscQ/b89irrPz+7a3Mvm2t+qGX2kENrrPDGnG8hx3W6Ea78Jrh9t0PS23Dxo12xWbhxaCmZMmS1qxZM/v6669dVAVhhfB67733XHiVLl3aGjVqrMHN1jVdsT9bwqvYN3GuK7h+9Sp7t+mpNr7W7vbqgXvYpBMOsykNT7QpjU+2dxrXsymnn+yf+f7e+WfZxnV/+9zA+++/38qUTRNeO++8sx199NFWt25dO7JOHdt7772tUqVK/kCoYoUKdvLJJ7v44v4L/VeuC6oTijUBCa9i3byqnAiIgAgUHIENGzfZj78ss8/mLraPP18YW28d9JxVP/hiq3BABzu+WS+b8PansWOk+2bhL7ZmLfMi/rUrr7zSLV4IL1YGNnfffXds3gSljxdejRtLeBVcqxaPnCW8ikc75l8t/rWY8Dpgd3v9qINt4eMP2bKPP7QVn89OW7/YvP18tv057yv7d+PGLcKrTFkrUaKEtWnTxqZOnWpffPGFffLJJzZt2jR3kT700EOtbNmyVq1qNbv00ktt/fr1El7513jFKicJr2LVnKqMCIiACBQugfBkN2w3btpkI59623Y+rJNVrNXRmnQYYAsXL3GRFdKwZWEbhBfWripVqliFChWsQYMGNmfOHJ/HRboMwqtRY7kaFm4zF7mrcW8puEaRa7YCLHBUeO1mk0480pa887ZtWJvmshztm6KfiYaZZvFKE17dunWzX3/7LRZMg+NLlizxh0VpLtOl7cQTT/RgHIqkWYDNWYSzlvAqwo2noouACIhAshHAipVIeDGYiV/YF4QXcyaaNGni4gurV69evTxiGNHCiCqWztWwcSMJr3iY+p6OAPeWhFc6JCn/ZYvFC+F1REx4ZQaGeygIL6xZWLxceP36azpr1rp162zevHk+R7VUyVJ25JFH+r1HACAtIhBPQMIrnoi+i4AIiIAI5JnAFuF1WTqLV3bCq2rVKu6yc9BBB7nLDnMncOdBdMULr8aa45Xn9kmVEyW8UqWlc17PeOH12ztv2fo1q40w8+nWyLsJtwivMmnCq2tXj7zK/RVWLPKzZs2ymjVr+jzVOnXq2IIFC2IW+5yXUClTgYCEVyq0suooAiIgAoVEIJ3wOrCjndFhgH23eEm6J8ShKAxcgsWrevXq9sQTT1iXLl1spx13tMqVK1unyy6zxYsXZxRemuMVEGqbCQEJr0zApPDuLcJrd3vjqINt0TOj7c+5X9qqBd/aqoWb1wXf2t9Ll9imza+rCMKL4BrB4vXbb7/FRFd41cUNN9zgfRbRD+vVq2d//vmnXtqdwvdaVlWX8MqKjo6JgAiIgAjkikBi4bU0C+GVFk4e4fXoo4/6xPX69eu71WufffaxV1991edLhHDyRDVs3LiRohrmqlVSL7GEV+q1eXY1jgmvWrvbhNp72+SGdW1q8yb23vlNt6wtmtq8u++09Sv/dCtYEF5ly6QJr/bt2/urLb766iv7/PPPbcaM961///621157GX3TTjvt6O8b5DzuQS0iEE9AwiueiL6LgAiIgAjkmUA64VULi9dA+25xVsIrLaphtWrVbPjw4fbTTz/Zgw8+6E+PmS/Rtk1bny/xwQcfxMLJS3jluXlS5kQJr5Rp6hxXNAivV2vtbuN5hxfv7TpwDw8tT3j5sM7q2tnW/W9p+qiGm8PJ77777nbsscdZ3bonGS6Fe+yxp7/HC9HF+71atmxp8+bOlejKcaukXkIJr9Rrc9U4xQjoqVuKNfg2rm4G4dVxoL+zK9F9yL7gaojwInrY77//bjxNPvPMM618ufK26y672N1332Mfb55DkWbxIqph+pcsb+Nq6/JJRkDCK8kaJAmKExVerx26r01vdY59dMXFNqtLJ5vVtVNsu/CxkcbLlpn3FbN4lS3rr7ug/yEQENFXK1Qo72KLaIYHH3yw9ehxk82dO89doxP1d0mAQEVIAgISXknQCCqCCOSEAB05/uQ5dWEgPWlDev0R5ISy0mwtgQzCy+d45czihfBavny5/fHHH/bCCy/4ZHVeTnrqqafaxIkTDXdEBj6NGimq4da2U3E/n/5OUQ2Leyvnrn5BeGHpeuOYQ+yH55+2ld9+Y2t+XGxrfvxh87rY1i1fZps2bHCr1RbhlfYC5dq1a1unTp2se/fu1qNHDw8j/8gjj9i7775rzP3666+/Ze3KXbOkXGoJr5Rr8sKtMH9+ORnw5yRN4ZY886uFOhHmOoiazFPnzxEE1+rVq+3DDz/0SbuBF1vKwMsaSUOZosdWrlzp1gMGs6TTIgIFTSAmvP6bFtWQ4Bq8xyvcl9Hrsy/e4hXuVSxfuO1UrVLFcO/p06ePCy8mrzfSe7yiGPU5AQHuLQmvBGBSeFdUeG0JJ782UyLcQ0F4heAanTt3tm+++cYfDq1atcoIJR/9703Uz2V6AR1ISQISXinZ7IVTaTogBEF4g3tmHRJigfddsE2mhfJG11A29tEZr1mzxjvLZSkLAAAgAElEQVTfghY0XI8OftKkSXbZZZd5px/KRYdP9KTvvvvOfvnlF3dxoDzh+MKFC+2WW26xCRMmyP0hNKC2BUogJrwO2yK8spzjdcWWOV7B4sX9S4jmyZMn26GHHuquPbUOrOXCi3kUaRYvuRoWaEMW8cy5hyS8ingj5nPxt054pb3Hq+vmcPLhISf3mRYRyA0BCa/c0FLaHBOgM0IAXHPNNdar161urUkkrEjz7bffutl+xYoVCZ+K5/ii+ZwQMYioiReF1IMyNz+3uXXs2NGWLVtWoOWG5Q8//GAXXXSRffzxxy74KANP2p555hlremZTtwDgjnXppZfap59+6uw5b+3atfbyyy/bJZdc4nVJ1Ab5jE3ZpTiBmPDabPFqkgeLV+g/sPLi1lOtWnUrXaaMvyNHroYpfoPlsPrcQxJeOYSVIsnyU3hxf2kRgbwQkPDKCzWdky0BOiUsXW3btrWjjz7aXnvttYThn7HYfPnll55u6dLE80CyvVgBJaA8Q4YMcZEVfQM9dfvxxx/t9ttvd/9u3PkKshPmyT8uhhdeeKH7kCNWEYTMgWnSpIkNHTrUpk+fYW+99ZZ169bN34PEgCO4P3z99ddGCNyPPvrIRVtBlrWAmkLZFiECMeG12eKF8MrJe7xCcA1cDcPCvfr+++/b8ccfb9uVKBGb3N6oseZ4BUbaJibAvSPhlZhNqu7dGuFVNvIer19//bVA//NTtX1Spd4SXqnS0oVcT/70EF4dOnSw008/3S644AJbsmSJ74sWBXEwZ84ca9OmjR/PTBSwP7Nj0fxymo5zskrLMdz0sDLxRvq//vordn2OIcR4Gk8QAOrAvrwu2ZXjf//7nw1/YLgNGzbMAw9gtSLkdtOmTe2B4cNj3MgHkXXxxRfbiBEj3CLGPubK8H6km266yd0Rt6asea2jzksdAjHh9d9LrcIBHSw74XXFFWnv8UJ4Dbs/7R4PtLhXsYQ/8MADRpCNkiVLWqlSpdzVcO3aNVv1uwvX0LZ4EuDekfAqnm2b11q58DrzFHtlv13tzROOsCXvvG0b1uZsjlfZMuldDfU/mtdW0HkSXroHCoQAnRLC6/LLL7cbb7zRWrdubWPGjvFBVLTDykx4kYYVkcGK1QdLD5/DsVDwaDrSBNfAcG70nPi0uOvF5xvyZ94UImb27NkuvDLLJ6SPHg9lY5voeLQccAplDmnZhnM/++wzt3YRYhsOMOPFjURXWrBgQTom1Oehhx62Jk3OcGFIPuTPAKRp07O8LiHvaBn1WQTyiwC/gxFPvmk71+pg5fdsbQ1b97OFi35LKJK4F+kjCMdMxMLBgwe7624oC8fJj/u9bt26HsK5VKnSdsoppyS0oIfztBUB7h0JL90HUQKEiJ/SsK69tEc1e73OIfbblLdsw9o10STpPnMPMT7Aq4SgPjz4CXO8OKZFBPJCQMIrL9R0TrYE6JQY8DM/45577rHXX3/dGjdu7C5zdGSh00okvDjGSrAI5jCdc/bZ7lLXrFkzGzlypP38888uPihEuA6uf/fee6+dddZZnrZ58+Y+34nrEzWN669ctdJWr1ntf8Y8QSdi2plnnGHkizWJeVTkx0CPeVFXXXWVi5sWLVp4PW644QYbP368ix/cC9944w2f/I/li+AVuCVSZ/KILnxnANC3b1+3WFF/AnN8//33Pv8NyxUug7gSEkwAVyvOCWV5/vnn3WLIdTiXLfVp166dM6K8gQXHcTls0KCB4SoJX44zD43rTJs2zb9Hy6fPIpCfBLhvf/plmb334VybMn2Off7VIlu9JnGIZdJipSUU89SpU/03yMOD6EIa7nlckqdMmWJvv/22P0DgXtciApkR4L6R8MqMTmruJ0T88tmf2NLpU+33j2fauhXLPWx8VjS4jxgb0O+w8rCTB6Ds1yICeSEg4ZUXajonWwJ0SogQovAhchATV199tQ0aNCjmGkcmiYQX5+FDjVDp0L69C5rRo0fb8OHDXQD17NnTcL8jHZaiJb8tseuvv96F0kMjH7InR42y2267zY477jgXV7jdzZgxwwdv38z/xtORByLu2WefdTc8LHIINwQKA7op77xj/fv397klWOx44vX44497cAsGhlwfoUUeuBsiyM4++2ybO3euu/hFAVFGBOS5557rc7NwW5w5c6YH5rjuuutsJGV+8km/XqtWrTwv5nDBED4DBgzw4CMIKPZxbaK/9erVKx1LrslxgmsgQNkGF0ny40ndK+PHOzPSaRGBgiKwceMm+2f9Bvvnnw22YQOW6szvN+5xfiOs/PYS3Zvs4xhp+P3x29ciAlkR4J6R8MqKUOod457YtH69bSKKMg9JeWiZg/9C+h76HdbM+qjUo6ka55WAhFdeyem8LAnQwQXhFeYbffDBBz7ni0AbHENIJBJeiARETsOGDW36e9N9sEVaBl0EmcA69Oqrr3qIdeZ/PPbYY3ZW0zShQX50jIghhBOWL0Qf+7kmc6NeeuklFy/s84540yZ/kkUACsRK2M+TLaIWfvLJJzEBQ3pW5qthycNSRhn4g+/QvoM99NBDLq5Iw8KW6yMiCcZBx42oJMQ7c674TL2oHyHjqTfXnDdvnu/jGCIRUUhepKMOnBvcssK1wvU4FyudW/k2B/7AQodIHDNmTMwFMcsG1EEREAERKMIE6BclvIpwA6roIlBMCUh4FdOG3dbV4k8vKrz4jojod0c/t0LxhncEDms0uAbCArfB+g3qu8scLnns43xWRMyoUaPcekO6xYsXuxUMAUQQiZCOcwi9jgDBhYl8OMb+IPrCd8pAPryF/sUXX/RycixeeAWmHIsXXojF58Y950FCqBtpQv7UD3dHorMhvLBuEbSDlzDCJKSlHAgx5rxQR8qKGLv55pv9nJDfokWL3Hr4yCOPZJgzRxkJdU9Qk3HjxrkA5TyEF3liNYQh+7SIgAiIQHElQB8n4VVcW1f1EoGiS0DCq+i2XVKXnD+9ILweHDEiJkKYz8G7pnDdwypFGoRJiHqIEGEux4knnuhuewgm3OXC+seKFTZz5ocu3vhTJfJg+w4d3OoV3qfFtVkJioELIfNCgvBiP4IGqxiWKs7H7Q9XRkLfI04oA0tuhBfnYGk66aSTDGEUBBXXQuzcfPNNMSsb7pe4GCKAeM9WqBufYcLcsjvvvNPLiJhkbhmCMJQdkXh1l6stM+E1/9v5zoS5YcFlkTkyCDHcFhF35KVFBERABIorAfo4Ca/i2rqqlwgUXQISXkW37ZK65PzpBeGFqyHfWbHgvPnmmx5oA4GFIHDh1SYt3DziY+LEiVanTh0XZ7jGRdfRo0bZsGFDjblQWIywLuGKx4uaCVaB0GFl8isuhQTOQEBhaeL6iBz+jLkGVjJc9sK7r8455xx39cuL8OKaBP1AVBG6HVGFBQvhQ74PP/yw86BcuD+2bNUyXb1CHZ966im3hjF/i/MJkIFIw7UyMAyuhswxC2IzejMgAOEz8fWJzpvz4Mx7v/r166eQ8lFY+iwCIlAsCdDvSXgVy6ZVpUSgSBOQ8CrSzZe8hedPLwivBx980EUDpWU/EYI6d+7s85xwF4xavBAICCZemIpYwUoTv2L9IbrQ/7N3JvA2Ve0fzzzPQpEyljKUBlJIikIR0WQWUYZ6U0kUvYYozSW80ajef4k0IRXJVCiavKKiMmRIkdL0/D/f53ju3fc4595zJ/fce5/9+ey7z9177bWe9Vt7r71+6xkWpAOi9snHH0ujRmep1goTQLREtp4V5oMQKYgRR0gLZn+sLUbQD4JuQNjQfEFKZsyYkSaNF/WCZEGgrrryStXWQfIwLySaIP5tyIC87S5ppxEJ//vf/x5WN+pK/Vg7zLRyt912q7z44gsJxAsyhn8XAUSoL2Xbxm/Cz0P2MLWkPM5BeJ9//nn1S+P+4D12rx8dAUfAEcgpCNDHOfHKKa3p9XAEcg4CTrxyTlvGVU346BnxMo2XCYjWh+h/zZs316iCrNETNDWEOHAN8gRxCN8hNOQBMWGHSODLVfeUukpyWIyZcOojRoxIEiIeE7ux48apqSPkj3zRhKFZgqxNmDAhXcSLfIg4SFCQOXPmyK6du2Tc2HFqNrh1W8i8D3kJ4kGkREhmeN34n/oZWcREEo0eJBRM2bmP8PUE4SDkPudsg9xBSsHP/Oi4bj5eBCLBnDF4j93rx/QhAKbhe/py9LsdgUQEgs9W4ln/FQ0B8HLiFRkdf5Yi4+JnU49A8Fnit28pI+DEK2WMPEUaEOAFjEa8IAcQCvy8Bg0apNH38MVCewN5wYepYcPTNcJg0Dcr+IIjEv/jp0Wodg3DPudVeffdd9WnCw0TpMRMDCkTIgdBWzB/QYIJHnlwDcKE/1MkjRfaJ8iQbdwTHlzD8oEwEb0QjRQf/bZt28qq1YlRESkLzRrri33zzbdaX+6NtoPhiJEjZNSoUQlpOLdm9Ro5vWFD1dSBmeEBcaMOaNkgaJRH3hAv/MYIn08azvmWsQiAKRMC7DwHjnHG4pvbc6Mvs3c6t2MRS/15/5x4HY4UuPDNwEKDfupIbZTLzuSj/T5SZXs5mYOAtSPjNL57/O9bygg48UoZI0+RBgR4AaMRL67R8RN9D7O/f/3rX3L1IR8vI0E33XSTBpnADwzSw3l2SIOaGO7/VfNA24U/FD5e+HyZxohOgDKsk+feT9etU/8qfMwgIpzjw4M/Fgu49u7dO4mPFyaIffr0Ue0SWiKTAfmTEK+ABonyiKI4cOANughzmzZtlEhah0Qea9eu1eiHhI5HfgZUnEdeTAL3HAq6wT3kh0kkRI3rJgMau1atWqm85MF50oIB66UR6t46QvJB/u7du+miz+TjW8YjAM480xBfTFft2eN8rHvGS5V5OVqdUirB0nHMCRvvGn0b/RLHI1EvyqDfsHUQKde35BEAMydeSTECE54dvl9MNOL/TD/FxrVY96S5xvYfefPdwl+Zcvk+ZfUWrb5ZKRcy0SaQGcYn9Deci2Wzvol77fsTy31pTUN5jLkee/QxnfT2CcfYkHTiFRtOniqVCNBR0MHjy8XaVuEdB//z0uIT1aBBAw1/jtaJ83TIEC5M9ojwt2nTJtVsod1at+5TmThhoixbukwHPpzDVwrTQszxMFvkY8uO/xjXbWaPTh+CRkRAIg9CRvgAEdEQgsT6YMGohpjqsf4WwS0gNOTDPRAXyM79D9wvjz3+eBLTPeqEpg3yc/7556umyuoFhNSPTpEgGkRARGb8zsgXc0fMBNGWcc4wIiojERctYAfnqRdmg/iq4RfG/9QFEksoefBDTtLSAe/8cacGNPlg6Qd6LpXN6clTQMA+eGPGjJGL27SRxYsXq3YCgk/bxLobWU6huCy9zDPFu81zzDvBb+ofaSMtdSLtb78dyBbPHjKzUyeO4RsTJQwcMfflXY9W9/D70vM/7zC+n/SV9Bn0BZFkS08ZOe1e8HHilbRVwYR3lu/P8ccfr/2UDe4ZQHMtub6K60w4pOXZ4x4CPJ1wwglq7RIpMFRSaTPvP2Sh3uF15Tu8d+/POgEKHoZNWuqbVun5bjMBu2DBAo2UHI43/U20PgeZeeZtDU/6jczcyB8MW7ZsqRPXjJmiyZaZcmS3vJ14ZbcWyyby0lHRgYwfP141P5E6Ls7xopIG8zw6Pc6xM5ijAyE4RuvWrTVYxAUXXKBEA/8ortEpMqCDbEFyLmp9kXTq1Ek6duyoO+Z25513npIWNBGY6WBuiI8VebVv30HJ3YABAzSYBQQObRhyszFgZJaZ/CA4HCFhqpXas0cJGx8S8rX6cWRgxlpdmDWuWb1aP1TWbFyns6Ku+IFBqNq0uVguvfRSadasqXTq1FGmTfuP7NmTiAXaEzRoRGKkbMuDTpbIjJgzQhovuKCl5of2DhlIxw5G77//vgb0ADfO+ZZxCIAnz8oXX36hA+OhQ4fqgJznqXOXLqqZRDtpOxMK7Pa/HXnOWVzcCHPGSZixOfFhZVKDenbq2FFJfiTCCC68x5j9Dho0UOuWHZ496kffwruG/MEN+ak7PpSVKlXSAEHhA6Ng+oz6jUxMHDGRRdkEJPIBTvLo0lb0d/jCMqmV2YPQ5KXJ+qvgwU7QJSYqsTbhWeY54huGZQURd60/inTk+0qQJvJJ7cY9LHFStWpVmTRpkrZJWvJJbbmR0tPHLl++XPvhYF/Md5TnhXEHQcHwN+f7eSTlZFKF7zr9C0HGcHWw8jnybTeLnWDduPb+kiXSsGFDKVOmjJJc2jUzN8rkvWISGPJF+9J3+pY8Ak68ksfHr6YDAV5KAlrw0Yu20Ykw88WgIvjCci8DGkK00/FAJtD88JtzDPR44SElECc68lWrVslnn32mA0E0PnSab731lnakd955p8pCJ8rHmGiD5Efni0khHRQzN8hqAxqOkBsCgaDBgLys/19o0WNkRW60WUbUrI7IznnK+e2QmaRd48h17mFghyZt+bJlsnDhQjVRRO6dO3fJwYOhAR9pmWWE4LGQss0Sct7KoZ7cD0bMxNMpc83KYlaeQCOQQZ8pD7ZExvwGa3DFdKdJkyb6zPGczZ8/XzCZxUz0un799NilSxepVbuWVK5SWZcNYLFs2wdcP0BJSrwPEHkvmMiAKJYrV07NcdEg2zNnqPI/7wmzr0yATJ/+5GFpLG08HekL6DcGDx6sfqbBevEbbTdaZZa8QDsNOQumyYy6kD/PFFFYa9SoITNnzkyYhMmM8nJCnmDmxCuxJcGD7+YjjzwidevW1e+FkQq+MUwqnnzyyeofTJ+l/Vagf6Kfoj/jO5OW55174oV48c7SL5UoUUKJJnXFugbXgs6du+jELO9348aN1WKHCeK01DkR/dh/0f8waYd2G1kYI1jZjInQtLMWKm0W3EjDJHS7dpdo+zImoL0ze6Nc/PLBDsshxjXx/g3LbExSyt+JV0oI+fUsRYCXmp3BHju/beM35InBLqZ5DPLsOkd2BknMHhG8w9b54nwwP7vH8g0eLZ9Y0wfvTem3lWt5W/3svN0PSWNtLtb+Ci7OzPWU5OMDs3LlSq0/s5tBcmv5+zF9CNBuYMuMH4MTJhFoMwgwEw9cY+f8kiVL9HmtU6eOEnq7xpEJBT664e1v0llb2/8ZdUxtvtSXwQAz4sysVqtWTV7874uHyU6+PG/4dPCORjI5Dq9DtLqHp7P/Uys796V0DySaRc/POOMMJWDhMjEZwwQJfc/3P3yfYn4mayzH5GQDdwaAaN8ZKNIXcM63yAiApROvRGzAg/6IPgoLEfonGyBjgcFEA4N9TNeD/VLwN8+fWV0k5pz4K/xdSbwSeu9iJV7JvQfBPO13atPzXYTAFChQQO6//37tzxhDQCCYVGKCA3/K2rVrS7169eSll19OwMrKDB5TWz73RsMK2ZgExu2AftbwJj3thP92rVq1tC8I5sFvyBh9E6SLPKx9g7Km5Td52x5+P+chhGhMwWvFihVJrHzC0/v/Ik68/CnItggw6GDWCtU6HxQGeZyjI+DI/3Sk+HURkp2BLdey24bMfPBYt2vatGkxa624j06bAS++askN6rMbJvEkL88Z5JbZ09mzZyeYpoC/7TyPfAQh0Ji58jFHe2nPq6WzI+chbxzZ0QzzcWMGk/Ok42i/+T+48T/lWR7RriM7RIKdMiy/YF7hv5GHAQHmsQzg8BW5/PLLdcASLIff5J8S8SId5VI35KCe3If8wfxMDs5xzTAhPb8ZsNgerDfpkZlrwTK4J1iG5ctkDYObU089VQdnyMK9wTzDseVerrPzmz18s/zJC3mCabgPeawtrP7BPEjPYIqB4jnnnKOykY9vkREALydeidjwzDLxwwTRgw8+qO+YXTXideaZZyZMNoBfcjv3cp18eV55D+39tffA8re00YgX+fAsc1/wHSXfaM94MD1lW7/BefJLbuMdhHgVLFhQfSZ5r6yudj8k5okpU+S4445TE1/TDlq+pI8kb7BPsbR2jHZPsI6k4X9ktLw4x2/8uBkHVK9ePWGy2fomu4901seQT/B/0oRvdh91CW837o9UR85bXnY/RLFRo0Y61qAPtevh5fn/Trz8GcjGCPBio1rHLn348OHqj8UsHgMYPiRcYwDFhwYTPM5nx84AmZGdGW7829DcxVIP0jBbycwdA346Y98yFgEwxqyUNeBq1qypPoR8qCJtfKyUeLUMEa9oZp/czzVmXhkQ8ExjGou5KeaLkHA+pgSdYWfAEf488D8aNggSAwjS28Y1dvIhX5YYeOGFF+XttxdqfsGPqt0TPHKdfPGR7NChgwaQgUiy5AEDJZOFI/9HI14mB2mYIOHDjSwMzjDrRb7gQMDS8xwz0UL0UNKy4DrmTyzbgLnx6tWr1eSYQSD1Jg8wxF+TiZr/HiqDQai1geXNwAbz4yFDhujsLbO45LdmzRo1a2bwhbzIxqCe+8GDsmhb3k3kI7/gxv/IwoAE02D6J6sbR+5jlpqlMcAA2SjD5CIvftPWyIfvB+bDwXYNlue/Q3g58Up8EnhOR48apSbC+HnxHNtmxOuss85SP2c7H+1oz6W9C/QjTDrx/L766qvaD/JOkM42fkciXpYX6elX8GXmHXj11Tn6Plv/ZXlZet5F+kgIFOkpH20L6e3dsrLDj7yjQeJF/S1/0vKbby6+lFgn4N+NyT7vm5XPdeTFLxzTQPoh/Fn5HlgfannaPby/3IMpM1ghM+4T9CPhedNfUSYYUx++5eDcq3dvqVy5svYX9E2kM1cNSCuaO1wuKEv/3/Kd1iPaxCvlghn+73xPTFaOhvHrb7yuGFsdwcvkNbxoC9ZQxbfd8gnH3f8PIeAaL38SsjUCNii95ZZbdFZq2LBhOiDhiO8XfjcM0MJnq7JbpekE+VjQwdKBxrqh8WKQSifMx8C3jEWAdmHQjCkrGiDah3ORNvDn46Yar/r1Egb94WlpXwKvdO3aVT92rPt27rnn6mwizu0MJmlPImeyDh4fZD6CwY3/0XKyMDmDET7AyMXOh5yBPX4C5Iv25JxzzlVzQAYYRM/jQ5xcPRg8UF8CuzCII5ANZICBAbIFy4pGvJCRuuKvhO8b/hRE+sQskSNBcMjbBgzgRz0YmHGNIBNo3Jo1a6b14P6W55+vfgZgx2QLgyCig9EX4JPGPdSZASaz+8wem38a8rDYO3XC1wX/NcwNqRt1RXMOMWPQ8Z///EfbnHUDGRThG4pMlIPfKeeCG3iQBrNn2p/ngDRoPYkwx+RRqB3OUfmaNDlHTcIgkjaIIz/ugZBRj169eqlG29/rINKJv8HciVcID7Dg2eFZZnBMPxXsM5IQr/nzE0GM8ot7GeBjTcEamvYe8u7iG8X/kCzzSSYbZIhEvMiLdwPfM3yEeJ+ZLOV44YUXSN++fXVSwyZOyQdCwrtKMAz6HfoLjrwXtrQM/RxpI22RiFd4Ou6nb8cfzpaFAUPk3fLdFrlv0n1q9nv2of7K+hbkXfj220rc7N3lHvoxtNWXXHKJyks/gNwcMf+ERNl3GtzAkLVOaRtI6ajRo7T9MDMsVqyYXqc9ITpgQf5M7DAhw3eC7z73kgdY8h0Aw/CNMpmQuurKK+Xee+9N6G9oXyae6DfBln6TI/0UZqmYNFIvMGanbyRIGpYCTC55vxSOdOL/TrwSsfBf2RABXng6UZsxJ9QyWi4iLzGTROdjnV82rF4Ska2DS3Iyhn+4z7fMQQBs+aC1OK+FhvLnwxdt4zk04lW/fv2oxAst19QpU3XwT8St0047TaNVMtg3/ws+xBdcGIryCQliQBDc+CCyLh3loCWziQfuY4aUDygDCoJE8K5Atv71r5s0PQMnPqqQnEgb9aBMPvrIxyCB946yIIN8gJEHbBi8JBCvJxKXleAakwLMoGIqjG8JkyfIARGBVBBEwkwYKZP3HNkhRsxCM8BA08WsMdFBy5Ytm5APgzgICqSKgcmpp52mRBY5Sc8ACKJ24oknyrhx43RAAmaQOoLYMIgiqhj4QGDHjhmjS01A5GhjCBsyM5DkPgY0lENbUd/wAQ7ygymDKcpFNtqZ8k455RS9j+AGL8+aJTNnvqAkDvLHgA98qTsbuJE3uEAG6ffC2z5Sm+XGc2DlxCvU8jyjkBsGxQSRYMISfGxLQrzmzbPTUY88c/RFBM3heb7l1lv1fzQ/WGVUqVJFJy3QXFs5HCMRL/oZorkyyUHfA4lgshSNUO9evfTdgBhAECgXgoGpJP0N9Rk7dqxq2SCB9A2UDQHgPbWywyuixGtuoqkh9be0HNnpK5mggujwbtOvgSN9AOVXr1FdZbtjxAgtnwkkJrroU+g/MD+3SSj6XzT6+EBBTvEhJWAXePTs2UPPgSd1o6+AWGK6Tp9IPZDl2eeeleF3DNcJo7Jlyshtw4Zp3wRZev2117SPpz9g0gmZ0TrRzrPnzFaiRoCxcEyoJ5NsgwYP0n6Y/pc6ggeWMvRNtMm48eO0r8bVASuHaidU034yaDGA7Gg7y5Qtq3UDY8M0HP/c/r8Tr9z+BOSA+vNy01lxDO7Bczmgml6FOESA541BA9oTBvsMpqNtPI9GvDDNs49WeHo+egwijj76aN0xo7WZUH3W/wlpfghuwYxvNOJFlCnIAcSLDzflM4MLmSCkM+TDBmDkCxFC01akSBGJ9JE2Oa0eOjvdtJkSA2bQ0fZAfjCjMaKXhHgdWs+Psvi4IwukCyz44NuHmuvMtkKsjjnmGB2AQTb4sN/0r5uUdDEoYBBm7zhaPwYc5IcJkZ0HS+RhkMMAz87zG+0c6cExaEbE4IT6Q6K4F3mCO9eDxMvyhDByD2aKVv8gZoSnZrCIBpPnhPKZia52wglqNmT3UBZyD71lqLYTA9CgBpLrzOoTZANzaiNlVpYfQwiAkxOvEBa8h/Q9TFhgEsy7Az628byhxYD80J/xvkXaeW+5j/vBlv7CzMo4z06/xnqGrNcFAbKyuBaJePFeM1I7JSIAACAASURBVGFz+hmny0svv5TkXaPfQnuCLNzPOwIpw8cJTQwacZOJ95D3GO05vkaQNe6JtCnxOuTjNeWJKSoz+bBzDbwgWkzCQOQgQMjAdUy+6bOYGKFfsfeW8nmvqTN1R4tNX8F5JlrIC1JGP2F9BvLxbvMeW/9k9YB4QWKNLHGefpF+lkkp8uT+4E4/rMSrdoh4IS/nkJfJNvAKYsJ1JqchWDbJRd0JHAThglSvW7c2AX/aEuIJwUXzhWkleZAn17AyKFq0iLaztVkk/HP7OSdeuf0J8Po7Ao5AmhHgg8NgggE8C3HzEY228eFMJF7RNV5B4oXJCLOY9nEjb8rkI50a4sXggAEFGiKcxVmrBpM4zpGffTgpiwEDgxoGA5E26rH+yy9VG9O0aTMdtEAMmd1GiwYZRLtDntGIFwOU6dOnS/HixdX8jtl48jVZqB8+Awxg0MQxCALbsxqdpWQF2QwT7iE/Fj+HUKLBsnoxGEA26h/Mn3shmgw2GEB88vHHKiv1pSyC8TCb/tZbSQdvlBUkXgzCyJedgShkqGaNGpqHycA1ymJAxMAWnPgfTRoDYULSk2dwgMq9ixa9pwMfBloMjiibjePo0Xdr+zPwYYDj2+EIgJMTrxAuvE+YsjHAxiKEZzK4GfGCZNQ5uU6C2auZv2ISh6aD5w1c2XnuIEY2wOYc+fK+YQWAdgftGmXbPZGIF+8CZrq8G2/NC010kA/38J5yv/3Pu0me1IO1o4LvNWnIi0kc8mLyxO4L1pXfvF9M0BDVEDyYvILUoCGn74K09ejRXSeS0FAR5RBZqBumldQN7Tn9TrAf4h2m36LfJuIrOIAR7y9m4dwHBqQz2bgfDO1/jqbxChIv8EBGzBJrVK+uxCtYL64r8erWVZcsgRCTF33ryJEj5aSTTlJtopVDeibeIM9MmNEP8T9EmD6HSaTnnntOF763OnKkPTDfhsjRh1m/xTXKZ8IQbGgLyvDtcASceB2OiZ9xBBwBRyAmBPiwMIOJZolBOB+baBsfvNQQLwZBaKX4cAc/YPzm45da4oVsaF2KFi2qa7oxyMCMbdeu3YeOu3TGkplvZozxXwqWa/WiHonEq6kSL84xA4smiNlYTHEYlEQjXnygGcBUrFhRy4F4IMvugCwMHNAIde58uZJEBoeQobZt2mgofhsMICOkDBNCNGTM6Bvp4Ro7aRncUA4DI0yIMIvCJIiZXQZWXGcLEq/wWXPyChIvBlE2kEE+BiLHHHusBvBAJtKTL0SRsiC1zBjv3r1LiRiDITSSDLR2a/13ya7dtMkunZ1Gq4hJp/mhIR954reBbwhtxLPg2+EIgJMTrxAu9CFoipgYwc8QbIKbES/eXUxYIQnBnT4BDTRBG7g3uDPwhgBBCghGwTvzwIMP6LuIdp33wN6RSMQLMmPaYJ51iAD9AwTA7rPyOA8hwEcTjbH2Gbt3ax/E+0MfxMQGxAtTayMFwbry24hXvnz5NC9MCfF9YyLGfLAoA38ttD/gwz1MTKEF4l2mrvRvQSz5DXnB7JB+lv6A9537IYqYAIIvJtbUhXYJryP/G/G65daQqaHV34gXGj/qGtxIQ55du3ZLQrxoG4gSGjpIG7JYmdSHOvJcUE/6KjBlQgg/O8wlgxjzm/pAwOl/6MMNY/IkcjTP0MSJ92qbBLEJyprbfzvxyu1PgNffEXAE0owAHxZ8rzDlYAaVwUK0jQ9TIvFK3tSQGUM+ruRtBMPypcy0EC8+mJi7FCpUSP3RIEeYRz7y6KN6xJH63okTpcNllykZoT6RPpxWD0gBM+FmMslHG5M/ZqMZmHy8JmQihN0/s8aYT5IfOwM4nLWPPfZYnZmmbGQJHu+/f5KacDIAADcGcGjijCgx6EEWdsgQ5oeEtmcxdRsMUBaEkwEJA7Kx48bpzH2LFi10xhY/LsgcmkAjMGkhXrQN7TT3tdd0gNO/f3/FgvJ5Jli8nHJMG7dly2bVGKKhY3AGkaLuWn89PqImSxBPZDVzLsohT3wtOD9v/jydhbdnw4+JCICTE68QHgy+ib5HPwXJAZvgZsQLUsMEBu80g2zb+Z80NjnB/bxjnGciAy0TRI33kz6h4ekNpXTp0urzFNRmRyJe5AOhQMsCMaH/gLBB4Jhw4L0nDe85WvoKFSqohQETLNZn2Lvz8EMPyd3/DmmSIVLhxMjqbMQrb968Sjrwvbyo9UX6Tva7rp9MmDBRzQjpM6kz9aV/INhN/foNtA+hXrzz4Rvnlrz/vpQvX14tC+gTkQOsCGjEZAt1xI8VQkQduUb9KIejEa9oGi/8y6IRr27dukrtQz5e5AV2yEq70JcaYeQaE04QSbCijyEtJuBgDPHEfy4pxo/o//RZXG/erLneY3JDvCBxTMBRJud9OxwBJ16HY+JnHAFHwBGICQE+LJgYpl7jFTvx4gMZ3CgzVcRrwXzZt3+ffsxvGDhQGGww+8mHE81WpJ2ZZ/wXIn04kQciFE68TK4ZM2boAA9zRgZ8ELhw4oXZE7PSROeCkDRqfEgOOyLXod+Y/OA7QF7MGjMbSxRJyBYDBQZRBNKBkFEnZvaREXm4zuCG+mD6gy8eA0SI7YL589UfhHsygnhRHrgQGZI8qSNyoPnDTAsStfJQZDEIQcuWFyTUn/QMgMLbAnLas2fPBBLHc0A5pvF65913Eghj8Bnx3yGcnHiFnoRwjVd4n2LEi+cQgsYzFmm354r79+79STXbDU5tICVKlpB27dqqtplgPfiJMXFEsAnIm72PkYiXlUM6rAbw0SKiaKlSpTR4B+ZuTJ5AaJiw4T3GNE77jSj9F+8RkY3pG8g/fDPixTpeTz45PUELhJzB3WTjCIb0iZBXTCPpjyLlzf34UmFWiEbItNWkZRKGOhIMiDqiFWOSiv4IgmdlJ0+8+kuN6iEfr2C9yD+k8UpKvEhDvqNHj1LMMPHm+wEGTz/zjGommeCjn0IGtPMVjq4g5cuVV4JrfVJ4/0SfTt9EH0vZlJGo8ZqoZDISPkGZc+tvJ165teW93o6AI5BuBPiw8CFl0P/cs8+qmUm0TPkwmcarfjLh5BkEBTVe3BfcKDM54sV1PoaY2lhwDQYJDGxw/MavisEVs8d8qCPtzKZG095pPdZ/KW3aJtV4ISODIwYNDEyY+SRSFzsf6SeeeCLhAw0ODDiY+YX0RJLBzjHrjDkSdeLDDqHDjwCND4FHcMyHSGLiQluAHxiwMwBq3qyZlgNBps5otPbs3q31u/7665XspJV4UV6wfZi5hhQxOERzgCwMFjEbxW+MulCPrVu3Sfv27RUj/ECYbbb6Bo/MltMWpmkAY+rFjDOmpu7jFXwzkv4GJydeIUzoL5gI4J3Epwlsgls48QpeC//NvTyPrF0I+cGvEdNdnlWeb94BnmEmSGIhXuRPnrwXmOnxjhO9lPelXr36+u488cRknWjhPcGcmHeH9ewwlQu+L8Hf9Hfh9bS6hIjX3EMLKE9L6DPseqQjdUZbhFaQiRTyj6rxWrJENV7UH5lMDtJTR/pI1gakP4bI0XfRLqYdTJ54peDjFYhqaH0TRwgVEzmYUkJk0TLSd2IlAK5o5az/RuN1RZcrtP+MhjHtzeQXdWPnXurqPl6Rnp6k55x4JcXD/3MEHAFHIGYE+OAQEpyZYgbcDDqibUpYbB2vFKIahohXDTU1tI+n5UuZfCSJLEU4dwYDDFps4zoDC0xZguHkIVKYqBUvVkwDUZh5C/lH2skn0qb1gHiFmRqS1sqeM2e2arTwZ8AHDid9I16k4QPNoKRihYqy5P0lSqwiycA50rNTZ0x90F7h2N2tW3cN84z2C4d7CB51AgvSMxDAfImBDeYyzOiCC9esLLRfzORGIl6Q1lh9vAwnBmcspMxgZtDAQUq6CI9drVo1efmllxNmtRn4YE5lxBNibDJFOhoGJjuRExnwMkClTr4djgBYOfEK4cK7AxYnnxyKamjvgaEWJF74HCa38V4x4Ob9oP/BD4jnnvNgzvvH9bp1T0mWeEHSSB/c7PlGXsjHs888o5MqmMnx7jPYR1OO5hotN2VaHxH+3pBXeP5WFvVHE4/Gi76W+qe0US9IIZNIhNEnCAdyBsvgN+82kUjRZmHabeTE8icNsiIDQTemT58h9evVV1L0+eefa51SIl7m4xVeNv2q+njVqq1kinLYSMeEE756tWrWVB9Z+jxwvbZPnwQ/PNLTT0Kamdiy9bjCsbX/ydd26sMzxsQeE1I8E0H5rP5+FHHi5U+BI+AIOAJpRIAPC1oHtDc33XSTfmSjZcXHyjRekAFIQqQPE4OA5IgX+ZMX5irMYDLbbAMAzvPBY4By0cUX6Qy3rePFhxFTGUgBpImPvN1Hnshi99sgKlJdrB6RiJflg5YGHww0P5j8QG6CPl7UEZMkPtIMThhohJcZLgvkhFlwtIuslcWgBf8S85FA/uDOQIlBEguc4ohvAwHScA0Z+vXrJ2eedWYC8eIaAyUiokGKKIdzttn18HDywevMhGOC07z5eRoVDIKJDwkz3NzPTvn4T+DTcscdI1SrxTkriyN40D7gYPcZJgQDYNafunOfb4cjAGZOvEK48CxBdE49tYGg5UXrYs8aKXgXGJQzgTQ/hXW86Ecw/a1cubJOeBixID+eT0zyiBJI6PTkNF7IQ3pkw4+L+6wPsOcdbQsTFGiZmAShLJZSIO+J905MIAzW+txHHshoedm14JHrryWs44XGK3o0WrsPWdEcEp0UPy3M88DNyqFs3kW06ryf+LhBbqgX5ZHWNPdWP45giUkiWnE09OQRjXhxnkkm+nA0VpRtG3mFiFfiOl7IzMY1+hLMDCFtTMANHTpUJ7DQzCOjycQEHRM79H/4y9LvWh0tL2SkTuRv95EOMku9+c54v2Qtc/jRidfhmPgZR8ARcARiQoCPDmYaaF2IWAfh4VykjY9UAvFKh6kheVMGa8swABg/frx+0DnHxw4ZiFSFDwEzl8F1vBioownDXMdM37jPdsgJGhv7EEerx/oopoYmGx9qTOwgSZie8LEParzAAlmYva5Rs6Y6/PPBNzk4MlAgDwZl/M9MMmQTn4OFCxcmDK7IKzgAsDyQoW3bdko+X5k9OwnxYuD5xOTJOoBDK2gaL+6FODHgIPAFQTHC82bwF414UX/qgVkjs/KEla5fr56Sy2BIePJEU4DfV4Wjj9YoiMw0m+xWX8yDggMc2pcBK/dB7kxTFqmdcvs5MHTiFXoKwCL0PrTVQAr0EfxvW5B4EbAluY1nkAE+y1IQBRByZM8tzypEguh5+GFddXVkHy/M6niOkYF3kT6MBYZ5ni0vjkysEBACDTcmuVz/YOlSNc1r3PhsnRihTLuH94r8aHfrTyLVhXtM4zVt2lT1V4uULvwc+TMZg7YP82YC9lhfyTUm05hwghhhkYCWifP0GSx0jP8p/ZjJyxGt0gUXXKh9IdYLYBKNeGGKOPLOOxVbSFpwMom8aJduXQ/38aIeyAGG9B2YSjL5h9ac71eQJNHvEi2VJVLoG2kXq6PJzfNC/w0RtXPUdfSo0Wp+apqycPz8/xACTrz8SXAEHAFHII0I8NFhoE5EPczJIi1mbFnz4YPUtLygpdRLJ/EiL0xtIC4MgPB1evHFF9XZnYEKGjgijDGDTXAJ+3Ay44oMXMf5Gz8hzGIgZ9wPmcMPBPM4GyCY/HakbCVeEUwNLQ24QCTQ3BEyntlc03iRhuvkj5km5AwCyWCNMMvMbBOgg5llSBZhjhmMIDuEBvmYjWWGngEbvibg/9hjj2ld0CxRNnLimM8AqV79+jrbi9M/M9WQZLBB48QxSLwohxlbZGbA99RTM3SwxZEBa0rEi4ELA0bMeEqWLKmaAUgW+dpG/RkgQiAZxDGDb/XH/456EmkME83gwId2RHuHXCNHjEgyYLK8/RhCAIydeCU+DbwP+BQx2GbQDvmwLUi85s9L3tSQfCBABJGpWbOmarWIXMq7xeLgPLP0L+XLl9NnmP6Re9jRrjChwYQEg3Py4YhGHH8xJoyIkEjQGPolCAL9x9hxYxOI2v5ff9W+BOLAe0PfBxmifDQ5aOLxY6J/5BmItAWJV6ymhuRDfpArIkNS9/oNGsiYsWO1fAKHMDFEn4KmnT6E95W+C0IFJhAZ6ogpHuQG82hwZGKKyRzTAkYjXhAdlsFgUg0zT/oJsCcf+hNIMMQLGSBUYG4bsjP5c9ttt2nUQvKgD6VfCqbjN88D5tn0tXwnWAeMMP/012DMN4Y2pAzqR95fbdyo9YeMcz4a9iZPbj468crNre91dwQcgXQjwMeQmUQ0OxAHCEWkjQ8aM5KEFObjFI3YMFPL4IOFiBmoBD+Kli8fNWY/+QgywIegYHaIXT7mPcjBej2Y6SBbcGYSYoBjOuYkLIDMeizs+C1gEkfwiuBMrpVpR+SBgOA/hfYsWj0Y3DALijawVetW+uG2jzFHPtgMvPigUyby80FnZ1aWgcXNN9+sRJEyGSBAELlWq1ZtHcggr93Db2ZpwYD1z8ARvAlEwUCoWbPmSnqp69VXXSVTp07R8O5gBFkDFzbkQsuGCSSDJUgOZTCoIkABpI6BFwMmiFN4+/A/eDPAYUDJfUYEDUOOYMAgjrYmjeFPWfxmgAwR/nL9lwntRz7UDayYsQ8vO5h/bv8Nvk68Ep8CnhXCh/NesZQEz7u9j7wrTF5g8kZ/kdLGu42JNe8OfQ/vnK0riCkjkwdt2rTVdwhCQNnskCxMZHlPeYfoO7hOH8DEg/VFPPvkyf+EVMe3yuRFZkyZmZzhHSSkufUB9t6gUUMjE21Dw4OJNhNXvH/UP9aNeiAPEz34m4be29A7Sz9DUCMmu4zQkJ73ljpCusCJvsrqyAQZZn+EcaffID1klbx41yFB1k5cQ6NI38t1SC75YTJNOvpbTLshnkENO3UjD4gg7ca955/fQtuJPIMb6di5H40/frq0xfnnt5TzW56vv5EdDR7twP2kpy+krxwzZowSSM75FhkBJ16RcfGzjoAj4AjEhAAfGOzt+ZgyeGCwH+mjwzkGGgwGMSGzgX54IQxq0KqQhg9btLw4D0FgNhWixewn2hFmPcmDWVM0cHz0IRO2cR87xA0iwYCAMO1ovBh0QQYYmEQqlzw4z0CFAYA5mFve4Uc+yvg8kC68LiYHafjIo8lhNhc/BAgnskHMuI78DCxCBKWF+ocxgGDwBElkdhlSht8UM9GY+jDjzeCHejLDT/3AiAECgzIwYgBFe4BjECPKZPCDpmrmCy9ogBDyIC/zocMMkhnqSDhxjueAgSb5U1a0dJRLW0GGmbmGTNOeYMagNIgTGELIGWhRB+T0LTIC4ObEKxEbnhWeM/oo+iqeLXvmeT4Z+GMKzXOf0ga25Edfg+aGATrvF+8c7wjX8CE1MzZ7huk3eG9Iz/tkmnjS8y4RQANtEP1RsA9ATvJgs7x4t7ds3qLlo9kmT7Tl1CHaZJDVi/KoJ+8cZIX6x7pZ+fQDaLbRyFM+O8Q2SEaCMluZaz7+WMkemnf6Xvp5+jauW97Ujb6HPsTMCa3uyPrjjzu0zyNwEZo2+kqwZKcdre8MrxP506fSTrRDkNQF05ocEEFkoI9lUWj6ZrRefFcMY9IiL0QU7diy5ctVjmB+/jspAk68kuLh/zkCjoAjkCoE+PDwEWdxXGYSIQD2EQ1mRDrOQ2qiDcRJb+lIExxwBPOy38H8IHJ2D9e5l7KiycJ10rNzr90fKb2Vx9HkS6keltbSRaoLebFzzWSwI3KZLAwWwBWzSkxgGMBZuuCRgQemRyyMDMliYGH1tHTki0xsXIuEUXgduTcoj+XJkbThG+es3hwjpbF7uGb5mYwcTS7SkYYB2IoVK9V0kUGQDVotHz8mRQDMnHglYgIePFcsMoyJHpMWvFecZw++C4l3Rf4VvMf6D3uv7J21/y0tR67xXCNH8N2x8rnH8iMNvy2/cEmC95DW0tt7w/XkNvINlyO59OHXyJ+ywuW1eoWXz/+UGUxP+ZHkJW1QtmBekfIhTztv+FJWpM3qHancYHryY0+ub7IyIWd9+vTRSSH65mhlB/PPzb+deOXm1ve6OwKOQIYgwMwgs4AEVMDEDK2Rf3wyBFr9+EOg8MXA74pZXgYlNjCwI3gza87aNERcQ/vHwDInbNSRwQ3aCkyL0IYxcPItOgJg5sQrKT68I2hDMOHr37+/aurByTdHIC0I8OzwTKEJw9wTs03rm9OSX265x4lXbmlpr6cj4AhkGgJ8fBgIY99+eadOOjBmptC39CPAx51ZVHyaqh5fVckH5pWQW86z79mzW82aMN/B5wS/CUgYM8E5YeP5QuOHidjUqdNUw+oD5uRbFnyceCXFCEx4bzCLI6gMpn3eTyXFyP+LHQH6JSa3CLSBb194tMzYc8pdKZ145a729to6Ao5AJiDAgIYdm380MxYWOBOKypVZQmq379guPXv1VDMpnMeJkohPx1tvvaX+HX37Xiu1a9fSMM74izEoyCkbdcH/bsSIEQk+eDmlbplVDydekZHlWcKHlGcJP6ycMjkRubZ+NjMRgLTjKzhmzFiZv2CB9rm8d74lj4ATr+Tx8auOgCPgCMSEAB8cBjH44mBu4VvGIWDYEoSDSF8QLyKjESqetcr4zTnWCsPhH9PPnDQAoC48U/h1MdjJSXXLuKckaU5g5BqvpJjYfzxDaCrMN8jO+9ERSA0CvGMQeYJrBIOApCaP3JjWiVdubHWvsyPgCDgC2QwBPvJovoiaxlpkBAcgohg7UbeYvceMyklvNmvYTBLXiVcmAevZOgKOQLoQcOKVLvj8ZkfAEXAEHIEjiQAD6pT2IymPlxWfCDjxis92cakcgdyOgBOv3P4EeP0dAUfAEXAEHIEchoATrxzWoF4dRyCHIODEK4c0pFfDEXAEHAFHwBFwBEIIOPHyJ8ERcATiEQEnXvHYKi6TI+AIOAKOgCPgCKQZASdeaYbOb3QEHIFMRMCJVyaC61k7Ao6AI+AIOAKOwJFHwInXkcfcS3QEHIGUEXDilTJGnsIRcAQcAUfAEXAEshECTryyUWO5qI5ALkLAiVcuamyvqiPgCDgCjoAjkBsQcOKVG1rZ6+gIZD8EnHhlvzZziR0BR8ARcAQcAUcgGQSceCUDjl9yBByBLEPAiVeWQe8FOwKOgCPgCDgCjkBmIODEKzNQ9TwdAUcgvQg48Uovgn6/I+AIOAKOgCPgCMQVAk684qo5XBhHwBE4hIATL38UHAFHwBFwBBwBRyBHIeDEK0c1p1fGEcgxCMQ98aLztD0a6n/99Zf89ttvcuDAAfnjjz/k77//jpY0xfNWFkfyOXjwoPz666+aN+XEugXzifV3rHknly68LOrw+++/q/wcue6bI+AIOAKOgCOQkxHgW/e///1PevToITt37pTUfL9zMi5eN0fAEchaBOKWeEEYIFO7du2SH3/8Ufbu3RuVNHD9nXfekTfeeEPWr1+vRCO1BIP0EDc66B9++EF++ukn2b9/v6xdu1ZeffVVefvtt2XPnj1RZbBmNLmRl/TkE+v+888/qwypld3KhiTu2LFDvv/+ey37j4MHZd++ffL+++/LvHnz5KOPPpI///zTkid7pB6kZee3b46AI+AIOAKOQHZBwIlXdmkpl9MRyF0IxC3xggR9+OGHcv31A6RPnz4yefLkiASAznXu3LlSpUoVKVSokIwYMULJGudthzjEsn+1YYN07dpVmjdvLg8++KB89dVXMmTIEClSpIiccsopsmrVqhSJF2RxzZo1MmPGDJkyZUqq9meeeUbLCJIj6mCyM2MXabfr27Ztkz59eqv8d48erThARBs0aCClSpWSTp06qfYupUecMsGf/Nghb5zzzRFwBBwBR8ARyA4I8M1yjVd2aCmX0RHIXQjELfFisA+hqlmzplSuXFmuv/76iKYCdK5z5syRY445RvLlyyfDhw9XrRXn2dGYff3110qiIFKRdq6jKfr444+lyTlNpGKFCjJ06FD54osvZPDgwVKwYEGpU6dOTMQLLdf9998vtWvXVpmQK9b9pJNOklGjRinpsccQEoYG68svv1TtGxq44L5u3TrZsmWL/PLLL3o877zzpHz58tKvXz+tE8Srbt26Urx4celw2WUpEi8wwyQR7SGEjX3q1Klqwmky+dERcAQcAUfAEYhnBPiWOfGK5xZy2RyB3IlA3BIvzPNmTJ8uFSpUUI3TpZdeqoN/OtPgxv8Qr0qVDideaILQOrVt21ZatWolrVu3OnRsLa1bHfrdqrVcdtll8uijj8oHH3wgZ555pmqH0HR9/vnnqSZeEKD/+7//k6uvvlo6dOiQ4t6uXTtp0qSJlChRQsqVK6eEDxNH29A8PfbYY9KiRQs5/fTTD9uRFxv2b775Rr799ls5++yzlWT16tVLtu/YrqaXEK9ixYqpLPirJbeBJ+U//fTTSmQhs/8e8+80mW8mV45fcwQcAUfAEXAEMgsBJ16Zhazn6wg4AulBIC6JFx0mGqiRd94pZcqUUQJQr1491V4FzfCoeCLxqnSYxguzvFtuuUUqVaokZcuW1bwKFy4sefLkkbx580rJkiX1/AknnCDDhg2TRYsWpUC8PkrW5A5Z0BZt3bpVNVSfffaZBPdPP/1U0FChsfrkk090X7FihTzxxBNqKnn00UerHEHiBVEaO3asnHjiiUpCIaLs4IIJZP78+aVRo0aapxEvSFbPnj1l+/btsv7LkMYrNcRr957dct+k+0I45csrtw+/XfA/o36+OQKOgCPgCDgC8Y4A3yvXeMV7K7l8jkDuQyBuidemTZvkwgsvlKJFiyoBwFwP08NwAnAY8brjjiSmhosXL1b/sEceeURNANEIocXB9G7UqNHC+WnTpsmy5cvlow8/jEK8CkidOifJqlUpEy8I43PPPacaNPzEHnjgAbnnnntk9Oi7ZfjwO+Tmm2+WQYMGqSkgmqrOg8YdMAAAIABJREFUnTtL06ZNVR6I1513jkxiDgjRxFyQ4B6Y/9n+1FNPKeGKRrxU46XE60s1NYyFeIElO9qza67pKkcddZRi3759ezXXRIPomyPgCDgCjoAjEO8IOPGK9xZy+RyB3IlAXBEvOkq23bt3y7PPPqsaKYgFGiqIAyaDGzZs0BDvlpZjyNTwkMYrjHihPSI/ohVu3rxZrrrqKiVe5cqXV40T57mOTxk+XmeccUYSU8NBg4I+XikTL+Rr06aNVKtWTX3T8E9jP7bysXLssaH9mGOPVb8v/j/mkDYOP7KKFSvK+PHjkxAvyA5aNOqBjOyYM6I9a926tWq8GjdOTuOVOuKFlnDWrFmCFhDixX7cccep6SGyGO6583XxWjsCjoAj4AhkBwT4VrnGKzu0lMvoCOQuBOKGeNFJMrCHBDHwb9iwoZoDHn/88XLqqacqCSterJgMHDhQowZCQIwIJCFegeAaNCX5BvO+8sorNd/SpUur2R/BMAhegZZn4cKFqh0iAqD5eEG8ChRA41VHw7GTV7SNa4Six2yRCIL4jnXp0kUjJaKBuu6661T+m266STVft99+u7Djv4YGDoKG2SF+XSa3yR6MZshaZXxQIHgF8ueXxo0bRzU1JChHLD5elEO++LXhm4YZJuaMEF5+44e2evVqJYWk9c0RcAQcAUfAEYhXBPhOOfGK19ZxuRyB3ItAlhMvIxaQDdbjMtIF2YGMjBw5UmbOnKnEp1DBgkoCLrnkEnnvvfd0bS/IgkY1PBRc446AxivYrBAXfK8gFWjQihYpqj5dby9cqOHqu3S5Qlq2bCmY+wWJF1ENUyJe1AGTQLRS1IHIiZgHov0iYiJRBymbaxDL4LpeXENmIhGiZXr++efVN4u8WJcLuffu/Um2bPlO8yI/zDBZm4uw9wXyF0hKvJqcrWQJggnpWrZsmfqHRTM1RPa//v5bCdV3332ngTrAAGJ6xZVXyjXXXKNBP8Dk8ssv17rhd2akN4ix/3YEHAFHwBFwBOIBASde8dAKLoMj4AiEIxAXxIuB/LvvvisQKoJgFChQUAf+mAWijcKviwWSCTBBcAzW68JMD80SGqYg8QqGkw9WFoK2fv2XSq4wn4NMvfDiC6phQquGLxn54v8VTrwsnDwLENOZh2+QI+SYOHGikrjevXtLcGcdMvZr2a+9NsnevXt3OfnkkzVkfamSJTXqYu9evTSgxrfffKOEiKiGaNwgZ7ajjQIL6hGu8SLoBhESG9RvoNou/g8SL+rAbuQJ00UI6MUXX6zRFcGBgB0rV65UraBq1goU0PIgeywozT2Wjx3DcfH/HQFHwBFwBByBrECA75JrvLICeS/TEXAEkkMgLogXmh2CRlStWlUJAkQIczzW0UITBrGBfBF1kDDtXCctASbQHiVnakjl6YBZ2HjevHlyYu3a6reE7ximf7Nnz5bbbrtNw8aTNxEQoxGvaAsoQ+rQbkEcy5cvp6QH4hPLnhCdsEB+JV8lihdX8nnBBRdqREQ0XwTnILgIBIojmrHq1avrzjpnlEv5FtWwcOEimtbKhziGEy+I08aNGzVgyYD+/aV+/fqqTSTdOeecI2+99ZaSPkw60a6dd15zJaaYHUIUMZ18+eWX9cOGuSYY++YIOAKOgCPgCMQDAk684qEVXAZHwBEIRyDLiRcCoXnBhA6tUMeOHTXKICQCQgapYec3QSYw45s+fbpGBty69Qc171uwYIGSBQjBpEmTlIwFiQD5QyAgWJjREUoeTRG+Y2jaiES4bds2WbJkiS4YnFriZYscYxbZqdPl6t+Fj1d6djR3aPsgXgTcgBCi5bv77rvlxRdflFdeeUV3iCPECBNGI16YURJ+/9Zbb1VCSfj5cOIFqSXkPIs2U1/856pUqaIkDl83ix4JjpC0NWvWqL8apBfyhRkopA/zw+XLl2sbhj9c/r8j4Ag4Ao6AI5AVCDjxygrUvUxHwBFICYG4IF50kBAriMbevXuVbOBvhI9SpB3SQBAIu7ZkyQfyzDPPyJNPPilopTBdNOLFEeJG8IxTTjlFTQoxZ4Rs4MeEeSCkjHSssZXcAsoffbQqId8gsNzLjmaOepAf9Qj6csXym3u4F3nJizyDxAuSNH/+fD1nZQaPRG0kXD4ky8LJg1F4cA3uQUNGKHtb3+yss84Swt+DE3UgDZvlj0yQUzA+77zzFDvKYQFo2sLSB3Hx346AI+AIOAKOQFYgwDfJTQ2zAnkv0xFwBJJDIC6IFwLSSaI5QjtFWHfM3cyfKaWjESk0MXfddZdqf4wwcIQwjBo1SqP0odW58cYbNTAFxIFoffgyUW404oV2DNITzcfL5KcsfL0IyFGrVq0k4eQtrHxyx+rVa2i4ezRMyEN+kYiXEcVgHUlvGi8jXmjyohEvyClRCkePHq2BSkhrpI98wzfyhwwiDwszs64YQUE++OCDBCIYfo//7wg4Ao6AI+AIZAUCfMeceGUF8l6mI+AIJIdA3BCvoJBoUAixjqambr26oSO/o+z4exUuHAqMEYxqSMeLyRz+ShqYo1Bhueiii9Q07tFHH1WzQ3ysWB9s7dq1smLFiogaL4hXLOHkqQPRC2+44QYlapjlpbQjOyaEBPeAMCGfmfmRX5B44deFmSHmlmi3iG4IWVy6dKl8+OGHSqSCGq/kiBckCtPNXbt2qYbQNGzBdoj2G4IMcYOAcYSU+eYIOAKOgCPgCMQLAk684qUlXA5HwBEIIhCXxAvCgL/VrFkvJ+wEckjcZ8msl9m5PkvuvPNONZnDd2v48Dt0sWTTzhB2Hu0ZwTQqVqggjz/+uGrEIEgXXnihmhxCvq644gqN1tfw9IapDq4RBBSTQswBp06ZIo888kiKO+Z9aOmOOfYYJV4sihyNeKHZgyR269ZN1wbDH44og/hztWrVSgOUBIkXxCiaxouPUrQ9WJ9IvyPdFymdn3MEHAFHwBFwBLICASdeWYG6l+kIOAIpIRCXxItAEQSNIIx6LHv//v3VjJBQ8Ea88EmCdLRo0UIDaRQrWky6d++u62vRIaO1gdxxHU0TwSumTJ2iATdSG1wjCDIaqvfee1d9oaZMmSIp7RDBMWPHSNXjQxEdw4kXGqV7771XozhaKH3CvbMTrZAj2jLIF35uQeIFgWU9saCPF/KhoQIfIj1mxI5PWGo0ZkG8/Lcj4Ag4Ao6AI5DRCDjxymhEPT9HwBHICATiknhhPocmB01ULHvxYsVVoxUkXpALSAVrfWFmSIRBfKA4ZxobSA0R+SBkmB4uXrxYzjjjjHRpvPDxuu66fhohEA1VSjv1g+hZyPfWrVsl0XhBagiXT7AM6kAUwS5duqjGa8CAARrlEMJF1MFPP/30MOIVrvGCeBH+nbpyX0bsLAVAYBTIl2+OgCPgCDgCjkBWI+DEK6tbwMt3BByBSAjEJfEi6ANR9vLmyaOaHogRASvYhxw62v96bsgQGTJ4iAwZMkTXpYJc0OlCvjZt3Kh+UZASI10GBGkIZAFpwCxvzerVEX28bAHlaOt4WX4ct2zZokSOcOuErockQZCuv/56Pdpv/f/66/U8v9mHDBksDz30UBI5ITMQJWSEOBJ1kB0fL86h1SIa4m+/HdDzKWm8CKDBvZgrpuR/Fuv1li1byooVK1WLGMTCfzsCjoAj4Ag4AlmBgBOvrEDdy3QEHIGUEIhL4oX2plGjRrreVsOGDYV1uj5dt041OhAo9nXr2Nfpbuc4QiogU3S6Rr4gYPZ/JEDsWrSohonE6yPNJ1Iedi5IvGrUqKFrba1evUY1UnpcvVp/U8fwnWiOBBbBTwxTQORiM/k4UpdgfYLXglENe/bqqWRy/ZdJTQ0hXhC2vn37qlkla5mld2/fvr2G8cd80zdHwBFwBBwBRyCrEeDb6FENs7oVvHxHwBEIRyCuiVeePHnU96pDhw7So0cPXfCXY2jveegY+p/FgDl/8803Jxv2PRwA+59OGuIG4cM8kJDzkCA0agULEtXwJFm1KnXECzNCgl6wXlbnzl0OHTtLl86dVRMWOh/6jWaM/9HuzZw5U7VYJlssR+SHdBIev0SJEtK7d28lXuGmhphXQpDQku3c+aMGItm5c2eajz/++KNq5IJrf8Uir6dxBBwBR8ARcAQyCwEnXpmFrOfrCDgC6UEgPonXx2uk8dmNBZ8tAkrgA1WuXLmY9gb166u5IZ1uajbSs97X7bffrqTl6aefVtM9JV6FCmo4+ViIFws/448FeSPoBYs0ly9fTsqVLx9Yl6xc4HfwfHk54YQT5J577tEw76mVH00ZC0Jf1/86mTp1qpIrC66B6SMEFuJFXdGaYcaYEbtp4FIjr6d1BBwBR8ARcAQyCwEnXpmFrOfrCDgC6UEgLokXod4nT56sC/SyLtcdI0bIiBj3CRMmqOYqLcTrwIED6jMFecKvCq0Q62YNHDhQg1hgRphSvoSCnzt3rtx3330ybty4pPv4Q/8fOo4Pvz5unEyaNEmWL1umBCm1DYvWCQ0UpoS79+zWdbogkyySjP/btGnThDS+OQIZgQCEG+0pz5TvjoE/A/4MxNMzwDqVWK107dpV19fk+x5P8rks/r74M5C9ngHGPBmxxSXxonJpDXdOZ5tWXyNIVXBHDjprCBi+UbHky/1okUhLHVK7c5/JkNoGtvuCR2RBdgihabtSm6+ndwTCEeAZ43nCh4LFx313DPwZ8Gcgnp6BTz75RCdBL7nkElm0aJH6VMeTfC6Lvy/+DGSfZwBXpOAau+FjotT8H5fEKzUV8LSOgCNw5BFgUoKlEx5++GEZOXKk746BPwP+DMTVM4CVDNGCGzRooL7fWM94X+V9tT8D/gyk5Rm48847VYPOpHN6Nyde6UXQ73cEciECdD4sz4BJLksx+O4Y+DPgz0A8PQOY2bNOJ+tffvHFF2puGE/yuSz+vvgzkL2eASzgnHjlwgGvV9kRiBcE6IB8dwz8GfBnIB6fAbTyBJciUjC+z0Ez/niU12Xy98ifgfh/BjJi/OUar4xA0fNwBBwBR8ARcAQcgbhBgEGsr+MVN83hgjgCjsAhBDKEeEVj6Y5y0sWPgzhlFjbBMvgdr1u4nPEsa7xi6HI5Ao6AI+AIREaAb4oTr8jY+FlHwBHIOgQyjHgRAn7KlCny5ptv6mK8RNPzTTTy29dffy0bNmzQYASZGVmQ0KTYDG/atEk2f7tZ9uzeo+t1xVs78EEk+uSaNWvkqaeekq+++ipD7GbjrZ4ujyPgCDgCjkDWIODEK2tw91IdAUcgeQTSTbzo3Bjwz549W0499VQ588wzZdWqVQn21MHiIWO//PKLOuTv3r1bWPA3JxM0bMxZE+yaa66R1q1b63pgrAUWa53BlrSQtZ07d8rmzZtl48aNegQ/ghuQhp2NsPesH0b43M6dO8tbb70Vc1nBdsrs38hLUIaOHTtK/fr1ZdiwYbJ///64lDWzsfD8HQFHwBFwBDIeAb4zrvHKeFw9R0fAEUgfAhlCvHBc7du3r5QsWVLOPfdc7ewgHcGNTpCIILNmvSIPPfSQPPDAAzJ16lRdYypWIhLML9JvymAAD6GD4GVUvpHKiuUcGBBN6YQTTpACBQrIGWecIR9//HFM64FxL3jt2LFD3n33XRk1apT06tVLIzRxvPfeezW0JWTLnIbRdvXp00fboVKlYzTUN9fibaOdIJODBw+WcuXKyUknnSQffvhhApGMN3ldHkfAEXAEHIHshYATr+zVXi6tI5BbEEg38YIgYF5Yu1ZtKV++vDzy8COCNiZ8gwSh7alz8slSvHhxKVKkqFSsWFE++OADJRjh6VP7P50sZUyfPl01KBMnTlRSx/ms2oLEq2DBEPFiUceUyBAyo81asmSJXH755VK2bFkpUqSIFCpUKGEvWrSoVKtWTSZMmKARmyiL8LmJxKtS3BIv2gMt6UcffSSNGjWSo48+Wtts165dCdq7rGozL9cRcAQcAUcg+yPgxCv7t6HXwBHIiQiki3jRsUEievfurZoLiMA333yj/jtBsEiHBmrOnDlSunRpyZsnr+TJk0cgD3fffbdqdUiTng3igRYFonLMMcfIaaedpgQwvfmmV6YEjVeMxAt5//jjD8WqcePGqr3Kly+f4ga+LAZZvXp1PV+4cGGpWrWqPP7446rpy07Ei/ZCM8kCl6VKlZKTTz5Zvv322xRJaXraw+91BBwBR8ARyB0I8C11U8Pc0dZeS0cgOyGQLuJFgAQCR9SuXVu1Mt26dVPSFU52+B9fpxtuuEHJVoWKFZQcocG58MIL5LPPPks2CAT3o81CC/Tr/l9VQwY5sXI4QgAxy2vRooWa9UFSMIFkgG/prGH4P/ycXeNo1yOl4Rx5orHBFBCyh1ycC984l0C8DpkapqTxIt9169bJeeedp1gVLFhQScktt9wir776qixbtkyPEJZ69eqpxgifOuSIlXhRB/BCfkwzkT+IZ3g9DJOENjhUZ/6PhlFKaQ3HadOmSaVKlQQS+dJLLylBj1S+n3MEHAFHwBFwBGJFgG+ME69Y0fJ0joAjcKQQSDPxolNDY/H000/rwBmiw8A50mAcArJy5UolCQyw0Ur17NVTCVLlypWVSEQa+FMGRARtGaQKs8Q33nhDFr23SDVr+DdxHQKIeePq1avVjyp/vnxy7LHHaiRBglIgJyQDOSAopMWsjd9Bsz/Kg4QQ+IHrkBKTi2v83rdvn97/+eefq+8VZpaYBCIf+QXrHyReBQsUVNmSI16UQZ3uvPNOqVChguKDRmvu3LkqE9dtp16LFy+Wt99+W+XkfHLEi+vIBg7gQeRD7lc8Fy1SAg3O4EFa2/gNvj///LNqpGiDefPmydKlSzVKI/fQBqRjB6Off/5FzUohiQT4AB+IN3lYWvInPc8FQVny58+nmlPMUX1zBBwBR8ARcATSgwDfFyde6UHQ73UEHIHMQCBdxAuycdttt6mZYZMmTQRSweA+uNlg/Pnnn1eTMoJMPPjgg/Lkk0+q3xK+T+PHj1dyRVrb+G3E5a677pITTzxRtWqYpZUpU0Zq1KghaIG+/PJLWbFihbRr105N8PCFOuqooyR//vxy3HFVpVq16nJ247PlhRde0DII6lGnTh2pVauWBqxAK2blIvusWbOkYcOGmj9BLCACyME1wp7/5z//kaZNm6nGDjkwnSxXtqySqhdffDGBIFEPkz8YXCM54kUZW777TmrWqqWkCx+40aNHK9HjmsnJkf+NdFIOW5LgGsck9fGCUHGd+rVv315NFJHf8Kxbt55GRKRNyZvN2mDt2rVy6623ynHHHadtULp0GW1z2uT+++/XNjDCRtTFMWPGKL4EzlB8ypVTPIcPH67aPCNf5I95YdeuXQVzyrPPPlufIaunCuF/HAFHwBFwBByBVCLAd8SJVypB8+SOgCOQ6Qiki3hBSi699FIpXryEdOjQQcOcGwkwyen80M5A0DCbw6wMLdGiRYt0cF6gQH6N1IfJog24OaJtWr58ubRt21bvwSyR+yEKBOfAPwxt2eTJk2XhwoUaxr5EiRI6gId45c2bV4oWKyacq1mjpmDShsYFEsc58rvxxhuF9cesXAjHM888c0jblF9aX9Raw7ejxaGuEDE0UJRPBEeIBfLkz19A5cH/CoIHBuSZhHil4ONFerRHr86dKyVLlVL5Cc1PAAq0cCaj4RrpmIR4VUokXtz7ww8/aAALfKkgQ2CA/GXLlFEszF/snnvuSfC5Aw989q699lrFBDJbsWIlxZ1AKmBYq2ZNGTt2rLYXWsIBAwaotpH80NrRRgTPsPa6Y/jwBJKNXGjfiHKZL38+Jc48G+HPUKS6+jlHwBFwBBwBRyAaAnxfnHhFQ8fPOwKOQFYhkC7ihXYDMzG0TP3791czuXCCwCAas7zzzz9f/XjQjBFSff369dKmTRsdkOMjtmD+AiUX3I/2hAH/VVddKSVLldQBPgEzOnXqJCNGjtAw5PhAsbMI76effip33HGHXHLJpUoqCNwBsejWvZv07ddPNWPvvfeemtlhxgcJgEQMGTJEfggjXizoW758OcmbN49ceOGFquVCHsjjlVdeqZobNDM3DLxBJk68V2655VYhCAZEg3y5h7Tck4R4peDjRb3RvgXlu+yyy5QsmgYqpYckOeLFNTRRxx9/vGrnIJGQLIKbNGvWLEEbCdmD8CI7mimIENpB6kc7ES0S7SXh7Vu2bClNmzbVNJBawt6jTYQgV6lSRfOe+cJMGTturGokyZv13vbv25fQ1pgxQpzRhBK9kSUGYq1vSnj4dUfAEXAEHIHciYATr9zZ7l5rRyDeEUgX8WI2Cd8uBuWYkZm5WbDSDKKfffZZHfCjJerXr59s3rxFNU0jRoxIMHW76aabEu5H24W/GBoVCBD+Wpi0oREiPwbrLCaM2R5p6WAP/HpA/Z0Y+GO2hlwQIAgE120PEhuIV7jGC5+1cOJl977//vvq00a90YKRN4QD7R1aHbRslG8h8lNDvMAMWQYOHJgQOh6sImEaxDf4O5F4lZJKEUwNv//+ezUnxBcOfzTkox74YJ111lkaaRLt5bPPPavlgvOkSZMU/3LlyyuBJQ/aAFKGmSCBUfB7o21mzJih5ohKert1UxNJ5KcMtGFo7/BhMzw5khdreIWWGCii8qWmzsH6+29HwBFwBBwBRwAE+L64xsufBUfAEYg3BNJMvBi0o2nCDwniNXLkSB1g09nZxm8G6GiK0AZh4vbiCy/o4JuBP0QGcze0HSy8DHFg0E0ghj69+ygRQDPVo0cPNZVjkE6elE06TPDsHPm9s/AdjQAYJF7h8iQhXoMHy9YfftA8kZm8VONVrpzkzZOo8SIPdosCCCGh/H2//KLkgyAVp5xyimrRqlWvplodyEhqiZfWu08fxRMtIsSQPGLdEolXSTXPfPjhh1VO7kd+CBDEB9yQH8wge8h/zTXXKN60xRNPPKHtRttNmTJFyRRtTBTF+fPnqykiWHGdnd/U97///a8uFk2bYZL58ssva/6UZe3FMdgm1A8NKGaJhQsVVq0ccgbTxFp/T+cIOAKOgCPgCIAA3xAnXv4sOAKOQLwhkGbixWAbzQlaLAblmLExqA5uDMrp+NCmQIYgWQR3IJId2o8FCxbooB5NkZobLligZABC17x5cw2SgSaEgBiQnWiDcc4r8XonKfEKBs5ALtIlIV5ovMKIFxov5DTiteGrDfL3PyGtGTLgK/X666/Lv//9b+ndq5e0a9tO/cuQk3pAOGbOnKlEJLXEC20SJpvgCQEiPH84UQniG/47OeJFWggNWkAI73333ae+W/jmYSqJ7x2+cbQT14xc0hatW7eWYsWKqQYSjV737t117TC0XWj8qCdtjenpJe3aKcFGW0nwjS5dumgwFUxCSRteH9qE8PngVrhQITVhDE8TXk//3xFwBBwBR8ARSA4Bvi1OvJJDyK85Ao5AViCQbuJFcIkiRQ4nXnR6aEEwGcTsD78rtDhohljcmB0NihEWNB6QGYItYHqG7xj3EMQBU0XyY4+2pZV4QaQsX9N4QbwoG38tiBfnISKQkJtvvllJInKh7cNnCh8oqwcE4rnnnlPTu9QQL2SAOBE9EJwgQAQugaxQfixbNOJF3mjr8JvDR4sgIBAtzCOJVEiESOpixGvChAma3u4jnP0555yjJocQMLSXpAcfiDRaM+qKnISQJyAKPl6YHFIXymly9tlqigi5DGq0KCOReBXWKI7B67HU29M4Ao6AI+AIOAJBBPi2OPEKIuK/HQFHIB4QSDPxYqCNxsMWv8XUMKipoNPDrwffLdUg5c2rpnhocgi+YDtmaRqBsGhRadHifF2LigWBzzrzTCU/DNrRQpEfe7QtLcRr8ODBqsGyfI14lS9XXvLmyRsKrrHhqwRtzsUXXyyFixRW2SFbkDBCyBNUAlNJNFVRiVcMUQ0hnYTZNxIH2WEBZrRJJmN4/YO4GPEqVTKpqSFpIF0suoyMkDqI0XXXXaemlay1RTvRDlyDeFkkRe6FCBF18rHHHtMFqiHbpIOc0j6QuWB6TCapByH+aXvamPTcN27cOCXXVh+eI7RhRx8dipJIhEQnXuGt7P87Ao6AI+AIpAYBvjFOvFKDmKd1BByBI4FAmomXdmobNqi2hMH8sNuHJRkwQ2IYgGNuBslCszKgf38NwgFJYycSIQP+mjVrSr58+dVEzaIUYrKGBoa8ib6XWlND1s7C1JCBvW3ITDh5i2pImHRk5Dw7MhMgIonGa8MGJQqPPvqoHFelipIiovMhJ/mjkeJoERqjEq8UohoiIwSLaI8VK1RQokJQEcgOgSuQL7jxP3UzksL/0RZQpl74X5Ef5AqtI/+zZhc+XxA2MI5GvCgH2UiLdgtTyxYtWqg5JEQaU0Q+cJSDHJYWeSClLJgNmSQtmkxMVMmTtNyzcuUKbZMiRYpqEBUIvG+OgCPgCDgCjkBaEeD74sQrrej5fY6AI5BZCKSLeKEFOeOMM6RI0SLqL7Rnzx4dTNPhYWb42muvSYkSxVXjcdFFF+lCuwzyGfCz8/ubb79RPyDIGX5BmBuyKPKw225TjQqaklatWmlIetOoMWhHw4KZIJouysOUbunSpVK/fn0lEJjCYdZm95CG+9DmlCpdWmUiHDoaJc6zQ8L+9a9/KQlIMDXcsEE1d4MGDVLtDhoe8oCEcA+EkDW+CKuO/FGJ1yGNF4QtGrEgv927d0vPHj2UhGKm1/D0hhqtcfeePVqe1QNtItET8a0DB+QIJ16sj0VZ7I888oj6UFEvgnagAbN6E52QxajDiZfJA9mivlY2vym7evXqiiM+fPjsQUJ5JoLRJHkOli79QFhGgPqgKZwzZ07Cc0K7EbKetdDAdvqM6UrGMuuB93wdAUfAEXAEcj4CfK+ceOX8dvYaOgLZDYF0ES+ICtoMfHkwK2PQzWCdDo/BOgsUQ0bwC4LQmHbGQCIdGg/Mz4h4iEkafkOV0+e/AAAgAElEQVRrVq+RFStWhBYyzp9fNVCdO3dWbRBlQhogWYRbhzhBwtCyQNgIFAFZK1GypGp1SAvBw4yP8qdPn66L+pIG/ywWVkZuAkOwphXnICBo29THa8MGJUPUBWKAbxcmhqSH8GBuefvtt+saVOQZTryQCbJRqGBB1f6xnhgh8MEp0gYRmTdvnvphGRlt1KiRvDxrlmzYsEGjKHLElK9hw4aK/b333iuQXup5Xb9+atKH1m706NEqO/g8/vjjSnwgXkSZJBQ/bQQ+hOpH6xjy8cqrxBJCiyxEMSTi4SuvvKIEkzIgePjh4RuGjKwDZsFSaCeiIhrupCdcPWnQNLKAM21nzwlEEyJL2xNg5e23346KTSS8/Jwj4Ag4Ao6AIxCOgBOvcET8f0fAEYgHBNJFvNBasRZX+XLlBHKwavWqBHMzzMnQcmBehj+R+WmFV5rO8Y033lByAuHBRBBNGaQGglOmTBnJc1QeKVigoKbp2PEyJUQQNdb4Gjp0qBIBBvKY5BGljzIhQZg3sugyBI1Ff7kOQYCcQUAgGmjGzj3nXKlbt64GCcGHC7IYJF6QNgurzn0QCPLt2rWr1puyLL9w4gVBO7vJ2XpPieIlpH379mqmCBmKtIEHGirWzwI3yxeTS8w20ayhaQrJmEfrCjGCjKFpun3YMCWBYECdIJqQMogTi1AjK0QYIsQiyixCDZZWDtchQmC1adMmNQ0kL6JX4uMGASXyIuaWpiEj3D+LZGN+WKxoUSlZooTmP3jwEF3suvl552la0kPMIGUQbtoM0gt5p1wiWRLABAx8cwQcAUfAEXAE0oqAE6+0Iuf3OQKOQGYikC7ihWkZazXhOwTJIfqgmbY9P/N5qVipohIEBulErmOgHb7ROUIaMCdkgI8vEKTDNDgDBgxQLRRmapCPEiVLaJriJUpomfdNmqQmbuTDYJ4IfGhVCuTPL4UKFVaNELL17dtP84REQUYqHH20yobGpmjRYkpGuA+Tu9NOPVU1Oa1btVbZ0KZhjoe5JAEi0M6ULFFSf1eqdIxGaESLRGRGIjhaVENkwv8LXzauUb/KlSvL1KlTVRPF9fCNc+yYEkKWMOWE9EC0WOfKwrrjD1W5chUllciGdsrMOyGv1AvSCinDFBIie8MNN+g5cIQ8lildRkkaBI10upZW4cIaLMM0XpAwcClZqqTKAUkDA2RC0wnZgmRjfjhjxlOKRblyZbWNKL90mdKqfaRdIeJo/JDV6kloe/KHeA24foBq4cIx8f8dAUfAEXAEHIHUIMA3xk0NU4OYp3UEHIEjgUCaiRfCQUjwoyI8OaZtl112mQ6qIUCYk6ENwwwPQoY2ho4wfOMcZAi/H9KyQ57wWSIfSAMh6SFEkINLLrlErrjiCg27zvkftm5VOWwgD2FBg3bjkCGqXenQ4bKE6H2Y+EEMMZXDxBAi0rFjR01H/pj4YTo4efJkDQKCyZz5K2GmiLYMnyrWsSLUO8fx48ervxMEgmv8T1RGCwYCyVCftWHDVLMDQSMEO6Q1Eh7gw3lIKuRz2bKlSkSJSIi2CJPOq666SoYOvUWef36maozQnnEPdcN0j4AcrAFG3TCfRDNJms2bN+uaWn379lXNILIQ5ATzPkwHkR2SuGjRIjXLBH/MEVlvjXzQHKJRREMFIcbEEQ0V2jHKRl4WY2YdsAED+mv5yNC3X18hWiHmo+Yrhrzkj+8ZhA9CSbtBHn1zBBwBR8ARcATSgwDfGCde6UHQ73UEHIHMQCBdxMsGz5ifQbwwsyMqn5EmyAo7A2zSRtu4BtEIT895KwMNDAQC8oDfkPlJBfO19JAA0qPlwScMMkbedp0jaSABpIFcQJBMTq6RnmPwHn5DYMgPOTga6UF+0rPzm7S28RtyQjnIA7mgrFg27iVPiJr5ZEWrP/mZjGjaTMZg3ckLcgZhJj/kN3m5Rlr+t7zIj502BS/kBzPkIT3Xghv/Q8i5bmkhZMF8SU8ZyNGnTx/VnqEVJb2VHczTfzsCjoAj4Ag4AqlBgG+RE6/UIOZpHQFH4EggkC7ihYAMlN955x2pW6+emq0RlZBBP51e+KA8rRWyvCAr7JRp56LlyfXk0tv9lsb+j5Yf5y0N5ccqR6T7LJ/kygpeIz1lhpcbTBP8belNRrtm5Vo+XOdcLFt4npZX+L12PlgGv+28pYecoWkjCiV+dmjEIGik880RcAQcAUfAEUgPAnxLnHilB0G/1xFwBDIDgXQTLzo3zPGIWohPD+s0EWgBbYhvjkAkBHhm9u/bL926dlVNab169fSZMfPMSPf4OUfAEXAEHAFHIFYEnHjFipSncwQcgSOJQIYQLzQnaC8InkAI9rVr16pGiI7PN0cgHAGei70/7dWoikTDtAWy0Yz55gg4Ao6AI+AIpBcBJ17pRdDvdwQcgcxAIN3EC6Ho4PB3Wr58uQZbwIfJSVdmNFfOyRONKKHkV65cqb5dPC/+zOSc9vWaOAKOgCOQlQjwPXFTw6xsAS/bEXAEIiGQIcSLjNFWMJjGd8d8eiIV6OccARDgo8jzQtCN1PiaOXqOgCPgCDgCjkBKCDjxSgkhv+4IOAJZgUCGES8T3rUWhoQfHQFHwBFwBBwBRyArEHDilRWoe5mOgCOQEgIZTrxSKtCvOwKOgCPgCDgCjoAjkJkIOPHKTHQ9b0fAEUgrAk680oqc3+cIOAKOgCPgCDgCcYmAE6+4bBYXyhHI9Qg48cr1j4AD4Ag4Ao6AI+AI5CwEnHjlrPb02jgCOQUBJ145pSW9Ho6AI+AIOAKOgCOgCDjx8gfBEXAE4hEBJ17x2CoukyPgCDgCjoAj4AikGQEnXmmGzm90BByBTETAiVcmgutZOwKOgCPgCDgCjsCRR8CJ15HH3Et0BByBlBFw4pUyRp7CEXAEHAFHwBFwBLIRAk68slFjuaiOQC5CwIlXLmpsr6oj4Ag4Ao6AI5AbEHDilRta2evoCGQ/BJx4Zb82c4kdAUfAEXAEHAFHIBkEnHglA45fcgQcgSxDwIlXlkHvBTsCjoAj4Ag4Ao5AZiDgxCszUPU8HQFHIL0IOPFKL4J+vyPgCDgCjoAj4AjEFQJOvOKqOVwYR8AROISAEy9/FBwBR8ARcAQcAUcgRyHgxCtHNadXxhHIMQg48coxTekVcQQcAUfAEXAEHAEQcOLlz4Ej4AjEIwJOvOKxVVwmR8ARcAQcAUfAEUgzAk680gyd3+gIOAKZiIATr0wE17N2BBwBR8ARcAQcgSOPgBOvI4+5l+gIOAIpI+DEK2WMPIUj4Ag4Ao5ACggw0I11D2YVvCd4PtJvSxvpmp9zBIII8Kz873//kx49esjOnTvlr7/+Cl7237kMAes7UnMMQhTrfcF7/LcjEAkBJ16RUPFzjoAj4Ag4AjEj8M/ff8ufv+6XA9u2prj/tmO7/Ll/n+g9f/6pg+Lvv/9etm3bJvv27ZM///wzSbkMeP744w/Zu3evbN26VXbs2CG//PKLkrwkCf0fRyCAAM+NE68AILn05z8i8su+A7L9x73y/bbdMe87du6Vgwf/lL///lt+++032bVrl/zwww9CXxXcObd9+3btx/bv3+8EP5c+Z6mpthOv1KDlaR0BR8ARcASSIMAA96+DB2XbOwvk/U5t5P3L2yXundvJ++yBcx9c00m+f222/HHwoA5kunbtKk2bNpWLL75YXnrpJSVYNrtMQfz+8ccfZdKkSdKqVSvp2LGjvPnmm068krSC/xOOgBOvcERy5/9///OP/N9ry6VdjwnS/PLR0vzyUYd2ftv/9vvQ/51GSYdeE+XT9Vvkt98OKoHv16+ftGjRQpo2a6r9VbNmzYS9devWcvXVV8tdd90lixYt0v4Lssbz55sjEAkBJ16RUPFzjoAj4Ag4AjEhwADjr99+k2//b6bMPfE4ea3O8brPrXO8zD25asL/dv7NhifKpqf+I7///rts3LhRGjZsKEWLFpXSpUtLy5Yt5bPPPtNZZiuc/Jlhvu6666RChYpSq1Ytef75531gYwD5MSICTrwiwpLrTkKC7nviNaly5vVSok4vKXESe8/Qzv8Je89D10PXapw9UFas2Si/Hvhd1qxZo2SrVKlSUqRIEe2vihUrJsWKFpXixYsL5ytUqCDVq1eXgTcMlK+++sr7p1z3pMVeYSdesWPlKR0BR8ARcATCEFDideCAfDPzGZl9fHmZU72iLDjvLFl+bVdZ2b/nYftHg/rJtoXzlXht2LBBTjnlFMmTJ4/kzZtXBzGPPPyImvWQLxvHLVu2SK9evaRkyZJStWpVeeqpp3xgE9YO/m9SBJx4JcUjt/7399//yKw3V0r3IY/K5f0fkMuvY79fWlzxbylau4cUqH6NVDnrermo2/hD10Jp+vxrsqzftFV+P/iHfPTRR3LWWWdJwYIFtQ9q3ry5dO/WTa666irp0KGDnHnmmVKuXDnJnz+/VKxYUQYOHCg//fSTmx3m1ocuhXo78UoBIL/sCDgCjoAjEB2Bw4hXtQqy9s7bZN/XG+W37dsEn66Enf9/3CF/7t8vB3//XSBedevWVdIF8TrqqKPktNNOkw8++EAHLeQdiXg9/fTTTryiN4lf8XW8/BkIIPDL/gOyfede2bpjj2zdvkd+2L5H5i1aK+Ub9FPi1fKKf8vKjzfqNbu+Y9fPcvCPP+Wvv/9OIF6FChWSE044QU2i9+zZoybQmzdvlmXLlgmmiCVKlNC+rE6dOrJ48WI5cOBAQAr/6QiEEHDi5U+CI+AIOAKOQJoRSCBeLxzSeFWrIJ+NGyUH9+6Vf/76S4NoEEgjyf7PP3Lw4MEE4sVMMjPGefLmkWLFisqgQQMFR3XzlThM4/W0a7zS3GC55EaeSw+ukUsaO4Vq8izQl9j+559/ydKP/idHn9pPClS7Ri7uNl6++ma7kixLY30P965atUoaNWokhQsXlpo1a8rrr7+ekBfRMgn+Q9Cfxo0ba5oqVarIk08+qUGAUhDNL+dCBJx45cJG9yo7Ao6AI5BRCEQmXqPlj19+Vq0U1yPtQeJVtGgRNdc599xz1JSnbt168tZb8zSaGPeGEy/XeGVU6+XcfHhunHjl3PZNT80gVctWhYhXwWrXSJtu98imzTsiatF5jsKJ1xtvvJEkLWl+/vln6dOnj2q9KlWqJBMmTNBAG+mR0+/NmQg48cqZ7eq1cgQcAUfgiCDAoOMvfLwiaLz+jqTxOkTEgsSrcOEiUq9ePXnwwQfluOOOk1KlSstVV12tpjzMJmPOE/TxcuJ1RJo2WxfixCtbN1+mCh8iXhsSNF5tuo1PM/HS/u+vv9Qv9dJLLxWCbhxzzDHy0EMPKRnL1Ip45tkSASde2bLZXGhHwBFwBOIDgQTilRBco4J8MuIW+eXrjfLr1h/kwLYf5IAet8qB7dvkr99/19niIPEqUKCARiv8/PPPpWnTZmquU758eXn55Zd11tiJV3y0dXaSwolXdmqtIyurEq/VIeKVWo1XjRo15NVXX1VtPOt7/frrr0q6Fi5cKJUrV9YAG0Q3nDVrlq5LeGRr5qVlBwSceGWHVnIZHQFHwBGIUwSCxGvOoaiGc086Tl6vV11er18jYX+jQS2Z17i+7P18nfp+Qby++ioUXCN/vnxy/PHHK8l64oknNHIh/hQXXnihfPrpp67xitO2j2exnHjFc+tkrWyHEa/usZkaElwD/62HH35Yli5dKu8vXqz+XmPGjJGTTjpJChQsIEwisd4XS2CELwaftbX20uMFASde8dISLocj4Ag4AtkQgSDxsnDyr9aqLJCvuXVYx+vQfvLx8ubpJ8lPn66Vf/76MyG4BuHk8+XLpwOaX375Rb755hvp3r27FChQUMqWLStTpkzRtb1Yx8vCybupYTZ8UI6wyE68jjDg2ai4oKlhbBqvj6RRo1A4edYcJLJhgwYN1Dy6du3aGkKe9b0wMyQIxxtvvqkBNyjHN0cgHAEnXuGI+P+OgCPgCDgCMSOQhHidEFrH671LLpBP7hgqa+8aJmvvuj20jxoun429S379/juNcGimhka8KleuolHAMN3BlIfBTf4C+eWcc86RN998U4YMGeLEK+ZW8YROvPwZiIZAkHgR1TDl4BqJ63ih0WICiPW62CtXqawLJ7MQfM+eveTdd9/VNbx4/nxzBCIh4MQrEip+zhHIYgQIUcvAlGOss2Z09L///rvOtHmnn8UNmIuK51nT4Br4eEG8EsLJ/ySh4BphIeXDgmso8cqbT/0j0HjxvOPTdf311+sMcpmyZaR3795yyy23OPHKRc9VeqvKc+lRDdOLYs68P7XEK7iAcqlSpeTqq6+WsWPHyrhx4wTTaPy5li9bpktg8Nz59zdnPjcZVSsnXhmFpOcTEwJ0SHR6EAojFfx/JDsrKyt4TE74YDr7nVz69F6jDFa9f+211zSMNgQsuJkMdrRr4PjKK6/Ihx9+eETxtPL9mDsR4DlMIF7HHx0iXuMTw8lHQyWo8cqbLynxwmn94zVr1O8LXy8WJL322muViFWtWlXc1DAaqn7eEOC5dOJlaPgxiECIeAXCycfo40VfROCM2bNnq3aeiaJ9+/bJ/n375LcDB3Rsw3PnmyOQHAJOvJJDx69lKAJ0SNu2bRMil61bt053HOfXr18v3377rXZkR8IZFTm++uorWbNmzWEmAVyz3SrP/xs3bpSlS5ep8z+EMbM2ygKDL774Qmf5v/vuO/3fZOLa7t27hfPbt29XDZfJQppnn31WZ+G4lplyWpl+dAR47g4LJ59K4hXy8aqsfQCDInYmH0aPHq3mPPhOnHzyyeq4XrXqcU68/LFLEQGeSydeKcKUKxMEiZeaGqaCeNWqVUuC63jZtzlXAumVThMCTrzSBJvflBYE6KAeePABadu2rfTt21dnsDEh6tevnwwbNkyeevppjWDGLBJpM2uj0x06dKj07NlTHfn/+jtEpJi5wrGfmXjSWIcKgRk5cqRcccUVsnbt2iRkJ6NlpMw9e/bIc889J6NGjVKixznk2b9/v6xcuVIee/xxufLKK2Xy5MlJiCPpIIi33XabLHz7ba1HRsvn+TkC4Qjw3GU08SJPzGZ535o3by5EE4Oc5c2bR9f5co1XeCv4/+EI8Aw58QpHxf8HASVeq0MarxDxSvs6Xo6oI5BaBJx4pRYxT59mBPgQ3j58uPTo2UO+/vprJQlovhYvXqyams6dO8tlHS9LMJVLc0Ep3IgcM2bMkAceeEBDvtIJs6Flwq8EbRGaJdKxc/35556Xu+++WzVzEDPOZ8ZGvgw2Bw4cKMuXL5cDBw5oWZS5adMm1YJddNFFcu655yox27FjR4Is3MtgFdJ200036foimSVnZtTd88yeCPCMpYd41a1bV0kVa+CYjxd5svMeTpw4UY4uX17yHHWU5MnjxCt7PiVHXmqeHydeRx737FBiiHhtkAqn9pMC1WMJrrFKoxVializZs0kGq/sUF+XMb4QcOIVX+2Ro6XhQzh8+HAZ0H+AamP++OMPJQpEMdu7d6/6M914443StWvXBOITBIT76TCDx+B1fnMteD3429JyzmyzkcHuwfSwY8eOasYXrvVCG/bzzz8nhIi1eyzP8GOk63aOo9WD38GN88zm9+vbVzVcZi5IOgahaMPQyr3wwgsRiRf3r1ixQtq3by9bt251rVcQXP+dKQjwbIaI17Pq3/VqjYry2T2x+3jVq1dPCuTPr5osI14mKHkz4cB7CenKmzevrvHlGi9DyI/REODZceIVDZ3cfZ7v5LLVG6RCw+ukUI2u0rbHBNm0OXESM4gOz9GqVaukcePGUqRIUV3oPWhqGEzrvx2BWBBw4hULSp4mQxCgA4N4oVWi47ON8+xoa9BENWnSREkOpMOu8Rv/MLRSmNt98fnnulq8ESfLi3whTURFQ3NEh4k/FwO6YH74j3DONFs7d+6UefPm6cKH5L9hwwYlYKTjPoghv0mPyR//c0S+4Mb/yEDekCSTHzm5H/82gl+Qv/lhWR7cBwm99dZbZdq0aUkwsjJIS9mzX3nlMOJFGq7jLweBff6555KYIloefnQEMhIBnrm/Dv4u3702R+Y3aSjzzz1dNkx+WP488Oth70ewXN4JntWLL75Yg2egxeX5D+8bmPSYO3euEK6ZIBtNmzbVRUvtvQnm6b8dAUOA58OJl6HhxyACf//9j6z94ltpdPHtcsq5Q6TX4Eflh+2h73UwHb95jr788kvp1KmTrtvVsmVLXTzZ+59wpPz/WBFw4hUrUp4u3QjQUYWI1w1JBldkzDUGXHPmzFEzOrQ1kBzOQXA++eQTueeee6RLly664+P0+OOPa2AOG6yRB1opiM2NN90YStu5i5rnESEQckUa9iVLlqhJHvdCrCB8LNrK7HvvPn3U1O/24bcryUOOxYsWyYMPPqiybNmyRc2f/r+9OwHWparuBV6pxJfEATEqozgyqOCAMikzIiSoKBrkoiIYMCJTgiJgwr1WCgQH5EVAowwGI0RAEhQwCSBCOcQBkRhA0JhUnmhiBA0meRV5wepXv31Y5/bt+31nuHDuPcO/q/r0d7r3+N+9117/vdbebVDvK4lVD8Tokksu6a6//vr23A5trFQXXnhhWyemDq9//etbelwulUGZ5EMRPebYY7rP33hjuzcEXTjp273QGrC+q2GFtfmG+iBwcBQnRxCYKwS8X7944H+6//63f+vu+dpXu3u/9tX2ra5f/M+ENXlcvvodV9rbb7+9udXq48OJFHGl751mkWbN5Z5sEibv9Thkc7/emxCvvAujECA7fvrv/9l9/Zv/0H3l63d13/3eD7uf/eeEW/8wvLDGXOSL/CGvSpcYhs3/QWAmCIR4zQSlhHlYECDARlm8JO4Zpeu8887rdthhh7ZFK8WMFeyWW27ptttuu+7II49sH1Il+D73uc81l8RXvepVTSFj5RIe6dpxp526s846q/vSl77U/rfm6eCDD25xESV5cVVasWJFs0q5J6w42++wQ/exj32sbRcrj9pVEJGxnTViR+iy2lnzJU/p1SGt2/7+77u3vOUt3Q033NCeS0N47n9m7lnhfCDWpiKHHHJII4/iIWg33XRT+1AsId9Pt9J3bzriJR15IHgsazmCwFwi4J2cPPUHZ29zmnF5Vxzvvn407Ev9eMJWGOErbj9MfgeBPgLekRCvPiL53UegyZQme+yiulKG9cP4XbKm5FTkzxCh/D9bBEK8ZotYwq8xAgRYEa8SZnVFuhAqux2+7W1vm3QBZClCWrjOcRnkdoSMsYJxJ2T1ee1rD2wEiuUIsUF6WKX8b0YdWfrxj3886RoozyHxQla+8IUvdDauMFhzCxS/1noV8ZK/siJpNgO59957W1kLFFariy66qFmbzMqL/973vLdZ0Ow4yAVRmVxZu/Z/5f7dFVdc0erlPkvWqaee2gifcg4P96YjXsog73322aftEjkqnWG6+T8IBIEgsJgQIPdCvBZTi6YuQWBxIBDitTjacUHUwkBoq3O+0kiOk1UIWfrQhz/UHX300Y2wsPaYVUIgEJE999ijWXD6a6qkhYDZEdF20yxWCAlLEksPUoPICOfsz1L5v0+8/O9gLXvFK17RSE/f5cnzIl7KYOb9b//2b7vXHvTa7vOf//ykq6D7nrOuWaOF8Bn499133+6yyy5rJExadSJ3733ve9u3iqz3QvTk87/POqsRxSpXv3Hdu+9nP5vS1VBduSDuvffe3a233try66eR30EgCASBxY4AWRnitdhbOfULAgsPgRCvhddmC7bEBsKTTjyp23LLLdu3vPbbb79mYbJY1W8f/2XhKtLDWnTmmWd2v/3bv93c8IZExP92PLM266Mf/WhzAUQ0pHfKKae0jSxYfvqbaIjjnIp4/eAHP1jFiiX8kHhZO/X+97+/e/e7393WnwiD6FmHwtL0hS9+oVmxEEHl4UIoTv9UdgTt2GOP7f7pn/6xkbZzzjlnte9z9RtcPo14XXnl2DVeiBcLn00LuGmKkyMIBIEgsJQQIPdCvJZSi6euQWBhIBDitTDaaVGU0kD4B+/8g+6Iw49oZOXee+9pVioEi3VraJXi1ofYcDMUZnhID0myicSpp57WdglEfiyARcZ23nnnti7r8ssvb9Yn4eucLfHiPmiNF4uWciova5sd1pA796z9Ov3009vHmblBsmhZs/a85z2v23///btlyw5u1jAWMSfLHKuUtV/cLKVtA4+PnnfeZHlH1Xk6V8MiXsistV7qnCMIBIEgsJQQIPdCvJZSi6euQWBhIBDitTDaaVGU0kCIeL31rW9txAV54Z5XhKtfSWGRqDPOOGOSeA0JhP9tXPGOd7yjWX8QIOmJx7Jk63kfSX75y1/eHXDAq5vbnefiXfTxiyY316h0y9VwlMWrT7yEV2YukVwTb7zxxkaaWOts9sENEYlCkFjKXv2aV7ddFO1YODxZvX74wx+28FwNL7jggka+xu2aJO/7fnZf95dXjt/VUNnK1ZAFrurXxze/g0AQCAKLGQFyL8RrMbdw6hYEFiYCIV4Ls90WZKkNhLW5BnIw1SEsK9fZZ5/dtmBHSoZxhLFhBesWFz0bXbhXpw0zuNxZh2X7drsQCiOdqSxetZNhlU96Q+Ll3o9+9G/du999eveud72rrSlDcl72spc1IlXrva655prmRnnzzTc3sun+8FQe6SGMrHOsfMife8PDvelcDaVvzRhrmq23R6UzTDf/rzkC8A3Ga45fYs4egbxz02MGoxCvmeGU92l6nBJiVQQy5q2Kx2z+C/GaDVoJ+5AQ0FFnSrxkhEDYlMIHle+6665V1nlJCzH78pe/3O2990vb9vI2s3DPGrEiM8LZhOOv/uqv2vbtLEwsbVMRL1Yp6ZRgce2v8fK/E1HiIshV0MeXP/jBD3bLly+fXPMlX1Y3a7ysX/N/pal+fqtj3UMUbWF//PHHt23g634fdPf6xAvBGiN2mXQAACAASURBVIZTdvm++tWvbrj14+f3w4sA7LnE+lh2ucs+vDmMTq3ylXf/XR0dOncXEwLanqxzeueG/X8x1fWh1AUuIV7TI2hc8i7x0sj7ND1eSz2EfmUi3NjjGvkz+zcixGv2mCXGGiKgg86GeAlvC/k3velNbcdDhAihqpOLHuvQQQct637yk5825deaJharIl/CGlhYkmxTb5t5ZGcU8WKxQqKkURY2ZfBNorJ4/ed//dekoPFMOOu13v72t7dNQOzSWMLIcwPZ0Ucd1R126KHNNbGUc+VSjr7irMzcF222gVCK72hl6H3HyNqxv/iLv2iWtnKvlF6F8/yySy/tjjv22LHb0q9hEyZaDwF4w93Om74xx721NoapZ55PdQq3Jod4Pjbuvax3ek3SeTjiKMvwHJduP9y4MAvpvvpU+1bd5rr88rOZUN+CP9d5LsT0tUeI1/iWq/fVDsDvfOfJ3SWXXNImDet9num10hmf0/x4UuUcVa965roujspf2er3TMpSYatO9f9c1oHe4mP35I+r/3PMDoEQr9nhldAPAQFC4Z3vfGdb40VQTHcIbxaurEq+8cVt8Fvf+lZbV3XYYYe1b2khKcgVt0IbbVh3hWjZ0Q+ZYjVjdbrg/PNbevJGvLgIslTIx8G975hjjumOPurottW9HRJvu+22ZlGg4MpfeSq8q3x9cHnHHXds28YjPchVHcIgjzYI8Y0whEmZkLsrr7yyuVFaI1aEzA6MLF5//ud/vooAVk71tAX/tdde27719Tu/8zvd1Vdf3Tb5UFYCUH7qccryU7oPfehDk+6XVZ5cHz4E4G1dnw9hczEtsu4d0QastONOCiGFR3vX+zSbkomD7MvX2kSEb10d+pMJABMjw/e/Xybh9BfhrEFcSAM2vOusOvnfxIk29j1BaztZDtyfy0P6LOg+U4F8s7znWB0BOIV4rY5L3YHP/T+/v7viU1d0L3jBC9p4ZPLIRM44uTW8D99xbvGVz3y4qivZY+208bhfD//bDIv+oC8Zi4Vfm4d8LUc47bTTmo7T92JQlv7ZLxeZqs1symXdut9zfZDbZPjrXve6phMp+0KS5XONz0zSD/GaCUoJ87AgQHhcfPHF3fnnnTdjwSYORdYOgitWrOiOO+64pnC6sp6xMHlOALlysbMF/cknn9wd/7a3TZzHH9+de+65TdEVTppf/OIXGzmjLNdBiSL8Gvk6+uhGEpEjSq387VBIeItfByHNSqVs6lbp13NhxbHW6n3ve1+zulGYlZ8F7j3veU9bp0ZwCet67rnntDoSaNJzUlR988vHlRFG9fu93/u95tpo5ukDH/hAiyvsrd/8ZvtWGsIqjX55q1y5PjQEYOq94IKK1CPU1Yb/+E//2CxgtvO32YrPIQxPO1raZMb7qs1me8jfh8LtquldXpfESx9gebZzpz4yjkwqIwXnoIMOapMC+sV8P+CsPiY2yp20yuwZZU07brzxxk0RYW13fy4P7wvSfvjhh7eNg7gba4McqyKgHUK8VsWk/x987v7+3d1RRx3V1gNT2lkwWO/78uqAAw5o65R9JkUf7z8jx3ybc01kWL8sc/1bXX/yk580PcDErHoceOCB7VSHw950WPM0McZy90fQ1madTFidcMIJ3TOf+czOhKr/5a/cxnBEh+zsj+ee6fe+YfrUpz61e9GLXtRdf/31c15u+ZKJdJfnP//5bUK4r0fNdVsuhvRDvBZDKy6QOuiwZnKG5GUmxRcXsSJ8kBiKB6JUwslzp/8JI0qSQfeO229vG01Q+jx3uCpHf1ap7otrAw5kynqwInXijyq3tCjcnvXz6NdJmMqTknTHHXc0hdvvilNhXFkw3vKW321hKk95ELrKU6f61+8SyNaJfepTn2pKebk89suS3w8PAtqDdeMle+3VPjPA7VXbOSjp1iUaDG384sPgw5M76R/90R+12deKN5uSiYN47bLLLuuceHmH3/CGN3S//uu/3hQH/c57OzzcQzSf8YxnNKvuQhisyRP12XPPPdskj35WhzYwIeJ7fr5NSAFdG7P/8iW7uIZtscUWzQJODqzJe1R1WYxXeIR4jW9Z77YJoz323LNNGho7TNaZyOvLK54lz3nOc7r111+/Ef3+MxOIH/nIR+Zc2R9fi5k98S6Q0bxJNtxww7akwG+Tl5YyIGPPfe5zuyc+8YndC1/4wubCPW4CaWY5zi4UomXyiuWRHOkTL+X+wz/8w/ZtUp4F/X5OX+E9s+222zYL+Fe+8pVVns+uFDMLLX8nDxyf7OHFNGqt+cxSW5qhQryWZruvs1pXp51tAcQrUkXpoOz53/3hUWGFcZYloh9uVLx6LnzFrTymCl/xprtKo5/2uHKZbbObI/eBcl0SdyanGXfuCpdeeulI5Xe6Mub59AhoB4qumcYtt9iifbKgT+IRr9133725llJkEIxRJ0XHwCm94dFv6+Ez/3s+U+I1Kv1RaVa6swkvjr5yyCGHdL/2a7/WPeEJT2jKjAmSqkPlhXiZ0EC8WHv7JKbC9K/D+P1no37PNnylMVU8/Z/LMoWM9dtkR//Qh7UjwuWdGNee/Tgz+V1lch0e7inX1772te4le72kO+GEd6wVwjcsx3z/H04hXqNbCTbeVdYVpMNkoP+d3ue+vDLJiWyZXEDU+s/8rsnBUTnJx/lwHpXmbNIVFoHhbbL55pu35QdVD/0WySKzeDA8/elP7178ohc1YqF/jzuqHOOeD+9X+FHllo9yIFbDCWWukNaRayuWr4pf6Rl7TACZbO6PQ8P81+T/ymMY1314+pQP0sd1k0zKMTMEQrxmhlNCBYG1ggCBZuDj8mgLfAKVYjuTQ1wbPXDBpAhONWjMJL2EGY0AnLXL8lNOaZatm266aZVBp4gXV0OD5nSH9ByuBi/tjZRQDAyk7lWYSsv/UxEvzylRlKJKx/vg/jCtyntc+Mpz3FV5WfYoLHbSfNazntVdccUVq7jFiNu3eI0iXlU25VRv5e6T03Hldl8cYeGmPIVZpVlx6/8+zuKMwrnS9UH29dZbr9WJgjZM2/+wG96vPMfhVmUZhvO/OoyqT6UljD4OR7POrOTyz7ESARiFeK3Eo//L+042scwjVSb4Rr0/9Z6xbG211VbdVVddNVZ+SF/4OvVJfV7/6sueet4vT/2uZ66jDvf7fV36/X43Ko574hXxYiU2Tvbr67k+h7wsX76i22ab57SlAfr18BBPWPVy9vv+MKx0q8yFBez7eFT5Kly/Pu4hxVwjTW4hwf3nFVd67vefiTvV4Xn/rLTck16VlxyqdCs9Ychnbu4mpT796SsbcaznuU6NQIjX1PjkaRBY6wgQataO+DYZC8Eo4T+qUISjOHzUxZFOjocfAbgaAG1swQ3H7z7WfeLlO3PTHdrN4GY2E4n7sz/7s2bxPOuss5rLCxJuNtRgWIf8hsTLPae0zECy0HADYjk9//zzu+uuu67N6vZJhrwNsMr5mc98pq2B8NFx8awXKALfr1+Voa6UEMTLzOell13WPWPzzbtDDz20uer248mnXA2HxEs45ZKfDXSUV/29zzaQUJ9SACpfZYeLNClSNpPxSQf4URBtPOPUH2yCIrzZZL/lYXa7LMs2z7HpTVmYhaWoWdtpzShrngkNhFKaPh+BhGkTytpnP/vZhq06slj7fMW37/x2U076GCi7/4VjSZN+pSMt+SvHJz/5ycmy2byHW8+990x8p7DSEE85Ntl0k9Z28BvmVVgtxSssQrxWb3m4eHfIh+2337719b5s6ccQVp/kGj0d8eIex+0N5sYv668//OEPt35pYkDfI+PIIc+H45q83P/rv/7rJo/0d/ccrvo6qxQ5JV1yylVf01f74ft1qPhFvDYfQbwqjHyuuurq5vJ3xBFHNIJVaSmvZQg20bG5DblKfnD5NTmj3/frJC1lIlvJDDJVmck2/RbxRdyE03d5q9g8y33toY1Yte1gygWRFwVZcPVVVzd5YxMU8YTjfWHc8RtO/ldO69pGHfIkU+UnndIXkClLLK655uruT/7kT5oMdlXeyk9cBxmpPbloWuNuMjLHzBAI8ZoZTgkVBNYqAoQa5YwALkE3XQGEI8gpwn7PNN506eb5qgjAlQvhM7faqinlBtw+1n3iNROLl8HZrKZdM60v2HTTTbtNN31St8EGG7T1CAZchMygWPm4Il679tZ4uWcgRixs6sGlT1pPe9rTuo022qgNkGauLaKvgdb7YufO17zmNc0Fx+zlk570pOYyaEDlv3/fffetolCsisaEqyHitcMOO3TfuOWWtkhcXGufvIveZWXzPt/54BqvPvHyTLhmRVy+vC3Y3mjDDVs5YKD8rL8IVpGLqiuSYrMOYZ7ylKe00xoO9VUX93baaafu8ssub/lTZOD8vOc9r9tk441bHhtuuEHDet99920Ki3LKh0Jn85JNNtmk+6Vf+qXWFtbtcVWyqJzSIRxl0+YaNtehfHo3lMdul9+/+/uTbVa4wZ4Sw33IxiyUSfWnNCGJ2lsbqIP2476pDoiid6DwJBuQfuVDOCm2cMkxgQAsQrxWfxvgQiE//fTTu9123a0p396pUYewiJdPk0xFvLyLZJgNK84444ymtJuI0X9Zwm1aQe5ccMEFbR2onXy9y/1DGiwoT37ykxupQXLk77z//v/XdjNm9dEH9XHvvT5OzpFTyll9o5+u39JYSbw2X83iVeGFu+666xshXbbs4MmxVJ81wYIE2cRCf3duuskmrY9aa4tY6f/q4XBFYsgBZdx4402aXNC3n/3sZ7e1weSAMuv7JltYr5E5Mui73/1uk8vweOQjH9ms7ps9abPuGU9/RvMqsFuzeMLZ+ARRJPvVc9myZU2OGDcKw34d1cdmHnvssUcjusYB4xDZJR0yjvxRVm3IzdTEU38tl3S1KS+Hg5YdNPbbo5VvrisRCPFaiUV+BYF5hQDBNttjKGRnGz/hp0eAkkxxsNjc7KsZxv4xJF7VJsOrOO6Z6bSTpgGdzzxLkwGbRcRCa64xPkVAseinMcriRYk/6qi3dk976tPaLKSB1GDJYoJ02QmvZjgpBiyqBt8tt9yqO/5tx3cWZ1Pmr7v22qZEUZo+9OGpP0sADwrRdttt133jlm+0ndFe+tKXNnKC1NVMdCNegzVeVR8khiJgsLdr2jXXXNMwuPnmbzRsttlmm2ZdpDCKQ3Ew6Nv0goJHsVP3H/7gB935F5zfZoiRLp+NUHfYsSYhmDvt9KKGjTZEjNX55JNOasqcdRTwgc2//uhH3Y033dQWvf/qr/5q203UzLX2EVe7I15mu1nEzEZThBBIitAOO+7Q3fD5GybbrN4RSg6LHJKtPeAnP1Y7u5ptvfXWTfnyHpmVNqPucxWUMvnKs94dFgLuYjYJgAdsckwgAIsQr9XfBrh4R20HzoXNOzbuvXFf35nO4uX99ZkXkwZ77bVXt9lmm7XdEvUVkyNknIkBuwsjLO6PIl7e78c+9rGtP9eElrRZjZCJpzz1Ke3TLCw13/3Od5pVzX3ExmZFJWuGtVaPSeK1+erEy3MnEoRA6YMnnPD2yQkq/cx9RM8kCEs83JAeFiF9k+xCzISVln5Opm29zdbdUUcf1UgNWUze2CwDYRFf/UxusbqbsGJhJ9/gRbaw5NvcxCTNxZdc3CyGrIbqQ3aQ4WSaySnjRpFqkz92O5aW8tThf+2x2267d/vu+5stjnTIapNBJnuMR0gb3Fnl7WwJk3efdtokuZWmNkLIdtttt2Zh6+dT+eW6OgIhXqtjkjtBIAgEgbEIIBAUZwqC7ZcNWv2DwmwG1MlFg0LSPw1wFH7xDFQGWMoJZcKASKE3OFIiDO6U88c97nGNiNUgKt4o4iVvpMfJEqOsv/jFxI6YCIX0Ju5NfHtr+YoVzaKCuBi0KQvyQCCUhxK19957T6mcqQfixR1Gngb+s88+pykLx//+8U0RodCMI17u++6etWGUKIQTSZLuf//3hBukRfGIlDJR2ORh63r3zHZTQigwyk6p5G746Mc8uikxCAmy4hn3G7Pq7klHHq7IJishEkP5g69nyoEQ2bHRt/UoVdpHHPkpO0UKMUO8tKU4FB6z2ja6Ea4UkmpvW3gjqlwU5QN7ljvEy8w3BU37K7dZdASfwuddkHelZxZePC6vZrvrfv99XKq/YRHitXrrw6UmLY477tg20TDuvXF/psSLLGT1Rk7IpjvvuqvJkep73udzzj2nTXBcd/11q01Y6SdcgB/zmMe0rcr1tZIby5cvb6SEHDBJ838fnPTQ30wuUfytqfVbPx8e6lHEa4stVhIv953i6Gdc9PRLkzmf/ew1kzLl+s99rt1/7vOe29yNlU2/dSIfZAS3TfUno6SnbAjThCy+uckKddR/9W/jAFmijogXi7bwPAWEc5LH5BW5ZNt78rvkjzzE5QlgYgaRRpTEQdhMmpHLJRthoq5ku/Ky+h937HEtPXGQQeQKkSKP5KN+yqttyUf5GLvIPWmxSp57zrlt0tCklPLkmB6BEK/pMUqIIBAEgkBDwGBjQKIcP/7xj28K+3CwQX4MlGZ2KQQvf/nLVzlf+cpXthnkUqClKQ2n3/W/wY2CRKH/5V/+5UmXkAozinghLWZG99rrJd2XvvTlNvhX+Eq3/mcJoihwp6O0G2TrmbIgMGZfufRQSCgCow7x+sRLuSkAtpg3801xoIS4P9zVUD4//vE9DQ8zxlztKAZ9LMRDYJ/6tKe1Be+UHsqEj5JzidEWlBBld/gtf/iznlHUql6u/bTVSfp2E0OSkEcWpgrvGYUC8bK+Sz0qH1fPh8SLgongSctMMRyrfLBCgJ/znOc2RQnuFNO/vPLKFt7W1vJQriqD8lJ+tTfLn/Tcc1AW3Ue+KGVVtvZwif+BRYjX6i8BXPQfFleEBgkY9964792bbnMN72sRLwq/dakl36oE+gpLETfBmRIv/cVklEmZ39rvt5r8GPYNfcE3pXgMmBCTz/CoOnNxNlljYkQZnfoquWPt1V4v2au5VCJ46i1t8p5b5kYbb9y+nwm7Pl5+w9BH1LnlSZsM049NpPAoKBnYL3ul4TokXtW/Xa2PM4mHWA3XE4s7JF7ygL18d9xxp2bxJ38cwiNLLJjkk3V+8PreP/xD8x4wbt12+23tnryFdyXTbHdvMunTn/l0m1zyjPy55OKLG+kkN6vcQ/zz/6oIhHitikf+CwJBIAiMRcBgY5C0qBtRKKW+H6GI11ZbbtnIARcYg3KdPoLNPaWvmEjX4GgQNNAb0HyvjiXI+opf+ZVfaTOirCnCOkcRr3/+5//THXnkW1vZuJ6YQaYEGDhL+a/4FI1nPeuZ7fsw5QpEWajTTK6NLR75qEc20kcJGnWMIl7qIW9rBLj3UQ6UYRTxsjYEQUUqKDCVf/9KcTHb6mPFiAvlh/JghtbsbSkWykfxoKAgZbbKNntbSkThrCxwZjGiMLJmIY/Ss16qMFKPIfHqY+D5kHjJS9rcuMycw8GMsjS1BWXHu3PmB85s7wDideKJJ3Yv2Hbbts11v971G9k0I43I9q2l3kVK4iv237/VQx45JhCARYjX6LehyMz73ve+poiPe2/cnw3xQhD0Oe/0ME19ZZJ4XTe1xYsF3juvH3FLNPlzwtvf3spafaJ/td6Jux+Zpm8PD2UhM3y76zd+4zea+7ZJp+223771ef3KRBorkDVWZIY4TpMyLMr6LFmhHsO6kYEme1j73nDIG5qM0ue5AHP5M/nGks5Sr3zCVxqu+vFFPYtXERjX2RIv6Yl34YUXNvljvKn8yEaTPQjU61//uknL1jVXX93u8Tgo0tjH12+ukNa2chet9XfCXn3VVY3EccWUfo7pEQjxmh6jhAgCQSAINAQMapR1s5pIBeJVg2RBhHjtvttuzcXEb4Pq8DSQVTxpIg7WKLHeWGdkIbvZUu5lZqZZvLjWSUd4ZyNeu678gLJ7FJ5/+Zd/bR8FtTZs0002bYrQBRdc2H3nO9+dVBqEpXRtsMETm7LBMsNq0j8tlN9zjz26RzziEe2j3KMUDnUeRbzUjbXu5JNPbi4v1ikgjUPipRyIC4Vngydu0NaV9csw8XtZW+NG+WLBojhQyrjkaANtQUGTltNv6xKsuzLDXTP6nsGZUkWJQLRgXDgjXcia3RQrLXWeMfG6cMLVUFwKCCUQ8fJB2mpvbazdKDB2b1MeeSDJ6meNDOXH2cdBW1j/Icw3b/3mZDt6H7hacrPi5invHBMIwCLEa/TbgHiRD3bZQwbGHTBEvGayxgspMYHivS1Fv5/uz+//+UpXw2mIFwuWPu79ZklhJTMxox/0+0X1FfnaAIIsQHiGh3ogXuSBNUys8TYBcZ555gfaxIvJHWHIqSKO4pE3B7zqgCbHPO9P8lQ+5B0cYWq3W5MjZIBJIpZ5ZUPK9t13n7YO7PbbJlwipe9Uz76rYY0NrmtCvKR5x+23tzGIFQtBkpYrt+X1139ck0/kEnnJNdu6YOWfkD3kz0oZ5B5ia40dzLSN9MT/m2v/psk5E1YhXvVGTH0N8ZoanzwNAkEgCEwiYEAzMNudi1uJQbkGyQrUiNfuuzdl2AA81SE9g6GFzBQKg9vBBy9rpAgJs4gaSbCGaCTx6u1qKB/pURqQCx/R5iIkTWsHWGBsNqH8lAcDKEXeBhXWHLGc9E9Kihlbu3Kp0yiFQ56jiJdyUICsY0CqihhYTI7cSNtz2FkT8fxtt227lcmvX4b6TXlRF5ZGs63ispRJm9LFMkiZRGwQGvlRdihTlY9y2qmQEmG2G/GiqMHp2muvbQv6ESL3lN+5psRLXBbL/fbbr9t1192aogI/uypaC1LrMSoP6ze4aLEOVp37V3hRfs3Yq6e0xKWwwYxiKD/3ckwgAIsQr9FvAzKFyHAfq00sRoWE4eyI1+6TxGuY3poQL5Z/Mou1iRzz/vf7Rf0mG2xMxGVQPx8e6lHESz+TJpddBII8IRNZosijfh/ym/WcFe/Zz966hR9FLoRT1uc/f9tGdsrtV1lMznFTVvbaDGifl+7TNuuQv/TmgniZIJQn18qbbrqxkSTy0a6u2p6rufIhXtzZN998i+6FL3jhSHzhXBiToQiXOsPNR7VNDhoTR2EzbIv833UhXnkLgkAQCAKzQICLoIHUhhc1s9mP3ide3E+mOgxerEAG9mc981lNEUJODIYGRSTK+irWm/POP78N0OI4h66GlU89RxooF4jN7x9/fLOi8eu3Y6CBk9vPFptv3lwgKagsQ6NOrjbIi3RHHco5XOMlnPDKjywhSD7UyuXQDmSIBBwpOmbKWfZ22XWXpuTIb1Q5KClIqvzEgxHFkSuP9CkGFASbgVggX7PmVQ64siixHJmdRU6lh8QoyycvvbSV4wNnrSHxenBzjcKfQnfKKad0tsb/6le/0v30pz9pM+sbbrhR252MYiSsdkJ8kT5uiKPqXvcoycpbCiJlj4UUkVM/6eWYQAAWIV6rvw1wQUJ23GHHZpFmmR733rg/G+K1+27jiRdZwE2N9cqaTf23f1DaV26uMeFqqH9ydzZBZIdXFqTqC8Or/kau6RvDo+pMPpj44Z48KtyoeCY69C/WdRNt5M/w0CfJWi6LJlvIfXnWqY8rnzW43IqtWbNN/KevvLLJoIebeCmfMrFkseiTQ+QqTwBr4awlLW8N7WA8U6bDDz+ieSr0sVWv+l8dhNdW6kaG/enH/rS5gZv8mgmmQ+yW4v8hXkux1VPnIBAE1hgBgyjy8uhHP7rtHkWh6B8zJV4GLoOjtJA4bnkUohqsXQ3yrDaNeI1wNdx1l13b81IGxCmlvNLxP+KEaLECHfLGQ9osN0uPmU8zoJSvYbyKX9d+Hfu/5T2KeAkjzR/cfXe37KBlzaLDbY/CUcTLAI4w2C5/sydvNvlNq8pz3BVusDKDjEwhXbZnZjE68cST2m6BpRxIA0Exq6v+cNZm/frCxzov68jOepiIl/y59fjukPVZ3/rW3z245uPpjfRV+ZQFSUQefZS17o+ru/t1cG+yWYvdDketN6xwS/EKpxCv0S1PCffJA9bsqd4bGCJeM/mO16Sr4bIJV8NhzuSE7dZZrz71qU81a0mFkY/nLFbr9XY11C+/+rWvdps+adP2fSkTD/1+K97wrDT7V2HIizUhXsgGazMPB+Ura0+lL20TNzbpsE5MX5SXcg7LKo74JljIfJZuFjXE66I/vWhyV0PxHK5cDW2ANNPNNfrl4nHA+m/DJRN8H/3IR5sFjKwjE6Wv7J///A1tQkpY92cig9QbNlyzuTP+zbXXtrao/HMdj0CI13hs8iQIBIEgsBoCBivb9Zq5NYCZle0ffeI1lauhgYuyQQl51KMe1Xz8KdLu18mVA1l5xCP+V/PJN0DXs77Fi/LuPlJYroQVzhVRsYPX9ttt3wZis5gIj62OfaDX4F4KRT+eujrdG3dMRbzEUyY4bb31Ns2y94QnPH7S1dBz+SIeFBvroSiF/TLU7yqH/ykHZnO5DSErrGHq5IShWdmK5+re2R88uy0gZ4EbKhbKcO455zTy03c1VDfunj5girjJV3oOV3Ubbq7Rf07ZsQ0zYqm8FKg3v/l3W3kqnLb5+te+3qxtrHFm1aXref/s11/+/ocVN1LrvGBQaY5rq6V0HxYhXqu3OFwQGBZo5ItyPu69cX/WxOvBNV7DnL2v3KdZr6zP1FelXydr1vJTTmmTTO85Y2KNl36qb+o3NoTw+QX9peLUVdrVP4b5+l+4NSVeZKu+bwKlyE/lVfnrs6xIxgQu4QijMGTxsC8rv3FBXyd/vaPkyqjNNaTPSuazHiaVhlZtz4e7Glb9PdPONipRrquvurq1OcsWsk22CQNj8tE6X9Yx49FMxgJxyZxjjj2mlc8nUdzLMT0CIV7TY5QQQSAIBIFJBAwuFGp+7e9asWKSKFSAmRIv4Q3ClAnk581HHNEGUUTOgM0VzgYNcG7AaQAAEFJJREFUL95555Gbaxx55JFNWbfrl/UJFATWMffNqN599/cbKTSjScmxWxcl3VoIA63B3m5gFpub6bQVM5cS4eXPxcY6AOn7f9ygOhXxUkfxpCVfM8JITK3x8szAzx3SrCllhDsSRcbg71R2s+mlEFBolJ0ypOxIB4UECSmXGAoBNxi4wBhh/cSDbjfwoeRJWxiKjzy5YSJyfeKlbAirhfFvfOMbW7vDwkwvvKcjXhQfM8KUHbPO1pYNt6VXH+Hgww3TjPmtt/5du4dAKjs8tAMlqxRP+VvntuFGGzUstNu4Nqp3cyldYRHitXqLw8V7753X58gf7+CoQ9jZEq9lUxAvkxis7AgH2aIfKQvyZ2t7mzust956jSzURIL33Toi7sM77rRTcz1koS85qc+TH6xRCM+oPuDeJPHaYosZuxrCRFzfB0NMrJd617ve1eQNOaAMSJQJI32XmyFZpS8iTHZh5YJH3ujL7isvS7iJJpY0dZmweK38jle1h7y9w/ImO9QRXsKrK2zGES9lJ/9suuPTGoghl27yj+zr50HOmRhidUdy4Q0v4dRRGbkpDomvMPvuu2/zmiCjRmE/6r1a6vdCvJb6G5D6B4EgMCsEDC4GUrOf3LxqIXUl4mPJ1hnZzAJ5muqQlk0RzGiabbRRgoEaSTjiiCOa65vNI3ys+cKPXThJgMSzVgCRsk09YmNgtzOWdGzg4DmyglCZYTZwv/jFO7d1FGURMqByv6HwGJTNjlpT8fGLLupOfMc7Glmw/sgAO25QRbwM6tz0zHoiI8PDwvo7vn1HIyDqomylJEkXEaSMKIc6HXXUhMKCGCrTb/3mb7Zv2RjcH3hgwnWSgkMRovDYMMMaEC591jPYwp8ljKJgQfl99/172yBk5112boqfcLBB3g499NCmcFj7YFa9tpNXB8qJNmSxsuuhxeqXXX5ZZx0YhVQdbJjho682QSlcq/4UH++DdWjqTeFUB5jVof5Oyqdtp60l8T7YCRImZtC5g4prQxSES7mQT5ZEaVNoKWE5ViIA0xCvlXjUL7h4T2+44YYmE1ibvVPuDw/39H3vPcKkP40KR3Enx0wu2DGw/35XmuJ59+3gyd0YmUD+bEPOmkN+HHrYYU1+cfc1GSGOdx0JO/XU05p8sBbSN/dMYHziE59ohA2B5AEgXBGKytdVOmQduaOP61ejwvXj1G9xERBECjERXx3ttqj/mZBxz2mNGkImvPIpqwk6MpZch5/dZNXVJA8yoy3EQXxM/pioqbLJ28QTGU/Wwc7GIDCzIZB8jD/IEndvbov9QzompLhhc/E0sWV9Hbkk7Tr8Fs4ul+SJsWLFihWNoMIY2eTWLR1ETLrkjQmv2gmWDM8xMwRCvGaGU0IFgSAQBBoCBilKgTVTtgsfLtSm7Fk7ccwxxzSCNh1sBt6bbryxKd1PfvJTuvXXX7/bdJNN2uypwdjaoD322L25HJZib+Az8FI4KDEG9ZqBZRmRPwLDUmMtgcHUOitui+Kqg9Nvs7C++WKDD+40CIJv3SAa0mFFk++4wwCM7CCiLDCUuOEhLzO1SATljHLRJ2ieUwbMXPtmDgsR65jZb1sYI7gXX3xxG/SFlSdFCiFCvCgsFB/xEE/1FdeHj21BT0GgDJrJVU+WsvUeu96kAkiZoTSpL2VKHg5XdfcNHooH5UX7bL7FFs0CRQmhcFKkENah1Ul8s9OUQh80NTP+wAiCJJy2oOT6WCsSrIzagjXUbP+K5cvb7DYlV3gL+Cl96mNG3r0cKxGAR4jXSjz6v7xDFGWTOhR2v71/wwOGFH9kAVGy++qo90xcWB9x+OHdSSeeOHYSgGzgLYBAmGQhm7geshTpP8iNdU/kHnkhrzr9T84JS9kno8T32wYzdjMtt75R9UDKyB2yBOkcVd9hvPpfGZTdJAorFdmqX5IFPv1hYoRlvAis8GQUeWb9KcImfMliEyxIGOIkrOtVV32me+1rD+wu+vjHJ8vmGbmFUOnrZJ00yOmTTjq5yUATQ55Zu2pCsH+Ib1wg00zcKLsJI2XrH8I5YYwwkilwlZc6aiuW+PoEBuyUmWfFeus9ttVzlNzv55HfKxEI8VqJRX4FgSAQBKZFwABlgDfgUfIp00WIREYguNAY6GcyGBkExad0m73kqnjXnXe2AZLS7hmLloGulO4aUM0gUwZYP6TjFI47i2esKNKjpJvRNAiLW4ffBlEDrvyFY7WSpvpJR/7yHXdIQ30paHAZpdAIo2zqIx/5DcPJQ17ypGggNMrClUec+/79vsn6I122mEd4zDxbs6C+dSo7F5uX7r335EeRtUXlD2dpUxarPEiUegjTx0i5ESoKC2JZeMLZM1YvCo/4o3ASBjbiU3D7afcxdV8ZlUF6ykgR1Yasdsh+zVTDDlE0M82a6V0bl24/j6X0Gx4hXqNb3PvjXTVhst/L9uu+fvPXm4I/6h3yTpIv5If+OeoQTx/xjpalalQ4+XqHpaVfs1pzldM39B/pe6ZvIRxVHlf/65vC6t9klPhkFpkhvvQrTj//fvxKv/98ut/iS1tf15fJmb+/7bZV8ld/YerwW32EJ5/0YzLHJBCZo7xkg7S1hf+FHcofz8lV5RZXnV3JEvfhqf5kqv+HhzzIfXlqG+3ZL2eFl08/bLUPeUceF8bCOd07+OCDm2eH36PSrLRzXRWBEK9V8ch/QSAIBIFpETDIGIS52Pn+FiW5P/DU4DRtQg8GqPDSMAi71j1B+r8rTfcqvN91VNjh87pf4frXeuY6zN+96Y6KP1W4SmeqsPXMterWx6KeUwa48dgggBJU9+sqDkXNDDkXqRNOOKEpJf3nw3oqu+fjDs+qTJVOxen/Pyr+dM/7cSps5TWq/hRha/bU7ZZbvtnexX4a+T3RliFe498E75WNYazvPPW0UxtJcG941PvoOt1RYWcSTl519tPu/x6mU+m7iqsP171h2HH/T5X+uDh1v/Ialf+odEeFV+6630/X71Fp9MMUXpVG/9m4uJVXXSvOuGuFq7z6GNczBI2Fkks7l+ipJpTG5bOU74d4LeXWT92DQBBYYwQMPl/80hfbei6+8WYSDUw55hYBGFuYz8XSWi3WQEpCHZ5rGzPHZ7znjOYOat2W9lkMh7pyLXzZfvt1xxx77GpWzMVQx4ejDt6DEK/xSMKHBeTUU09tVmFWpFEWk/Ep5MlSRID8QbRsBsTVnrVrscjWtdWeIV5rC+nkEwSCwKJCgOLCPcSCbYuWuYKwsuSYWwTgzs1o2xe8oA38Zl7LBc8zigGFsraAfuk++0zuBji3JVs7qasfFzGWCutKoiyPxt27EOI1Ght3q69wWbVW1DouLqs5gsBUCLCAWfdrN8MP/vEfr+ISOlW8PFuJQIjXSizyKwgEgSAwYwQoLgahO799Z3O7oABTinPMPQJc7S67/PK2aN1Cd7ui2Vbe7l/HHHNsW0iODFskbkOA4aYXc1/CucvBe4d4Upithck7NxrrEK/RuPTvwoj1wkY9Nr0wgZEjCEyFgHfGWjTyZ+htMFW8PFuJQIjXSizyKwgEgSAwKwQMQqxcSJffOeYeAThzJWRttEujra6ts7Mb2oEHHthOa+9sJ8/iIdxiaht18b6Va+tiqtvD+fbAJRav6RE1eeRd0qfyLk2PV0JMfH/SO2Psyzsz+zcixGv2mCVGEAgCQSAIrEMEDPZO1h5WHzudUbLN2lurwtXQswq3DouarNcRAto+xGsdgZ9sFz0C+leONUMgxGvNcEusIBAEgkAQWMcIFPkya2/G3ul3ka51XLxkvw4RCPFah+An6yAQBMYiEOI1Fpo8CAJBIAgEgSAQBBYiAiFeC7HVUuYgsPgRCPFa/G2cGgaBIBAEgkAQWFIIhHgtqeZOZYPAgkEgxGvBNFUKGgSCQBAIAkEgCMwEgRCvmaCUMEEgCKxtBEK81jbiyS8IBIEgEASCQBCYUwRCvOYU3iQeBILAGiIQ4rWGwCVaEAgCQSAIBIEgMD8RCPGan+2SUgWBpY5AiNdSfwNS/yAQBIJAEAgCiwyBEK9F1qCpThBYJAiEeC2Shkw1gkAQCAJBIAgEgQkEQrzyJgSBIDAfEQjxmo+tkjIFgSAQBIJAEAgCa4xAiNcaQ5eIQSAIzCECIV5zCG6SDgJBIAgEgSAQBNY+AiFeax/z5BgEgsD0CIR4TY9RQgSBIBAEgkAQCAILCIEQrwXUWClqEFhCCIR4LaHGTlWDQBAIAkEgCCwFBEK8lkIrp45BYOEhEOK18NosJQ4CQSAIBIEgEASmQCDEawpw8igIBIF1hkCI1zqDPhkHgSAQBIJAEAgCc4FAiNdcoJo0g0AQeKgIhHg9VAQTPwgEgSAQBIJAEJhXCIR4zavmSGGCQBB4EIEQr7wKQSAIBIEgEASCwKJCIMRrUTVnKhMEFg0CIV6LpilTkSAQBIJAEAgCQQACIV55D4JAEJiPCIR4zcdWSZmCQBAIAkEgCASBNUYgxGuNoUvEIBAE5hCBEK85BDdJB4EgEASCQBAIAmsfgRCvtY95cgwCQWB6BEK8pscoIYJAEAgCQSAIBIEFhECI1wJqrBQ1CCwhBEK8llBjp6pBIAgEgSAQBJYCAiFeS6GVU8cgsPAQCPFaeG2WEgeBIBAEgkAQCAJTIBDiNQU4eRQEgsA6QyDEa51Bn4yDQBAIAkEgCASBuUAgxGsuUE2aQSAIPFQEQrweKoKJHwSCQBAIAkEgCMwrBEK85lVzpDBBIAg8iECIV16FIBAEgkAQCAJBYFEhEOK1qJozlQkCiwaBEK9F05SpSBAIAkEgCASBIACBEK+8B0EgCMxHBEK85mOrpExBIAgEgSAQBILAGiMQ4rXG0CViEAgCc4hAiNccgpukg0AQCAJBIAgEgbWPQIjX2sc8OQaBIDA9AiFe02OUEEEgCASBIBAEgsACQiDEawE1VooaBJYQAiFeS6ixU9UgEASCQBAIAksBgRCvpdDKqWMQWHgIhHgtvDZLiYNAEAgCQSAIBIEpEEC8vve973VvfvObu3vuuad74IEHpgidR0EgCASBtYNAiNfawTm5BIEgEASCQBAIAmsRgf/4j//obr755u7nP/952+VwLWadrIJAEAgCIxEI8RoJS24GgSAQBIJAEAgCCxkBVq77778/pGshN2LKHgQWGQIhXousQVOdIBAEgkAQCAJBIAgEgSAQBOYfAiFe869NUqIgEASCQBAIAkEgCASBIBAEFhkCIV6LrEFTnSAQBIJAEAgCQSAIBIEgEATmHwIhXvOvTVKiIBAEgkAQCAJBIAgEgSAQBBYZAiFei6xBU50gEASCQBAIAkEgCASBIBAE5h8CIV7zr01SoiAQBIJAEAgCQSAIBIEgEAQWGQIhXousQVOdIBAEgkAQCAJBIAgEgSAQBOYfAiFe869NUqIgEASCQBAIAkEgCASBIBAEFhkCIV6LrEFTnSAQBIJAEAgCQSAIBIEgEATmHwIhXvOvTVKiIBAEgkAQCAJBIAgEgSAQBBYZAiFei6xBU50gEASCQBAIAkEgCASBIBAE5h8CIV7zr01SoiAQBIJAEAgCQSAIBIEgEAQWGQL/HzvD9/0tHJgMAAAAAElFTkSuQmCC)"
      ]
    },
    {
      "cell_type": "markdown",
      "metadata": {
        "id": "TAYxBgngKtCF"
      },
      "source": [
        "정확도 : (TN + TP) / (TN + FP + FN + TP)     \r\n",
        "정밀도(Precision) : TP / (TP + FP) 정답이라고 예측한 값중 정답비율     \r\n",
        "재현율(Recall_score) : TP / (TP + FN) 실제양성값중 모델이 맞춘 정답비율"
      ]
    },
    {
      "cell_type": "code",
      "metadata": {
        "colab": {
          "base_uri": "https://localhost:8080/",
          "height": 605
        },
        "id": "azFppiFGKs7n",
        "outputId": "dbb36bd4-faaf-4edb-db0b-61726f89ad86"
      },
      "source": [
        "f,ax=plt.subplots(3,3,figsize=(12,10))\r\n",
        "y_pred = cross_val_predict(svm.SVC(kernel='rbf'),X,Y,cv=10)\r\n",
        "sns.heatmap(confusion_matrix(Y,y_pred),ax=ax[0,0],annot=True,fmt='2.0f')\r\n",
        "ax[0,0].set_title('Matrix for rbf-SVM')\r\n",
        "y_pred = cross_val_predict(svm.SVC(kernel='linear'),X,Y,cv=10)\r\n",
        "sns.heatmap(confusion_matrix(Y,y_pred),ax=ax[0,1],annot=True,fmt='2.0f')\r\n",
        "ax[0,1].set_title('Matrix for Linear-SVM')\r\n",
        "y_pred = cross_val_predict(KNeighborsClassifier(n_neighbors=9),X,Y,cv=10)\r\n",
        "sns.heatmap(confusion_matrix(Y,y_pred),ax=ax[0,2],annot=True,fmt='2.0f')\r\n",
        "ax[0,2].set_title('Matrix for KNN')\r\n",
        "y_pred = cross_val_predict(RandomForestClassifier(n_estimators=100),X,Y,cv=10)\r\n",
        "sns.heatmap(confusion_matrix(Y,y_pred),ax=ax[1,0],annot=True,fmt='2.0f')\r\n",
        "ax[1,0].set_title('Matrix for Random-Forests')\r\n",
        "y_pred = cross_val_predict(LogisticRegression(),X,Y,cv=10)\r\n",
        "sns.heatmap(confusion_matrix(Y,y_pred),ax=ax[1,1],annot=True,fmt='2.0f')\r\n",
        "ax[1,1].set_title('Matrix for Logistic Regression')\r\n",
        "y_pred = cross_val_predict(DecisionTreeClassifier(),X,Y,cv=10)\r\n",
        "sns.heatmap(confusion_matrix(Y,y_pred),ax=ax[1,2],annot=True,fmt='2.0f')\r\n",
        "ax[1,2].set_title('Matrix for Decision Tree')\r\n",
        "y_pred = cross_val_predict(GaussianNB(),X,Y,cv=10)\r\n",
        "sns.heatmap(confusion_matrix(Y,y_pred),ax=ax[2,0],annot=True,fmt='2.0f')\r\n",
        "ax[2,0].set_title('Matrix for Naive Bayes')\r\n",
        "plt.subplots_adjust(hspace=0.2,wspace=0.2)\r\n",
        "plt.show()"
      ],
      "execution_count": null,
      "outputs": [
        {
          "output_type": "display_data",
          "data": {
            "image/png": "[encoded data removed]",
            "text/plain": [
              "<Figure size 864x720 with 16 Axes>"
            ]
          },
          "metadata": {
            "tags": [],
            "needs_background": "light"
          }
        }
      ]
    },
    {
      "cell_type": "markdown",
      "metadata": {
        "id": "E0SbZCnfKtJj"
      },
      "source": [
        "heatmap을 보면 Naive Bayes가 성능이 좋아보인다."
      ]
    },
    {
      "cell_type": "markdown",
      "metadata": {
        "id": "MIJY63biKtRo"
      },
      "source": [
        "## 하이퍼파라미터 튜닝"
      ]
    },
    {
      "cell_type": "markdown",
      "metadata": {
        "id": "NlVfFLsdKtZm"
      },
      "source": [
        "방법      \r\n",
        "  1. Manual tuning - 하나하나 손으로 해보는 것이다     \r\n",
        "  2. GridSearch - 파라미터를 지정한 값들로 변경하면서 가장좋은 파라미터 찾는다    \r\n",
        "  3. Randomized Search - 파라미터를 랜덤하게(범위를 지정해줌) 주어서 가장좋은 파라미터를 찾는다       \r\n",
        "  4. Baysian optimization -       \r\n",
        "\r\n",
        "manual tuning으로 감을 잡는게 좋다지만 보통 Randomized를 많이 쓴다."
      ]
    },
    {
      "cell_type": "markdown",
      "metadata": {
        "id": "Aqq0mr2K5p6l"
      },
      "source": [
        "gridsearch\r\n"
      ]
    },
    {
      "cell_type": "code",
      "metadata": {
        "id": "a5-l4L91Ktg7"
      },
      "source": [
        "# GridSearchCV로 SVC의 파라미터를 조정해보겠다. \r\n",
        "# C(7) * gamma(6) * kernel(2) => 84 를 cv로 5번 함으로 420번의 fit을 한다.\r\n",
        "from sklearn.model_selection import GridSearchCV\r\n",
        "C=[0.05,0.1,0.3,0.5,0.7,0.9,1]\r\n",
        "gamma=[0.1,0.3,0.5,0.7,0.9,1.0]\r\n",
        "kernel=['rbf','linear']\r\n",
        "hyper={'kernel':kernel,'C':C,'gamma':gamma}\r\n",
        "gd=GridSearchCV(estimator=svm.SVC(),param_grid=hyper,verbose=True)\r\n",
        "gd.fit(X,Y)\r\n",
        "# 가장 좋은 점수\r\n",
        "print(gd.best_score_)\r\n",
        "# 가장 좋은 모델 , 변수로 담아서 다시사용도 가능하다.\r\n",
        "print(gd.best_estimator_)"
      ],
      "execution_count": null,
      "outputs": []
    },
    {
      "cell_type": "markdown",
      "metadata": {
        "id": "UOhxczL6FJBs"
      },
      "source": [
        "SVC는 C = 0.3,  gamma = 0.1,  kernel = 'linear' 일때 가장좋은 모델이된다    \r\n",
        "다른 파라미터에 따라서 달라질 수도 있다."
      ]
    },
    {
      "cell_type": "code",
      "metadata": {
        "colab": {
          "base_uri": "https://localhost:8080/"
        },
        "id": "ScV4fEJ1Ei99",
        "outputId": "3ca9949c-3c34-400d-b10f-f3be02e961b5"
      },
      "source": [
        "# gridsearch로 RandomForest의 파라미터를 조정해보겠다.\r\n",
        "n_estimators=range(100,1000,100)\r\n",
        "hyper={'n_estimators':n_estimators}\r\n",
        "gd=GridSearchCV(estimator=RandomForestClassifier(random_state=0),param_grid=hyper,verbose=True)\r\n",
        "gd.fit(X,Y)\r\n",
        "print(gd.best_score_)\r\n",
        "print(gd.best_estimator_)"
      ],
      "execution_count": null,
      "outputs": [
        {
          "output_type": "stream",
          "text": [
            "Fitting 5 folds for each of 9 candidates, totalling 45 fits\n"
          ],
          "name": "stdout"
        },
        {
          "output_type": "stream",
          "text": [
            "[Parallel(n_jobs=1)]: Using backend SequentialBackend with 1 concurrent workers.\n",
            "[Parallel(n_jobs=1)]: Done  45 out of  45 | elapsed:   38.1s finished\n"
          ],
          "name": "stderr"
        },
        {
          "output_type": "stream",
          "text": [
            "0.8069361621994853\n",
            "RandomForestClassifier(bootstrap=True, ccp_alpha=0.0, class_weight=None,\n",
            "                       criterion='gini', max_depth=None, max_features='auto',\n",
            "                       max_leaf_nodes=None, max_samples=None,\n",
            "                       min_impurity_decrease=0.0, min_impurity_split=None,\n",
            "                       min_samples_leaf=1, min_samples_split=2,\n",
            "                       min_weight_fraction_leaf=0.0, n_estimators=600,\n",
            "                       n_jobs=None, oob_score=False, random_state=0, verbose=0,\n",
            "                       warm_start=False)\n"
          ],
          "name": "stdout"
        }
      ]
    },
    {
      "cell_type": "markdown",
      "metadata": {
        "id": "75_vT_OvEjEd"
      },
      "source": [
        "RandomForest 는 n_estimators가 600일때 가장 좋았다."
      ]
    },
    {
      "cell_type": "markdown",
      "metadata": {
        "id": "nGZmVtHkMYi7"
      },
      "source": [
        "## Ensembling"
      ]
    },
    {
      "cell_type": "markdown",
      "metadata": {
        "id": "E8-XkYHkMgPw"
      },
      "source": [
        "\r\n",
        "Ensembling은 모델의 정확성이나 성능을 높이는 좋은 방법.      \r\n",
        "하나의 강력한 모델을 만들기 위해 다양한 단순 모델의 조합    "
      ]
    },
    {
      "cell_type": "markdown",
      "metadata": {
        "id": "ds92N3WEMca8"
      },
      "source": [
        "1)Voting Classifier\r\n",
        "\r\n",
        "2)Bagging\r\n",
        "\r\n",
        "3)Boosting."
      ]
    },
    {
      "cell_type": "markdown",
      "metadata": {
        "id": "gbxqUrQOMc1K"
      },
      "source": [
        "Voting Classifier\r\n",
        "\r\n",
        "\r\n",
        "> 모든 하위 모델의 예측을 기반으로 평균 예측을 한다      \r\n",
        "서로 다른 알고리즘 model을 조합해서 사용"
      ]
    },
    {
      "cell_type": "code",
      "metadata": {
        "colab": {
          "base_uri": "https://localhost:8080/"
        },
        "id": "vkoasHXqMc9p",
        "outputId": "72b84182-a654-4d89-c2c1-0cb4c8c2cd96"
      },
      "source": [
        "from sklearn.ensemble import VotingClassifier\r\n",
        "ensemble_lin_rbf=VotingClassifier(estimators=[('KNN',KNeighborsClassifier(n_neighbors=10)),\r\n",
        "                                              ('RBF',svm.SVC(probability=True,kernel='rbf',C=0.5,gamma=0.1)),\r\n",
        "                                              ('RFor',RandomForestClassifier(n_estimators=500,random_state=0)),\r\n",
        "                                              ('LR',LogisticRegression(C=0.05)),\r\n",
        "                                              ('DT',DecisionTreeClassifier(random_state=0)),\r\n",
        "                                              ('NB',GaussianNB()),\r\n",
        "                                              ('svm',svm.SVC(kernel='linear',probability=True))\r\n",
        "                                             ], \r\n",
        "                       voting='soft').fit(train_X,train_Y)\r\n",
        "# Hard vote : 결과물에 대한 최종 값을 투표하여 결정\r\n",
        "# Soft vote : 결과물이 나올 확률값을 다 더해서 각각의 확률을 구한 뒤 최종값 도출, 보통 soft가 합리적\r\n",
        "print('The accuracy for ensembled model is:',ensemble_lin_rbf.score(test_X,test_Y))\r\n",
        "cross=cross_val_score(ensemble_lin_rbf,X,Y, cv = 10,scoring = \"accuracy\")\r\n",
        "print('The cross validated score is',cross.mean())"
      ],
      "execution_count": null,
      "outputs": [
        {
          "output_type": "stream",
          "text": [
            "The accuracy for ensembled model is: 0.8208955223880597\n",
            "The cross validated score is 0.8192883895131086\n"
          ],
          "name": "stdout"
        }
      ]
    },
    {
      "cell_type": "markdown",
      "metadata": {
        "id": "ZUeTzuOcN-jS"
      },
      "source": [
        "Bagging\r\n",
        "\r\n",
        "\r\n",
        "> 중첩을 허용한 sampling을 통해 다시 여러개의 세트로 분할하는 방식      \r\n",
        "평균화로 인해 분산이 감소     \r\n",
        "model 학습 오류의 3가지 주요 원인을(분산, 편향, 노이즈) 완화시켜준다      \r\n",
        "같은 알고리즘 내에서 Sample을 조합하여 사용\r\n",
        "\r\n"
      ]
    },
    {
      "cell_type": "code",
      "metadata": {
        "colab": {
          "base_uri": "https://localhost:8080/"
        },
        "id": "eJ_3-mxlN-rh",
        "outputId": "78a498ff-f5f0-49b4-ceb1-e30ea3b1b0df"
      },
      "source": [
        "# bagged KNN\r\n",
        "from sklearn.ensemble import BaggingClassifier\r\n",
        "model=BaggingClassifier(base_estimator=KNeighborsClassifier(n_neighbors=3),random_state=0,n_estimators=700)\r\n",
        "model.fit(train_X,train_Y)\r\n",
        "prediction=model.predict(test_X)\r\n",
        "print('The accuracy for bagged KNN is:',metrics.accuracy_score(prediction,test_Y))\r\n",
        "result=cross_val_score(model,X,Y,cv=10,scoring='accuracy')\r\n",
        "print('The cross validated score for bagged KNN is:',result.mean()) "
      ],
      "execution_count": null,
      "outputs": [
        {
          "output_type": "stream",
          "text": [
            "The accuracy for bagged KNN is: 0.753731343283582\n",
            "The cross validated score for bagged KNN is: 0.7654431960049937\n"
          ],
          "name": "stdout"
        }
      ]
    },
    {
      "cell_type": "code",
      "metadata": {
        "colab": {
          "base_uri": "https://localhost:8080/"
        },
        "id": "g9fgLp9_N-zn",
        "outputId": "3b39b37a-3086-4c65-8d48-089433c177cd"
      },
      "source": [
        "# bagged DecisionTree  => RandomForest\r\n",
        "model=BaggingClassifier(base_estimator=DecisionTreeClassifier(),random_state=0,n_estimators=100)\r\n",
        "model.fit(train_X,train_Y)\r\n",
        "prediction=model.predict(test_X)\r\n",
        "print('The accuracy for bagged Decision Tree is:',metrics.accuracy_score(prediction,test_Y))\r\n",
        "result=cross_val_score(model,X,Y,cv=10,scoring='accuracy')\r\n",
        "print('The cross validated score for bagged Decision Tree is:',result.mean())"
      ],
      "execution_count": null,
      "outputs": [
        {
          "output_type": "stream",
          "text": [
            "The accuracy for bagged Decision Tree is: 0.8134328358208955\n",
            "The cross validated score for bagged Decision Tree is: 0.8069912609238452\n"
          ],
          "name": "stdout"
        }
      ]
    },
    {
      "cell_type": "markdown",
      "metadata": {
        "id": "yzk0nPglN-7_"
      },
      "source": [
        "Boosting\r\n",
        "\r\n",
        "\r\n",
        "> 분류기를 순차적으로 학습시킨다.     \r\n",
        "앞의 분류기가 잘못예측한 인스턴스에 가중치를 부여해서 다음 샘플링에 반영        \r\n",
        "잘못된 인스턴스를 올바르게 예측하려고 시도      \r\n",
        "\r\n"
      ]
    },
    {
      "cell_type": "code",
      "metadata": {
        "colab": {
          "base_uri": "https://localhost:8080/"
        },
        "id": "ilFX3ecjQ81P",
        "outputId": "b5a8d297-0f96-4ceb-fa30-2e0a16f83345"
      },
      "source": [
        "# AdaBoost(Adaptive Boosting)\r\n",
        "from sklearn.ensemble import AdaBoostClassifier\r\n",
        "ada=AdaBoostClassifier(n_estimators=200,random_state=0,learning_rate=0.1)\r\n",
        "result=cross_val_score(ada,X,Y,cv=10,scoring='accuracy')\r\n",
        "print('The cross validated score for AdaBoost is:',result.mean())"
      ],
      "execution_count": null,
      "outputs": [
        {
          "output_type": "stream",
          "text": [
            "The cross validated score for AdaBoost is: 0.8238077403245943\n"
          ],
          "name": "stdout"
        }
      ]
    },
    {
      "cell_type": "code",
      "metadata": {
        "colab": {
          "base_uri": "https://localhost:8080/"
        },
        "id": "6XAr0Hr1Q88A",
        "outputId": "13374ea6-8b78-44aa-d8f6-97cd9ba09aec"
      },
      "source": [
        "# XGBoost\r\n",
        "import xgboost as xg\r\n",
        "xgboost=xg.XGBClassifier(n_estimators=900,learning_rate=0.1)\r\n",
        "result=cross_val_score(xgboost,X,Y,cv=10,scoring='accuracy')\r\n",
        "print('The cross validated score for XGBoost is:',result.mean())"
      ],
      "execution_count": null,
      "outputs": [
        {
          "output_type": "stream",
          "text": [
            "The cross validated score for XGBoost is: 0.8294382022471909\n"
          ],
          "name": "stdout"
        }
      ]
    },
    {
      "cell_type": "markdown",
      "metadata": {
        "id": "Vmd6Z6sXb_BX"
      },
      "source": [
        "XGBoost가 성능이 더 좋으니 최적의 파라미터를 찾도록 GridSearch를 해본다"
      ]
    },
    {
      "cell_type": "code",
      "metadata": {
        "colab": {
          "base_uri": "https://localhost:8080/"
        },
        "id": "sVYF1BuiQ9DS",
        "outputId": "5dd8926d-fe08-4624-d14b-eb82e97dd14b"
      },
      "source": [
        "import xgboost as xg\r\n",
        "n_estimators=list(range(100,1100,100))\r\n",
        "learn_rate=[0.05,0.1,0.2,0.3,0.25,0.4,0.5,0.6,0.7,0.8,0.9,1]\r\n",
        "hyper={'n_estimators':n_estimators,'learning_rate':learn_rate}\r\n",
        "gd=GridSearchCV(estimator=xg.XGBClassifier(),param_grid=hyper,verbose=True)\r\n",
        "gd.fit(X,Y)\r\n",
        "model = gd.best_estimator_\r\n",
        "print(gd.best_score_)\r\n",
        "print(gd.best_estimator_)"
      ],
      "execution_count": null,
      "outputs": [
        {
          "output_type": "stream",
          "text": [
            "Fitting 5 folds for each of 120 candidates, totalling 600 fits\n"
          ],
          "name": "stdout"
        },
        {
          "output_type": "stream",
          "text": [
            "[Parallel(n_jobs=1)]: Using backend SequentialBackend with 1 concurrent workers.\n"
          ],
          "name": "stderr"
        },
        {
          "output_type": "stream",
          "text": [
            "0.8384031134266525\n",
            "XGBClassifier(base_score=0.5, booster='gbtree', colsample_bylevel=1,\n",
            "              colsample_bynode=1, colsample_bytree=1, gamma=0,\n",
            "              learning_rate=0.1, max_delta_step=0, max_depth=3,\n",
            "              min_child_weight=1, missing=None, n_estimators=500, n_jobs=1,\n",
            "              nthread=None, objective='binary:logistic', random_state=0,\n",
            "              reg_alpha=0, reg_lambda=1, scale_pos_weight=1, seed=None,\n",
            "              silent=None, subsample=1, verbosity=1)\n"
          ],
          "name": "stdout"
        },
        {
          "output_type": "stream",
          "text": [
            "[Parallel(n_jobs=1)]: Done 600 out of 600 | elapsed:  1.9min finished\n"
          ],
          "name": "stderr"
        }
      ]
    },
    {
      "cell_type": "markdown",
      "metadata": {
        "id": "zKVyhR_kdmD1"
      },
      "source": [
        "가장좋은 파라미터는 nestimators = 500, learning_rate=0.1일때이다     \r\n",
        "이 파라미터를 갖는 XGBoost를 cross_validation해보겠다"
      ]
    },
    {
      "cell_type": "code",
      "metadata": {
        "colab": {
          "base_uri": "https://localhost:8080/",
          "height": 315
        },
        "id": "vghfQFRVQ9Kk",
        "outputId": "c94a195d-c78c-49cf-e739-1594e437f0dc"
      },
      "source": [
        "import xgboost as xg\r\n",
        "xgb=xg.XGBClassifier(n_estimators=500,random_state=0,learning_rate=0.1)\r\n",
        "result=cross_val_predict(xgb,X,Y,cv=10)\r\n",
        "print(cross_val_score(xgb,X,Y, cv=10))\r\n",
        "print(cross_val_score(xgb,X,Y, cv=10).mean())\r\n",
        "sns.heatmap(confusion_matrix(Y,result),cmap='winter',annot=True,fmt='2.0f')\r\n",
        "plt.show()"
      ],
      "execution_count": null,
      "outputs": [
        {
          "output_type": "stream",
          "text": [
            "[0.81111111 0.82022472 0.74157303 0.85393258 0.8988764  0.84269663\n",
            " 0.84269663 0.78651685 0.86516854 0.84269663]\n",
            "0.8305493133583021\n"
          ],
          "name": "stdout"
        },
        {
          "output_type": "display_data",
          "data": {
            "image/png": "[encoded data removed]",
            "text/plain": [
              "<Figure size 432x288 with 2 Axes>"
            ]
          },
          "metadata": {
            "tags": [],
            "needs_background": "light"
          }
        }
      ]
    },
    {
      "cell_type": "code",
      "metadata": {
        "id": "-5kgdHWTg0Kt"
      },
      "source": [
        "test_y_pred = model.predict(test)"
      ],
      "execution_count": null,
      "outputs": []
    },
    {
      "cell_type": "code",
      "metadata": {
        "colab": {
          "base_uri": "https://localhost:8080/",
          "height": 402
        },
        "id": "e-bW78sPjOA3",
        "outputId": "78c8a688-4a59-4337-a69f-60d7b58d3c79"
      },
      "source": [
        "passengerId = pd.read_csv('/content/test.csv')\r\n",
        "passengerId"
      ],
      "execution_count": null,
      "outputs": [
        {
          "output_type": "execute_result",
          "data": {
            "text/html": [
              "<div>\n",
              "<style scoped>\n",
              "    .dataframe tbody tr th:only-of-type {\n",
              "        vertical-align: middle;\n",
              "    }\n",
              "\n",
              "    .dataframe tbody tr th {\n",
              "        vertical-align: top;\n",
              "    }\n",
              "\n",
              "    .dataframe thead th {\n",
              "        text-align: right;\n",
              "    }\n",
              "</style>\n",
              "<table border=\"1\" class=\"dataframe\">\n",
              "  <thead>\n",
              "    <tr style=\"text-align: right;\">\n",
              "      <th></th>\n",
              "      <th>PassengerId</th>\n",
              "      <th>Pclass</th>\n",
              "      <th>Name</th>\n",
              "      <th>Sex</th>\n",
              "      <th>Age</th>\n",
              "      <th>SibSp</th>\n",
              "      <th>Parch</th>\n",
              "      <th>Ticket</th>\n",
              "      <th>Fare</th>\n",
              "      <th>Cabin</th>\n",
              "      <th>Embarked</th>\n",
              "    </tr>\n",
              "  </thead>\n",
              "  <tbody>\n",
              "    <tr>\n",
              "      <th>0</th>\n",
              "      <td>892</td>\n",
              "      <td>3</td>\n",
              "      <td>Kelly, Mr. James</td>\n",
              "      <td>male</td>\n",
              "      <td>34.5</td>\n",
              "      <td>0</td>\n",
              "      <td>0</td>\n",
              "      <td>330911</td>\n",
              "      <td>7.8292</td>\n",
              "      <td>NaN</td>\n",
              "      <td>Q</td>\n",
              "    </tr>\n",
              "    <tr>\n",
              "      <th>1</th>\n",
              "      <td>893</td>\n",
              "      <td>3</td>\n",
              "      <td>Wilkes, Mrs. James (Ellen Needs)</td>\n",
              "      <td>female</td>\n",
              "      <td>47.0</td>\n",
              "      <td>1</td>\n",
              "      <td>0</td>\n",
              "      <td>363272</td>\n",
              "      <td>7.0000</td>\n",
              "      <td>NaN</td>\n",
              "      <td>S</td>\n",
              "    </tr>\n",
              "    <tr>\n",
              "      <th>2</th>\n",
              "      <td>894</td>\n",
              "      <td>2</td>\n",
              "      <td>Myles, Mr. Thomas Francis</td>\n",
              "      <td>male</td>\n",
              "      <td>62.0</td>\n",
              "      <td>0</td>\n",
              "      <td>0</td>\n",
              "      <td>240276</td>\n",
              "      <td>9.6875</td>\n",
              "      <td>NaN</td>\n",
              "      <td>Q</td>\n",
              "    </tr>\n",
              "    <tr>\n",
              "      <th>3</th>\n",
              "      <td>895</td>\n",
              "      <td>3</td>\n",
              "      <td>Wirz, Mr. Albert</td>\n",
              "      <td>male</td>\n",
              "      <td>27.0</td>\n",
              "      <td>0</td>\n",
              "      <td>0</td>\n",
              "      <td>315154</td>\n",
              "      <td>8.6625</td>\n",
              "      <td>NaN</td>\n",
              "      <td>S</td>\n",
              "    </tr>\n",
              "    <tr>\n",
              "      <th>4</th>\n",
              "      <td>896</td>\n",
              "      <td>3</td>\n",
              "      <td>Hirvonen, Mrs. Alexander (Helga E Lindqvist)</td>\n",
              "      <td>female</td>\n",
              "      <td>22.0</td>\n",
              "      <td>1</td>\n",
              "      <td>1</td>\n",
              "      <td>3101298</td>\n",
              "      <td>12.2875</td>\n",
              "      <td>NaN</td>\n",
              "      <td>S</td>\n",
              "    </tr>\n",
              "    <tr>\n",
              "      <th>...</th>\n",
              "      <td>...</td>\n",
              "      <td>...</td>\n",
              "      <td>...</td>\n",
              "      <td>...</td>\n",
              "      <td>...</td>\n",
              "      <td>...</td>\n",
              "      <td>...</td>\n",
              "      <td>...</td>\n",
              "      <td>...</td>\n",
              "      <td>...</td>\n",
              "      <td>...</td>\n",
              "    </tr>\n",
              "    <tr>\n",
              "      <th>413</th>\n",
              "      <td>1305</td>\n",
              "      <td>3</td>\n",
              "      <td>Spector, Mr. Woolf</td>\n",
              "      <td>male</td>\n",
              "      <td>NaN</td>\n",
              "      <td>0</td>\n",
              "      <td>0</td>\n",
              "      <td>A.5. 3236</td>\n",
              "      <td>8.0500</td>\n",
              "      <td>NaN</td>\n",
              "      <td>S</td>\n",
              "    </tr>\n",
              "    <tr>\n",
              "      <th>414</th>\n",
              "      <td>1306</td>\n",
              "      <td>1</td>\n",
              "      <td>Oliva y Ocana, Dona. Fermina</td>\n",
              "      <td>female</td>\n",
              "      <td>39.0</td>\n",
              "      <td>0</td>\n",
              "      <td>0</td>\n",
              "      <td>PC 17758</td>\n",
              "      <td>108.9000</td>\n",
              "      <td>C105</td>\n",
              "      <td>C</td>\n",
              "    </tr>\n",
              "    <tr>\n",
              "      <th>415</th>\n",
              "      <td>1307</td>\n",
              "      <td>3</td>\n",
              "      <td>Saether, Mr. Simon Sivertsen</td>\n",
              "      <td>male</td>\n",
              "      <td>38.5</td>\n",
              "      <td>0</td>\n",
              "      <td>0</td>\n",
              "      <td>SOTON/O.Q. 3101262</td>\n",
              "      <td>7.2500</td>\n",
              "      <td>NaN</td>\n",
              "      <td>S</td>\n",
              "    </tr>\n",
              "    <tr>\n",
              "      <th>416</th>\n",
              "      <td>1308</td>\n",
              "      <td>3</td>\n",
              "      <td>Ware, Mr. Frederick</td>\n",
              "      <td>male</td>\n",
              "      <td>NaN</td>\n",
              "      <td>0</td>\n",
              "      <td>0</td>\n",
              "      <td>359309</td>\n",
              "      <td>8.0500</td>\n",
              "      <td>NaN</td>\n",
              "      <td>S</td>\n",
              "    </tr>\n",
              "    <tr>\n",
              "      <th>417</th>\n",
              "      <td>1309</td>\n",
              "      <td>3</td>\n",
              "      <td>Peter, Master. Michael J</td>\n",
              "      <td>male</td>\n",
              "      <td>NaN</td>\n",
              "      <td>1</td>\n",
              "      <td>1</td>\n",
              "      <td>2668</td>\n",
              "      <td>22.3583</td>\n",
              "      <td>NaN</td>\n",
              "      <td>C</td>\n",
              "    </tr>\n",
              "  </tbody>\n",
              "</table>\n",
              "<p>418 rows × 11 columns</p>\n",
              "</div>"
            ],
            "text/plain": [
              "     PassengerId  Pclass  ... Cabin Embarked\n",
              "0            892       3  ...   NaN        Q\n",
              "1            893       3  ...   NaN        S\n",
              "2            894       2  ...   NaN        Q\n",
              "3            895       3  ...   NaN        S\n",
              "4            896       3  ...   NaN        S\n",
              "..           ...     ...  ...   ...      ...\n",
              "413         1305       3  ...   NaN        S\n",
              "414         1306       1  ...  C105        C\n",
              "415         1307       3  ...   NaN        S\n",
              "416         1308       3  ...   NaN        S\n",
              "417         1309       3  ...   NaN        C\n",
              "\n",
              "[418 rows x 11 columns]"
            ]
          },
          "metadata": {
            "tags": []
          },
          "execution_count": 160
        }
      ]
    },
    {
      "cell_type": "code",
      "metadata": {
        "id": "xpfB4Zipi26t"
      },
      "source": [
        "submission = pd.DataFrame({\r\n",
        "        \"PassengerId\": passengerId[\"PassengerId\"],\r\n",
        "        \"Survived\": test_y_pred\r\n",
        "    })"
      ],
      "execution_count": null,
      "outputs": []
    },
    {
      "cell_type": "code",
      "metadata": {
        "colab": {
          "base_uri": "https://localhost:8080/",
          "height": 402
        },
        "id": "w0SiT4_kjqJa",
        "outputId": "a09494a2-cb02-4b88-9d40-d0612216ebc8"
      },
      "source": [
        "submission"
      ],
      "execution_count": null,
      "outputs": [
        {
          "output_type": "execute_result",
          "data": {
            "text/html": [
              "<div>\n",
              "<style scoped>\n",
              "    .dataframe tbody tr th:only-of-type {\n",
              "        vertical-align: middle;\n",
              "    }\n",
              "\n",
              "    .dataframe tbody tr th {\n",
              "        vertical-align: top;\n",
              "    }\n",
              "\n",
              "    .dataframe thead th {\n",
              "        text-align: right;\n",
              "    }\n",
              "</style>\n",
              "<table border=\"1\" class=\"dataframe\">\n",
              "  <thead>\n",
              "    <tr style=\"text-align: right;\">\n",
              "      <th></th>\n",
              "      <th>PassengerId</th>\n",
              "      <th>Survived</th>\n",
              "    </tr>\n",
              "  </thead>\n",
              "  <tbody>\n",
              "    <tr>\n",
              "      <th>0</th>\n",
              "      <td>892</td>\n",
              "      <td>0</td>\n",
              "    </tr>\n",
              "    <tr>\n",
              "      <th>1</th>\n",
              "      <td>893</td>\n",
              "      <td>1</td>\n",
              "    </tr>\n",
              "    <tr>\n",
              "      <th>2</th>\n",
              "      <td>894</td>\n",
              "      <td>0</td>\n",
              "    </tr>\n",
              "    <tr>\n",
              "      <th>3</th>\n",
              "      <td>895</td>\n",
              "      <td>0</td>\n",
              "    </tr>\n",
              "    <tr>\n",
              "      <th>4</th>\n",
              "      <td>896</td>\n",
              "      <td>1</td>\n",
              "    </tr>\n",
              "    <tr>\n",
              "      <th>...</th>\n",
              "      <td>...</td>\n",
              "      <td>...</td>\n",
              "    </tr>\n",
              "    <tr>\n",
              "      <th>413</th>\n",
              "      <td>1305</td>\n",
              "      <td>0</td>\n",
              "    </tr>\n",
              "    <tr>\n",
              "      <th>414</th>\n",
              "      <td>1306</td>\n",
              "      <td>1</td>\n",
              "    </tr>\n",
              "    <tr>\n",
              "      <th>415</th>\n",
              "      <td>1307</td>\n",
              "      <td>0</td>\n",
              "    </tr>\n",
              "    <tr>\n",
              "      <th>416</th>\n",
              "      <td>1308</td>\n",
              "      <td>0</td>\n",
              "    </tr>\n",
              "    <tr>\n",
              "      <th>417</th>\n",
              "      <td>1309</td>\n",
              "      <td>1</td>\n",
              "    </tr>\n",
              "  </tbody>\n",
              "</table>\n",
              "<p>418 rows × 2 columns</p>\n",
              "</div>"
            ],
            "text/plain": [
              "     PassengerId  Survived\n",
              "0            892         0\n",
              "1            893         1\n",
              "2            894         0\n",
              "3            895         0\n",
              "4            896         1\n",
              "..           ...       ...\n",
              "413         1305         0\n",
              "414         1306         1\n",
              "415         1307         0\n",
              "416         1308         0\n",
              "417         1309         1\n",
              "\n",
              "[418 rows x 2 columns]"
            ]
          },
          "metadata": {
            "tags": []
          },
          "execution_count": 162
        }
      ]
    },
    {
      "cell_type": "code",
      "metadata": {
        "id": "xI9dLOSKkR87"
      },
      "source": [
        "submission.to_csv('/content/submission.csv', index=False)"
      ],
      "execution_count": null,
      "outputs": []
    },
    {
      "cell_type": "markdown",
      "metadata": {
        "id": "r9ZBNeSRen1K"
      },
      "source": [
        "## Feature Importance"
      ]
    },
    {
      "cell_type": "code",
      "metadata": {
        "id": "GDqFa4PaOcZT",
        "colab": {
          "base_uri": "https://localhost:8080/",
          "height": 714
        },
        "outputId": "a8dd99d5-3b73-4946-9aa7-472b82fe045e"
      },
      "source": [
        "from sklearn.ensemble import  GradientBoostingClassifier\r\n",
        "import xgboost as xg\r\n",
        "f,ax=plt.subplots(2,2,figsize=(15,12))\r\n",
        "model=RandomForestClassifier(n_estimators=500,random_state=0)\r\n",
        "model.fit(X,Y)\r\n",
        "pd.Series(model.feature_importances_,X.columns).sort_values(ascending=True).plot.barh(width=0.8,ax=ax[0,0])\r\n",
        "ax[0,0].set_title('Feature Importance in Random Forests')\r\n",
        "model=AdaBoostClassifier(n_estimators=200,learning_rate=0.05,random_state=0)\r\n",
        "model.fit(X,Y)\r\n",
        "pd.Series(model.feature_importances_,X.columns).sort_values(ascending=True).plot.barh(width=0.8,ax=ax[0,1],color='#ddff11')\r\n",
        "ax[0,1].set_title('Feature Importance in AdaBoost')\r\n",
        "model=GradientBoostingClassifier(n_estimators=500,learning_rate=0.1,random_state=0)\r\n",
        "model.fit(X,Y)\r\n",
        "pd.Series(model.feature_importances_,X.columns).sort_values(ascending=True).plot.barh(width=0.8,ax=ax[1,0],cmap='RdYlGn_r')\r\n",
        "ax[1,0].set_title('Feature Importance in Gradient Boosting')\r\n",
        "model=xg.XGBClassifier(n_estimators=900,learning_rate=0.1)\r\n",
        "model.fit(X,Y)\r\n",
        "pd.Series(model.feature_importances_,X.columns).sort_values(ascending=True).plot.barh(width=0.8,ax=ax[1,1],color='#FD0F00')\r\n",
        "ax[1,1].set_title('Feature Importance in XgBoost')\r\n",
        "plt.show()"
      ],
      "execution_count": null,
      "outputs": [
        {
          "output_type": "display_data",
          "data": {
            "image/png": "[encoded data removed]",
            "text/plain": [
              "<Figure size 1080x864 with 4 Axes>"
            ]
          },
          "metadata": {
            "tags": [],
            "needs_background": "light"
          }
        }
      ]
    },
    {
      "cell_type": "markdown",
      "metadata": {
        "id": "ete6ozFde_AK"
      },
      "source": [
        "모델마다 중요하게여기는 feature들의 순서가 다르다     \r\n",
        "보통 랜덤포레스트로 feature_importanse를 본다."
      ]
    },
    {
      "cell_type": "code",
      "metadata": {
        "id": "M4zxeT1feK7A"
      },
      "source": [
        ""
      ],
      "execution_count": null,
      "outputs": []
    }
  ]
}