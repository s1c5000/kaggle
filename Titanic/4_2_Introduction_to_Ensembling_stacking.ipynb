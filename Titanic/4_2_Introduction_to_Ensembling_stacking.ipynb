{
  "nbformat": 4,
  "nbformat_minor": 0,
  "metadata": {
    "colab": {
      "name": "4-2_Introduction to Ensembling/stacking.ipynb",
      "provenance": [],
      "toc_visible": true,
      "authorship_tag": "ABX9TyPHzC+R2korhIyS2aXq9KR2",
      "include_colab_link": true
    },
    "kernelspec": {
      "name": "python3",
      "display_name": "Python 3"
    }
  },
  "cells": [
    {
      "cell_type": "markdown",
      "metadata": {
        "id": "view-in-github",
        "colab_type": "text"
      },
      "source": [
        "<a href=\"https://colab.research.google.com/github/s1c5000/kaggle/blob/main/Titanic/4_2_Introduction_to_Ensembling_stacking.ipynb\" target=\"_parent\"><img src=\"https://colab.research.google.com/assets/colab-badge.svg\" alt=\"Open In Colab\"/></a>"
      ]
    },
    {
      "cell_type": "markdown",
      "metadata": {
        "id": "Gl4owOmK38Y1"
      },
      "source": [
        "캐글 필사4\r\n",
        "* 원본 : https://www.kaggle.com/arthurtok/introduction-to-ensembling-stacking-in-python"
      ]
    },
    {
      "cell_type": "code",
      "metadata": {
        "colab": {
          "resources": {
            "http://localhost:8080/nbextensions/google.colab/files.js": {
              "data": "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",
              "ok": true,
              "headers": [
                [
                  "content-type",
                  "application/javascript"
                ]
              ],
              "status": 200,
              "status_text": ""
            }
          },
          "base_uri": "https://localhost:8080/",
          "height": 76
        },
        "id": "o-ynBpmr4FL3",
        "outputId": "61f71112-af0e-4a97-9036-167669128d5f"
      },
      "source": [
        "# kaggle json\r\n",
        "from google.colab import files\r\n",
        "files.upload()\r\n",
        "\r\n",
        "!mkdir -p ~/.kaggle\r\n",
        "!cp kaggle.json ~/.kaggle/\r\n",
        "# Permission Warning 이 일어나지 않도록 \r\n",
        "!chmod 600 ~/.kaggle/kaggle.json"
      ],
      "execution_count": null,
      "outputs": [
        {
          "output_type": "display_data",
          "data": {
            "text/html": [
              "\n",
              "     <input type=\"file\" id=\"files-7397c833-c685-4ff1-9c34-1ab09cfe3bd5\" name=\"files[]\" multiple disabled\n",
              "        style=\"border:none\" />\n",
              "     <output id=\"result-7397c833-c685-4ff1-9c34-1ab09cfe3bd5\">\n",
              "      Upload widget is only available when the cell has been executed in the\n",
              "      current browser session. Please rerun this cell to enable.\n",
              "      </output>\n",
              "      <script src=\"/nbextensions/google.colab/files.js\"></script> "
            ],
            "text/plain": [
              "<IPython.core.display.HTML object>"
            ]
          },
          "metadata": {
            "tags": []
          }
        },
        {
          "output_type": "stream",
          "text": [
            "Saving kaggle.json to kaggle.json\n"
          ],
          "name": "stdout"
        }
      ]
    },
    {
      "cell_type": "code",
      "metadata": {
        "colab": {
          "base_uri": "https://localhost:8080/"
        },
        "id": "iwIPf0KQ4JHn",
        "outputId": "55d989f8-f99f-4e13-e26f-4544b958e68c"
      },
      "source": [
        "!kaggle competitions download -c titanic"
      ],
      "execution_count": null,
      "outputs": [
        {
          "output_type": "stream",
          "text": [
            "Warning: Looks like you're using an outdated API Version, please consider updating (server 1.5.10 / client 1.5.4)\n",
            "Downloading train.csv to /content\n",
            "  0% 0.00/59.8k [00:00<?, ?B/s]\n",
            "100% 59.8k/59.8k [00:00<00:00, 56.3MB/s]\n",
            "Downloading test.csv to /content\n",
            "  0% 0.00/28.0k [00:00<?, ?B/s]\n",
            "100% 28.0k/28.0k [00:00<00:00, 28.9MB/s]\n",
            "Downloading gender_submission.csv to /content\n",
            "  0% 0.00/3.18k [00:00<?, ?B/s]\n",
            "100% 3.18k/3.18k [00:00<00:00, 3.26MB/s]\n"
          ],
          "name": "stdout"
        }
      ]
    },
    {
      "cell_type": "markdown",
      "metadata": {
        "id": "8GOz7FER4L5c"
      },
      "source": [
        "# Introduction\r\n",
        "이 노트북은 기본 학습모델을 병합 하는 방법, 특히 stacking에 대한 매우 기본적이고 간단한 입문서 입니다. 스태킹은 간단히 말해서 처음(기본) 모델이 예측한 Prediction을 second모델의 학습에 사용하는 것 입니다. 많은 우승자가 stacking을 사용하여 우승 하였지만, stacking에 대한 노트북은 적은 것 같아 해당 노트북이 그 공백을 채우면 좋겠습니다     \r\n",
        "이 스크립트는 0.808의 LB점수를 제공하며 상위9%에 도달하고 4분 미만으로 실행됩니다"
      ]
    },
    {
      "cell_type": "code",
      "metadata": {
        "colab": {
          "base_uri": "https://localhost:8080/",
          "height": 17
        },
        "id": "F_ywXbKM4oRH",
        "outputId": "60cfa996-006d-4269-b2b1-6bd3c4dfecca"
      },
      "source": [
        "import numpy as np\r\n",
        "import pandas as pd\r\n",
        "import matplotlib.pyplot as plt\r\n",
        "import seaborn as sns\r\n",
        "import warnings\r\n",
        "warnings.filterwarnings('ignore')\r\n",
        "\r\n",
        "%matplotlib inline\r\n",
        "sns.set(font_scale=2)\r\n",
        "\r\n",
        "import re\r\n",
        "import sklearn\r\n",
        "import xgboost as xgb\r\n",
        "\r\n",
        "import plotly.offline as py\r\n",
        "py.init_notebook_mode(connected=True)\r\n",
        "import plotly.graph_objs as go\r\n",
        "import plotly.tools as tls\r\n",
        "\r\n",
        "from sklearn.ensemble import (RandomForestClassifier, AdaBoostClassifier, \r\n",
        "                              GradientBoostingClassifier, ExtraTreesClassifier)\r\n",
        "from sklearn.svm import SVC\r\n",
        "from sklearn.model_selection import KFold"
      ],
      "execution_count": null,
      "outputs": [
        {
          "output_type": "display_data",
          "data": {
            "text/html": [
              "        <script type=\"text/javascript\">\n",
              "        window.PlotlyConfig = {MathJaxConfig: 'local'};\n",
              "        if (window.MathJax) {MathJax.Hub.Config({SVG: {font: \"STIX-Web\"}});}\n",
              "        if (typeof require !== 'undefined') {\n",
              "        require.undef(\"plotly\");\n",
              "        requirejs.config({\n",
              "            paths: {\n",
              "                'plotly': ['https://cdn.plot.ly/plotly-latest.min']\n",
              "            }\n",
              "        });\n",
              "        require(['plotly'], function(Plotly) {\n",
              "            window._Plotly = Plotly;\n",
              "        });\n",
              "        }\n",
              "        </script>\n",
              "        "
            ]
          },
          "metadata": {
            "tags": []
          }
        }
      ]
    },
    {
      "cell_type": "markdown",
      "metadata": {
        "id": "nfmGH57F6Afa"
      },
      "source": [
        "# Feature Exploration, Engineering and Cleaning\r\n",
        "대부분의 커널이 구조화되는 방식과 매우 유사하게 진행할 것입니다. 즉 먼저 데이터를 탐색하고 feature엔지니어링 하고 모든 categorical feature을 수치형으로 인고딩 합니다.\r\n"
      ]
    },
    {
      "cell_type": "code",
      "metadata": {
        "colab": {
          "base_uri": "https://localhost:8080/",
          "height": 307
        },
        "id": "KhmlBe-y6oez",
        "outputId": "a306a2da-6682-43ec-cee7-1e31eb6de2b2"
      },
      "source": [
        "train = pd.read_csv('/content/train.csv')\r\n",
        "test = pd.read_csv('/content/test.csv')\r\n",
        "\r\n",
        "PassengerId = test['PassengerId']\r\n",
        "train.head(3)"
      ],
      "execution_count": null,
      "outputs": [
        {
          "output_type": "execute_result",
          "data": {
            "text/html": [
              "<div>\n",
              "<style scoped>\n",
              "    .dataframe tbody tr th:only-of-type {\n",
              "        vertical-align: middle;\n",
              "    }\n",
              "\n",
              "    .dataframe tbody tr th {\n",
              "        vertical-align: top;\n",
              "    }\n",
              "\n",
              "    .dataframe thead th {\n",
              "        text-align: right;\n",
              "    }\n",
              "</style>\n",
              "<table border=\"1\" class=\"dataframe\">\n",
              "  <thead>\n",
              "    <tr style=\"text-align: right;\">\n",
              "      <th></th>\n",
              "      <th>PassengerId</th>\n",
              "      <th>Survived</th>\n",
              "      <th>Pclass</th>\n",
              "      <th>Name</th>\n",
              "      <th>Sex</th>\n",
              "      <th>Age</th>\n",
              "      <th>SibSp</th>\n",
              "      <th>Parch</th>\n",
              "      <th>Ticket</th>\n",
              "      <th>Fare</th>\n",
              "      <th>Cabin</th>\n",
              "      <th>Embarked</th>\n",
              "    </tr>\n",
              "  </thead>\n",
              "  <tbody>\n",
              "    <tr>\n",
              "      <th>0</th>\n",
              "      <td>1</td>\n",
              "      <td>0</td>\n",
              "      <td>3</td>\n",
              "      <td>Braund, Mr. Owen Harris</td>\n",
              "      <td>male</td>\n",
              "      <td>22.0</td>\n",
              "      <td>1</td>\n",
              "      <td>0</td>\n",
              "      <td>A/5 21171</td>\n",
              "      <td>7.2500</td>\n",
              "      <td>NaN</td>\n",
              "      <td>S</td>\n",
              "    </tr>\n",
              "    <tr>\n",
              "      <th>1</th>\n",
              "      <td>2</td>\n",
              "      <td>1</td>\n",
              "      <td>1</td>\n",
              "      <td>Cumings, Mrs. John Bradley (Florence Briggs Th...</td>\n",
              "      <td>female</td>\n",
              "      <td>38.0</td>\n",
              "      <td>1</td>\n",
              "      <td>0</td>\n",
              "      <td>PC 17599</td>\n",
              "      <td>71.2833</td>\n",
              "      <td>C85</td>\n",
              "      <td>C</td>\n",
              "    </tr>\n",
              "    <tr>\n",
              "      <th>2</th>\n",
              "      <td>3</td>\n",
              "      <td>1</td>\n",
              "      <td>3</td>\n",
              "      <td>Heikkinen, Miss. Laina</td>\n",
              "      <td>female</td>\n",
              "      <td>26.0</td>\n",
              "      <td>0</td>\n",
              "      <td>0</td>\n",
              "      <td>STON/O2. 3101282</td>\n",
              "      <td>7.9250</td>\n",
              "      <td>NaN</td>\n",
              "      <td>S</td>\n",
              "    </tr>\n",
              "  </tbody>\n",
              "</table>\n",
              "</div>"
            ],
            "text/plain": [
              "   PassengerId  Survived  Pclass  ...     Fare Cabin  Embarked\n",
              "0            1         0       3  ...   7.2500   NaN         S\n",
              "1            2         1       1  ...  71.2833   C85         C\n",
              "2            3         1       3  ...   7.9250   NaN         S\n",
              "\n",
              "[3 rows x 12 columns]"
            ]
          },
          "metadata": {
            "tags": []
          },
          "execution_count": 6
        }
      ]
    },
    {
      "cell_type": "markdown",
      "metadata": {
        "id": "pGfnH3zR62l4"
      },
      "source": [
        "우리의 임무는 어떻게는 범주형 변수에서 정보를추출 하는 것 입니다."
      ]
    },
    {
      "cell_type": "markdown",
      "metadata": {
        "id": "7bYdw0T868wM"
      },
      "source": [
        "# Feature Engineering\r\n",
        "Titanic_top4%_with_ensemble_modeling.ipynb의 feature Engineering을 이용하겠습니다"
      ]
    },
    {
      "cell_type": "code",
      "metadata": {
        "colab": {
          "base_uri": "https://localhost:8080/",
          "height": 214
        },
        "id": "EZDbEKfL7pbG",
        "outputId": "ba3b5e5a-9383-4037-adc5-f8c97d315da5"
      },
      "source": [
        "######## quartile을 이용해 outlier값 제거\r\n",
        "from collections import Counter\r\n",
        "def detect_outliers(df, n, features):\r\n",
        "  # 리스트로반환\r\n",
        "  outlier_indices = []\r\n",
        "\r\n",
        "  for col in features:\r\n",
        "    # 1st quartile (25%)\r\n",
        "    Q1 = np.percentile(df[col], 25)\r\n",
        "    # 3rd quartile 75%\r\n",
        "    Q3 = np.percentile(df[col], 75)\r\n",
        "    # Interquartile range (IQR)\r\n",
        "    IQR = Q3 - Q1\r\n",
        "\r\n",
        "    #outlier step\r\n",
        "    outlier_step = 1.5 * IQR\r\n",
        "\r\n",
        "    # 특정 col에 대해 outlier를 찾는다\r\n",
        "    outlier_list_col = df[(df[col] < Q1 - outlier_step) | (df[col] > Q1 + outlier_step)].index\r\n",
        "    outlier_indices.extend(outlier_list_col)\r\n",
        "    \r\n",
        "  #print(outlier_indices)\r\n",
        "  # 2(n) 개 이상의 이상치를 같는 index 선택\r\n",
        "  outlier_indices = Counter(outlier_indices) # 요소별 개수를 새서 dict로 반환\r\n",
        "  #print(type(outlier_indices))\r\n",
        "  #print(outlier_indices)\r\n",
        "\r\n",
        "  multiple_outliers = list( k for k, v in outlier_indices.items() if v > n )\r\n",
        "  #print(multiple_outliers) # 이상치가 2(n)개 이상인 인덱스\r\n",
        "  return multiple_outliers\r\n",
        "\r\n",
        "# 제거해야할 인덱스를 얻는다.\r\n",
        "Outliers_to_drop = detect_outliers(train,2,[\"Age\",\"SibSp\",\"Parch\",\"Fare\"])\r\n",
        "# 이상치 인덱스 제거\r\n",
        "train = train.drop(Outliers_to_drop, axis = 0).reset_index(drop=True) # index를 초기화\r\n",
        "\r\n",
        "########## join train, test ######\r\n",
        "train_len = len(train)\r\n",
        "dataset =  pd.concat(objs=[train, test], axis=0).reset_index(drop=True)\r\n",
        "\r\n",
        "# np.nan으로 결측치 채우기\r\n",
        "dataset = dataset.fillna(np.nan)\r\n",
        "\r\n",
        "########## Embarked 결측치 S로 채움\r\n",
        "dataset[\"Embarked\"] = dataset[\"Embarked\"].fillna(\"S\")\r\n",
        "# Embarked을 onehot인코딩해 수치형으로 바꿈\r\n",
        "dataset = pd.get_dummies(dataset, columns = [\"Embarked\"], prefix=\"Em\")\r\n",
        "\r\n",
        "########## 누락 된 Age를 SibSP, Parch, Pclass가 일치하는 행의 중간값으로 채운다.\r\n",
        "index_NaN_age = list(dataset[\"Age\"][dataset[\"Age\"].isnull()].index)\r\n",
        "for i in index_NaN_age :\r\n",
        "    age_med = dataset[\"Age\"].median()\r\n",
        "    # 각 조건마다 인덱스가 True, False로 나온다.\r\n",
        "    # Age가 결측치인행의 (SibSp 가 같은 행, Parch가 같은 행, Pclass가 같은행)을 \r\n",
        "    # 교집합으로 찾아서 Age의 평균을 낸다\r\n",
        "    age_pred = dataset[\"Age\"][((dataset['SibSp'] == dataset.iloc[i][\"SibSp\"]) & \r\n",
        "                               (dataset['Parch'] == dataset.iloc[i][\"Parch\"]) & \r\n",
        "                               (dataset['Pclass'] == dataset.iloc[i][\"Pclass\"]))].median()\r\n",
        "    if not np.isnan(age_pred) :\r\n",
        "        dataset['Age'].iloc[i] = age_pred\r\n",
        "    else :\r\n",
        "        dataset['Age'].iloc[i] = age_med\r\n",
        "\r\n",
        "########## Name으로부터 Title을 얻는다\r\n",
        "dataset_title = [i.split(\",\")[1].split(\".\")[0].strip() for i in dataset[\"Name\"]]\r\n",
        "dataset[\"Title\"] = pd.Series(dataset_title)\r\n",
        "\r\n",
        "# Convert to categorical values Title \r\n",
        "dataset[\"Title\"] = dataset[\"Title\"].replace(['Lady', 'the Countess','Countess','Capt', \r\n",
        "                                             'Col','Don', 'Dr', 'Major', 'Rev', 'Sir', \r\n",
        "                                             'Jonkheer', 'Dona'], 'Rare')\r\n",
        "dataset[\"Title\"] = dataset[\"Title\"].map({\"Master\":0, \"Miss\":1, \"Ms\" : 1 , \r\n",
        "                                         \"Mme\":1, \"Mlle\":1, \"Mrs\":1, \"Mr\":2, \"Rare\":3})\r\n",
        "dataset[\"Title\"] = dataset[\"Title\"].astype(int)\r\n",
        "# Drop Name variable\r\n",
        "dataset.drop(labels = [\"Name\"], axis = 1, inplace = True)\r\n",
        "# Title을 onehot인코딩해 수치형으로 바꿈\r\n",
        "dataset = pd.get_dummies(dataset, columns = [\"Title\"])\r\n",
        "\r\n",
        "############ Create a family size descriptor from SibSp and Parch\r\n",
        "dataset[\"Fsize\"] = dataset[\"SibSp\"] + dataset[\"Parch\"] + 1 # 1은 자신\r\n",
        "# Create new feature of family size\r\n",
        "dataset['Single'] = dataset['Fsize'].map(lambda s: 1 if s == 1 else 0)\r\n",
        "dataset['SmallF'] = dataset['Fsize'].map(lambda s: 1 if  s == 2  else 0)\r\n",
        "dataset['MedF'] = dataset['Fsize'].map(lambda s: 1 if 3 <= s <= 4 else 0)\r\n",
        "dataset['LargeF'] = dataset['Fsize'].map(lambda s: 1 if s >= 5 else 0)\r\n",
        "\r\n",
        "############ Cabin\r\n",
        "# Cabin의 가장 앞글자를따오고 결측치는 X 로 한다\r\n",
        "dataset[\"Cabin\"] = pd.Series([i[0] if not pd.isnull(i) else 'X' for i in dataset['Cabin'] ])\r\n",
        "# one_hot incoding\r\n",
        "dataset = pd.get_dummies(dataset, columns = [\"Cabin\"],prefix=\"Cabin\")\r\n",
        "\r\n",
        "############# Ticket\r\n",
        "Ticket = []\r\n",
        "for i in list(dataset.Ticket):\r\n",
        "    if not i.isdigit() : # 접두사가 있다면\r\n",
        "        Ticket.append(i.replace(\".\",\"\").replace(\"/\",\"\").strip().split(' ')[0]) #Take prefix\r\n",
        "    else:\r\n",
        "        Ticket.append(\"X\")\r\n",
        "        \r\n",
        "dataset[\"Ticket\"] = Ticket\r\n",
        "# onehot_encoding\r\n",
        "dataset = pd.get_dummies(dataset, columns = [\"Ticket\"], prefix=\"T\")\r\n",
        "\r\n",
        "############# Pclass\r\n",
        "dataset[\"Pclass\"] = dataset[\"Pclass\"].astype(\"category\")\r\n",
        "dataset = pd.get_dummies(dataset, columns = [\"Pclass\"],prefix=\"Pc\")\r\n",
        "\r\n",
        "############# Fare\r\n",
        "# 누락 된 값이 하나 있으므로 예측에 중요한 영향을 미치지 않는 중앙값으로 채우기\r\n",
        "dataset[\"Fare\"] = dataset[\"Fare\"].fillna(dataset[\"Fare\"].median())\r\n",
        "# log변환\r\n",
        "dataset['Fare'] = dataset['Fare'].map(lambda i : np.log(i) if i > 0 else 0)\r\n",
        "\r\n",
        "############## Sex\r\n",
        "dataset[\"Sex\"] = dataset[\"Sex\"].map({\"male\": 0, \"female\":1})\r\n",
        "\r\n",
        "# 쓸모없는 Feature 삭제\r\n",
        "dataset.drop(labels = [\"PassengerId\"], axis = 1, inplace = True)\r\n",
        "\r\n",
        "dataset.head()"
      ],
      "execution_count": null,
      "outputs": [
        {
          "output_type": "execute_result",
          "data": {
            "text/html": [
              "<div>\n",
              "<style scoped>\n",
              "    .dataframe tbody tr th:only-of-type {\n",
              "        vertical-align: middle;\n",
              "    }\n",
              "\n",
              "    .dataframe tbody tr th {\n",
              "        vertical-align: top;\n",
              "    }\n",
              "\n",
              "    .dataframe thead th {\n",
              "        text-align: right;\n",
              "    }\n",
              "</style>\n",
              "<table border=\"1\" class=\"dataframe\">\n",
              "  <thead>\n",
              "    <tr style=\"text-align: right;\">\n",
              "      <th></th>\n",
              "      <th>Survived</th>\n",
              "      <th>Sex</th>\n",
              "      <th>Age</th>\n",
              "      <th>SibSp</th>\n",
              "      <th>Parch</th>\n",
              "      <th>Fare</th>\n",
              "      <th>Em_C</th>\n",
              "      <th>Em_Q</th>\n",
              "      <th>Em_S</th>\n",
              "      <th>Title_0</th>\n",
              "      <th>Title_1</th>\n",
              "      <th>Title_2</th>\n",
              "      <th>Title_3</th>\n",
              "      <th>Fsize</th>\n",
              "      <th>Single</th>\n",
              "      <th>SmallF</th>\n",
              "      <th>MedF</th>\n",
              "      <th>LargeF</th>\n",
              "      <th>Cabin_A</th>\n",
              "      <th>Cabin_B</th>\n",
              "      <th>Cabin_C</th>\n",
              "      <th>Cabin_D</th>\n",
              "      <th>Cabin_E</th>\n",
              "      <th>Cabin_F</th>\n",
              "      <th>Cabin_G</th>\n",
              "      <th>Cabin_T</th>\n",
              "      <th>Cabin_X</th>\n",
              "      <th>T_A</th>\n",
              "      <th>T_A4</th>\n",
              "      <th>T_A5</th>\n",
              "      <th>T_AQ3</th>\n",
              "      <th>T_AQ4</th>\n",
              "      <th>T_AS</th>\n",
              "      <th>T_C</th>\n",
              "      <th>T_CA</th>\n",
              "      <th>T_CASOTON</th>\n",
              "      <th>T_FC</th>\n",
              "      <th>T_FCC</th>\n",
              "      <th>T_Fa</th>\n",
              "      <th>T_LINE</th>\n",
              "      <th>T_LP</th>\n",
              "      <th>T_PC</th>\n",
              "      <th>T_PP</th>\n",
              "      <th>T_PPP</th>\n",
              "      <th>T_SC</th>\n",
              "      <th>T_SCA3</th>\n",
              "      <th>T_SCA4</th>\n",
              "      <th>T_SCAH</th>\n",
              "      <th>T_SCOW</th>\n",
              "      <th>T_SCPARIS</th>\n",
              "      <th>T_SCParis</th>\n",
              "      <th>T_SOC</th>\n",
              "      <th>T_SOP</th>\n",
              "      <th>T_SOPP</th>\n",
              "      <th>T_SOTONO2</th>\n",
              "      <th>T_SOTONOQ</th>\n",
              "      <th>T_SP</th>\n",
              "      <th>T_STONO</th>\n",
              "      <th>T_STONO2</th>\n",
              "      <th>T_STONOQ</th>\n",
              "      <th>T_SWPP</th>\n",
              "      <th>T_WC</th>\n",
              "      <th>T_WEP</th>\n",
              "      <th>T_X</th>\n",
              "      <th>Pc_1</th>\n",
              "      <th>Pc_2</th>\n",
              "      <th>Pc_3</th>\n",
              "    </tr>\n",
              "  </thead>\n",
              "  <tbody>\n",
              "    <tr>\n",
              "      <th>0</th>\n",
              "      <td>0.0</td>\n",
              "      <td>0</td>\n",
              "      <td>22.0</td>\n",
              "      <td>1</td>\n",
              "      <td>0</td>\n",
              "      <td>1.981001</td>\n",
              "      <td>0</td>\n",
              "      <td>0</td>\n",
              "      <td>1</td>\n",
              "      <td>0</td>\n",
              "      <td>0</td>\n",
              "      <td>1</td>\n",
              "      <td>0</td>\n",
              "      <td>2</td>\n",
              "      <td>0</td>\n",
              "      <td>1</td>\n",
              "      <td>0</td>\n",
              "      <td>0</td>\n",
              "      <td>0</td>\n",
              "      <td>0</td>\n",
              "      <td>0</td>\n",
              "      <td>0</td>\n",
              "      <td>0</td>\n",
              "      <td>0</td>\n",
              "      <td>0</td>\n",
              "      <td>0</td>\n",
              "      <td>1</td>\n",
              "      <td>0</td>\n",
              "      <td>0</td>\n",
              "      <td>1</td>\n",
              "      <td>0</td>\n",
              "      <td>0</td>\n",
              "      <td>0</td>\n",
              "      <td>0</td>\n",
              "      <td>0</td>\n",
              "      <td>0</td>\n",
              "      <td>0</td>\n",
              "      <td>0</td>\n",
              "      <td>0</td>\n",
              "      <td>0</td>\n",
              "      <td>0</td>\n",
              "      <td>0</td>\n",
              "      <td>0</td>\n",
              "      <td>0</td>\n",
              "      <td>0</td>\n",
              "      <td>0</td>\n",
              "      <td>0</td>\n",
              "      <td>0</td>\n",
              "      <td>0</td>\n",
              "      <td>0</td>\n",
              "      <td>0</td>\n",
              "      <td>0</td>\n",
              "      <td>0</td>\n",
              "      <td>0</td>\n",
              "      <td>0</td>\n",
              "      <td>0</td>\n",
              "      <td>0</td>\n",
              "      <td>0</td>\n",
              "      <td>0</td>\n",
              "      <td>0</td>\n",
              "      <td>0</td>\n",
              "      <td>0</td>\n",
              "      <td>0</td>\n",
              "      <td>0</td>\n",
              "      <td>0</td>\n",
              "      <td>0</td>\n",
              "      <td>1</td>\n",
              "    </tr>\n",
              "    <tr>\n",
              "      <th>1</th>\n",
              "      <td>1.0</td>\n",
              "      <td>1</td>\n",
              "      <td>38.0</td>\n",
              "      <td>1</td>\n",
              "      <td>0</td>\n",
              "      <td>4.266662</td>\n",
              "      <td>1</td>\n",
              "      <td>0</td>\n",
              "      <td>0</td>\n",
              "      <td>0</td>\n",
              "      <td>1</td>\n",
              "      <td>0</td>\n",
              "      <td>0</td>\n",
              "      <td>2</td>\n",
              "      <td>0</td>\n",
              "      <td>1</td>\n",
              "      <td>0</td>\n",
              "      <td>0</td>\n",
              "      <td>0</td>\n",
              "      <td>0</td>\n",
              "      <td>1</td>\n",
              "      <td>0</td>\n",
              "      <td>0</td>\n",
              "      <td>0</td>\n",
              "      <td>0</td>\n",
              "      <td>0</td>\n",
              "      <td>0</td>\n",
              "      <td>0</td>\n",
              "      <td>0</td>\n",
              "      <td>0</td>\n",
              "      <td>0</td>\n",
              "      <td>0</td>\n",
              "      <td>0</td>\n",
              "      <td>0</td>\n",
              "      <td>0</td>\n",
              "      <td>0</td>\n",
              "      <td>0</td>\n",
              "      <td>0</td>\n",
              "      <td>0</td>\n",
              "      <td>0</td>\n",
              "      <td>0</td>\n",
              "      <td>1</td>\n",
              "      <td>0</td>\n",
              "      <td>0</td>\n",
              "      <td>0</td>\n",
              "      <td>0</td>\n",
              "      <td>0</td>\n",
              "      <td>0</td>\n",
              "      <td>0</td>\n",
              "      <td>0</td>\n",
              "      <td>0</td>\n",
              "      <td>0</td>\n",
              "      <td>0</td>\n",
              "      <td>0</td>\n",
              "      <td>0</td>\n",
              "      <td>0</td>\n",
              "      <td>0</td>\n",
              "      <td>0</td>\n",
              "      <td>0</td>\n",
              "      <td>0</td>\n",
              "      <td>0</td>\n",
              "      <td>0</td>\n",
              "      <td>0</td>\n",
              "      <td>0</td>\n",
              "      <td>1</td>\n",
              "      <td>0</td>\n",
              "      <td>0</td>\n",
              "    </tr>\n",
              "    <tr>\n",
              "      <th>2</th>\n",
              "      <td>1.0</td>\n",
              "      <td>1</td>\n",
              "      <td>26.0</td>\n",
              "      <td>0</td>\n",
              "      <td>0</td>\n",
              "      <td>2.070022</td>\n",
              "      <td>0</td>\n",
              "      <td>0</td>\n",
              "      <td>1</td>\n",
              "      <td>0</td>\n",
              "      <td>1</td>\n",
              "      <td>0</td>\n",
              "      <td>0</td>\n",
              "      <td>1</td>\n",
              "      <td>1</td>\n",
              "      <td>0</td>\n",
              "      <td>0</td>\n",
              "      <td>0</td>\n",
              "      <td>0</td>\n",
              "      <td>0</td>\n",
              "      <td>0</td>\n",
              "      <td>0</td>\n",
              "      <td>0</td>\n",
              "      <td>0</td>\n",
              "      <td>0</td>\n",
              "      <td>0</td>\n",
              "      <td>1</td>\n",
              "      <td>0</td>\n",
              "      <td>0</td>\n",
              "      <td>0</td>\n",
              "      <td>0</td>\n",
              "      <td>0</td>\n",
              "      <td>0</td>\n",
              "      <td>0</td>\n",
              "      <td>0</td>\n",
              "      <td>0</td>\n",
              "      <td>0</td>\n",
              "      <td>0</td>\n",
              "      <td>0</td>\n",
              "      <td>0</td>\n",
              "      <td>0</td>\n",
              "      <td>0</td>\n",
              "      <td>0</td>\n",
              "      <td>0</td>\n",
              "      <td>0</td>\n",
              "      <td>0</td>\n",
              "      <td>0</td>\n",
              "      <td>0</td>\n",
              "      <td>0</td>\n",
              "      <td>0</td>\n",
              "      <td>0</td>\n",
              "      <td>0</td>\n",
              "      <td>0</td>\n",
              "      <td>0</td>\n",
              "      <td>0</td>\n",
              "      <td>0</td>\n",
              "      <td>0</td>\n",
              "      <td>0</td>\n",
              "      <td>1</td>\n",
              "      <td>0</td>\n",
              "      <td>0</td>\n",
              "      <td>0</td>\n",
              "      <td>0</td>\n",
              "      <td>0</td>\n",
              "      <td>0</td>\n",
              "      <td>0</td>\n",
              "      <td>1</td>\n",
              "    </tr>\n",
              "    <tr>\n",
              "      <th>3</th>\n",
              "      <td>1.0</td>\n",
              "      <td>1</td>\n",
              "      <td>35.0</td>\n",
              "      <td>1</td>\n",
              "      <td>0</td>\n",
              "      <td>3.972177</td>\n",
              "      <td>0</td>\n",
              "      <td>0</td>\n",
              "      <td>1</td>\n",
              "      <td>0</td>\n",
              "      <td>1</td>\n",
              "      <td>0</td>\n",
              "      <td>0</td>\n",
              "      <td>2</td>\n",
              "      <td>0</td>\n",
              "      <td>1</td>\n",
              "      <td>0</td>\n",
              "      <td>0</td>\n",
              "      <td>0</td>\n",
              "      <td>0</td>\n",
              "      <td>1</td>\n",
              "      <td>0</td>\n",
              "      <td>0</td>\n",
              "      <td>0</td>\n",
              "      <td>0</td>\n",
              "      <td>0</td>\n",
              "      <td>0</td>\n",
              "      <td>0</td>\n",
              "      <td>0</td>\n",
              "      <td>0</td>\n",
              "      <td>0</td>\n",
              "      <td>0</td>\n",
              "      <td>0</td>\n",
              "      <td>0</td>\n",
              "      <td>0</td>\n",
              "      <td>0</td>\n",
              "      <td>0</td>\n",
              "      <td>0</td>\n",
              "      <td>0</td>\n",
              "      <td>0</td>\n",
              "      <td>0</td>\n",
              "      <td>0</td>\n",
              "      <td>0</td>\n",
              "      <td>0</td>\n",
              "      <td>0</td>\n",
              "      <td>0</td>\n",
              "      <td>0</td>\n",
              "      <td>0</td>\n",
              "      <td>0</td>\n",
              "      <td>0</td>\n",
              "      <td>0</td>\n",
              "      <td>0</td>\n",
              "      <td>0</td>\n",
              "      <td>0</td>\n",
              "      <td>0</td>\n",
              "      <td>0</td>\n",
              "      <td>0</td>\n",
              "      <td>0</td>\n",
              "      <td>0</td>\n",
              "      <td>0</td>\n",
              "      <td>0</td>\n",
              "      <td>0</td>\n",
              "      <td>0</td>\n",
              "      <td>1</td>\n",
              "      <td>1</td>\n",
              "      <td>0</td>\n",
              "      <td>0</td>\n",
              "    </tr>\n",
              "    <tr>\n",
              "      <th>4</th>\n",
              "      <td>0.0</td>\n",
              "      <td>0</td>\n",
              "      <td>35.0</td>\n",
              "      <td>0</td>\n",
              "      <td>0</td>\n",
              "      <td>2.085672</td>\n",
              "      <td>0</td>\n",
              "      <td>0</td>\n",
              "      <td>1</td>\n",
              "      <td>0</td>\n",
              "      <td>0</td>\n",
              "      <td>1</td>\n",
              "      <td>0</td>\n",
              "      <td>1</td>\n",
              "      <td>1</td>\n",
              "      <td>0</td>\n",
              "      <td>0</td>\n",
              "      <td>0</td>\n",
              "      <td>0</td>\n",
              "      <td>0</td>\n",
              "      <td>0</td>\n",
              "      <td>0</td>\n",
              "      <td>0</td>\n",
              "      <td>0</td>\n",
              "      <td>0</td>\n",
              "      <td>0</td>\n",
              "      <td>1</td>\n",
              "      <td>0</td>\n",
              "      <td>0</td>\n",
              "      <td>0</td>\n",
              "      <td>0</td>\n",
              "      <td>0</td>\n",
              "      <td>0</td>\n",
              "      <td>0</td>\n",
              "      <td>0</td>\n",
              "      <td>0</td>\n",
              "      <td>0</td>\n",
              "      <td>0</td>\n",
              "      <td>0</td>\n",
              "      <td>0</td>\n",
              "      <td>0</td>\n",
              "      <td>0</td>\n",
              "      <td>0</td>\n",
              "      <td>0</td>\n",
              "      <td>0</td>\n",
              "      <td>0</td>\n",
              "      <td>0</td>\n",
              "      <td>0</td>\n",
              "      <td>0</td>\n",
              "      <td>0</td>\n",
              "      <td>0</td>\n",
              "      <td>0</td>\n",
              "      <td>0</td>\n",
              "      <td>0</td>\n",
              "      <td>0</td>\n",
              "      <td>0</td>\n",
              "      <td>0</td>\n",
              "      <td>0</td>\n",
              "      <td>0</td>\n",
              "      <td>0</td>\n",
              "      <td>0</td>\n",
              "      <td>0</td>\n",
              "      <td>0</td>\n",
              "      <td>1</td>\n",
              "      <td>0</td>\n",
              "      <td>0</td>\n",
              "      <td>1</td>\n",
              "    </tr>\n",
              "  </tbody>\n",
              "</table>\n",
              "</div>"
            ],
            "text/plain": [
              "   Survived  Sex   Age  SibSp  Parch  ...  T_WEP  T_X  Pc_1  Pc_2  Pc_3\n",
              "0       0.0    0  22.0      1      0  ...      0    0     0     0     1\n",
              "1       1.0    1  38.0      1      0  ...      0    0     1     0     0\n",
              "2       1.0    1  26.0      0      0  ...      0    0     0     0     1\n",
              "3       1.0    1  35.0      1      0  ...      0    1     1     0     0\n",
              "4       0.0    0  35.0      0      0  ...      0    1     0     0     1\n",
              "\n",
              "[5 rows x 67 columns]"
            ]
          },
          "metadata": {
            "tags": []
          },
          "execution_count": 7
        }
      ]
    },
    {
      "cell_type": "code",
      "metadata": {
        "id": "dqPiJWS6BriO"
      },
      "source": [
        "train = dataset[:train_len]\r\n",
        "test = dataset[train_len:]\r\n",
        "test.drop(labels=['Survived'], axis=1, inplace = True)"
      ],
      "execution_count": null,
      "outputs": []
    },
    {
      "cell_type": "code",
      "metadata": {
        "id": "m3SFIt0DFOEn"
      },
      "source": [
        "ntrain = train.shape[0]\r\n",
        "ntest = test.shape[0]\r\n",
        "SEED = 0\r\n",
        "NFOLDS = 5\r\n",
        "kf = KFold(n_splits = NFOLDS, random_state = SEED)\r\n",
        "\r\n",
        "# classifier, parameter를 매개변수로 받는다.\r\n",
        "# 생성자로 classifier를 정의한다.\r\n",
        "class SklearnHelper(object):\r\n",
        "  def __init__(self, clf, seed = 0, params = None):\r\n",
        "    params['random_state'] = seed\r\n",
        "    self.clf = clf(**params)\r\n",
        "\r\n",
        "  def train(self, x_train, y_train):\r\n",
        "    self.clf.fit(x_train, y_train)\r\n",
        "\r\n",
        "  def predict(self, x):\r\n",
        "    return self.clf.predict(x)\r\n",
        "\r\n",
        "  def fit(self, x ,y):\r\n",
        "    return self.clf.fit(x,y)\r\n",
        "  \r\n",
        "  def feature_importances(self, x, y):\r\n",
        "    print(self.clf.fit(x,y).feature_importances_)\r\n"
      ],
      "execution_count": null,
      "outputs": []
    },
    {
      "cell_type": "code",
      "metadata": {
        "id": "h9ASnqGoFdvJ"
      },
      "source": [
        "def get_oof(clf, x_train, y_train, x_test):\r\n",
        "  oof_train = np.zeros((ntrain,)) # (891,)\r\n",
        "  oof_test = np.zeros((ntest,)) # (418,)\r\n",
        "  oof_test_skf = np.empty((NFOLDS, ntest)) # (5, 418)\r\n",
        "\r\n",
        "\r\n",
        "  for i, (train_index, test_index) in enumerate(kf.split(x_train)):\r\n",
        "    # train을 kfold로 나눠서 x_tr은 학습, x_te는 validation용 test로 사용한다\r\n",
        "    print('i= ', i)\r\n",
        "    x_tr = x_train[train_index]\r\n",
        "    y_tr = y_train[train_index]\r\n",
        "    x_te = x_train[test_index] # kfold로 인해 나눠진 test_index, 원래 train이였다.\r\n",
        "\r\n",
        "    clf.train(x_tr, y_tr)\r\n",
        "\r\n",
        "    # validation용으로 나눈 x_te를 예측 후 oof_train의 해당하는 index에 넣는다.\r\n",
        "    # kfold정의시 shuffle을 False로 주었기때문에 kfold마다 겹치지않는다.\r\n",
        "    oof_train[test_index] = clf.predict(x_te)\r\n",
        "    \r\n",
        "    # i번째 행에 kfold로 나뉜 4개의 데이터셋으로 학습한 모델의 예측을 넣는다.\r\n",
        "    # 예측을 위해 넣은 데이터는 같지만, 모델학습에 사용한 데이터가 다르다.\r\n",
        "    oof_test_skf[i,:]  = clf.predict(x_test)\r\n",
        "\r\n",
        "  oof_test[:] = oof_test_skf.mean(axis=0) # x축 방향으로 평균을 낸다(세로) (5,418) -> (1,418)\r\n",
        "  # oof_train : train을 kfold로 나눠서 예측한 결과\r\n",
        "  # oof_test : 실제 test를 예측한 결과\r\n",
        "  return oof_train.reshape(-1,1), oof_test.reshape(-1,1) # (891,1) , (418,1)"
      ],
      "execution_count": null,
      "outputs": []
    },
    {
      "cell_type": "code",
      "metadata": {
        "id": "CYMwxYdwFm_b"
      },
      "source": [
        "# random forest parameters\r\n",
        "rf_params = {\r\n",
        "    'n_jobs' : -1,\r\n",
        "    'n_estimators' : 500,\r\n",
        "    'warm_start' : True,\r\n",
        "    'max_depth' : 6,\r\n",
        "    'min_samples_leaf' : 2,\r\n",
        "    'max_features' : 'sqrt',\r\n",
        "    'verbose' : 0\r\n",
        "}\r\n",
        "\r\n",
        "# Extra trees parameters\r\n",
        "et_params = {\r\n",
        "    'n_jobs' : -1,\r\n",
        "    'n_estimators' : 500,\r\n",
        "    'max_depth' : 8,\r\n",
        "    'min_samples_leaf' : 2,\r\n",
        "    'verbose' : 0\r\n",
        "}\r\n",
        "\r\n",
        "#AdaBoost parameters\r\n",
        "ada_params = {\r\n",
        "    'n_estimators' : 500,\r\n",
        "    'learning_rate' : 0.75,\r\n",
        "}\r\n",
        "\r\n",
        "# Gradient boost parameters\r\n",
        "gb_params = {\r\n",
        "    'n_estimators' : 500,\r\n",
        "    'max_depth' : 5,\r\n",
        "    'min_samples_leaf' : 2,\r\n",
        "    'verbose' : 0\r\n",
        "}\r\n",
        "\r\n",
        "# Support vector Classifier parameters\r\n",
        "svc_params = {\r\n",
        "    'kernel' : 'linear',\r\n",
        "    'C' : 0.025\r\n",
        "}"
      ],
      "execution_count": null,
      "outputs": []
    },
    {
      "cell_type": "code",
      "metadata": {
        "id": "aO5Oso-DFqFg"
      },
      "source": [
        "# create 5 objects \r\n",
        "rf = SklearnHelper(clf=RandomForestClassifier, seed=SEED, params=rf_params)\r\n",
        "et = SklearnHelper(clf=ExtraTreesClassifier, seed=SEED, params=et_params)\r\n",
        "ada = SklearnHelper(clf = AdaBoostClassifier, seed=SEED, params=ada_params)\r\n",
        "gb = SklearnHelper(clf=GradientBoostingClassifier, seed=SEED, params=gb_params)\r\n",
        "svc = SklearnHelper(clf = SVC, seed=SEED, params=svc_params)"
      ],
      "execution_count": null,
      "outputs": []
    },
    {
      "cell_type": "code",
      "metadata": {
        "id": "ClgxR1m7FzXD"
      },
      "source": [
        "y_train = train['Survived'].ravel() # 평평하게 해주는 함수\r\n",
        "train = train.drop(['Survived'], axis = 1)\r\n",
        "x_train = train.values # 굳이 numpy로 추출해서 넣지 않아도 된다.\r\n",
        "x_test = test.values"
      ],
      "execution_count": null,
      "outputs": []
    },
    {
      "cell_type": "code",
      "metadata": {
        "colab": {
          "base_uri": "https://localhost:8080/"
        },
        "id": "iRL9tKkZKnSZ",
        "outputId": "ebc023fe-4ab0-4170-e39e-9ccfa74c0132"
      },
      "source": [
        "RandomF = SklearnHelper(clf=RandomForestClassifier, seed=SEED, params=rf_params)\r\n",
        "RandomF.fit(train,y_train)\r\n",
        "RandomF.predict(test)"
      ],
      "execution_count": null,
      "outputs": [
        {
          "output_type": "execute_result",
          "data": {
            "text/plain": [
              "array([0., 1., 0., 0., 1., 0., 1., 0., 1., 0., 0., 0., 1., 0., 1., 1., 0.,\n",
              "       0., 1., 1., 0., 1., 1., 0., 1., 0., 1., 0., 0., 0., 0., 0., 1., 1.,\n",
              "       0., 0., 1., 1., 0., 0., 0., 0., 0., 1., 1., 0., 0., 0., 1., 1., 0.,\n",
              "       0., 1., 1., 0., 0., 0., 0., 0., 1., 0., 0., 0., 1., 1., 1., 1., 0.,\n",
              "       0., 1., 1., 0., 1., 0., 1., 0., 0., 1., 0., 1., 1., 0., 0., 0., 0.,\n",
              "       0., 1., 1., 1., 1., 1., 0., 1., 0., 0., 0., 1., 0., 1., 0., 1., 0.,\n",
              "       0., 0., 1., 0., 0., 0., 0., 0., 0., 1., 1., 1., 1., 0., 0., 1., 0.,\n",
              "       1., 1., 0., 1., 0., 0., 1., 0., 1., 0., 0., 0., 1., 0., 0., 0., 0.,\n",
              "       0., 0., 1., 0., 0., 1., 0., 0., 0., 0., 0., 0., 0., 0., 1., 0., 0.,\n",
              "       1., 0., 0., 1., 1., 0., 1., 1., 1., 1., 0., 0., 1., 0., 0., 1., 1.,\n",
              "       0., 0., 0., 0., 0., 1., 1., 0., 1., 1., 0., 0., 1., 0., 1., 0., 1.,\n",
              "       0., 0., 0., 0., 0., 1., 0., 1., 0., 1., 1., 0., 1., 1., 1., 1., 1.,\n",
              "       0., 0., 1., 0., 1., 0., 0., 0., 0., 1., 0., 0., 1., 0., 1., 0., 1.,\n",
              "       0., 1., 0., 1., 1., 0., 1., 0., 0., 0., 1., 0., 0., 0., 0., 0., 0.,\n",
              "       1., 1., 1., 1., 0., 0., 1., 0., 1., 0., 1., 1., 1., 0., 0., 0., 0.,\n",
              "       0., 0., 0., 1., 0., 0., 0., 1., 1., 0., 0., 0., 0., 1., 0., 0., 0.,\n",
              "       1., 1., 0., 1., 0., 0., 0., 0., 1., 1., 1., 1., 1., 0., 0., 0., 0.,\n",
              "       0., 0., 1., 0., 1., 0., 0., 1., 0., 0., 0., 0., 0., 0., 0., 1., 1.,\n",
              "       0., 1., 0., 1., 0., 0., 0., 1., 1., 1., 0., 0., 0., 0., 0., 0., 0.,\n",
              "       0., 1., 0., 1., 0., 0., 0., 1., 0., 0., 1., 0., 0., 0., 0., 0., 0.,\n",
              "       0., 0., 0., 1., 1., 1., 0., 1., 0., 1., 1., 0., 0., 0., 1., 0., 1.,\n",
              "       0., 0., 1., 0., 1., 1., 0., 1., 0., 0., 1., 1., 0., 0., 1., 0., 0.,\n",
              "       1., 1., 1., 0., 0., 0., 0., 0., 1., 1., 0., 1., 0., 0., 0., 0., 0.,\n",
              "       1., 1., 0., 0., 1., 0., 1., 0., 0., 1., 0., 1., 0., 0., 0., 0., 0.,\n",
              "       1., 1., 1., 1., 1., 0., 1., 0., 0., 1.])"
            ]
          },
          "metadata": {
            "tags": []
          },
          "execution_count": 16
        }
      ]
    },
    {
      "cell_type": "code",
      "metadata": {
        "colab": {
          "base_uri": "https://localhost:8080/"
        },
        "id": "XPOAh-1MF4J5",
        "outputId": "4b1ce423-5504-4db5-e65f-05f3a27c51d3"
      },
      "source": [
        "et_oof_train, et_oof_test = get_oof(et, x_train, y_train, x_test)\r\n",
        "rf_oof_train, rf_oof_test = get_oof(rf, x_train, y_train, x_test)\r\n",
        "ada_oof_train, ada_oof_test = get_oof(ada, x_train, y_train, x_test)\r\n",
        "gb_oof_train, gb_oof_test = get_oof(gb, x_train, y_train, x_test)\r\n",
        "svc_oof_train, svc_oof_test = get_oof(svc, x_train, y_train, x_test)\r\n",
        "\r\n",
        "print('Traning is complete')"
      ],
      "execution_count": null,
      "outputs": [
        {
          "output_type": "stream",
          "text": [
            "i=  0\n",
            "i=  1\n",
            "i=  2\n",
            "i=  3\n",
            "i=  4\n",
            "i=  0\n",
            "i=  1\n",
            "i=  2\n",
            "i=  3\n",
            "i=  4\n",
            "i=  0\n",
            "i=  1\n",
            "i=  2\n",
            "i=  3\n",
            "i=  4\n",
            "i=  0\n",
            "i=  1\n",
            "i=  2\n",
            "i=  3\n",
            "i=  4\n",
            "i=  0\n",
            "i=  1\n",
            "i=  2\n",
            "i=  3\n",
            "i=  4\n",
            "Traning is complete\n"
          ],
          "name": "stdout"
        }
      ]
    },
    {
      "cell_type": "code",
      "metadata": {
        "colab": {
          "base_uri": "https://localhost:8080/"
        },
        "id": "sdxaZL3fVNxt",
        "outputId": "0d169609-f7ca-4bc8-a59d-f419dae388d1"
      },
      "source": [
        "et_oof_train.shape, et_oof_test.shape"
      ],
      "execution_count": null,
      "outputs": [
        {
          "output_type": "execute_result",
          "data": {
            "text/plain": [
              "((874, 1), (418, 1))"
            ]
          },
          "metadata": {
            "tags": []
          },
          "execution_count": 20
        }
      ]
    },
    {
      "cell_type": "code",
      "metadata": {
        "colab": {
          "base_uri": "https://localhost:8080/"
        },
        "id": "6TNvSLjEVrNO",
        "outputId": "668d5fa7-6eac-4420-f40a-5789bbd4130d"
      },
      "source": [
        "et_oof_train[:10], et_oof_test[:10]"
      ],
      "execution_count": null,
      "outputs": [
        {
          "output_type": "execute_result",
          "data": {
            "text/plain": [
              "(array([[0.],\n",
              "        [1.],\n",
              "        [0.],\n",
              "        [1.],\n",
              "        [0.],\n",
              "        [0.],\n",
              "        [0.],\n",
              "        [0.],\n",
              "        [1.],\n",
              "        [1.]]), array([[0. ],\n",
              "        [0.6],\n",
              "        [0. ],\n",
              "        [0. ],\n",
              "        [1. ],\n",
              "        [0. ],\n",
              "        [1. ],\n",
              "        [0. ],\n",
              "        [1. ],\n",
              "        [0. ]]))"
            ]
          },
          "metadata": {
            "tags": []
          },
          "execution_count": 21
        }
      ]
    },
    {
      "cell_type": "markdown",
      "metadata": {
        "id": "2UQ72IIuGVse"
      },
      "source": [
        "# Second-Level Predictions from the First-level Output"
      ]
    },
    {
      "cell_type": "code",
      "metadata": {
        "id": "K_qDbhniGgON"
      },
      "source": [
        "x_train = np.concatenate(( \r\n",
        "    et_oof_train, rf_oof_train, ada_oof_train, gb_oof_train, svc_oof_train), axis=1)\r\n",
        "x_test = np.concatenate(( \r\n",
        "    et_oof_test, rf_oof_test, ada_oof_test, gb_oof_test, svc_oof_test), axis=1)"
      ],
      "execution_count": null,
      "outputs": []
    },
    {
      "cell_type": "code",
      "metadata": {
        "colab": {
          "base_uri": "https://localhost:8080/"
        },
        "id": "PAdNOHQAV0Bo",
        "outputId": "c0e0dcd4-9a2b-49a2-aeb8-9dc933c93c92"
      },
      "source": [
        "x_train.shape, x_test.shape"
      ],
      "execution_count": null,
      "outputs": [
        {
          "output_type": "execute_result",
          "data": {
            "text/plain": [
              "((874, 5), (418, 5))"
            ]
          },
          "metadata": {
            "tags": []
          },
          "execution_count": 23
        }
      ]
    },
    {
      "cell_type": "code",
      "metadata": {
        "colab": {
          "base_uri": "https://localhost:8080/"
        },
        "id": "v076Bt-lV7WT",
        "outputId": "207646da-c596-4d4b-fb46-7a333a62adc5"
      },
      "source": [
        "x_train[:10], x_test[:10]"
      ],
      "execution_count": null,
      "outputs": [
        {
          "output_type": "execute_result",
          "data": {
            "text/plain": [
              "(array([[0., 0., 0., 0., 0.],\n",
              "        [1., 1., 1., 1., 1.],\n",
              "        [0., 0., 0., 0., 1.],\n",
              "        [1., 1., 1., 1., 1.],\n",
              "        [0., 0., 0., 0., 0.],\n",
              "        [0., 0., 0., 0., 0.],\n",
              "        [0., 0., 1., 0., 0.],\n",
              "        [0., 0., 0., 0., 0.],\n",
              "        [1., 1., 1., 1., 1.],\n",
              "        [1., 1., 1., 1., 1.]]), array([[0. , 0. , 0. , 0.2, 0. ],\n",
              "        [0.6, 1. , 0.6, 0. , 1. ],\n",
              "        [0. , 0. , 0. , 0. , 0. ],\n",
              "        [0. , 0. , 0. , 0.8, 0. ],\n",
              "        [1. , 1. , 0.4, 0.4, 1. ],\n",
              "        [0. , 0. , 0. , 0. , 0. ],\n",
              "        [1. , 1. , 1. , 0. , 1. ],\n",
              "        [0. , 0. , 0. , 0. , 0. ],\n",
              "        [1. , 1. , 1. , 1. , 1. ],\n",
              "        [0. , 0. , 0. , 0. , 0. ]]))"
            ]
          },
          "metadata": {
            "tags": []
          },
          "execution_count": 24
        }
      ]
    },
    {
      "cell_type": "code",
      "metadata": {
        "id": "edysRL1ZGqdV"
      },
      "source": [
        "gbm = xgb.XGBClassifier(\r\n",
        "    # learning_rate = 0.02,\r\n",
        "    n_estimators = 2000,\r\n",
        "    max_depth=4,\r\n",
        "    min_child_weight = 2,\r\n",
        "    # gamma=1,\r\n",
        "    gamma=0.9,\r\n",
        "    subsample = 0.8,\r\n",
        "    colsample_bytree=0.8,\r\n",
        "    objective = 'binary:logistic',\r\n",
        "    nthread= -1,\r\n",
        "    scale_pos_weight=1).fit(x_train, y_train)\r\n",
        "predictions = gbm.predict(x_test)"
      ],
      "execution_count": null,
      "outputs": []
    },
    {
      "cell_type": "code",
      "metadata": {
        "id": "dtpuXqFgGtvD"
      },
      "source": [
        "StackingSubmission = pd.DataFrame({ 'PassengerId': PassengerId,\r\n",
        "                            'Survived': predictions })\r\n",
        "StackingSubmission.to_csv(\"StackingSubmission_use_Titanic_3_notebook.csv\", index=False)"
      ],
      "execution_count": null,
      "outputs": []
    },
    {
      "cell_type": "code",
      "metadata": {
        "colab": {
          "base_uri": "https://localhost:8080/",
          "height": 399
        },
        "id": "1WCbVEuLWIu2",
        "outputId": "5449a11f-1a32-4cf2-d980-052ad855c26e"
      },
      "source": [
        "StackingSubmission"
      ],
      "execution_count": null,
      "outputs": [
        {
          "output_type": "execute_result",
          "data": {
            "text/html": [
              "<div>\n",
              "<style scoped>\n",
              "    .dataframe tbody tr th:only-of-type {\n",
              "        vertical-align: middle;\n",
              "    }\n",
              "\n",
              "    .dataframe tbody tr th {\n",
              "        vertical-align: top;\n",
              "    }\n",
              "\n",
              "    .dataframe thead th {\n",
              "        text-align: right;\n",
              "    }\n",
              "</style>\n",
              "<table border=\"1\" class=\"dataframe\">\n",
              "  <thead>\n",
              "    <tr style=\"text-align: right;\">\n",
              "      <th></th>\n",
              "      <th>PassengerId</th>\n",
              "      <th>Survived</th>\n",
              "    </tr>\n",
              "  </thead>\n",
              "  <tbody>\n",
              "    <tr>\n",
              "      <th>0</th>\n",
              "      <td>892</td>\n",
              "      <td>0.0</td>\n",
              "    </tr>\n",
              "    <tr>\n",
              "      <th>1</th>\n",
              "      <td>893</td>\n",
              "      <td>1.0</td>\n",
              "    </tr>\n",
              "    <tr>\n",
              "      <th>2</th>\n",
              "      <td>894</td>\n",
              "      <td>0.0</td>\n",
              "    </tr>\n",
              "    <tr>\n",
              "      <th>3</th>\n",
              "      <td>895</td>\n",
              "      <td>0.0</td>\n",
              "    </tr>\n",
              "    <tr>\n",
              "      <th>4</th>\n",
              "      <td>896</td>\n",
              "      <td>0.0</td>\n",
              "    </tr>\n",
              "    <tr>\n",
              "      <th>...</th>\n",
              "      <td>...</td>\n",
              "      <td>...</td>\n",
              "    </tr>\n",
              "    <tr>\n",
              "      <th>413</th>\n",
              "      <td>1305</td>\n",
              "      <td>0.0</td>\n",
              "    </tr>\n",
              "    <tr>\n",
              "      <th>414</th>\n",
              "      <td>1306</td>\n",
              "      <td>1.0</td>\n",
              "    </tr>\n",
              "    <tr>\n",
              "      <th>415</th>\n",
              "      <td>1307</td>\n",
              "      <td>0.0</td>\n",
              "    </tr>\n",
              "    <tr>\n",
              "      <th>416</th>\n",
              "      <td>1308</td>\n",
              "      <td>0.0</td>\n",
              "    </tr>\n",
              "    <tr>\n",
              "      <th>417</th>\n",
              "      <td>1309</td>\n",
              "      <td>1.0</td>\n",
              "    </tr>\n",
              "  </tbody>\n",
              "</table>\n",
              "<p>418 rows × 2 columns</p>\n",
              "</div>"
            ],
            "text/plain": [
              "     PassengerId  Survived\n",
              "0            892       0.0\n",
              "1            893       1.0\n",
              "2            894       0.0\n",
              "3            895       0.0\n",
              "4            896       0.0\n",
              "..           ...       ...\n",
              "413         1305       0.0\n",
              "414         1306       1.0\n",
              "415         1307       0.0\n",
              "416         1308       0.0\n",
              "417         1309       1.0\n",
              "\n",
              "[418 rows x 2 columns]"
            ]
          },
          "metadata": {
            "tags": []
          },
          "execution_count": 27
        }
      ]
    },
    {
      "cell_type": "code",
      "metadata": {
        "colab": {
          "base_uri": "https://localhost:8080/",
          "height": 399
        },
        "id": "zSPYuKY5WLVR",
        "outputId": "06fdbddb-5df3-4e77-9829-f5a02fc3633b"
      },
      "source": [
        "pd.read_csv('/content/gender_submission.csv')"
      ],
      "execution_count": null,
      "outputs": [
        {
          "output_type": "execute_result",
          "data": {
            "text/html": [
              "<div>\n",
              "<style scoped>\n",
              "    .dataframe tbody tr th:only-of-type {\n",
              "        vertical-align: middle;\n",
              "    }\n",
              "\n",
              "    .dataframe tbody tr th {\n",
              "        vertical-align: top;\n",
              "    }\n",
              "\n",
              "    .dataframe thead th {\n",
              "        text-align: right;\n",
              "    }\n",
              "</style>\n",
              "<table border=\"1\" class=\"dataframe\">\n",
              "  <thead>\n",
              "    <tr style=\"text-align: right;\">\n",
              "      <th></th>\n",
              "      <th>PassengerId</th>\n",
              "      <th>Survived</th>\n",
              "    </tr>\n",
              "  </thead>\n",
              "  <tbody>\n",
              "    <tr>\n",
              "      <th>0</th>\n",
              "      <td>892</td>\n",
              "      <td>0</td>\n",
              "    </tr>\n",
              "    <tr>\n",
              "      <th>1</th>\n",
              "      <td>893</td>\n",
              "      <td>1</td>\n",
              "    </tr>\n",
              "    <tr>\n",
              "      <th>2</th>\n",
              "      <td>894</td>\n",
              "      <td>0</td>\n",
              "    </tr>\n",
              "    <tr>\n",
              "      <th>3</th>\n",
              "      <td>895</td>\n",
              "      <td>0</td>\n",
              "    </tr>\n",
              "    <tr>\n",
              "      <th>4</th>\n",
              "      <td>896</td>\n",
              "      <td>1</td>\n",
              "    </tr>\n",
              "    <tr>\n",
              "      <th>...</th>\n",
              "      <td>...</td>\n",
              "      <td>...</td>\n",
              "    </tr>\n",
              "    <tr>\n",
              "      <th>413</th>\n",
              "      <td>1305</td>\n",
              "      <td>0</td>\n",
              "    </tr>\n",
              "    <tr>\n",
              "      <th>414</th>\n",
              "      <td>1306</td>\n",
              "      <td>1</td>\n",
              "    </tr>\n",
              "    <tr>\n",
              "      <th>415</th>\n",
              "      <td>1307</td>\n",
              "      <td>0</td>\n",
              "    </tr>\n",
              "    <tr>\n",
              "      <th>416</th>\n",
              "      <td>1308</td>\n",
              "      <td>0</td>\n",
              "    </tr>\n",
              "    <tr>\n",
              "      <th>417</th>\n",
              "      <td>1309</td>\n",
              "      <td>0</td>\n",
              "    </tr>\n",
              "  </tbody>\n",
              "</table>\n",
              "<p>418 rows × 2 columns</p>\n",
              "</div>"
            ],
            "text/plain": [
              "     PassengerId  Survived\n",
              "0            892         0\n",
              "1            893         1\n",
              "2            894         0\n",
              "3            895         0\n",
              "4            896         1\n",
              "..           ...       ...\n",
              "413         1305         0\n",
              "414         1306         1\n",
              "415         1307         0\n",
              "416         1308         0\n",
              "417         1309         0\n",
              "\n",
              "[418 rows x 2 columns]"
            ]
          },
          "metadata": {
            "tags": []
          },
          "execution_count": 28
        }
      ]
    },
    {
      "cell_type": "code",
      "metadata": {
        "id": "RJ42sHS3Wexk"
      },
      "source": [
        ""
      ],
      "execution_count": null,
      "outputs": []
    }
  ]
}