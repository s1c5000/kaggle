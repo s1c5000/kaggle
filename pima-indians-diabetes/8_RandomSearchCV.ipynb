{
  "nbformat": 4,
  "nbformat_minor": 0,
  "metadata": {
    "colab": {
      "name": "8_RandomSearchCV.ipynb",
      "provenance": [],
      "collapsed_sections": [],
      "authorship_tag": "ABX9TyOXswKFIF5LRQxJWcCEXqqU",
      "include_colab_link": true
    },
    "kernelspec": {
      "name": "python3",
      "display_name": "Python 3"
    }
  },
  "cells": [
    {
      "cell_type": "markdown",
      "metadata": {
        "id": "view-in-github",
        "colab_type": "text"
      },
      "source": [
        "<a href=\"https://colab.research.google.com/github/s1c5000/kaggle/blob/main/pima-indians-diabetes/8_RandomSearchCV.ipynb\" target=\"_parent\"><img src=\"https://colab.research.google.com/assets/colab-badge.svg\" alt=\"Open In Colab\"/></a>"
      ]
    },
    {
      "cell_type": "markdown",
      "metadata": {
        "id": "QZL193hddCDV"
      },
      "source": [
        "## 데이터 로드와 split"
      ]
    },
    {
      "cell_type": "code",
      "metadata": {
        "colab": {
          "base_uri": "https://localhost:8080/"
        },
        "id": "ZqBVA9K6dKly",
        "outputId": "ae290e4b-487d-4eac-bd62-3868b2da4b35"
      },
      "source": [
        "from google.colab import drive\n",
        "drive.mount('/content/drive')"
      ],
      "execution_count": null,
      "outputs": [
        {
          "output_type": "stream",
          "text": [
            "Drive already mounted at /content/drive; to attempt to forcibly remount, call drive.mount(\"/content/drive\", force_remount=True).\n"
          ],
          "name": "stdout"
        }
      ]
    },
    {
      "cell_type": "code",
      "metadata": {
        "id": "miOKQcyXdLiV"
      },
      "source": [
        "import pandas as pd\n",
        "import numpy as np\n",
        "import seaborn as sns\n",
        "import matplotlib.pyplot as plt\n",
        "\n",
        "%matplotlib inline"
      ],
      "execution_count": null,
      "outputs": []
    },
    {
      "cell_type": "code",
      "metadata": {
        "colab": {
          "base_uri": "https://localhost:8080/"
        },
        "id": "pAfMoufbdjaz",
        "outputId": "8de929a9-4120-4653-cd9a-afad5ef040d8"
      },
      "source": [
        "df = pd.read_csv('/content/drive/MyDrive/Colab Notebooks/sklearn/diabetes_feature.csv')\n",
        "df.shape"
      ],
      "execution_count": null,
      "outputs": [
        {
          "output_type": "execute_result",
          "data": {
            "text/plain": [
              "(768, 16)"
            ]
          },
          "metadata": {
            "tags": []
          },
          "execution_count": 31
        }
      ]
    },
    {
      "cell_type": "code",
      "metadata": {
        "id": "DpLwoNmldnwX",
        "colab": {
          "base_uri": "https://localhost:8080/"
        },
        "outputId": "e2d9e170-42d2-40f8-d870-ffdc7c84ddea"
      },
      "source": [
        "df.columns"
      ],
      "execution_count": null,
      "outputs": [
        {
          "output_type": "execute_result",
          "data": {
            "text/plain": [
              "Index(['Pregnancies', 'Glucose', 'BloodPressure', 'SkinThickness', 'Insulin',\n",
              "       'BMI', 'DiabetesPedigreeFunction', 'Age', 'Outcome', 'Pregnancies_high',\n",
              "       'Age_low', 'Age_middle', 'Age_high', 'Insulin_nan', 'Insulin_log',\n",
              "       'low_glu_insulin'],\n",
              "      dtype='object')"
            ]
          },
          "metadata": {
            "tags": []
          },
          "execution_count": 32
        }
      ]
    },
    {
      "cell_type": "code",
      "metadata": {
        "colab": {
          "base_uri": "https://localhost:8080/"
        },
        "id": "Is5gyr0bt1LH",
        "outputId": "e751559d-f949-4b18-d37f-4a6b6ee62219"
      },
      "source": [
        "x = df[['Glucose', 'BloodPressure', 'SkinThickness',\n",
        "       'BMI', 'DiabetesPedigreeFunction', 'Age', 'Pregnancies_high',\n",
        "       'Insulin_nan','low_glu_insulin']]\n",
        "x.shape"
      ],
      "execution_count": null,
      "outputs": [
        {
          "output_type": "execute_result",
          "data": {
            "text/plain": [
              "(768, 9)"
            ]
          },
          "metadata": {
            "tags": []
          },
          "execution_count": 33
        }
      ]
    },
    {
      "cell_type": "code",
      "metadata": {
        "colab": {
          "base_uri": "https://localhost:8080/"
        },
        "id": "ORGgfJe1uTce",
        "outputId": "3b391e07-6ac2-4b75-ddbb-4d1b5c0f3587"
      },
      "source": [
        "y = df['Outcome']\n",
        "y.shape"
      ],
      "execution_count": null,
      "outputs": [
        {
          "output_type": "execute_result",
          "data": {
            "text/plain": [
              "(768,)"
            ]
          },
          "metadata": {
            "tags": []
          },
          "execution_count": 34
        }
      ]
    },
    {
      "cell_type": "markdown",
      "metadata": {
        "id": "eaYFLgEpuYPh"
      },
      "source": [
        "sklearn에서 제공하는 model_selection의 train_test_split으로 테스트와 학습 나누어 보겠다"
      ]
    },
    {
      "cell_type": "code",
      "metadata": {
        "id": "UrUPbtQJumUF"
      },
      "source": [
        "# random 하게 세트들을 가져온다\n",
        "from sklearn.model_selection import train_test_split\n",
        "\n",
        "X_train, X_test, y_train, y_test = train_test_split(x,y, test_size=0.2, random_state=42)"
      ],
      "execution_count": null,
      "outputs": []
    },
    {
      "cell_type": "code",
      "metadata": {
        "colab": {
          "base_uri": "https://localhost:8080/",
          "height": 402
        },
        "id": "YmQvry7Vu16n",
        "outputId": "0f34dae3-84be-47e4-922a-e27234d0a609"
      },
      "source": [
        "X_train"
      ],
      "execution_count": null,
      "outputs": [
        {
          "output_type": "execute_result",
          "data": {
            "text/html": [
              "<div>\n",
              "<style scoped>\n",
              "    .dataframe tbody tr th:only-of-type {\n",
              "        vertical-align: middle;\n",
              "    }\n",
              "\n",
              "    .dataframe tbody tr th {\n",
              "        vertical-align: top;\n",
              "    }\n",
              "\n",
              "    .dataframe thead th {\n",
              "        text-align: right;\n",
              "    }\n",
              "</style>\n",
              "<table border=\"1\" class=\"dataframe\">\n",
              "  <thead>\n",
              "    <tr style=\"text-align: right;\">\n",
              "      <th></th>\n",
              "      <th>Glucose</th>\n",
              "      <th>BloodPressure</th>\n",
              "      <th>SkinThickness</th>\n",
              "      <th>BMI</th>\n",
              "      <th>DiabetesPedigreeFunction</th>\n",
              "      <th>Age</th>\n",
              "      <th>Pregnancies_high</th>\n",
              "      <th>Insulin_nan</th>\n",
              "      <th>low_glu_insulin</th>\n",
              "    </tr>\n",
              "  </thead>\n",
              "  <tbody>\n",
              "    <tr>\n",
              "      <th>60</th>\n",
              "      <td>84</td>\n",
              "      <td>0</td>\n",
              "      <td>0</td>\n",
              "      <td>0.0</td>\n",
              "      <td>0.304</td>\n",
              "      <td>21</td>\n",
              "      <td>False</td>\n",
              "      <td>102.5</td>\n",
              "      <td>True</td>\n",
              "    </tr>\n",
              "    <tr>\n",
              "      <th>618</th>\n",
              "      <td>112</td>\n",
              "      <td>82</td>\n",
              "      <td>24</td>\n",
              "      <td>28.2</td>\n",
              "      <td>1.282</td>\n",
              "      <td>50</td>\n",
              "      <td>True</td>\n",
              "      <td>169.5</td>\n",
              "      <td>False</td>\n",
              "    </tr>\n",
              "    <tr>\n",
              "      <th>346</th>\n",
              "      <td>139</td>\n",
              "      <td>46</td>\n",
              "      <td>19</td>\n",
              "      <td>28.7</td>\n",
              "      <td>0.654</td>\n",
              "      <td>22</td>\n",
              "      <td>False</td>\n",
              "      <td>83.0</td>\n",
              "      <td>False</td>\n",
              "    </tr>\n",
              "    <tr>\n",
              "      <th>294</th>\n",
              "      <td>161</td>\n",
              "      <td>50</td>\n",
              "      <td>0</td>\n",
              "      <td>21.9</td>\n",
              "      <td>0.254</td>\n",
              "      <td>65</td>\n",
              "      <td>False</td>\n",
              "      <td>102.5</td>\n",
              "      <td>False</td>\n",
              "    </tr>\n",
              "    <tr>\n",
              "      <th>231</th>\n",
              "      <td>134</td>\n",
              "      <td>80</td>\n",
              "      <td>37</td>\n",
              "      <td>46.2</td>\n",
              "      <td>0.238</td>\n",
              "      <td>46</td>\n",
              "      <td>False</td>\n",
              "      <td>370.0</td>\n",
              "      <td>False</td>\n",
              "    </tr>\n",
              "    <tr>\n",
              "      <th>...</th>\n",
              "      <td>...</td>\n",
              "      <td>...</td>\n",
              "      <td>...</td>\n",
              "      <td>...</td>\n",
              "      <td>...</td>\n",
              "      <td>...</td>\n",
              "      <td>...</td>\n",
              "      <td>...</td>\n",
              "      <td>...</td>\n",
              "    </tr>\n",
              "    <tr>\n",
              "      <th>71</th>\n",
              "      <td>139</td>\n",
              "      <td>64</td>\n",
              "      <td>35</td>\n",
              "      <td>28.6</td>\n",
              "      <td>0.411</td>\n",
              "      <td>26</td>\n",
              "      <td>False</td>\n",
              "      <td>140.0</td>\n",
              "      <td>False</td>\n",
              "    </tr>\n",
              "    <tr>\n",
              "      <th>106</th>\n",
              "      <td>96</td>\n",
              "      <td>122</td>\n",
              "      <td>0</td>\n",
              "      <td>22.4</td>\n",
              "      <td>0.207</td>\n",
              "      <td>27</td>\n",
              "      <td>False</td>\n",
              "      <td>102.5</td>\n",
              "      <td>True</td>\n",
              "    </tr>\n",
              "    <tr>\n",
              "      <th>270</th>\n",
              "      <td>101</td>\n",
              "      <td>86</td>\n",
              "      <td>37</td>\n",
              "      <td>45.6</td>\n",
              "      <td>1.136</td>\n",
              "      <td>38</td>\n",
              "      <td>True</td>\n",
              "      <td>169.5</td>\n",
              "      <td>False</td>\n",
              "    </tr>\n",
              "    <tr>\n",
              "      <th>435</th>\n",
              "      <td>141</td>\n",
              "      <td>0</td>\n",
              "      <td>0</td>\n",
              "      <td>42.4</td>\n",
              "      <td>0.205</td>\n",
              "      <td>29</td>\n",
              "      <td>False</td>\n",
              "      <td>169.5</td>\n",
              "      <td>False</td>\n",
              "    </tr>\n",
              "    <tr>\n",
              "      <th>102</th>\n",
              "      <td>125</td>\n",
              "      <td>96</td>\n",
              "      <td>0</td>\n",
              "      <td>22.5</td>\n",
              "      <td>0.262</td>\n",
              "      <td>21</td>\n",
              "      <td>False</td>\n",
              "      <td>102.5</td>\n",
              "      <td>False</td>\n",
              "    </tr>\n",
              "  </tbody>\n",
              "</table>\n",
              "<p>614 rows × 9 columns</p>\n",
              "</div>"
            ],
            "text/plain": [
              "     Glucose  BloodPressure  ...  Insulin_nan  low_glu_insulin\n",
              "60        84              0  ...        102.5             True\n",
              "618      112             82  ...        169.5            False\n",
              "346      139             46  ...         83.0            False\n",
              "294      161             50  ...        102.5            False\n",
              "231      134             80  ...        370.0            False\n",
              "..       ...            ...  ...          ...              ...\n",
              "71       139             64  ...        140.0            False\n",
              "106       96            122  ...        102.5             True\n",
              "270      101             86  ...        169.5            False\n",
              "435      141              0  ...        169.5            False\n",
              "102      125             96  ...        102.5            False\n",
              "\n",
              "[614 rows x 9 columns]"
            ]
          },
          "metadata": {
            "tags": []
          },
          "execution_count": 36
        }
      ]
    },
    {
      "cell_type": "code",
      "metadata": {
        "colab": {
          "base_uri": "https://localhost:8080/"
        },
        "id": "uPbGeOwFu-r8",
        "outputId": "9473aca1-2c59-495a-ce08-c09eb9f5b1c0"
      },
      "source": [
        "X_train.shape, y_train.shape, X_test.shape, y_test.shape"
      ],
      "execution_count": null,
      "outputs": [
        {
          "output_type": "execute_result",
          "data": {
            "text/plain": [
              "((614, 9), (614,), (154, 9), (154,))"
            ]
          },
          "metadata": {
            "tags": []
          },
          "execution_count": 37
        }
      ]
    },
    {
      "cell_type": "markdown",
      "metadata": {
        "id": "MpM7TkiSvimd"
      },
      "source": [
        "## 여러개의 알고리즘을 사용해서 비교하기"
      ]
    },
    {
      "cell_type": "code",
      "metadata": {
        "colab": {
          "base_uri": "https://localhost:8080/"
        },
        "id": "0EGHV8EYQqWP",
        "outputId": "0f72d517-8906-4381-b95f-7096dee61176"
      },
      "source": [
        "# 여러개의 알고리즘을 선언한 뒤 하나의 변수에 리스트 형태로 넣어준다\n",
        "\n",
        "from sklearn.tree import DecisionTreeClassifier\n",
        "from sklearn.ensemble import RandomForestClassifier, GradientBoostingClassifier\n",
        "\n",
        "estimators = [DecisionTreeClassifier(random_state=42),\n",
        "              RandomForestClassifier(random_state=42),\n",
        "              GradientBoostingClassifier(random_state=42)\n",
        "]\n",
        "\n",
        "estimators"
      ],
      "execution_count": null,
      "outputs": [
        {
          "output_type": "execute_result",
          "data": {
            "text/plain": [
              "[DecisionTreeClassifier(ccp_alpha=0.0, class_weight=None, criterion='gini',\n",
              "                        max_depth=None, max_features=None, max_leaf_nodes=None,\n",
              "                        min_impurity_decrease=0.0, min_impurity_split=None,\n",
              "                        min_samples_leaf=1, min_samples_split=2,\n",
              "                        min_weight_fraction_leaf=0.0, presort='deprecated',\n",
              "                        random_state=42, splitter='best'),\n",
              " RandomForestClassifier(bootstrap=True, ccp_alpha=0.0, class_weight=None,\n",
              "                        criterion='gini', max_depth=None, max_features='auto',\n",
              "                        max_leaf_nodes=None, max_samples=None,\n",
              "                        min_impurity_decrease=0.0, min_impurity_split=None,\n",
              "                        min_samples_leaf=1, min_samples_split=2,\n",
              "                        min_weight_fraction_leaf=0.0, n_estimators=100,\n",
              "                        n_jobs=None, oob_score=False, random_state=42, verbose=0,\n",
              "                        warm_start=False),\n",
              " GradientBoostingClassifier(ccp_alpha=0.0, criterion='friedman_mse', init=None,\n",
              "                            learning_rate=0.1, loss='deviance', max_depth=3,\n",
              "                            max_features=None, max_leaf_nodes=None,\n",
              "                            min_impurity_decrease=0.0, min_impurity_split=None,\n",
              "                            min_samples_leaf=1, min_samples_split=2,\n",
              "                            min_weight_fraction_leaf=0.0, n_estimators=100,\n",
              "                            n_iter_no_change=None, presort='deprecated',\n",
              "                            random_state=42, subsample=1.0, tol=0.0001,\n",
              "                            validation_fraction=0.1, verbose=0,\n",
              "                            warm_start=False)]"
            ]
          },
          "metadata": {
            "tags": []
          },
          "execution_count": 38
        }
      ]
    },
    {
      "cell_type": "code",
      "metadata": {
        "colab": {
          "base_uri": "https://localhost:8080/"
        },
        "id": "a0V0ge8HUnwZ",
        "outputId": "744714db-6492-4e91-fc53-490b0a10f5a9"
      },
      "source": [
        "# for문으로 알고리즘 이름 출력가능\n",
        "for estimator in estimators:\n",
        "  print(estimator.__class__.__name__)\n",
        "RandomizedSearchCV( )"
      ],
      "execution_count": null,
      "outputs": [
        {
          "output_type": "stream",
          "text": [
            "DecisionTreeClassifier\n",
            "RandomForestClassifier\n",
            "GradientBoostingClassifier\n"
          ],
          "name": "stdout"
        }
      ]
    },
    {
      "cell_type": "code",
      "metadata": {
        "colab": {
          "base_uri": "https://localhost:8080/"
        },
        "id": "qZ4MM4L-cgIR",
        "outputId": "999f3773-6630-4abe-b6da-b4490783282d"
      },
      "source": [
        "from sklearn.model_selection import RandomizedSearchCV\n",
        "\n",
        "max_depth = np.random.randint(2,20,10)\n",
        "max_features = np.random.uniform(0.3, 1.0, 10)\n",
        "# parameter 값들을 이름으로 넣는다\n",
        "param_distributions = {'max_depth' : max_depth, \n",
        "                      'max_features' : max_features}\n",
        "                      \n",
        "results = []\n",
        "# 알고리즘이 순회하면서 돈다\n",
        "for estimator in estimators:\n",
        "  # RF와 GB는 n_estimators parameter가 있으니 넣어준다\n",
        "  if estimator.__class__.__name__ != 'DecisionTreeClassifier':\n",
        "    param_distributions['n_estimators'] = np.random.randint(100,200,10)\n",
        "\n",
        "  clf = RandomizedSearchCV(estimator, \n",
        "                          param_distributions,\n",
        "                          n_iter=100, \n",
        "                          scoring='accuracy',\n",
        "                          n_jobs= -1, \n",
        "                          cv=5, \n",
        "                          verbose=2\n",
        "                          )\n",
        "  \n",
        "  clf.fit(X_train, y_train)\n",
        "  results.append([estimator.__class__.__name__, clf.best_params_, clf.best_score_,clf.score(X_test,y_test), clf.cv_results_])\n"
      ],
      "execution_count": null,
      "outputs": [
        {
          "output_type": "stream",
          "text": [
            "Fitting 5 folds for each of 100 candidates, totalling 500 fits\n"
          ],
          "name": "stdout"
        },
        {
          "output_type": "stream",
          "text": [
            "[Parallel(n_jobs=-1)]: Using backend LokyBackend with 2 concurrent workers.\n",
            "[Parallel(n_jobs=-1)]: Done 396 tasks      | elapsed:    1.8s\n",
            "[Parallel(n_jobs=-1)]: Done 500 out of 500 | elapsed:    2.4s finished\n",
            "[Parallel(n_jobs=-1)]: Using backend LokyBackend with 2 concurrent workers.\n"
          ],
          "name": "stderr"
        },
        {
          "output_type": "stream",
          "text": [
            "Fitting 5 folds for each of 100 candidates, totalling 500 fits\n"
          ],
          "name": "stdout"
        },
        {
          "output_type": "stream",
          "text": [
            "[Parallel(n_jobs=-1)]: Done  37 tasks      | elapsed:    9.8s\n",
            "[Parallel(n_jobs=-1)]: Done 158 tasks      | elapsed:   41.7s\n",
            "[Parallel(n_jobs=-1)]: Done 361 tasks      | elapsed:  1.6min\n",
            "[Parallel(n_jobs=-1)]: Done 500 out of 500 | elapsed:  2.2min finished\n"
          ],
          "name": "stderr"
        },
        {
          "output_type": "stream",
          "text": [
            "Fitting 5 folds for each of 100 candidates, totalling 500 fits\n"
          ],
          "name": "stdout"
        },
        {
          "output_type": "stream",
          "text": [
            "[Parallel(n_jobs=-1)]: Using backend LokyBackend with 2 concurrent workers.\n",
            "[Parallel(n_jobs=-1)]: Done  37 tasks      | elapsed:    9.6s\n",
            "[Parallel(n_jobs=-1)]: Done 158 tasks      | elapsed:   40.7s\n",
            "[Parallel(n_jobs=-1)]: Done 361 tasks      | elapsed:  1.5min\n",
            "[Parallel(n_jobs=-1)]: Done 500 out of 500 | elapsed:  2.0min finished\n"
          ],
          "name": "stderr"
        }
      ]
    },
    {
      "cell_type": "code",
      "metadata": {
        "colab": {
          "base_uri": "https://localhost:8080/",
          "height": 136
        },
        "id": "BF3mNp2iWTu4",
        "outputId": "68c202bf-b169-44e6-eb50-4a598bdeb0cf"
      },
      "source": [
        "results_df = pd.DataFrame(results, columns=['estimator', 'best_params', 'train_score', 'test_score','cv_result'])\n",
        "results_df\n",
        "# cv 와 n_iter 값들을 올리면 더 좋은 모델을 얻을 수 있다.\n",
        "# 결과를 보고 parameter값들을 수정해간다."
      ],
      "execution_count": null,
      "outputs": [
        {
          "output_type": "execute_result",
          "data": {
            "text/html": [
              "<div>\n",
              "<style scoped>\n",
              "    .dataframe tbody tr th:only-of-type {\n",
              "        vertical-align: middle;\n",
              "    }\n",
              "\n",
              "    .dataframe tbody tr th {\n",
              "        vertical-align: top;\n",
              "    }\n",
              "\n",
              "    .dataframe thead th {\n",
              "        text-align: right;\n",
              "    }\n",
              "</style>\n",
              "<table border=\"1\" class=\"dataframe\">\n",
              "  <thead>\n",
              "    <tr style=\"text-align: right;\">\n",
              "      <th></th>\n",
              "      <th>estimator</th>\n",
              "      <th>best_params</th>\n",
              "      <th>train_score</th>\n",
              "      <th>test_score</th>\n",
              "      <th>cv_result</th>\n",
              "    </tr>\n",
              "  </thead>\n",
              "  <tbody>\n",
              "    <tr>\n",
              "      <th>0</th>\n",
              "      <td>DecisionTreeClassifier</td>\n",
              "      <td>{'max_features': 0.6455929642522225, 'max_dept...</td>\n",
              "      <td>0.866480</td>\n",
              "      <td>0.837662</td>\n",
              "      <td>{'mean_fit_time': [0.005972146987915039, 0.006...</td>\n",
              "    </tr>\n",
              "    <tr>\n",
              "      <th>1</th>\n",
              "      <td>RandomForestClassifier</td>\n",
              "      <td>{'n_estimators': 187, 'max_features': 0.645592...</td>\n",
              "      <td>0.903985</td>\n",
              "      <td>0.863636</td>\n",
              "      <td>{'mean_fit_time': [0.5050442218780518, 0.54792...</td>\n",
              "    </tr>\n",
              "    <tr>\n",
              "      <th>2</th>\n",
              "      <td>GradientBoostingClassifier</td>\n",
              "      <td>{'n_estimators': 171, 'max_features': 0.448809...</td>\n",
              "      <td>0.907224</td>\n",
              "      <td>0.863636</td>\n",
              "      <td>{'mean_fit_time': [0.42422094345092776, 0.4292...</td>\n",
              "    </tr>\n",
              "  </tbody>\n",
              "</table>\n",
              "</div>"
            ],
            "text/plain": [
              "                    estimator  ...                                          cv_result\n",
              "0      DecisionTreeClassifier  ...  {'mean_fit_time': [0.005972146987915039, 0.006...\n",
              "1      RandomForestClassifier  ...  {'mean_fit_time': [0.5050442218780518, 0.54792...\n",
              "2  GradientBoostingClassifier  ...  {'mean_fit_time': [0.42422094345092776, 0.4292...\n",
              "\n",
              "[3 rows x 5 columns]"
            ]
          },
          "metadata": {
            "tags": []
          },
          "execution_count": 52
        }
      ]
    },
    {
      "cell_type": "code",
      "metadata": {
        "colab": {
          "base_uri": "https://localhost:8080/",
          "height": 467
        },
        "id": "J282E8dIaK5R",
        "outputId": "e3bd1bd4-55ea-4a79-e553-a45df0806aac"
      },
      "source": [
        "pd.DataFrame(results_df.loc[1, \"cv_result\"]).sort_values(by=\"rank_test_score\").head()"
      ],
      "execution_count": null,
      "outputs": [
        {
          "output_type": "execute_result",
          "data": {
            "text/html": [
              "<div>\n",
              "<style scoped>\n",
              "    .dataframe tbody tr th:only-of-type {\n",
              "        vertical-align: middle;\n",
              "    }\n",
              "\n",
              "    .dataframe tbody tr th {\n",
              "        vertical-align: top;\n",
              "    }\n",
              "\n",
              "    .dataframe thead th {\n",
              "        text-align: right;\n",
              "    }\n",
              "</style>\n",
              "<table border=\"1\" class=\"dataframe\">\n",
              "  <thead>\n",
              "    <tr style=\"text-align: right;\">\n",
              "      <th></th>\n",
              "      <th>mean_fit_time</th>\n",
              "      <th>std_fit_time</th>\n",
              "      <th>mean_score_time</th>\n",
              "      <th>std_score_time</th>\n",
              "      <th>param_n_estimators</th>\n",
              "      <th>param_max_features</th>\n",
              "      <th>param_max_depth</th>\n",
              "      <th>params</th>\n",
              "      <th>split0_test_score</th>\n",
              "      <th>split1_test_score</th>\n",
              "      <th>split2_test_score</th>\n",
              "      <th>split3_test_score</th>\n",
              "      <th>split4_test_score</th>\n",
              "      <th>mean_test_score</th>\n",
              "      <th>std_test_score</th>\n",
              "      <th>rank_test_score</th>\n",
              "    </tr>\n",
              "  </thead>\n",
              "  <tbody>\n",
              "    <tr>\n",
              "      <th>29</th>\n",
              "      <td>0.618882</td>\n",
              "      <td>0.018619</td>\n",
              "      <td>0.032172</td>\n",
              "      <td>0.001486</td>\n",
              "      <td>187</td>\n",
              "      <td>0.645593</td>\n",
              "      <td>12</td>\n",
              "      <td>{'n_estimators': 187, 'max_features': 0.645592...</td>\n",
              "      <td>0.878049</td>\n",
              "      <td>0.934959</td>\n",
              "      <td>0.853659</td>\n",
              "      <td>0.902439</td>\n",
              "      <td>0.950820</td>\n",
              "      <td>0.903985</td>\n",
              "      <td>0.035667</td>\n",
              "      <td>1</td>\n",
              "    </tr>\n",
              "    <tr>\n",
              "      <th>20</th>\n",
              "      <td>0.471137</td>\n",
              "      <td>0.022420</td>\n",
              "      <td>0.023326</td>\n",
              "      <td>0.002940</td>\n",
              "      <td>123</td>\n",
              "      <td>0.854532</td>\n",
              "      <td>7</td>\n",
              "      <td>{'n_estimators': 123, 'max_features': 0.854531...</td>\n",
              "      <td>0.886179</td>\n",
              "      <td>0.934959</td>\n",
              "      <td>0.869919</td>\n",
              "      <td>0.886179</td>\n",
              "      <td>0.942623</td>\n",
              "      <td>0.903972</td>\n",
              "      <td>0.029144</td>\n",
              "      <td>2</td>\n",
              "    </tr>\n",
              "    <tr>\n",
              "      <th>4</th>\n",
              "      <td>0.521181</td>\n",
              "      <td>0.011900</td>\n",
              "      <td>0.028729</td>\n",
              "      <td>0.002801</td>\n",
              "      <td>168</td>\n",
              "      <td>0.671337</td>\n",
              "      <td>6</td>\n",
              "      <td>{'n_estimators': 168, 'max_features': 0.671336...</td>\n",
              "      <td>0.869919</td>\n",
              "      <td>0.926829</td>\n",
              "      <td>0.878049</td>\n",
              "      <td>0.902439</td>\n",
              "      <td>0.942623</td>\n",
              "      <td>0.903972</td>\n",
              "      <td>0.027750</td>\n",
              "      <td>3</td>\n",
              "    </tr>\n",
              "    <tr>\n",
              "      <th>91</th>\n",
              "      <td>0.567271</td>\n",
              "      <td>0.012113</td>\n",
              "      <td>0.029811</td>\n",
              "      <td>0.000531</td>\n",
              "      <td>187</td>\n",
              "      <td>0.645593</td>\n",
              "      <td>19</td>\n",
              "      <td>{'n_estimators': 187, 'max_features': 0.645592...</td>\n",
              "      <td>0.878049</td>\n",
              "      <td>0.934959</td>\n",
              "      <td>0.861789</td>\n",
              "      <td>0.902439</td>\n",
              "      <td>0.942623</td>\n",
              "      <td>0.903972</td>\n",
              "      <td>0.031330</td>\n",
              "      <td>3</td>\n",
              "    </tr>\n",
              "    <tr>\n",
              "      <th>15</th>\n",
              "      <td>0.541652</td>\n",
              "      <td>0.028870</td>\n",
              "      <td>0.030431</td>\n",
              "      <td>0.003390</td>\n",
              "      <td>168</td>\n",
              "      <td>0.671337</td>\n",
              "      <td>6</td>\n",
              "      <td>{'n_estimators': 168, 'max_features': 0.671336...</td>\n",
              "      <td>0.869919</td>\n",
              "      <td>0.926829</td>\n",
              "      <td>0.878049</td>\n",
              "      <td>0.902439</td>\n",
              "      <td>0.942623</td>\n",
              "      <td>0.903972</td>\n",
              "      <td>0.027750</td>\n",
              "      <td>3</td>\n",
              "    </tr>\n",
              "  </tbody>\n",
              "</table>\n",
              "</div>"
            ],
            "text/plain": [
              "    mean_fit_time  std_fit_time  ...  std_test_score  rank_test_score\n",
              "29       0.618882      0.018619  ...        0.035667                1\n",
              "20       0.471137      0.022420  ...        0.029144                2\n",
              "4        0.521181      0.011900  ...        0.027750                3\n",
              "91       0.567271      0.012113  ...        0.031330                3\n",
              "15       0.541652      0.028870  ...        0.027750                3\n",
              "\n",
              "[5 rows x 16 columns]"
            ]
          },
          "metadata": {
            "tags": []
          },
          "execution_count": 54
        }
      ]
    },
    {
      "cell_type": "code",
      "metadata": {
        "id": "Uz3s5MAWaNUt"
      },
      "source": [
        ""
      ],
      "execution_count": null,
      "outputs": []
    }
  ]
}