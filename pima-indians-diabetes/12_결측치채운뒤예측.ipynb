{
  "nbformat": 4,
  "nbformat_minor": 0,
  "metadata": {
    "colab": {
      "name": "12_결측치채운뒤예측.ipynb",
      "provenance": [],
      "collapsed_sections": [],
      "mount_file_id": "1RTpOyQtgdX5LqCIvC5EwzKZ0Q2b3sJo6",
      "authorship_tag": "ABX9TyNw6mVaZPwdow4sIWY7QG52",
      "include_colab_link": true
    },
    "kernelspec": {
      "name": "python3",
      "display_name": "Python 3"
    }
  },
  "cells": [
    {
      "cell_type": "markdown",
      "metadata": {
        "id": "view-in-github",
        "colab_type": "text"
      },
      "source": [
        "<a href=\"https://colab.research.google.com/github/s1c5000/kaggle/blob/main/pima-indians-diabetes/12_%EA%B2%B0%EC%B8%A1%EC%B9%98%EC%B1%84%EC%9A%B4%EB%92%A4%EC%98%88%EC%B8%A1.ipynb\" target=\"_parent\"><img src=\"https://colab.research.google.com/assets/colab-badge.svg\" alt=\"Open In Colab\"/></a>"
      ]
    },
    {
      "cell_type": "code",
      "metadata": {
        "id": "I4QWB5lDG09v"
      },
      "source": [
        "import pandas as pd\n",
        "import numpy as np\n",
        "import matplotlib.pyplot as plt\n",
        "import seaborn as sns\n",
        "\n",
        "%matplotlib inline"
      ],
      "execution_count": null,
      "outputs": []
    },
    {
      "cell_type": "code",
      "metadata": {
        "colab": {
          "base_uri": "https://localhost:8080/",
          "height": 215
        },
        "id": "fR8p2WQkHgTD",
        "outputId": "5fa5e7db-20a9-4905-8c6c-dfd8aef1d398"
      },
      "source": [
        "df = pd.read_csv('/content/drive/MyDrive/Colab Notebooks/sklearn/diabetes_feature.csv')\n",
        "\n",
        "df_insulin = pd.read_csv('/content/drive/MyDrive/Colab Notebooks/sklearn/diabetes_fill_insulin.csv')\n",
        "\n",
        "df['Insulin'] = df_insulin['Insulin']\n",
        "df.head()"
      ],
      "execution_count": null,
      "outputs": [
        {
          "output_type": "execute_result",
          "data": {
            "text/html": [
              "<div>\n",
              "<style scoped>\n",
              "    .dataframe tbody tr th:only-of-type {\n",
              "        vertical-align: middle;\n",
              "    }\n",
              "\n",
              "    .dataframe tbody tr th {\n",
              "        vertical-align: top;\n",
              "    }\n",
              "\n",
              "    .dataframe thead th {\n",
              "        text-align: right;\n",
              "    }\n",
              "</style>\n",
              "<table border=\"1\" class=\"dataframe\">\n",
              "  <thead>\n",
              "    <tr style=\"text-align: right;\">\n",
              "      <th></th>\n",
              "      <th>Pregnancies</th>\n",
              "      <th>Glucose</th>\n",
              "      <th>BloodPressure</th>\n",
              "      <th>SkinThickness</th>\n",
              "      <th>Insulin</th>\n",
              "      <th>BMI</th>\n",
              "      <th>DiabetesPedigreeFunction</th>\n",
              "      <th>Age</th>\n",
              "      <th>Outcome</th>\n",
              "      <th>Pregnancies_high</th>\n",
              "      <th>Age_low</th>\n",
              "      <th>Age_middle</th>\n",
              "      <th>Age_high</th>\n",
              "      <th>Insulin_nan</th>\n",
              "      <th>Insulin_log</th>\n",
              "      <th>low_glu_insulin</th>\n",
              "    </tr>\n",
              "  </thead>\n",
              "  <tbody>\n",
              "    <tr>\n",
              "      <th>0</th>\n",
              "      <td>6</td>\n",
              "      <td>148</td>\n",
              "      <td>72</td>\n",
              "      <td>35</td>\n",
              "      <td>193.458387</td>\n",
              "      <td>33.6</td>\n",
              "      <td>0.627</td>\n",
              "      <td>50</td>\n",
              "      <td>1</td>\n",
              "      <td>False</td>\n",
              "      <td>False</td>\n",
              "      <td>True</td>\n",
              "      <td>False</td>\n",
              "      <td>169.5</td>\n",
              "      <td>5.138735</td>\n",
              "      <td>False</td>\n",
              "    </tr>\n",
              "    <tr>\n",
              "      <th>1</th>\n",
              "      <td>1</td>\n",
              "      <td>85</td>\n",
              "      <td>66</td>\n",
              "      <td>29</td>\n",
              "      <td>57.000730</td>\n",
              "      <td>26.6</td>\n",
              "      <td>0.351</td>\n",
              "      <td>31</td>\n",
              "      <td>0</td>\n",
              "      <td>False</td>\n",
              "      <td>False</td>\n",
              "      <td>True</td>\n",
              "      <td>False</td>\n",
              "      <td>102.5</td>\n",
              "      <td>4.639572</td>\n",
              "      <td>True</td>\n",
              "    </tr>\n",
              "    <tr>\n",
              "      <th>2</th>\n",
              "      <td>8</td>\n",
              "      <td>183</td>\n",
              "      <td>64</td>\n",
              "      <td>0</td>\n",
              "      <td>184.327899</td>\n",
              "      <td>23.3</td>\n",
              "      <td>0.672</td>\n",
              "      <td>32</td>\n",
              "      <td>1</td>\n",
              "      <td>True</td>\n",
              "      <td>False</td>\n",
              "      <td>True</td>\n",
              "      <td>False</td>\n",
              "      <td>169.5</td>\n",
              "      <td>5.138735</td>\n",
              "      <td>False</td>\n",
              "    </tr>\n",
              "    <tr>\n",
              "      <th>3</th>\n",
              "      <td>1</td>\n",
              "      <td>89</td>\n",
              "      <td>66</td>\n",
              "      <td>23</td>\n",
              "      <td>94.000000</td>\n",
              "      <td>28.1</td>\n",
              "      <td>0.167</td>\n",
              "      <td>21</td>\n",
              "      <td>0</td>\n",
              "      <td>False</td>\n",
              "      <td>True</td>\n",
              "      <td>False</td>\n",
              "      <td>False</td>\n",
              "      <td>94.0</td>\n",
              "      <td>4.553877</td>\n",
              "      <td>True</td>\n",
              "    </tr>\n",
              "    <tr>\n",
              "      <th>4</th>\n",
              "      <td>0</td>\n",
              "      <td>137</td>\n",
              "      <td>40</td>\n",
              "      <td>35</td>\n",
              "      <td>168.000000</td>\n",
              "      <td>43.1</td>\n",
              "      <td>2.288</td>\n",
              "      <td>33</td>\n",
              "      <td>1</td>\n",
              "      <td>False</td>\n",
              "      <td>False</td>\n",
              "      <td>True</td>\n",
              "      <td>False</td>\n",
              "      <td>168.0</td>\n",
              "      <td>5.129899</td>\n",
              "      <td>False</td>\n",
              "    </tr>\n",
              "  </tbody>\n",
              "</table>\n",
              "</div>"
            ],
            "text/plain": [
              "   Pregnancies  Glucose  ...  Insulin_log  low_glu_insulin\n",
              "0            6      148  ...     5.138735            False\n",
              "1            1       85  ...     4.639572             True\n",
              "2            8      183  ...     5.138735            False\n",
              "3            1       89  ...     4.553877             True\n",
              "4            0      137  ...     5.129899            False\n",
              "\n",
              "[5 rows x 16 columns]"
            ]
          },
          "metadata": {
            "tags": []
          },
          "execution_count": 3
        }
      ]
    },
    {
      "cell_type": "code",
      "metadata": {
        "colab": {
          "base_uri": "https://localhost:8080/"
        },
        "id": "C_lQibLeIDJK",
        "outputId": "dbbd06ac-ba7e-4cdc-d16d-47d82555ff48"
      },
      "source": [
        "X = df[['Glucose', 'BloodPressure', 'SkinThickness',\n",
        "       'BMI', 'DiabetesPedigreeFunction', 'Age', 'Pregnancies_high',\n",
        "       'Insulin']]\n",
        "X.shape"
      ],
      "execution_count": null,
      "outputs": [
        {
          "output_type": "execute_result",
          "data": {
            "text/plain": [
              "(768, 8)"
            ]
          },
          "metadata": {
            "tags": []
          },
          "execution_count": 4
        }
      ]
    },
    {
      "cell_type": "code",
      "metadata": {
        "colab": {
          "base_uri": "https://localhost:8080/"
        },
        "id": "P9uh1rCVIa4N",
        "outputId": "db21d9ef-b8d5-4a58-87b0-dd2e945e015b"
      },
      "source": [
        "y = df['Outcome']\n",
        "y.shape"
      ],
      "execution_count": null,
      "outputs": [
        {
          "output_type": "execute_result",
          "data": {
            "text/plain": [
              "(768,)"
            ]
          },
          "metadata": {
            "tags": []
          },
          "execution_count": 5
        }
      ]
    },
    {
      "cell_type": "code",
      "metadata": {
        "id": "nXmH-8yiIdD6"
      },
      "source": [
        "from sklearn.model_selection import train_test_split\n",
        "\n",
        "X_train, X_test, y_train, y_test = train_test_split(\n",
        "    X, y, test_size=0.2, random_state=42)"
      ],
      "execution_count": null,
      "outputs": []
    },
    {
      "cell_type": "code",
      "metadata": {
        "colab": {
          "base_uri": "https://localhost:8080/"
        },
        "id": "F2jxR2MCIfI3",
        "outputId": "9aefc6f1-eab5-4820-c3bc-a723f19f5eb8"
      },
      "source": [
        "X_train.shape, y_train.shape"
      ],
      "execution_count": null,
      "outputs": [
        {
          "output_type": "execute_result",
          "data": {
            "text/plain": [
              "((614, 8), (614,))"
            ]
          },
          "metadata": {
            "tags": []
          },
          "execution_count": 7
        }
      ]
    },
    {
      "cell_type": "code",
      "metadata": {
        "colab": {
          "base_uri": "https://localhost:8080/"
        },
        "id": "4F9pekrdIhev",
        "outputId": "ca714601-75c0-47ce-bd0f-3eaffe8fcfad"
      },
      "source": [
        "X_test.shape, y_test.shape"
      ],
      "execution_count": null,
      "outputs": [
        {
          "output_type": "execute_result",
          "data": {
            "text/plain": [
              "((154, 8), (154,))"
            ]
          },
          "metadata": {
            "tags": []
          },
          "execution_count": 8
        }
      ]
    },
    {
      "cell_type": "code",
      "metadata": {
        "colab": {
          "base_uri": "https://localhost:8080/"
        },
        "id": "-vsV-ohZIjVE",
        "outputId": "fddd1df3-7e17-47d8-be32-d8616f385b87"
      },
      "source": [
        "from sklearn.tree import DecisionTreeClassifier\n",
        "from sklearn.ensemble import RandomForestClassifier, GradientBoostingClassifier\n",
        "\n",
        "estimators = [DecisionTreeClassifier(random_state=42),\n",
        "             RandomForestClassifier(random_state=42),\n",
        "             GradientBoostingClassifier(random_state=42)\n",
        "            ]\n",
        "estimators"
      ],
      "execution_count": null,
      "outputs": [
        {
          "output_type": "execute_result",
          "data": {
            "text/plain": [
              "[DecisionTreeClassifier(ccp_alpha=0.0, class_weight=None, criterion='gini',\n",
              "                        max_depth=None, max_features=None, max_leaf_nodes=None,\n",
              "                        min_impurity_decrease=0.0, min_impurity_split=None,\n",
              "                        min_samples_leaf=1, min_samples_split=2,\n",
              "                        min_weight_fraction_leaf=0.0, presort='deprecated',\n",
              "                        random_state=42, splitter='best'),\n",
              " RandomForestClassifier(bootstrap=True, ccp_alpha=0.0, class_weight=None,\n",
              "                        criterion='gini', max_depth=None, max_features='auto',\n",
              "                        max_leaf_nodes=None, max_samples=None,\n",
              "                        min_impurity_decrease=0.0, min_impurity_split=None,\n",
              "                        min_samples_leaf=1, min_samples_split=2,\n",
              "                        min_weight_fraction_leaf=0.0, n_estimators=100,\n",
              "                        n_jobs=None, oob_score=False, random_state=42, verbose=0,\n",
              "                        warm_start=False),\n",
              " GradientBoostingClassifier(ccp_alpha=0.0, criterion='friedman_mse', init=None,\n",
              "                            learning_rate=0.1, loss='deviance', max_depth=3,\n",
              "                            max_features=None, max_leaf_nodes=None,\n",
              "                            min_impurity_decrease=0.0, min_impurity_split=None,\n",
              "                            min_samples_leaf=1, min_samples_split=2,\n",
              "                            min_weight_fraction_leaf=0.0, n_estimators=100,\n",
              "                            n_iter_no_change=None, presort='deprecated',\n",
              "                            random_state=42, subsample=1.0, tol=0.0001,\n",
              "                            validation_fraction=0.1, verbose=0,\n",
              "                            warm_start=False)]"
            ]
          },
          "metadata": {
            "tags": []
          },
          "execution_count": 9
        }
      ]
    },
    {
      "cell_type": "code",
      "metadata": {
        "colab": {
          "base_uri": "https://localhost:8080/"
        },
        "id": "URxHFpfUIlPI",
        "outputId": "2a17badf-d7a9-434a-ab76-1b43ca6e9cf4"
      },
      "source": [
        "from sklearn.model_selection import RandomizedSearchCV\n",
        "\n",
        "max_depth = np.random.randint(2, 20, 10)\n",
        "max_features = np.random.uniform(0.3, 1.0, 10)\n",
        "\n",
        "param_distributions = {\"max_depth\": max_depth, \n",
        "                       \"max_features\": max_features}\n",
        "\n",
        "results = []\n",
        "for estimator in estimators:\n",
        "    result = []\n",
        "    if estimator.__class__.__name__ != 'DecisionTreeClassifier':\n",
        "        param_distributions[\"n_estimators\"] = np.random.randint(100, 200, 10)\n",
        "        \n",
        "    clf = RandomizedSearchCV(estimator, \n",
        "                       param_distributions, \n",
        "                       n_iter=100,\n",
        "                       scoring=\"accuracy\",\n",
        "                       n_jobs=-1,\n",
        "                       cv=5, \n",
        "                       verbose=2\n",
        "                      )\n",
        "\n",
        "    clf.fit(X_train, y_train)\n",
        "    result.append(estimator.__class__.__name__)\n",
        "    result.append(clf.best_estimator_)\n",
        "    result.append(clf.best_params_)\n",
        "    result.append(clf.best_score_)\n",
        "    result.append(clf.score(X_test, y_test))\n",
        "    result.append(clf.cv_results_)\n",
        "    results.append(result)"
      ],
      "execution_count": null,
      "outputs": [
        {
          "output_type": "stream",
          "text": [
            "Fitting 5 folds for each of 100 candidates, totalling 500 fits\n"
          ],
          "name": "stdout"
        },
        {
          "output_type": "stream",
          "text": [
            "[Parallel(n_jobs=-1)]: Using backend LokyBackend with 2 concurrent workers.\n",
            "[Parallel(n_jobs=-1)]: Done 216 tasks      | elapsed:    2.3s\n",
            "[Parallel(n_jobs=-1)]: Done 500 out of 500 | elapsed:    3.6s finished\n",
            "[Parallel(n_jobs=-1)]: Using backend LokyBackend with 2 concurrent workers.\n"
          ],
          "name": "stderr"
        },
        {
          "output_type": "stream",
          "text": [
            "Fitting 5 folds for each of 100 candidates, totalling 500 fits\n"
          ],
          "name": "stdout"
        },
        {
          "output_type": "stream",
          "text": [
            "[Parallel(n_jobs=-1)]: Done  37 tasks      | elapsed:   11.5s\n",
            "[Parallel(n_jobs=-1)]: Done 158 tasks      | elapsed:   41.9s\n",
            "[Parallel(n_jobs=-1)]: Done 361 tasks      | elapsed:  1.6min\n",
            "[Parallel(n_jobs=-1)]: Done 500 out of 500 | elapsed:  2.2min finished\n"
          ],
          "name": "stderr"
        },
        {
          "output_type": "stream",
          "text": [
            "Fitting 5 folds for each of 100 candidates, totalling 500 fits\n"
          ],
          "name": "stdout"
        },
        {
          "output_type": "stream",
          "text": [
            "[Parallel(n_jobs=-1)]: Using backend LokyBackend with 2 concurrent workers.\n",
            "[Parallel(n_jobs=-1)]: Done  37 tasks      | elapsed:   10.2s\n",
            "[Parallel(n_jobs=-1)]: Done 158 tasks      | elapsed:   43.6s\n",
            "[Parallel(n_jobs=-1)]: Done 361 tasks      | elapsed:  1.8min\n",
            "[Parallel(n_jobs=-1)]: Done 500 out of 500 | elapsed:  2.6min finished\n"
          ],
          "name": "stderr"
        }
      ]
    },
    {
      "cell_type": "code",
      "metadata": {
        "colab": {
          "base_uri": "https://localhost:8080/",
          "height": 237
        },
        "id": "zkeizowbIs4r",
        "outputId": "8394fb15-9c89-49be-c05a-cc8b16af686b"
      },
      "source": [
        "df = pd.DataFrame(results, \n",
        "             columns=[\"estimator\",'best_estimator', \"best_params\", \"train_score\", \"test_score\", \"cv_result\"])\n",
        "df"
      ],
      "execution_count": null,
      "outputs": [
        {
          "output_type": "execute_result",
          "data": {
            "text/html": [
              "<div>\n",
              "<style scoped>\n",
              "    .dataframe tbody tr th:only-of-type {\n",
              "        vertical-align: middle;\n",
              "    }\n",
              "\n",
              "    .dataframe tbody tr th {\n",
              "        vertical-align: top;\n",
              "    }\n",
              "\n",
              "    .dataframe thead th {\n",
              "        text-align: right;\n",
              "    }\n",
              "</style>\n",
              "<table border=\"1\" class=\"dataframe\">\n",
              "  <thead>\n",
              "    <tr style=\"text-align: right;\">\n",
              "      <th></th>\n",
              "      <th>estimator</th>\n",
              "      <th>best_estimator</th>\n",
              "      <th>best_params</th>\n",
              "      <th>train_score</th>\n",
              "      <th>test_score</th>\n",
              "      <th>cv_result</th>\n",
              "    </tr>\n",
              "  </thead>\n",
              "  <tbody>\n",
              "    <tr>\n",
              "      <th>0</th>\n",
              "      <td>DecisionTreeClassifier</td>\n",
              "      <td>DecisionTreeClassifier(ccp_alpha=0.0, class_we...</td>\n",
              "      <td>{'max_features': 0.4762927872759933, 'max_dept...</td>\n",
              "      <td>0.754165</td>\n",
              "      <td>0.753247</td>\n",
              "      <td>{'mean_fit_time': [0.007079362869262695, 0.006...</td>\n",
              "    </tr>\n",
              "    <tr>\n",
              "      <th>1</th>\n",
              "      <td>RandomForestClassifier</td>\n",
              "      <td>(DecisionTreeClassifier(ccp_alpha=0.0, class_w...</td>\n",
              "      <td>{'n_estimators': 183, 'max_features': 0.717215...</td>\n",
              "      <td>0.788298</td>\n",
              "      <td>0.740260</td>\n",
              "      <td>{'mean_fit_time': [0.5078150272369385, 0.66446...</td>\n",
              "    </tr>\n",
              "    <tr>\n",
              "      <th>2</th>\n",
              "      <td>GradientBoostingClassifier</td>\n",
              "      <td>([DecisionTreeRegressor(ccp_alpha=0.0, criteri...</td>\n",
              "      <td>{'n_estimators': 127, 'max_features': 0.948952...</td>\n",
              "      <td>0.785073</td>\n",
              "      <td>0.740260</td>\n",
              "      <td>{'mean_fit_time': [0.5646940231323242, 0.61656...</td>\n",
              "    </tr>\n",
              "  </tbody>\n",
              "</table>\n",
              "</div>"
            ],
            "text/plain": [
              "                    estimator  ...                                          cv_result\n",
              "0      DecisionTreeClassifier  ...  {'mean_fit_time': [0.007079362869262695, 0.006...\n",
              "1      RandomForestClassifier  ...  {'mean_fit_time': [0.5078150272369385, 0.66446...\n",
              "2  GradientBoostingClassifier  ...  {'mean_fit_time': [0.5646940231323242, 0.61656...\n",
              "\n",
              "[3 rows x 6 columns]"
            ]
          },
          "metadata": {
            "tags": []
          },
          "execution_count": 16
        }
      ]
    },
    {
      "cell_type": "code",
      "metadata": {
        "colab": {
          "base_uri": "https://localhost:8080/",
          "height": 237
        },
        "id": "NQf4xnyxKDtS",
        "outputId": "d1e157b0-966a-4298-b749-782ed0d8fafb"
      },
      "source": [
        "df = df.sort_values(by='test_score', ascending=False, ignore_index=True)\n",
        "df"
      ],
      "execution_count": null,
      "outputs": [
        {
          "output_type": "execute_result",
          "data": {
            "text/html": [
              "<div>\n",
              "<style scoped>\n",
              "    .dataframe tbody tr th:only-of-type {\n",
              "        vertical-align: middle;\n",
              "    }\n",
              "\n",
              "    .dataframe tbody tr th {\n",
              "        vertical-align: top;\n",
              "    }\n",
              "\n",
              "    .dataframe thead th {\n",
              "        text-align: right;\n",
              "    }\n",
              "</style>\n",
              "<table border=\"1\" class=\"dataframe\">\n",
              "  <thead>\n",
              "    <tr style=\"text-align: right;\">\n",
              "      <th></th>\n",
              "      <th>estimator</th>\n",
              "      <th>best_estimator</th>\n",
              "      <th>best_params</th>\n",
              "      <th>train_score</th>\n",
              "      <th>test_score</th>\n",
              "      <th>cv_result</th>\n",
              "    </tr>\n",
              "  </thead>\n",
              "  <tbody>\n",
              "    <tr>\n",
              "      <th>0</th>\n",
              "      <td>DecisionTreeClassifier</td>\n",
              "      <td>DecisionTreeClassifier(ccp_alpha=0.0, class_we...</td>\n",
              "      <td>{'max_features': 0.4762927872759933, 'max_dept...</td>\n",
              "      <td>0.754165</td>\n",
              "      <td>0.753247</td>\n",
              "      <td>{'mean_fit_time': [0.007079362869262695, 0.006...</td>\n",
              "    </tr>\n",
              "    <tr>\n",
              "      <th>1</th>\n",
              "      <td>RandomForestClassifier</td>\n",
              "      <td>(DecisionTreeClassifier(ccp_alpha=0.0, class_w...</td>\n",
              "      <td>{'n_estimators': 183, 'max_features': 0.717215...</td>\n",
              "      <td>0.788298</td>\n",
              "      <td>0.740260</td>\n",
              "      <td>{'mean_fit_time': [0.5078150272369385, 0.66446...</td>\n",
              "    </tr>\n",
              "    <tr>\n",
              "      <th>2</th>\n",
              "      <td>GradientBoostingClassifier</td>\n",
              "      <td>([DecisionTreeRegressor(ccp_alpha=0.0, criteri...</td>\n",
              "      <td>{'n_estimators': 127, 'max_features': 0.948952...</td>\n",
              "      <td>0.785073</td>\n",
              "      <td>0.740260</td>\n",
              "      <td>{'mean_fit_time': [0.5646940231323242, 0.61656...</td>\n",
              "    </tr>\n",
              "  </tbody>\n",
              "</table>\n",
              "</div>"
            ],
            "text/plain": [
              "                    estimator  ...                                          cv_result\n",
              "0      DecisionTreeClassifier  ...  {'mean_fit_time': [0.007079362869262695, 0.006...\n",
              "1      RandomForestClassifier  ...  {'mean_fit_time': [0.5078150272369385, 0.66446...\n",
              "2  GradientBoostingClassifier  ...  {'mean_fit_time': [0.5646940231323242, 0.61656...\n",
              "\n",
              "[3 rows x 6 columns]"
            ]
          },
          "metadata": {
            "tags": []
          },
          "execution_count": 18
        }
      ]
    },
    {
      "cell_type": "code",
      "metadata": {
        "colab": {
          "base_uri": "https://localhost:8080/",
          "height": 926
        },
        "id": "cTX5smbkKW6b",
        "outputId": "126462e8-7150-4785-c1ee-0d55460936be"
      },
      "source": [
        "pd.DataFrame(df.loc[0,'cv_result']).sort_values(by='rank_test_score')"
      ],
      "execution_count": null,
      "outputs": [
        {
          "output_type": "execute_result",
          "data": {
            "text/html": [
              "<div>\n",
              "<style scoped>\n",
              "    .dataframe tbody tr th:only-of-type {\n",
              "        vertical-align: middle;\n",
              "    }\n",
              "\n",
              "    .dataframe tbody tr th {\n",
              "        vertical-align: top;\n",
              "    }\n",
              "\n",
              "    .dataframe thead th {\n",
              "        text-align: right;\n",
              "    }\n",
              "</style>\n",
              "<table border=\"1\" class=\"dataframe\">\n",
              "  <thead>\n",
              "    <tr style=\"text-align: right;\">\n",
              "      <th></th>\n",
              "      <th>mean_fit_time</th>\n",
              "      <th>std_fit_time</th>\n",
              "      <th>mean_score_time</th>\n",
              "      <th>std_score_time</th>\n",
              "      <th>param_n_estimators</th>\n",
              "      <th>param_max_features</th>\n",
              "      <th>param_max_depth</th>\n",
              "      <th>params</th>\n",
              "      <th>split0_test_score</th>\n",
              "      <th>split1_test_score</th>\n",
              "      <th>split2_test_score</th>\n",
              "      <th>split3_test_score</th>\n",
              "      <th>split4_test_score</th>\n",
              "      <th>mean_test_score</th>\n",
              "      <th>std_test_score</th>\n",
              "      <th>rank_test_score</th>\n",
              "    </tr>\n",
              "  </thead>\n",
              "  <tbody>\n",
              "    <tr>\n",
              "      <th>24</th>\n",
              "      <td>0.370630</td>\n",
              "      <td>0.004781</td>\n",
              "      <td>0.018392</td>\n",
              "      <td>0.000209</td>\n",
              "      <td>111</td>\n",
              "      <td>0.744472</td>\n",
              "      <td>9</td>\n",
              "      <td>{'n_estimators': 111, 'max_features': 0.744472...</td>\n",
              "      <td>0.813008</td>\n",
              "      <td>0.829268</td>\n",
              "      <td>0.756098</td>\n",
              "      <td>0.747967</td>\n",
              "      <td>0.811475</td>\n",
              "      <td>0.791563</td>\n",
              "      <td>0.032974</td>\n",
              "      <td>1</td>\n",
              "    </tr>\n",
              "    <tr>\n",
              "      <th>76</th>\n",
              "      <td>0.324245</td>\n",
              "      <td>0.005703</td>\n",
              "      <td>0.017375</td>\n",
              "      <td>0.000379</td>\n",
              "      <td>106</td>\n",
              "      <td>0.744472</td>\n",
              "      <td>5</td>\n",
              "      <td>{'n_estimators': 106, 'max_features': 0.744472...</td>\n",
              "      <td>0.837398</td>\n",
              "      <td>0.821138</td>\n",
              "      <td>0.756098</td>\n",
              "      <td>0.723577</td>\n",
              "      <td>0.811475</td>\n",
              "      <td>0.789937</td>\n",
              "      <td>0.042985</td>\n",
              "      <td>2</td>\n",
              "    </tr>\n",
              "    <tr>\n",
              "      <th>84</th>\n",
              "      <td>0.531903</td>\n",
              "      <td>0.003997</td>\n",
              "      <td>0.026104</td>\n",
              "      <td>0.000529</td>\n",
              "      <td>159</td>\n",
              "      <td>0.744472</td>\n",
              "      <td>8</td>\n",
              "      <td>{'n_estimators': 159, 'max_features': 0.744472...</td>\n",
              "      <td>0.813008</td>\n",
              "      <td>0.829268</td>\n",
              "      <td>0.747967</td>\n",
              "      <td>0.747967</td>\n",
              "      <td>0.811475</td>\n",
              "      <td>0.789937</td>\n",
              "      <td>0.034831</td>\n",
              "      <td>3</td>\n",
              "    </tr>\n",
              "    <tr>\n",
              "      <th>39</th>\n",
              "      <td>0.542028</td>\n",
              "      <td>0.016481</td>\n",
              "      <td>0.026324</td>\n",
              "      <td>0.001753</td>\n",
              "      <td>159</td>\n",
              "      <td>0.74755</td>\n",
              "      <td>13</td>\n",
              "      <td>{'n_estimators': 159, 'max_features': 0.747550...</td>\n",
              "      <td>0.821138</td>\n",
              "      <td>0.821138</td>\n",
              "      <td>0.739837</td>\n",
              "      <td>0.764228</td>\n",
              "      <td>0.795082</td>\n",
              "      <td>0.788285</td>\n",
              "      <td>0.032034</td>\n",
              "      <td>4</td>\n",
              "    </tr>\n",
              "    <tr>\n",
              "      <th>54</th>\n",
              "      <td>0.372793</td>\n",
              "      <td>0.006486</td>\n",
              "      <td>0.020754</td>\n",
              "      <td>0.003868</td>\n",
              "      <td>106</td>\n",
              "      <td>0.802595</td>\n",
              "      <td>8</td>\n",
              "      <td>{'n_estimators': 106, 'max_features': 0.802595...</td>\n",
              "      <td>0.813008</td>\n",
              "      <td>0.837398</td>\n",
              "      <td>0.772358</td>\n",
              "      <td>0.707317</td>\n",
              "      <td>0.803279</td>\n",
              "      <td>0.786672</td>\n",
              "      <td>0.044821</td>\n",
              "      <td>5</td>\n",
              "    </tr>\n",
              "    <tr>\n",
              "      <th>...</th>\n",
              "      <td>...</td>\n",
              "      <td>...</td>\n",
              "      <td>...</td>\n",
              "      <td>...</td>\n",
              "      <td>...</td>\n",
              "      <td>...</td>\n",
              "      <td>...</td>\n",
              "      <td>...</td>\n",
              "      <td>...</td>\n",
              "      <td>...</td>\n",
              "      <td>...</td>\n",
              "      <td>...</td>\n",
              "      <td>...</td>\n",
              "      <td>...</td>\n",
              "      <td>...</td>\n",
              "      <td>...</td>\n",
              "    </tr>\n",
              "    <tr>\n",
              "      <th>96</th>\n",
              "      <td>0.289021</td>\n",
              "      <td>0.008026</td>\n",
              "      <td>0.018045</td>\n",
              "      <td>0.000998</td>\n",
              "      <td>101</td>\n",
              "      <td>0.336233</td>\n",
              "      <td>9</td>\n",
              "      <td>{'n_estimators': 101, 'max_features': 0.336233...</td>\n",
              "      <td>0.756098</td>\n",
              "      <td>0.821138</td>\n",
              "      <td>0.739837</td>\n",
              "      <td>0.731707</td>\n",
              "      <td>0.786885</td>\n",
              "      <td>0.767133</td>\n",
              "      <td>0.032950</td>\n",
              "      <td>96</td>\n",
              "    </tr>\n",
              "    <tr>\n",
              "      <th>37</th>\n",
              "      <td>0.314667</td>\n",
              "      <td>0.006880</td>\n",
              "      <td>0.019479</td>\n",
              "      <td>0.000643</td>\n",
              "      <td>111</td>\n",
              "      <td>0.336233</td>\n",
              "      <td>9</td>\n",
              "      <td>{'n_estimators': 111, 'max_features': 0.336233...</td>\n",
              "      <td>0.756098</td>\n",
              "      <td>0.821138</td>\n",
              "      <td>0.731707</td>\n",
              "      <td>0.739837</td>\n",
              "      <td>0.786885</td>\n",
              "      <td>0.767133</td>\n",
              "      <td>0.032950</td>\n",
              "      <td>97</td>\n",
              "    </tr>\n",
              "    <tr>\n",
              "      <th>48</th>\n",
              "      <td>0.543242</td>\n",
              "      <td>0.008874</td>\n",
              "      <td>0.032004</td>\n",
              "      <td>0.000631</td>\n",
              "      <td>199</td>\n",
              "      <td>0.363962</td>\n",
              "      <td>14</td>\n",
              "      <td>{'n_estimators': 199, 'max_features': 0.363961...</td>\n",
              "      <td>0.780488</td>\n",
              "      <td>0.813008</td>\n",
              "      <td>0.723577</td>\n",
              "      <td>0.739837</td>\n",
              "      <td>0.778689</td>\n",
              "      <td>0.767120</td>\n",
              "      <td>0.031807</td>\n",
              "      <td>98</td>\n",
              "    </tr>\n",
              "    <tr>\n",
              "      <th>43</th>\n",
              "      <td>0.439262</td>\n",
              "      <td>0.006152</td>\n",
              "      <td>0.026550</td>\n",
              "      <td>0.000474</td>\n",
              "      <td>160</td>\n",
              "      <td>0.363962</td>\n",
              "      <td>14</td>\n",
              "      <td>{'n_estimators': 160, 'max_features': 0.363961...</td>\n",
              "      <td>0.780488</td>\n",
              "      <td>0.813008</td>\n",
              "      <td>0.731707</td>\n",
              "      <td>0.731707</td>\n",
              "      <td>0.778689</td>\n",
              "      <td>0.767120</td>\n",
              "      <td>0.031389</td>\n",
              "      <td>98</td>\n",
              "    </tr>\n",
              "    <tr>\n",
              "      <th>4</th>\n",
              "      <td>0.432964</td>\n",
              "      <td>0.003155</td>\n",
              "      <td>0.029930</td>\n",
              "      <td>0.007922</td>\n",
              "      <td>157</td>\n",
              "      <td>0.363962</td>\n",
              "      <td>13</td>\n",
              "      <td>{'n_estimators': 157, 'max_features': 0.363961...</td>\n",
              "      <td>0.788618</td>\n",
              "      <td>0.813008</td>\n",
              "      <td>0.731707</td>\n",
              "      <td>0.723577</td>\n",
              "      <td>0.778689</td>\n",
              "      <td>0.767120</td>\n",
              "      <td>0.034210</td>\n",
              "      <td>98</td>\n",
              "    </tr>\n",
              "  </tbody>\n",
              "</table>\n",
              "<p>100 rows × 16 columns</p>\n",
              "</div>"
            ],
            "text/plain": [
              "    mean_fit_time  std_fit_time  ...  std_test_score  rank_test_score\n",
              "24       0.370630      0.004781  ...        0.032974                1\n",
              "76       0.324245      0.005703  ...        0.042985                2\n",
              "84       0.531903      0.003997  ...        0.034831                3\n",
              "39       0.542028      0.016481  ...        0.032034                4\n",
              "54       0.372793      0.006486  ...        0.044821                5\n",
              "..            ...           ...  ...             ...              ...\n",
              "96       0.289021      0.008026  ...        0.032950               96\n",
              "37       0.314667      0.006880  ...        0.032950               97\n",
              "48       0.543242      0.008874  ...        0.031807               98\n",
              "43       0.439262      0.006152  ...        0.031389               98\n",
              "4        0.432964      0.003155  ...        0.034210               98\n",
              "\n",
              "[100 rows x 16 columns]"
            ]
          },
          "metadata": {
            "tags": []
          },
          "execution_count": 14
        }
      ]
    },
    {
      "cell_type": "code",
      "metadata": {
        "colab": {
          "base_uri": "https://localhost:8080/"
        },
        "id": "gb7riiEHK5ti",
        "outputId": "3ae55544-06e9-4633-df0a-6fe58e6cf223"
      },
      "source": [
        "best_estimator = df.loc[0,'best_estimator']\n",
        "best_estimator"
      ],
      "execution_count": null,
      "outputs": [
        {
          "output_type": "execute_result",
          "data": {
            "text/plain": [
              "DecisionTreeClassifier(ccp_alpha=0.0, class_weight=None, criterion='gini',\n",
              "                       max_depth=3, max_features=0.4762927872759933,\n",
              "                       max_leaf_nodes=None, min_impurity_decrease=0.0,\n",
              "                       min_impurity_split=None, min_samples_leaf=1,\n",
              "                       min_samples_split=2, min_weight_fraction_leaf=0.0,\n",
              "                       presort='deprecated', random_state=42, splitter='best')"
            ]
          },
          "metadata": {
            "tags": []
          },
          "execution_count": 19
        }
      ]
    },
    {
      "cell_type": "code",
      "metadata": {
        "colab": {
          "base_uri": "https://localhost:8080/"
        },
        "id": "MMyo3BvSPcSV",
        "outputId": "8ee3725f-4d78-434e-fd26-b7ade5f2139b"
      },
      "source": [
        "best_estimator.fit(X_train,y_train)"
      ],
      "execution_count": null,
      "outputs": [
        {
          "output_type": "execute_result",
          "data": {
            "text/plain": [
              "DecisionTreeClassifier(ccp_alpha=0.0, class_weight=None, criterion='gini',\n",
              "                       max_depth=3, max_features=0.4762927872759933,\n",
              "                       max_leaf_nodes=None, min_impurity_decrease=0.0,\n",
              "                       min_impurity_split=None, min_samples_leaf=1,\n",
              "                       min_samples_split=2, min_weight_fraction_leaf=0.0,\n",
              "                       presort='deprecated', random_state=42, splitter='best')"
            ]
          },
          "metadata": {
            "tags": []
          },
          "execution_count": 20
        }
      ]
    },
    {
      "cell_type": "code",
      "metadata": {
        "id": "vpgBOtfEPuF9"
      },
      "source": [
        "y_predict = best_estimator.predict(X_test)"
      ],
      "execution_count": null,
      "outputs": []
    },
    {
      "cell_type": "code",
      "metadata": {
        "colab": {
          "base_uri": "https://localhost:8080/"
        },
        "id": "w8xQSnN6P1yT",
        "outputId": "33a14488-4734-4915-f7e8-c33010c142b3"
      },
      "source": [
        "from sklearn.metrics import accuracy_score\n",
        "accuracy_score(y_test,y_predict)"
      ],
      "execution_count": null,
      "outputs": [
        {
          "output_type": "execute_result",
          "data": {
            "text/plain": [
              "0.7532467532467533"
            ]
          },
          "metadata": {
            "tags": []
          },
          "execution_count": 22
        }
      ]
    },
    {
      "cell_type": "code",
      "metadata": {
        "id": "K74qlTKzQBnI"
      },
      "source": [
        ""
      ],
      "execution_count": null,
      "outputs": []
    }
  ]
}